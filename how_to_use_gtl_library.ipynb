{
 "cells": [
  {
   "cell_type": "code",
   "execution_count": 1,
   "id": "c340cd0f",
   "metadata": {
    "ExecuteTime": {
     "end_time": "2024-03-10T12:53:36.161610441Z",
     "start_time": "2024-03-10T12:53:35.343463896Z"
    }
   },
   "outputs": [],
   "source": [
    "import torch\n",
    "import matplotlib.pyplot as plt\n",
    "import guided_transfer_learning as gtl"
   ]
  },
  {
   "cell_type": "code",
   "execution_count": 2,
   "id": "b6a50266",
   "metadata": {
    "ExecuteTime": {
     "end_time": "2024-03-10T12:53:36.203353771Z",
     "start_time": "2024-03-10T12:53:36.202436391Z"
    }
   },
   "outputs": [],
   "source": [
    "# The library guided_transfer_learning (or GTL library), is created for elegant \n",
    "# implementation of guided transfer learning in pytorch. \n",
    "# The present example application illustrates how to train scouts, compute a guiding matrix\n",
    "# and then apply the guiding matrix during training.\n",
    "\n",
    "# In addition, several other functionalities of the library are demonstrated."
   ]
  },
  {
   "cell_type": "markdown",
   "id": "f99e2427",
   "metadata": {},
   "source": [
    "## We first define a simple model "
   ]
  },
  {
   "cell_type": "code",
   "execution_count": 3,
   "id": "8b7a115b",
   "metadata": {
    "ExecuteTime": {
     "end_time": "2024-03-10T12:53:36.204089008Z",
     "start_time": "2024-03-10T12:53:36.202652168Z"
    }
   },
   "outputs": [],
   "source": [
    "# --------------------------------------------------------------------------------\n",
    "# --------------------- We first define a simple model ---------------------------\n",
    "\n",
    "\n",
    "class TinyModel(torch.nn.Module):\n",
    "    def __init__(self):\n",
    "        super(TinyModel, self).__init__()\n",
    "        self.linear1 = torch.nn.Linear(2, 1000)\n",
    "        self.activation = torch.nn.ReLU()\n",
    "        self.linear2 = torch.nn.Linear(1000, 250)\n",
    "        self.linear3 = torch.nn.Linear(250, 2)\n",
    "\n",
    "    def forward(self, x):\n",
    "        x = self.linear1(x)\n",
    "        x = self.activation(x)\n",
    "        x = self.linear2(x)\n",
    "        x = self.activation(x)\n",
    "        x = self.linear3(x)\n",
    "        x = self.activation(x)\n",
    "        return x\n",
    "\n",
    "\n",
    "device = torch.device(\"cuda:0\" if torch.cuda.is_available() else \"cpu\")\n",
    "\n",
    "\n",
    "def train_model(model, x, y, epochs, guidance_matrix=None, lr=0.05, verbose=True, early = 0.0):\n",
    "    loss_function = torch.nn.L1Loss()\n",
    "    optimizer = torch.optim.SGD(model.parameters(), lr)\n",
    "\n",
    "    skip = 5000 if epochs > 10000 else 500 if epochs > 1000 else 50 if epochs > 100 else 5 if epochs > 10 else 1\n",
    "    \n",
    "    loss_vals = []\n",
    "    for e in range(epochs):\n",
    "        result = model(x)\n",
    "        loss = loss_function(result, y)  # torch.tensor([1.00, 2.00], dtype=torch.float)\n",
    "        loss_vals.append(loss.detach().cpu().numpy())\n",
    "            \n",
    "        if verbose and ((e+1)%skip  == 0 or e == 0 or e == epochs-1):\n",
    "            print(\"Epoch:\", e+1, \"Loss:\", loss.detach().cpu().numpy()) \n",
    "        \n",
    "        model.zero_grad()\n",
    "        loss.backward()\n",
    "        \n",
    "        # guidance matrix is applied for training if passed as a parameter\n",
    "        if guidance_matrix is not None:\n",
    "            gtl.apply_guidance(model, guidance_matrix)        # ----using gtl library to apply guidance matrix------------\n",
    "\n",
    "        optimizer.step()\n",
    "        \n",
    "    return loss_vals"
   ]
  },
  {
   "cell_type": "code",
   "execution_count": 4,
   "id": "dec17e62",
   "metadata": {
    "ExecuteTime": {
     "end_time": "2024-03-10T12:53:36.205472636Z",
     "start_time": "2024-03-10T12:53:36.202746723Z"
    }
   },
   "outputs": [],
   "source": [
    "# --------------------------------------------------------------------------------\n",
    "# --------------------- Some additional functions that we will need --------------\n",
    "\n",
    "\n",
    "# Testing model performance\n",
    "def test_model(model, test_X, test_Y):\n",
    "    print(\"Perfect output:\\n\", test_Y.detach().cpu().numpy())\n",
    "    result = model(test_X)\n",
    "    print(\"Actual output:\\n\", result.detach().cpu().numpy())\n",
    "    loss_f = torch.nn.L1Loss()\n",
    "    loss = loss_f(result, test_Y)\n",
    "    print()\n",
    "    print(\"Loss:\", loss.detach().cpu().numpy())\n",
    "   \n",
    "\n",
    "#Plotting loss\n",
    "def plot_loss(values = [], names = None):\n",
    "    for ind, value in enumerate(values):\n",
    "        if names != None:\n",
    "            name = names[ind]\n",
    "        else:\n",
    "            name = \"?\"\n",
    "        plt.plot(range(1, len(value)+1), value, label=name)\n",
    "    plt.xlabel(\"Epoch\")\n",
    "    plt.ylabel(\"Loss\")\n",
    "    plt.title(\"Training Loss\")\n",
    "    plt.legend(loc='upper right')\n",
    "    plt.show()"
   ]
  },
  {
   "cell_type": "markdown",
   "id": "c1edb046",
   "metadata": {},
   "source": [
    "## Toy data for traning the model"
   ]
  },
  {
   "cell_type": "code",
   "execution_count": 5,
   "id": "372101bf",
   "metadata": {
    "ExecuteTime": {
     "end_time": "2024-03-10T12:53:36.292476652Z",
     "start_time": "2024-03-10T12:53:36.204651260Z"
    }
   },
   "outputs": [],
   "source": [
    "# -------------------------------------------------------------------------------------\n",
    "# ---------------- Create some data for training AND and OR logical functions ---------\n",
    "\n",
    "# This is an easy problem: logical  OR and AND functions, \n",
    "# One neuron outputs the OR function; the other neuron outputs the AND function\n",
    "# (for numerical reasons the value of 0.1 is used to indicate logical 0)\n",
    "base_train_X = torch.tensor([[0.1, 0.1], [0.1, 1], [1, 0.1], [1, 1]]).to(device) \n",
    "base_train_Y = torch.tensor([[0.1, 0.1], [1, 0.1], [1, 0.1], [1, 1]]).to(device)   # [OR, AND]\n",
    "\n",
    "# We do not have separate test data for this problem.\n",
    "base_test_X = base_train_X\n",
    "base_test_Y = base_train_Y"
   ]
  },
  {
   "cell_type": "code",
   "execution_count": 6,
   "id": "9af4b1eb",
   "metadata": {
    "ExecuteTime": {
     "end_time": "2024-03-10T12:53:36.297331837Z",
     "start_time": "2024-03-10T12:53:36.294057033Z"
    }
   },
   "outputs": [],
   "source": [
    "# -------------------------------------------------------------------------------------\n",
    "# ---------------- Create some data for training scouts -------------------------------\n",
    "\n",
    "# These are data for XOR functions from which we select scouts\n",
    "base_scout_X = torch.tensor([[0.1, 0.1], [0.1, 1], [1, 0.1], [1, 1]]).to(device)\n",
    "base_scout_Y = torch.tensor([[0.1, 0.1], [1, 1],   [1, 1],   [0.1, 0.1]]).to(device)"
   ]
  },
  {
   "cell_type": "code",
   "execution_count": 7,
   "id": "1b242e71",
   "metadata": {
    "ExecuteTime": {
     "end_time": "2024-03-10T12:53:36.337615040Z",
     "start_time": "2024-03-10T12:53:36.295437734Z"
    }
   },
   "outputs": [],
   "source": [
    "# -------------------------------------------------------------------------------------\n",
    "# ---------------- Data for fine tuning to learn XOR problem --------------------------\n",
    "\n",
    "# The same XOR logical function as above for the scouts\n",
    "base_train_X2 = torch.tensor([[0.1, 0.1], [0.1, 1], [1, 0.1], [1, 1]]).to(device)\n",
    "base_train_Y2 = torch.tensor([[0.1, 0.1], [1, 1],   [1, 1],   [0.1, 0.1]]).to(device)\n",
    "\n",
    "# The test data are again the same as train data.\n",
    "base_test_X2 = base_train_X2\n",
    "base_test_Y2 = base_train_Y2"
   ]
  },
  {
   "cell_type": "markdown",
   "id": "ed4d99d6",
   "metadata": {},
   "source": [
    "# Training 1: Train the base model"
   ]
  },
  {
   "cell_type": "code",
   "execution_count": 8,
   "id": "8866ba76",
   "metadata": {
    "ExecuteTime": {
     "end_time": "2024-03-10T12:53:36.338461143Z",
     "start_time": "2024-03-10T12:53:36.337530405Z"
    }
   },
   "outputs": [],
   "source": [
    "# ----------------------------------------------------------------------------------\n",
    "# ---------------- We set up a model -----------------------------------------------\n",
    "   \n",
    "torch.manual_seed(3841574609)    #a seed is necessary because not all networks converge \n",
    "model = TinyModel().to(device)"
   ]
  },
  {
   "cell_type": "code",
   "execution_count": 9,
   "id": "9950349e",
   "metadata": {
    "scrolled": true,
    "ExecuteTime": {
     "end_time": "2024-03-10T12:53:36.871210801Z",
     "start_time": "2024-03-10T12:53:36.337685296Z"
    }
   },
   "outputs": [
    {
     "name": "stdout",
     "output_type": "stream",
     "text": [
      "Epoch: 1 Loss: 0.50205797\n",
      "Epoch: 5 Loss: 0.33229756\n",
      "Epoch: 10 Loss: 0.18261632\n",
      "Epoch: 15 Loss: 0.227143\n",
      "Epoch: 20 Loss: 0.19118655\n",
      "Epoch: 25 Loss: 0.1969651\n",
      "Epoch: 30 Loss: 0.33079904\n",
      "Epoch: 35 Loss: 0.26258624\n",
      "Epoch: 40 Loss: 0.118340954\n",
      "Epoch: 45 Loss: 0.06041946\n",
      "Epoch: 50 Loss: 0.26602334\n",
      "Epoch: 55 Loss: 0.2762773\n",
      "Epoch: 60 Loss: 0.24102509\n",
      "Epoch: 65 Loss: 0.18774405\n",
      "Epoch: 70 Loss: 0.074000016\n",
      "Epoch: 75 Loss: 0.11018106\n",
      "Epoch: 80 Loss: 0.18668833\n",
      "Epoch: 85 Loss: 0.07309157\n",
      "Epoch: 90 Loss: 0.13348545\n",
      "Epoch: 95 Loss: 0.123574495\n",
      "Epoch: 100 Loss: 0.1701155\n"
     ]
    },
    {
     "data": {
      "text/plain": "[array(0.50205797, dtype=float32),\n array(0.3992498, dtype=float32),\n array(0.22320227, dtype=float32),\n array(0.23824818, dtype=float32),\n array(0.33229756, dtype=float32),\n array(0.30043858, dtype=float32),\n array(0.20511566, dtype=float32),\n array(0.19732663, dtype=float32),\n array(0.18996453, dtype=float32),\n array(0.18261632, dtype=float32),\n array(0.17640832, dtype=float32),\n array(0.17006081, dtype=float32),\n array(0.1628066, dtype=float32),\n array(0.17667967, dtype=float32),\n array(0.227143, dtype=float32),\n array(0.19680811, dtype=float32),\n array(0.14513892, dtype=float32),\n array(0.16353954, dtype=float32),\n array(0.17563567, dtype=float32),\n array(0.19118655, dtype=float32),\n array(0.24107867, dtype=float32),\n array(0.30579197, dtype=float32),\n array(0.11962445, dtype=float32),\n array(0.21850446, dtype=float32),\n array(0.1969651, dtype=float32),\n array(0.2673356, dtype=float32),\n array(0.19467363, dtype=float32),\n array(0.11351976, dtype=float32),\n array(0.25636095, dtype=float32),\n array(0.33079904, dtype=float32),\n array(0.14512111, dtype=float32),\n array(0.3492663, dtype=float32),\n array(0.22806491, dtype=float32),\n array(0.17038111, dtype=float32),\n array(0.26258624, dtype=float32),\n array(0.11337502, dtype=float32),\n array(0.09843794, dtype=float32),\n array(0.08745338, dtype=float32),\n array(0.07553218, dtype=float32),\n array(0.11834095, dtype=float32),\n array(0.24874827, dtype=float32),\n array(0.11011737, dtype=float32),\n array(0.19362338, dtype=float32),\n array(0.17721438, dtype=float32),\n array(0.06041946, dtype=float32),\n array(0.47061998, dtype=float32),\n array(0.11915092, dtype=float32),\n array(0.13343102, dtype=float32),\n array(0.19337222, dtype=float32),\n array(0.26602334, dtype=float32),\n array(0.13166395, dtype=float32),\n array(0.17317541, dtype=float32),\n array(0.09264579, dtype=float32),\n array(0.23896553, dtype=float32),\n array(0.2762773, dtype=float32),\n array(0.13566285, dtype=float32),\n array(0.19421813, dtype=float32),\n array(0.17529087, dtype=float32),\n array(0.08229731, dtype=float32),\n array(0.24102509, dtype=float32),\n array(0.1389888, dtype=float32),\n array(0.22885762, dtype=float32),\n array(0.08086839, dtype=float32),\n array(0.26389828, dtype=float32),\n array(0.18774405, dtype=float32),\n array(0.11695427, dtype=float32),\n array(0.15748122, dtype=float32),\n array(0.14216265, dtype=float32),\n array(0.1201709, dtype=float32),\n array(0.07400002, dtype=float32),\n array(0.0537045, dtype=float32),\n array(0.20534413, dtype=float32),\n array(0.04435075, dtype=float32),\n array(0.23563024, dtype=float32),\n array(0.11018106, dtype=float32),\n array(0.18029526, dtype=float32),\n array(0.154075, dtype=float32),\n array(0.15561837, dtype=float32),\n array(0.14562936, dtype=float32),\n array(0.18668833, dtype=float32),\n array(0.08261376, dtype=float32),\n array(0.10577562, dtype=float32),\n array(0.16094919, dtype=float32),\n array(0.12248869, dtype=float32),\n array(0.07309157, dtype=float32),\n array(0.19011962, dtype=float32),\n array(0.07718983, dtype=float32),\n array(0.16617897, dtype=float32),\n array(0.26216966, dtype=float32),\n array(0.13348545, dtype=float32),\n array(0.15645494, dtype=float32),\n array(0.23964109, dtype=float32),\n array(0.10266589, dtype=float32),\n array(0.15157545, dtype=float32),\n array(0.1235745, dtype=float32),\n array(0.14742878, dtype=float32),\n array(0.18547355, dtype=float32),\n array(0.06698631, dtype=float32),\n array(0.11506388, dtype=float32),\n array(0.1701155, dtype=float32)]"
     },
     "execution_count": 9,
     "metadata": {},
     "output_type": "execute_result"
    }
   ],
   "source": [
    "# -------------------------------------------------------------------------------------\n",
    "# ---------------- Train the base model -----------------------------------------------\n",
    "\n",
    "train_model(model=model, x=base_train_X, y=base_train_Y, epochs=100)\n",
    "\n",
    "# The model converges"
   ]
  },
  {
   "cell_type": "code",
   "execution_count": 10,
   "id": "82d6c546",
   "metadata": {
    "ExecuteTime": {
     "end_time": "2024-03-10T12:53:36.909812930Z",
     "start_time": "2024-03-10T12:53:36.872121852Z"
    }
   },
   "outputs": [
    {
     "name": "stdout",
     "output_type": "stream",
     "text": [
      "Perfect output:\n",
      " [[0.1 0.1]\n",
      " [1.  0.1]\n",
      " [1.  0.1]\n",
      " [1.  1. ]]\n",
      "Actual output:\n",
      " [[0.17718235 0.1006499 ]\n",
      " [0.99807954 0.26107973]\n",
      " [1.0875719  0.12974522]\n",
      " [1.095412   1.1558324 ]]\n",
      "\n",
      "Loss: 0.076174244\n"
     ]
    }
   ],
   "source": [
    "# -------------------------------------------------------------------------------------\n",
    "# ----------------- Test the base model -----------------------------------------------\n",
    "\n",
    "test_model(model, base_test_X, base_test_Y)"
   ]
  },
  {
   "cell_type": "code",
   "execution_count": 11,
   "id": "d3b66075",
   "metadata": {
    "ExecuteTime": {
     "end_time": "2024-03-10T12:53:36.910785848Z",
     "start_time": "2024-03-10T12:53:36.891291589Z"
    }
   },
   "outputs": [
    {
     "data": {
      "text/plain": "PosixPath('/home/dev/code/rgm/guided_transfer_learning/models/gtl_base_model.pt')"
     },
     "execution_count": 11,
     "metadata": {},
     "output_type": "execute_result"
    }
   ],
   "source": [
    "# ---------------------------------------------------------------------------------------\n",
    "# ------------------------ Save the model -----------------------------------------------\n",
    "\n",
    "# Use GTL library to save the base model, as we will need it later\n",
    "gtl.save_base(model) # -----------------------------using gtl library to save the model to default path and name"
   ]
  },
  {
   "cell_type": "code",
   "execution_count": 12,
   "id": "d782a2a9",
   "metadata": {
    "ExecuteTime": {
     "end_time": "2024-03-10T12:53:36.911461258Z",
     "start_time": "2024-03-10T12:53:36.891421712Z"
    }
   },
   "outputs": [],
   "source": [
    "# -----------------------------------------------------------------------------------------\n",
    "# ------------------------ Delete the model from memory -----------------------------------\n",
    "\n",
    "del model\n",
    "torch.cuda.empty_cache()"
   ]
  },
  {
   "cell_type": "markdown",
   "id": "c43ea287",
   "metadata": {},
   "source": [
    "\n",
    "# Training 2: Train scouts and calculate the guidance matrix"
   ]
  },
  {
   "cell_type": "markdown",
   "id": "e7ed283e",
   "metadata": {},
   "source": [
    "## Prepare data for traning scouts"
   ]
  },
  {
   "cell_type": "code",
   "execution_count": 13,
   "id": "48572838",
   "metadata": {
    "ExecuteTime": {
     "end_time": "2024-03-10T12:53:36.912053481Z",
     "start_time": "2024-03-10T12:53:36.891501609Z"
    }
   },
   "outputs": [],
   "source": [
    "# ------------------------------------------------------------------------------------------------\n",
    "# ------------------------ Specify data points to use in each scout ------------------------------\n",
    "\n",
    "# The data are breaking the large problem into smaller problems. \n",
    "# Two scouts are created, each with two data points.  \n",
    "\n",
    "scout_indexes = [[1, 3], [2, 3]]\n"
   ]
  },
  {
   "cell_type": "code",
   "execution_count": 14,
   "id": "8a86c892",
   "metadata": {
    "ExecuteTime": {
     "end_time": "2024-03-10T12:53:36.912707641Z",
     "start_time": "2024-03-10T12:53:36.891539388Z"
    }
   },
   "outputs": [
    {
     "name": "stdout",
     "output_type": "stream",
     "text": [
      "There are 2 scouts\n"
     ]
    }
   ],
   "source": [
    "\n",
    "# -------------------------------------------------------------------------------------------\n",
    "# ------------------------ Create scout data from indexes -----------------------------------\n",
    "\n",
    "# we use a GTL function create_scout_data_from_ranged_indexes() to create scouts of \n",
    "# the list of the data points in scout_indexes\n",
    "scout_data_X = gtl.create_scout_data_from_ranged_indexes(scout_indexes, base_scout_X) # --using gtl library to create scout data\n",
    "scout_data_Y = gtl.create_scout_data_from_ranged_indexes(scout_indexes, base_scout_Y) # --\n",
    "print(\"There are\", len(scout_data_X), \"scouts\")\n"
   ]
  },
  {
   "cell_type": "markdown",
   "id": "1cf3f619",
   "metadata": {},
   "source": [
    "## Train scouts"
   ]
  },
  {
   "cell_type": "code",
   "execution_count": 15,
   "id": "7f056bb3",
   "metadata": {
    "scrolled": true,
    "ExecuteTime": {
     "end_time": "2024-03-10T12:53:37.889085200Z",
     "start_time": "2024-03-10T12:53:36.891608302Z"
    }
   },
   "outputs": [
    {
     "name": "stdout",
     "output_type": "stream",
     "text": [
      "scout number: 0\n",
      "Epoch: 1 Loss: 0.69802123\n",
      "Epoch: 50 Loss: 0.6042111\n",
      "Epoch: 100 Loss: 0.525643\n",
      "Epoch: 150 Loss: 0.46527275\n",
      "Epoch: 200 Loss: 0.41515625\n",
      "Epoch: 250 Loss: 0.36741376\n",
      "Epoch: 300 Loss: 0.3196739\n",
      "Epoch: 350 Loss: 0.27298245\n",
      "Epoch: 400 Loss: 0.22871284\n",
      "Epoch: 450 Loss: 0.18909389\n",
      "Epoch: 500 Loss: 0.14601514\n",
      "Epoch: 550 Loss: 0.11660227\n",
      "Epoch: 600 Loss: 0.090071574\n",
      "Epoch: 650 Loss: 0.056441866\n",
      "Epoch: 700 Loss: 0.023471544\n",
      "Epoch: 750 Loss: 0.0031942204\n",
      "Epoch: 800 Loss: 0.0026970096\n",
      "Epoch: 850 Loss: 0.0036746562\n",
      "Epoch: 900 Loss: 0.0041809734\n",
      "Epoch: 950 Loss: 0.0047446415\n",
      "Epoch: 1000 Loss: 0.005339075\n",
      "scout number: 1\n",
      "Epoch: 1 Loss: 0.7522677\n",
      "Epoch: 50 Loss: 0.59769493\n",
      "Epoch: 100 Loss: 0.51054263\n",
      "Epoch: 150 Loss: 0.44487524\n",
      "Epoch: 200 Loss: 0.3958127\n",
      "Epoch: 250 Loss: 0.34975263\n",
      "Epoch: 300 Loss: 0.30496943\n",
      "Epoch: 350 Loss: 0.26027682\n",
      "Epoch: 400 Loss: 0.21904665\n",
      "Epoch: 450 Loss: 0.17679727\n",
      "Epoch: 500 Loss: 0.13780995\n",
      "Epoch: 550 Loss: 0.11147511\n",
      "Epoch: 600 Loss: 0.082717836\n",
      "Epoch: 650 Loss: 0.050464988\n",
      "Epoch: 700 Loss: 0.014787478\n",
      "Epoch: 750 Loss: 0.005102176\n",
      "Epoch: 800 Loss: 0.005596917\n",
      "Epoch: 850 Loss: 0.0016040076\n",
      "Epoch: 900 Loss: 0.0012680385\n",
      "Epoch: 950 Loss: 0.0021804832\n",
      "Epoch: 1000 Loss: 0.0019320026\n",
      "A total of 2 scouts trained\n"
     ]
    }
   ],
   "source": [
    "# ----------------------------------------------------------------------------------------------------------------\n",
    "# ----------------- Train scouts in a loop and accumulate data to obtain a guiding matrix ------------------------\n",
    "\n",
    "# Now create a model for scouts and load parameters from the base model.\n",
    "# These parameters are needed to continue learning from the based model. \n",
    "# Each scout is a fine-tuned version of the base model. \n",
    "\n",
    "s_model = TinyModel().to(device)\n",
    "my_scouts = gtl.create_scouts(s_model)       # --------using gtl library to create my_scouts object to collect scout data\n",
    "\n",
    "for s in range(len(scout_data_X)):\n",
    "    print(\"scout number:\", s)\n",
    "    gtl.load_base(s_model)                  # ------------using gtl library to newly load base model for each scout\n",
    "    train_model(model=s_model, x=scout_data_X[s], y=scout_data_Y[s], epochs=1000, lr=0.001)\n",
    "    \n",
    "    my_scouts.add_scout(s_model)            # ------------using gtl library to add scout data to the object\n",
    "    \n",
    "    \n",
    "print(\"A total of\", len(my_scouts), \"scouts trained\")"
   ]
  },
  {
   "cell_type": "markdown",
   "id": "e274a479",
   "metadata": {},
   "source": [
    "## Compute quidance matrix"
   ]
  },
  {
   "cell_type": "code",
   "execution_count": 16,
   "id": "e69cd557",
   "metadata": {
    "ExecuteTime": {
     "end_time": "2024-03-10T12:53:37.895142572Z",
     "start_time": "2024-03-10T12:53:37.889215401Z"
    }
   },
   "outputs": [],
   "source": [
    "# ----------------------------------------------------------------------\n",
    "# ----------------- Compute guidance matrix ----------------------------\n",
    "\n",
    "guidance_matrix = my_scouts.create_raw_guidance(device) # ----------using gtl library to compute the guidance \n",
    "                                                                    # \\matrix from accumulated scout information\n",
    "\n",
    "                                                                    # \\'device' determines whether to create the \n",
    "                                                                    # \\guidance matrix on CPU or GPU."
   ]
  },
  {
   "cell_type": "code",
   "execution_count": 17,
   "id": "a2aa0bba",
   "metadata": {
    "ExecuteTime": {
     "end_time": "2024-03-10T12:53:37.934883327Z",
     "start_time": "2024-03-10T12:53:37.894298477Z"
    }
   },
   "outputs": [
    {
     "data": {
      "text/plain": "PosixPath('/home/dev/code/rgm/guided_transfer_learning/models/guidance_matrix.pt')"
     },
     "execution_count": 17,
     "metadata": {},
     "output_type": "execute_result"
    }
   ],
   "source": [
    "# --------------------------------------------------------------\n",
    "# ------------------- Save guidance matrix ---------------------\n",
    "\n",
    "gtl.save_guidance_matrix(guidance_matrix)               # ----------using gtl library to save the guidance \n",
    "                                                                    # \\matrix to default path and name"
   ]
  },
  {
   "cell_type": "code",
   "execution_count": 18,
   "id": "235120fc",
   "metadata": {
    "ExecuteTime": {
     "end_time": "2024-03-10T12:53:37.936215606Z",
     "start_time": "2024-03-10T12:53:37.934630121Z"
    }
   },
   "outputs": [],
   "source": [
    "# ------------------------------------------------------------------------------------------\n",
    "# ------------------------ Delete everything from memory -----------------------------------\n",
    "\n",
    "# Release memory for scouts as we do not need them any more; guidance matrix can also be loaded anew\n",
    "del my_scouts\n",
    "del guidance_matrix"
   ]
  },
  {
   "cell_type": "markdown",
   "id": "ce8daa75",
   "metadata": {},
   "source": [
    "# Training 3: Performing fine-tuning"
   ]
  },
  {
   "cell_type": "markdown",
   "id": "f02c5766",
   "metadata": {},
   "source": [
    "## Fine-tuning without guidance matrix"
   ]
  },
  {
   "cell_type": "code",
   "execution_count": 19,
   "id": "7fac45b9",
   "metadata": {
    "ExecuteTime": {
     "end_time": "2024-03-10T12:53:38.016215961Z",
     "start_time": "2024-03-10T12:53:37.934815520Z"
    }
   },
   "outputs": [
    {
     "name": "stdout",
     "output_type": "stream",
     "text": [
      "Epoch: 1 Loss: 0.47846797\n",
      "Epoch: 50 Loss: 0.3343591\n",
      "Epoch: 100 Loss: 0.19812973\n",
      "Epoch: 150 Loss: 0.11190216\n",
      "Epoch: 200 Loss: 0.025638403\n",
      "Epoch: 250 Loss: 0.018414391\n",
      "Epoch: 299 Loss: 0.046941597\n"
     ]
    }
   ],
   "source": [
    "# -------------------------------------------------------------------------------------------------------\n",
    "# ------------------------ Load the model and train it on XOR problem -----------------------------------\n",
    "\n",
    "a_model = TinyModel().to(device)\n",
    "gtl.load_base(a_model)             # ----------using gtl library to load the base model\n",
    "loss_vals_a = train_model(model=a_model, x=base_train_X2, y=base_train_Y2, epochs=299, guidance_matrix=None, lr = 0.01) "
   ]
  },
  {
   "cell_type": "code",
   "execution_count": 20,
   "id": "b27ca51a",
   "metadata": {
    "ExecuteTime": {
     "end_time": "2024-03-10T12:53:38.020183139Z",
     "start_time": "2024-03-10T12:53:38.015134966Z"
    }
   },
   "outputs": [
    {
     "name": "stdout",
     "output_type": "stream",
     "text": [
      "Perfect output:\n",
      " [[0.1 0.1]\n",
      " [1.  1. ]\n",
      " [1.  1. ]\n",
      " [0.1 0.1]]\n",
      "Actual output:\n",
      " [[0.13439783 0.13083632]\n",
      " [1.0386971  1.0303553 ]\n",
      " [1.0077751  1.0221459 ]\n",
      " [0.11523169 0.1147317 ]]\n",
      "\n",
      "Loss: 0.024271367\n"
     ]
    }
   ],
   "source": [
    "# --------------------------------------------------------------------------------------------------------------------\n",
    "# ----------------- Test the performance on the test data (the same as train data) -----------------------------------\n",
    "\n",
    "test_model(a_model, base_test_X2, base_test_Y2)"
   ]
  },
  {
   "cell_type": "code",
   "execution_count": 21,
   "id": "1fbf01d7",
   "metadata": {
    "ExecuteTime": {
     "end_time": "2024-03-10T12:53:38.127868698Z",
     "start_time": "2024-03-10T12:53:38.018460115Z"
    }
   },
   "outputs": [
    {
     "data": {
      "text/plain": "<Figure size 640x480 with 1 Axes>",
      "image/png": "[encoded data removed]"
     },
     "metadata": {},
     "output_type": "display_data"
    }
   ],
   "source": [
    "# ----------------------------------------------------------------------------\n",
    "# ----------------- Plot the loss function -----------------------------------\n",
    "\n",
    "plot_loss(values = [loss_vals_a], names = [\"No guidance\"])"
   ]
  },
  {
   "cell_type": "markdown",
   "id": "28434642",
   "metadata": {},
   "source": [
    "## Fine-tuning using the guidance matrix"
   ]
  },
  {
   "cell_type": "code",
   "execution_count": 22,
   "id": "4b50c1ce",
   "metadata": {
    "ExecuteTime": {
     "end_time": "2024-03-10T12:53:38.197392593Z",
     "start_time": "2024-03-10T12:53:38.127481958Z"
    }
   },
   "outputs": [
    {
     "data": {
      "text/plain": "{'linear1.weight': tensor([[1.0386, 1.0483],\n         [1.0081, 1.0961],\n         [1.0101, 1.1734],\n         ...,\n         [1.3250, 1.0173],\n         [1.0194, 1.0299],\n         [1.0055, 1.1039]], device='cuda:0'),\n 'linear1.bias': tensor([1.0076, 1.0081, 1.2292, 1.4265, 1.0001, 1.3982, 1.0744, 1.0252, 1.0041,\n         1.0111, 1.0502, 1.1236, 1.1501, 1.0029, 1.2743, 1.4282, 1.0874, 1.1196,\n         1.2204, 1.1893, 1.2031, 1.0284, 1.0271, 1.0005, 1.0649, 1.3786, 1.8288,\n         1.0107, 1.0310, 1.1029, 1.0172, 1.0018, 1.0703, 1.8871, 1.0034, 1.0008,\n         1.4871, 1.0955, 1.1585, 1.1822, 1.0392, 1.0005, 1.2000, 1.1384, 1.3683,\n         1.1888, 1.0015, 1.1394, 1.0101, 1.1181, 1.0754, 1.1518, 1.3993, 1.4607,\n         1.0072, 1.0097, 1.0013, 1.1799, 1.0520, 1.4954, 1.8743, 1.0028, 1.4213,\n         1.0081, 1.2910, 1.7145, 1.2151, 1.1660, 1.1412, 1.0215, 1.0105, 1.1881,\n         1.6650, 1.0558, 1.1607, 1.6588, 1.3953, 1.0632, 1.3255, 1.0061, 1.5073,\n         1.1885, 1.0911, 1.0679, 1.0250, 1.0319, 1.0081, 1.0052, 1.0036, 1.0190,\n         1.0382, 1.0289, 1.2592, 1.0490, 1.0092, 1.0114, 1.2523, 1.0042, 1.0103,\n         1.0626, 1.0157, 1.0283, 1.0966, 1.2514, 1.0002, 1.0001, 1.0277, 1.1876,\n         1.3002, 1.1330, 1.0064, 1.3044, 1.0216, 1.0108, 1.5185, 1.1972, 1.0561,\n         1.0021, 1.0900, 1.0049, 1.2177, 1.0059, 1.1903, 1.3230, 1.1298, 1.0000,\n         1.0204, 1.0194, 1.1551, 1.3763, 1.8122, 1.0837, 1.7665, 1.7136, 1.8891,\n         1.2256, 1.1086, 1.0142, 1.0394, 1.0074, 1.1176, 1.3820, 1.1168, 1.0099,\n         1.1846, 1.0224, 1.0213, 1.1906, 1.3652, 1.0001, 1.2401, 1.6443, 1.0559,\n         1.0007, 1.1332, 1.0177, 1.6253, 1.2595, 1.9033, 1.0944, 1.0907, 1.0598,\n         1.0510, 1.2412, 1.0503, 1.0127, 1.0463, 1.2291, 1.1241, 1.4270, 1.0805,\n         1.0624, 1.3745, 1.0387, 1.0203, 1.4009, 1.0000, 1.4915, 1.0029, 1.0907,\n         1.2179, 1.1104, 1.0241, 1.2291, 1.6691, 1.2398, 1.1455, 1.5354, 1.0226,\n         1.5498, 1.2077, 1.0619, 1.0471, 1.6366, 1.3320, 1.0380, 1.0985, 1.0311,\n         1.2200, 1.1659, 1.0425, 1.0174, 1.0383, 1.0148, 1.0312, 1.4143, 1.0037,\n         1.2299, 1.0679, 1.0000, 1.1469, 1.1041, 1.0113, 1.0269, 1.0973, 1.4238,\n         1.0820, 1.1854, 1.0035, 1.2002, 1.0118, 1.0023, 1.1491, 1.2181, 1.0033,\n         1.1368, 1.0534, 1.6336, 1.1799, 1.1573, 1.4919, 1.0311, 1.1820, 1.0342,\n         1.3985, 1.5182, 1.0159, 1.0054, 1.2420, 1.2811, 1.3520, 1.0007, 1.8008,\n         1.2135, 1.4425, 1.2059, 1.0525, 1.0309, 1.0017, 1.3221, 1.7984, 1.8248,\n         1.2855, 1.3992, 1.2268, 1.0201, 1.0353, 1.2311, 1.0025, 1.1643, 1.4081,\n         1.0022, 1.1958, 1.0062, 1.0159, 1.4822, 1.0167, 1.1002, 1.0355, 1.1387,\n         1.0191, 1.1879, 1.0020, 1.0030, 1.0193, 1.0013, 1.1920, 1.5713, 1.2801,\n         1.0487, 1.3570, 1.2986, 1.1076, 1.1200, 1.0148, 1.2592, 1.0682, 1.0220,\n         1.2624, 1.4088, 1.3888, 1.0213, 1.3518, 1.0543, 1.5294, 1.0936, 1.5284,\n         1.9318, 1.0181, 1.0400, 1.0747, 1.2325, 1.0237, 1.0525, 1.0132, 1.0196,\n         1.6349, 1.4697, 1.1341, 1.2518, 1.3193, 1.0734, 1.1171, 1.0063, 1.0249,\n         1.0220, 1.0000, 1.2160, 1.0002, 1.5286, 1.2849, 1.0088, 1.0623, 1.5904,\n         1.0530, 1.6786, 1.0014, 1.0385, 1.3722, 1.2741, 1.5557, 1.0081, 1.0900,\n         1.0640, 1.0001, 1.4539, 1.1229, 1.0521, 1.0078, 1.3250, 1.3378, 1.4668,\n         1.0825, 1.0372, 1.7405, 1.2866, 1.2251, 1.8986, 1.0298, 1.3723, 1.0653,\n         1.0103, 1.0050, 1.0592, 1.1191, 1.0309, 1.0094, 1.1611, 1.0468, 1.0979,\n         1.1431, 1.0555, 1.0205, 1.0719, 1.0600, 1.1140, 1.9391, 1.0357, 1.6330,\n         1.0131, 1.2097, 1.3333, 1.3290, 1.0007, 1.1059, 1.0098, 1.2235, 1.4391,\n         1.3574, 1.1067, 1.0122, 1.0015, 1.0474, 1.1177, 1.0147, 1.0514, 1.0538,\n         1.1620, 1.0587, 1.1135, 1.0470, 1.0011, 1.0312, 1.1596, 1.0477, 1.0858,\n         1.0004, 1.1101, 1.1010, 1.0027, 1.0001, 1.3827, 1.0756, 1.0055, 1.1193,\n         1.0187, 1.4073, 1.0077, 1.0778, 1.5731, 1.0224, 1.1851, 1.3322, 1.0613,\n         1.5587, 1.0015, 1.0319, 1.0558, 1.1381, 1.1863, 1.1491, 1.2265, 1.0062,\n         1.1639, 1.0000, 1.2484, 1.1125, 1.0188, 1.1035, 1.0001, 1.1523, 1.0138,\n         1.0641, 1.0659, 1.0148, 1.0721, 1.0799, 1.5743, 1.2713, 1.0061, 1.2006,\n         1.0005, 1.3277, 1.0017, 1.0428, 1.1940, 1.3255, 1.0207, 1.3338, 1.0166,\n         1.1422, 1.5631, 1.3347, 1.0110, 1.0526, 1.1190, 1.0252, 1.0943, 1.0015,\n         1.0089, 1.0002, 1.3422, 1.0140, 1.0903, 1.2372, 1.4828, 1.0257, 1.0082,\n         1.0013, 1.1361, 1.4369, 1.0022, 1.0537, 1.6100, 1.0023, 1.1495, 1.0219,\n         1.7583, 1.2045, 1.0100, 1.0189, 1.6517, 1.0586, 1.0000, 1.5263, 1.5202,\n         1.0700, 1.0088, 1.0013, 1.3731, 1.1239, 1.5043, 1.2426, 1.2941, 1.0384,\n         1.0696, 1.0227, 1.0779, 1.0691, 1.0051, 1.1044, 1.1082, 1.0030, 1.1149,\n         1.3514, 1.0967, 2.0000, 1.0207, 1.1240, 1.0615, 1.1501, 1.2493, 1.5618,\n         1.2837, 1.0126, 1.4800, 1.0055, 1.0779, 1.0093, 1.5602, 1.0028, 1.0193,\n         1.0067, 1.2456, 1.0331, 1.1135, 1.2028, 1.1958, 1.0142, 1.0612, 1.6057,\n         1.0446, 1.0003, 1.1209, 1.0614, 1.2733, 1.2387, 1.0459, 1.5176, 1.3940,\n         1.0522, 1.0002, 1.0430, 1.4089, 1.0006, 1.5596, 1.0639, 1.0790, 1.5019,\n         1.6343, 1.0611, 1.0395, 1.1299, 1.0203, 1.3948, 1.0283, 1.0339, 1.0013,\n         1.4394, 1.0170, 1.0055, 1.0817, 1.0386, 1.0057, 1.3791, 1.0044, 1.0851,\n         1.0524, 1.4021, 1.3902, 1.1119, 1.0036, 1.9550, 1.0887, 1.3142, 1.0498,\n         1.1586, 1.5062, 1.0826, 1.1671, 1.1190, 1.2866, 1.0795, 1.6266, 1.1682,\n         1.0958, 1.0715, 1.1790, 1.0766, 1.2283, 1.0003, 1.1234, 1.0882, 1.0048,\n         1.0240, 1.0051, 1.0077, 1.4955, 1.0228, 1.0383, 1.0017, 1.8935, 1.0011,\n         1.4517, 1.0207, 1.0759, 1.0849, 1.0040, 1.0405, 1.0482, 1.2424, 1.3174,\n         1.1738, 1.0302, 1.1874, 1.2602, 1.2554, 1.9259, 1.0007, 1.5596, 1.2533,\n         1.5351, 1.5930, 1.1112, 1.0008, 1.3404, 1.7153, 1.0287, 1.3224, 1.1007,\n         1.0995, 1.0198, 1.0131, 1.6083, 1.0595, 1.0334, 1.5050, 1.0439, 1.0015,\n         1.3266, 1.1576, 1.0024, 1.0333, 1.1681, 1.1747, 1.0034, 1.0017, 1.3806,\n         1.0618, 1.1035, 1.1090, 1.1459, 1.2451, 1.0248, 1.1057, 1.0112, 1.1304,\n         1.0936, 1.0160, 1.0741, 1.1067, 1.0149, 1.3646, 1.2591, 1.6025, 1.0077,\n         1.0914, 1.0042, 1.4587, 1.6055, 1.6953, 1.0021, 1.2683, 1.0084, 1.1794,\n         1.1795, 1.1117, 1.2302, 1.5384, 1.1117, 1.0681, 1.0928, 1.0645, 1.9240,\n         1.5231, 1.0361, 1.4605, 1.0083, 1.1278, 1.0000, 1.0613, 1.7393, 1.0003,\n         1.0880, 1.0121, 1.3539, 1.1097, 1.1218, 1.1393, 1.0182, 1.0462, 1.0267,\n         1.4686, 1.1129, 1.2771, 1.1866, 1.0831, 1.0593, 1.2610, 1.1448, 1.0509,\n         1.0260, 1.0116, 1.3799, 1.0205, 1.2024, 1.4200, 1.4441, 1.0732, 1.0777,\n         1.0877, 1.5009, 1.1109, 1.3175, 1.0033, 1.1637, 1.4942, 1.0002, 1.3584,\n         1.0054, 1.0047, 1.0061, 1.0010, 1.0488, 1.0350, 1.3028, 1.0003, 1.1136,\n         1.4060, 1.3603, 1.0366, 1.0303, 1.1838, 1.0000, 1.0371, 1.8357, 1.0001,\n         1.0014, 1.0363, 1.0043, 1.0402, 1.1636, 1.5395, 1.0526, 1.0614, 1.4280,\n         1.0074, 1.0757, 1.1988, 1.3021, 1.0363, 1.5089, 1.1930, 1.0279, 1.0226,\n         1.0133, 1.0065, 1.5938, 1.2390, 1.0041, 1.8491, 1.5569, 1.0186, 1.0111,\n         1.0075, 1.0009, 1.0013, 1.0572, 1.1990, 1.7744, 1.1541, 1.1146, 1.2882,\n         1.6824, 1.4786, 1.0003, 1.0378, 1.0028, 1.0088, 1.3712, 1.0014, 1.0616,\n         1.0141, 1.1586, 1.4198, 1.2533, 1.0206, 1.0899, 1.1013, 1.0010, 1.0000,\n         1.1197, 1.0710, 1.0001, 1.0345, 1.5064, 1.2282, 1.5000, 1.3080, 1.0659,\n         1.1454, 1.1839, 1.0001, 1.5198, 1.2375, 1.5798, 1.0051, 1.3009, 1.1638,\n         1.5126, 1.0249, 1.0470, 1.0356, 1.0942, 1.0683, 1.1703, 1.0411, 1.7199,\n         1.1825, 1.1254, 1.0033, 1.4758, 1.4661, 1.1591, 1.2654, 1.4385, 1.4331,\n         1.8622, 1.5338, 1.1548, 1.0252, 1.0983, 1.0860, 1.0006, 1.1328, 1.2702,\n         1.0536, 1.4290, 1.3989, 1.8750, 1.4365, 1.0820, 1.6158, 1.0558, 1.5032,\n         1.0984, 1.3986, 1.1669, 1.4625, 1.1570, 1.1085, 1.0058, 1.1344, 1.0691,\n         1.4789, 1.8485, 1.0760, 1.1532, 1.0632, 1.4532, 1.0503, 1.5264, 1.4310,\n         1.4657, 1.0279, 1.0053, 1.1433, 1.2237, 1.7012, 1.1813, 1.2997, 1.3121,\n         1.0275, 1.1058, 1.1653, 1.0000, 1.1061, 1.0069, 1.1345, 1.0003, 1.0070,\n         1.5394, 1.0308, 1.1598, 1.0415, 1.1624, 1.0252, 1.0000, 1.0005, 1.0017,\n         1.3173, 1.0011, 1.0929, 1.1891, 1.2067, 1.1390, 1.0443, 1.0001, 1.8924,\n         1.1369, 1.0182, 1.0698, 1.3467, 1.3407, 1.0166, 1.0273, 1.0762, 1.2375,\n         1.2893, 1.0306, 1.0610, 1.0001, 1.0114, 1.4672, 1.1533, 1.0206, 1.3034,\n         1.0407, 1.0252, 1.5166, 1.0154, 1.1165, 1.1616, 1.0597, 1.0239, 1.0104,\n         1.4604, 1.0128, 1.5120, 1.1035, 1.0454, 1.0682, 1.0362, 1.0330, 1.0001,\n         1.0045, 1.5316, 1.5702, 1.0007, 1.0258, 1.0052, 1.0754, 1.1379, 1.0228,\n         1.0980, 1.0086, 1.0277, 1.0691, 1.0052, 1.1631, 1.0000, 1.0026, 1.2976,\n         1.0028, 1.2519, 1.2697, 1.0331, 1.0928, 1.0603, 1.0143, 1.0849, 1.2230,\n         1.2944, 1.5692, 1.0109, 1.1100, 1.0669, 1.8058, 1.0076, 1.5362, 1.0806,\n         1.0475, 1.4156, 1.0467, 1.0227, 1.0542, 1.0354, 1.0483, 1.1969, 1.0817,\n         1.0209, 1.6915, 1.1744, 1.1179, 1.0875, 1.1048, 1.9279, 1.0052, 1.4936,\n         1.0259], device='cuda:0'),\n 'linear2.weight': tensor([[1.0108, 1.0448, 1.0128,  ..., 1.0059, 1.0026, 1.0141],\n         [1.0070, 1.0104, 1.5734,  ..., 1.0229, 1.0197, 1.0613],\n         [1.1383, 1.0106, 1.5736,  ..., 1.3061, 1.1339, 1.3491],\n         ...,\n         [1.2393, 1.0062, 1.4825,  ..., 1.0828, 1.0681, 1.4245],\n         [1.0470, 1.0722, 1.1852,  ..., 1.3419, 1.2526, 1.0469],\n         [1.0782, 1.1524, 1.1019,  ..., 1.0018, 1.0139, 1.1888]],\n        device='cuda:0'),\n 'linear2.bias': tensor([1.1079, 1.0327, 1.0965, 1.0646, 1.0008, 1.7298, 1.0796, 1.0425, 1.1328,\n         1.1904, 1.3617, 1.0007, 1.3319, 1.0130, 1.0637, 1.3384, 1.1831, 1.2287,\n         1.2662, 1.5522, 1.2568, 1.0186, 1.0042, 1.5309, 1.0973, 1.0046, 1.1595,\n         1.7706, 1.0361, 1.0548, 1.0272, 1.1599, 1.0002, 1.0637, 1.0092, 1.3104,\n         1.7240, 1.1832, 1.2783, 1.0289, 1.1180, 1.5811, 1.1256, 1.1949, 1.3110,\n         1.0678, 1.0101, 1.2227, 1.1174, 1.2899, 1.0669, 1.0190, 1.6585, 1.1193,\n         1.3341, 1.4541, 1.2274, 1.0003, 1.0002, 1.0046, 1.0410, 1.1295, 1.4036,\n         1.0331, 1.1064, 1.0023, 1.0628, 1.0274, 1.2266, 1.0082, 1.4941, 1.0016,\n         1.0354, 1.1000, 1.2047, 1.0818, 1.4772, 1.0480, 1.0024, 1.0864, 1.3999,\n         1.2602, 1.1920, 1.3464, 1.4158, 1.0024, 1.1589, 1.0005, 1.0064, 1.0745,\n         1.0001, 1.5247, 1.4557, 1.1653, 1.6614, 1.0858, 1.0158, 1.2272, 1.1968,\n         1.2356, 1.0251, 1.0554, 1.2093, 1.0990, 1.7932, 1.0001, 1.5081, 1.1628,\n         1.0354, 1.0874, 1.3470, 1.8129, 1.1212, 1.0765, 1.0431, 1.1103, 1.0050,\n         1.0929, 1.7219, 1.0213, 1.0868, 1.0066, 1.0341, 1.6348, 1.0164, 1.0097,\n         1.1892, 1.0586, 1.0424, 1.0034, 1.9278, 1.0340, 1.2300, 1.3390, 1.0700,\n         1.9963, 1.0747, 1.3171, 1.1258, 1.0059, 1.0163, 1.5302, 2.0000, 1.1971,\n         1.1100, 1.9947, 1.4469, 1.5329, 1.0273, 1.0363, 1.0127, 1.0548, 1.3160,\n         1.0596, 1.1494, 1.0190, 1.1194, 1.0459, 1.1950, 1.6010, 1.1884, 1.2136,\n         1.1816, 1.1256, 1.4774, 1.1425, 1.8342, 1.1329, 1.0369, 1.0324, 1.0890,\n         1.2256, 1.1114, 1.0229, 1.6959, 1.7297, 1.0749, 1.4789, 1.4145, 1.1227,\n         1.1074, 1.0827, 1.0379, 1.0274, 1.3612, 1.0294, 1.0006, 1.2194, 1.0068,\n         1.0067, 1.0880, 1.2549, 1.0814, 1.7927, 1.0422, 1.0029, 1.3005, 1.0741,\n         1.3723, 1.6294, 1.1119, 1.2078, 1.2349, 1.0067, 1.0011, 1.4873, 1.6730,\n         1.0931, 1.0699, 1.0212, 1.0008, 1.0352, 1.3838, 1.6533, 1.2352, 1.0257,\n         1.2770, 1.0031, 1.0125, 1.0057, 1.2643, 1.4272, 1.1516, 1.0946, 1.5265,\n         1.0357, 1.0014, 1.1704, 1.0155, 1.5603, 1.0621, 1.1270, 1.0000, 1.2083,\n         1.0588, 1.1871, 1.1466, 1.2037, 1.1070, 1.7330, 1.3980, 1.2638, 1.1627,\n         1.3002, 1.1081, 1.4088, 1.0568, 1.2479, 1.0276, 1.0547],\n        device='cuda:0'),\n 'linear3.weight': tensor([[1.0022, 1.0109, 1.1499, 1.3385, 1.0009, 1.2025, 1.1998, 1.2575, 1.1410,\n          1.2564, 1.2085, 1.1435, 1.0136, 1.0837, 1.0108, 1.0269, 1.0039, 1.3824,\n          1.4180, 1.0001, 1.0361, 1.1652, 1.1750, 1.0387, 1.1040, 1.0017, 1.0044,\n          1.5347, 1.0702, 1.0753, 1.0190, 1.0180, 1.0640, 1.2016, 1.5257, 1.0753,\n          1.1203, 1.0005, 1.1160, 1.0016, 1.0276, 1.0528, 1.0393, 1.2755, 1.0189,\n          1.0586, 1.2896, 1.1792, 1.2231, 1.1150, 1.3575, 1.6360, 1.0012, 1.0249,\n          1.0033, 1.1935, 1.1961, 1.0694, 1.0045, 1.0026, 1.1459, 1.0389, 1.2619,\n          1.0274, 1.0002, 1.0791, 1.1516, 1.0004, 1.0114, 1.0031, 1.0400, 1.0004,\n          1.0404, 1.0199, 1.0817, 1.1914, 1.0088, 1.0416, 1.1281, 1.5461, 1.2017,\n          1.0485, 1.0150, 1.3813, 2.0000, 1.0324, 1.0145, 1.0392, 1.0432, 1.0046,\n          1.0003, 1.0141, 1.2539, 1.0462, 1.0001, 1.3275, 1.5980, 1.0685, 1.1539,\n          1.0010, 1.0137, 1.0075, 1.1231, 1.0865, 1.1484, 1.4550, 1.3332, 1.0055,\n          1.1000, 1.0018, 1.3206, 1.4341, 1.0461, 1.5188, 1.0404, 1.0638, 1.1016,\n          1.0152, 1.0702, 1.4185, 1.0545, 1.0850, 1.0217, 1.0042, 1.0926, 1.0567,\n          1.0019, 1.3632, 1.3701, 1.0012, 1.6069, 1.2517, 1.4456, 1.0896, 1.0670,\n          1.3087, 1.2705, 1.0329, 1.2870, 1.2846, 1.0827, 1.1051, 1.1374, 1.0745,\n          1.0088, 1.2392, 1.1490, 1.3608, 1.2049, 1.1915, 1.0192, 1.0137, 1.0063,\n          1.1039, 1.6568, 1.1728, 1.0448, 1.0757, 1.0064, 1.0868, 1.2477, 1.0004,\n          1.2312, 1.0908, 1.0284, 1.1574, 1.1707, 1.1193, 1.0075, 1.1947, 1.0204,\n          1.2870, 1.0011, 1.0002, 1.2379, 1.2985, 1.2771, 1.0677, 1.1263, 1.0145,\n          1.1678, 1.2596, 1.0107, 1.0005, 1.3396, 1.0732, 1.0993, 1.0153, 1.0568,\n          1.0478, 1.0376, 1.0308, 1.0665, 1.0717, 1.0086, 1.0144, 1.1902, 1.4139,\n          1.2352, 1.1131, 1.2366, 1.0171, 1.3030, 1.0806, 1.2067, 1.0045, 1.2373,\n          1.0462, 1.0086, 1.1798, 1.0078, 1.0001, 1.1091, 1.5385, 1.1131, 1.1862,\n          1.2423, 1.2889, 1.4770, 1.0172, 1.1077, 1.2440, 1.0395, 1.0744, 1.0075,\n          1.0559, 1.0019, 1.1646, 1.3047, 1.1500, 1.0077, 1.2473, 1.5391, 1.0847,\n          1.0575, 1.0274, 1.0305, 1.0065, 1.1616, 1.0066, 1.0002, 1.0094, 1.0316,\n          1.3083, 1.0004, 1.2735, 1.4357, 1.0656, 1.3610, 1.1212],\n         [1.2601, 1.2222, 1.2600, 1.1051, 1.4291, 1.2805, 1.0113, 1.3659, 1.0117,\n          1.0652, 1.1885, 1.0762, 1.0003, 1.5282, 1.0877, 1.2123, 1.5787, 1.2318,\n          1.1785, 1.0089, 1.2814, 1.0255, 1.0106, 1.1004, 1.1527, 1.3099, 1.2059,\n          1.0178, 1.0002, 1.4572, 1.0079, 1.0421, 1.0000, 1.2446, 1.1112, 1.0692,\n          1.0191, 1.0286, 1.0137, 1.0285, 1.1589, 1.0060, 1.0046, 1.0231, 1.1888,\n          1.0132, 1.5403, 1.0625, 1.0008, 1.0082, 1.1922, 1.4291, 1.0210, 1.0411,\n          1.3367, 1.0014, 1.0198, 1.0286, 1.0019, 1.0195, 1.1081, 1.0536, 1.3597,\n          1.0854, 1.0153, 1.1134, 1.0005, 1.0106, 1.0683, 1.5218, 1.1059, 1.0179,\n          1.0045, 1.1063, 1.0539, 1.1916, 1.1744, 1.0001, 1.2551, 1.1568, 1.0004,\n          1.2188, 1.2278, 1.0001, 1.3510, 1.0331, 1.2049, 1.0086, 1.0000, 1.2489,\n          1.0314, 1.0795, 1.1523, 1.3849, 1.0897, 1.1224, 1.1800, 1.0106, 1.0034,\n          1.0726, 1.3660, 1.1774, 1.0327, 1.1660, 1.0470, 1.0000, 1.4013, 1.0486,\n          1.6667, 1.0003, 1.0324, 1.0201, 1.1666, 1.1022, 1.1280, 1.0727, 1.2132,\n          1.0001, 1.0584, 1.0206, 1.0642, 1.0621, 1.3489, 1.4191, 1.0005, 1.0233,\n          1.0685, 1.2354, 1.0001, 1.1555, 1.0202, 1.5623, 1.0127, 1.0732, 1.5333,\n          1.0430, 1.0072, 1.0597, 1.1175, 1.3284, 1.0115, 1.6717, 1.1236, 1.0527,\n          1.0674, 1.0643, 1.0704, 1.1183, 1.1889, 1.0028, 1.1236, 1.0164, 1.0002,\n          1.0006, 1.0922, 1.0274, 1.0042, 1.0227, 1.0191, 1.0041, 1.0000, 1.0509,\n          1.0409, 1.0326, 1.4802, 1.2093, 1.0204, 1.0553, 1.0020, 1.0108, 1.0053,\n          1.3877, 1.0229, 1.0003, 1.0000, 1.1826, 1.0170, 1.6213, 1.0006, 1.0006,\n          1.3229, 1.0395, 1.0879, 1.1537, 1.0271, 1.2364, 1.0672, 1.0197, 1.1823,\n          1.0083, 1.1827, 1.2949, 1.0060, 1.0069, 1.3125, 1.2740, 1.0105, 1.4659,\n          1.0312, 1.0002, 1.0084, 1.0219, 1.0134, 1.0017, 1.1680, 1.0023, 1.0312,\n          1.0773, 1.0109, 1.0413, 1.0639, 1.4439, 1.0060, 1.1391, 1.0180, 1.0627,\n          1.0425, 1.0122, 1.0110, 1.2191, 1.0654, 1.0226, 1.1225, 1.0612, 1.0585,\n          1.1313, 1.0062, 1.0857, 1.0494, 1.0022, 1.0009, 1.2223, 1.0090, 1.0239,\n          1.1731, 1.2541, 1.0422, 1.0151, 1.0585, 1.4605, 1.0294, 1.2290, 1.1321,\n          1.3211, 1.1021, 1.1078, 1.0432, 1.0903, 1.3974, 1.0000]],\n        device='cuda:0'),\n 'linear3.bias': tensor([2., 1.], device='cuda:0')}"
     },
     "execution_count": 22,
     "metadata": {},
     "output_type": "execute_result"
    }
   ],
   "source": [
    "# -------------------------------------------------------------------------------------------------------\n",
    "# --------------- Load the guidance matrix and adjust it ------------------------------------------------\n",
    "\n",
    "guidance_matrix = gtl.load_guidance_matrix()     # -using gtl library----------\n",
    "gtl.adjust_guidance_matrix(guidance_matrix, gtl.Focus.ZERO_ENFORCED_AND_NORMALIZED, gtl.Temp.WARM)\n",
    "gtl.scale_guidance_matrix(guidance_matrix, 2)    # -using gtl library----------"
   ]
  },
  {
   "cell_type": "code",
   "execution_count": 23,
   "id": "aff84044",
   "metadata": {
    "ExecuteTime": {
     "end_time": "2024-03-10T12:53:38.311961317Z",
     "start_time": "2024-03-10T12:53:38.197387262Z"
    }
   },
   "outputs": [
    {
     "name": "stdout",
     "output_type": "stream",
     "text": [
      "Epoch: 1 Loss: 0.47846797\n",
      "Epoch: 50 Loss: 0.3000664\n",
      "Epoch: 100 Loss: 0.13234517\n",
      "Epoch: 150 Loss: 0.055505194\n",
      "Epoch: 200 Loss: 0.06613903\n",
      "Epoch: 250 Loss: 0.019781351\n",
      "Epoch: 299 Loss: 0.046855066\n"
     ]
    }
   ],
   "source": [
    "# -------------------------------------------------------------------------------------------------------\n",
    "# --------------- Load the model and train it on XOR problem using guidance matrix ----------------------\n",
    "\n",
    "g_model = TinyModel().to(device)\n",
    "gtl.load_base(g_model)                          # -----------using gtl library to load the base model\n",
    "\n",
    "loss_vals_g = train_model(model=g_model, x=base_train_X2, y=base_train_Y2, epochs=299, guidance_matrix=guidance_matrix, lr = 0.01)"
   ]
  },
  {
   "cell_type": "code",
   "execution_count": 24,
   "id": "cb6096ee",
   "metadata": {
    "ExecuteTime": {
     "end_time": "2024-03-10T12:53:38.314722328Z",
     "start_time": "2024-03-10T12:53:38.312449964Z"
    }
   },
   "outputs": [
    {
     "name": "stdout",
     "output_type": "stream",
     "text": [
      "Perfect output:\n",
      " [[0.1 0.1]\n",
      " [1.  1. ]\n",
      " [1.  1. ]\n",
      " [0.1 0.1]]\n",
      "Actual output:\n",
      " [[0.10447475 0.11635074]\n",
      " [1.0185261  1.0184935 ]\n",
      " [1.0527573  1.0606009 ]\n",
      " [0.11164726 0.11720853]]\n",
      "\n",
      "Loss: 0.025007378\n"
     ]
    }
   ],
   "source": [
    "# --------------------------------------------------------------------------------------------------------------------\n",
    "# ----------------- Test the performance on the test data (the same as train data) -----------------------------------\n",
    "\n",
    "test_model(g_model, base_test_X2, base_test_Y2)"
   ]
  },
  {
   "cell_type": "code",
   "execution_count": 25,
   "id": "64dea237",
   "metadata": {
    "ExecuteTime": {
     "end_time": "2024-03-10T12:53:38.379571264Z",
     "start_time": "2024-03-10T12:53:38.317780441Z"
    }
   },
   "outputs": [
    {
     "data": {
      "text/plain": "<Figure size 640x480 with 1 Axes>",
      "image/png": "[encoded data removed]"
     },
     "metadata": {},
     "output_type": "display_data"
    }
   ],
   "source": [
    "# --------------------------------------------------------------------------------\n",
    "# ----------------- Compare the loss functions -----------------------------------\n",
    "\n",
    "plot_loss(values = [loss_vals_g, loss_vals_a], names = [ \"Guidance\", \"No guidance\"])\n",
    "\n",
    "\n",
    "# Note that for this problem, in which no generalization from train to test data is required,\n",
    "# a guiding matrix does not show an advantage (or shows negligible advantage). This is because\n",
    "# the function of a guiding matrix is primarily to act as a regularization technique that \n",
    "# prevents overfit with small training data sets, which is applicable to tasks that \n",
    "# require a model to generalize from train to test data.\n",
    "\n",
    "# The purpose of this simplification in the present demo is to facilitate user's learning on\n",
    "# how to apply the GTL library. "
   ]
  },
  {
   "cell_type": "markdown",
   "id": "f320d561",
   "metadata": {},
   "source": [
    "# Additional functions of the GTL library"
   ]
  },
  {
   "cell_type": "markdown",
   "id": "b45b513b",
   "metadata": {},
   "source": [
    "## Exploring the conents of models"
   ]
  },
  {
   "cell_type": "code",
   "execution_count": 26,
   "id": "76399b17",
   "metadata": {
    "ExecuteTime": {
     "end_time": "2024-03-10T12:53:38.384164109Z",
     "start_time": "2024-03-10T12:53:38.379539360Z"
    }
   },
   "outputs": [
    {
     "name": "stdout",
     "output_type": "stream",
     "text": [
      "[('linear1.weight', torch.Size([1000, 2])), ('linear1.bias', torch.Size([1000])), ('linear2.weight', torch.Size([250, 1000])), ('linear2.bias', torch.Size([250])), ('linear3.weight', torch.Size([2, 250])), ('linear3.bias', torch.Size([2]))]\n"
     ]
    }
   ],
   "source": [
    "model = TinyModel().to(device)\n",
    "gtl.load_base(model)             # ----------using gtl library to load a model \n",
    " \n",
    "print(gtl.list_params(model))  # ----using gtl library to list the names of parameters and dimensionality"
   ]
  },
  {
   "cell_type": "code",
   "execution_count": 27,
   "id": "c7afc5a0",
   "metadata": {
    "scrolled": true,
    "ExecuteTime": {
     "end_time": "2024-03-10T12:53:38.395173730Z",
     "start_time": "2024-03-10T12:53:38.384565535Z"
    }
   },
   "outputs": [
    {
     "name": "stdout",
     "output_type": "stream",
     "text": [
      "[tensor([[-0.1971,  0.0543],\n",
      "        [ 0.2954,  0.2111],\n",
      "        [ 0.2115, -0.2913]], device='cuda:0', grad_fn=<SliceBackward0>), tensor([ 0.5242, -0.3127, -0.0046], device='cuda:0', grad_fn=<SliceBackward0>), tensor([[ 0.0163,  0.0197, -0.0261,  ...,  0.0257, -0.0181, -0.0146],\n",
      "        [-0.0255,  0.0121, -0.0291,  ..., -0.0134,  0.0065,  0.0271],\n",
      "        [-0.0155,  0.0015, -0.0250,  ..., -0.0301,  0.0022, -0.0278]],\n",
      "       device='cuda:0', grad_fn=<SliceBackward0>), tensor([ 0.0131,  0.0193, -0.0008], device='cuda:0', grad_fn=<SliceBackward0>), tensor([[ 2.4020e-02,  2.4801e-03, -3.4409e-02,  1.7149e-02, -1.5907e-02,\n",
      "         -5.4030e-02, -4.4583e-02, -2.6649e-02,  1.3501e-02,  2.0000e-02,\n",
      "          3.9227e-03, -5.0046e-02,  1.7641e-02, -7.2423e-02,  1.8138e-02,\n",
      "          2.7781e-02, -3.1702e-02, -6.2054e-02,  7.0387e-02,  2.0699e-02,\n",
      "          3.4396e-02,  4.0050e-02,  4.3848e-02,  1.5216e-02, -1.2527e-02,\n",
      "          1.0113e-04, -2.2860e-02, -5.1308e-02,  4.2531e-02, -1.5785e-02,\n",
      "          2.6516e-02,  3.1728e-02, -4.5397e-02, -5.4064e-02,  4.7307e-02,\n",
      "         -9.9467e-03, -1.2054e-02, -3.5743e-02,  1.4598e-03,  2.4835e-02,\n",
      "          5.5227e-02, -2.7035e-02,  1.8997e-03, -2.9778e-02,  1.1592e-02,\n",
      "         -3.0053e-02,  5.8170e-02,  2.5599e-02, -5.9962e-02,  5.5586e-02,\n",
      "         -4.7414e-02,  9.5862e-02, -2.5732e-02, -2.4188e-02,  2.4290e-02,\n",
      "         -1.8400e-02,  5.1333e-02,  2.1017e-02,  1.6006e-02, -2.6632e-02,\n",
      "          3.3093e-02, -5.1398e-02, -4.2947e-02,  3.0960e-02, -4.1451e-02,\n",
      "         -1.0698e-02, -2.9480e-02,  3.1326e-02,  3.7528e-02,  3.7043e-02,\n",
      "          3.9547e-02,  2.2602e-02,  4.4395e-02, -3.7526e-02,  3.9079e-02,\n",
      "          1.8992e-02, -3.8363e-02, -2.5267e-02, -4.8844e-03, -5.5264e-02,\n",
      "          1.3857e-02, -4.4903e-02,  4.0084e-02, -5.6002e-02,  1.0039e-01,\n",
      "         -2.1486e-02,  3.7068e-02, -2.2690e-02, -2.5007e-02,  6.2351e-02,\n",
      "          3.7308e-02, -1.0978e-02, -4.4861e-02,  1.3460e-02, -2.9031e-02,\n",
      "         -4.1467e-02,  5.0766e-02,  1.8960e-03,  5.0112e-03, -4.8956e-02,\n",
      "         -2.3171e-02,  3.4835e-02, -3.4862e-02,  4.9041e-02,  5.8357e-03,\n",
      "         -7.6841e-02,  5.0232e-02,  9.2230e-03, -6.9425e-03, -3.3647e-02,\n",
      "         -2.4122e-02,  4.1037e-02,  6.7411e-02,  5.1249e-02,  6.0583e-02,\n",
      "         -4.6837e-02, -1.8102e-02,  3.8002e-02,  1.2715e-02,  4.1168e-02,\n",
      "          2.1062e-02, -4.2148e-03, -2.3969e-02,  3.2184e-02, -2.8507e-02,\n",
      "          1.1807e-02,  2.8579e-02,  5.4374e-02, -5.4867e-02, -3.8912e-02,\n",
      "         -7.3760e-02,  1.5094e-02, -5.0602e-02,  4.1663e-03, -5.4656e-02,\n",
      "         -2.1560e-02, -3.2332e-02, -3.5346e-02,  3.7060e-02,  2.5149e-02,\n",
      "          3.9560e-03, -1.1402e-02, -1.3809e-02,  9.0851e-03,  5.5381e-02,\n",
      "         -5.7636e-02, -6.5908e-02, -5.4627e-02,  6.8735e-02,  5.1465e-02,\n",
      "         -5.3002e-02, -1.5006e-03, -3.0839e-02, -1.1420e-02,  6.5735e-02,\n",
      "          2.5450e-02, -4.3021e-02, -1.0646e-02,  4.9044e-02, -5.9825e-02,\n",
      "         -1.5123e-02, -4.5091e-02, -1.6953e-02,  3.4544e-02, -3.2171e-02,\n",
      "          4.0133e-02, -2.1183e-02,  3.0358e-02, -3.8904e-02,  3.4423e-02,\n",
      "          7.2908e-03, -7.7611e-02,  1.8053e-02,  2.7302e-02,  6.2353e-02,\n",
      "         -5.2593e-02, -1.8368e-02,  1.5936e-02,  1.4340e-02, -6.0572e-02,\n",
      "          6.4599e-04, -3.6186e-02,  1.3692e-02,  4.6479e-02,  2.3830e-02,\n",
      "         -3.1038e-02, -3.0032e-02,  3.1759e-02,  5.4021e-02,  1.3247e-02,\n",
      "          9.7079e-03,  4.9335e-02,  2.9584e-02,  7.0214e-03,  2.0034e-02,\n",
      "          2.1651e-02, -6.9124e-02,  9.9507e-02,  1.4897e-02,  1.5195e-03,\n",
      "          4.8056e-02,  3.6679e-02, -5.9758e-02, -5.4487e-03, -5.6748e-02,\n",
      "         -5.2976e-02,  3.2775e-02, -3.7725e-02, -7.0516e-02,  4.2834e-02,\n",
      "          5.3244e-02,  3.8400e-02, -3.3524e-02, -4.7717e-02, -6.1770e-02,\n",
      "          4.0526e-02, -2.4555e-02, -4.9304e-02,  4.8263e-02, -8.3735e-03,\n",
      "          3.3371e-02,  1.4251e-02, -1.7932e-02,  3.6858e-02,  1.1777e-02,\n",
      "          9.1733e-03,  2.3245e-02, -3.1006e-02,  5.0198e-04,  9.2086e-03,\n",
      "         -5.7306e-02, -1.5794e-02, -5.6434e-02,  1.4095e-02,  2.7593e-02,\n",
      "          3.5878e-02, -4.9097e-02,  3.3234e-02, -1.8314e-02, -1.1177e-02,\n",
      "         -2.5725e-02,  1.3075e-02, -8.8607e-03, -4.4766e-02,  5.2726e-02,\n",
      "          2.9027e-02, -5.4751e-02,  2.3371e-02,  4.0655e-02,  8.9468e-03],\n",
      "        [-7.0831e-02, -4.7109e-02, -4.6575e-02, -1.7014e-02, -5.8864e-02,\n",
      "         -2.0647e-02, -4.7489e-02,  5.3367e-02,  3.0863e-03,  4.4073e-02,\n",
      "          6.7266e-03, -4.8438e-04, -5.0953e-02,  7.5583e-02,  1.2706e-02,\n",
      "          1.8968e-02,  6.1834e-02,  4.2575e-02, -6.1796e-02,  4.3804e-02,\n",
      "          3.6751e-02,  3.5548e-02, -5.4148e-02,  3.6562e-03, -4.1449e-02,\n",
      "         -3.4231e-02,  5.7724e-02, -1.4425e-02, -3.6217e-02,  6.3066e-02,\n",
      "          8.9141e-03,  1.3369e-03,  3.2615e-02,  4.7063e-02, -1.8462e-02,\n",
      "          5.5850e-02,  3.0064e-02,  4.4357e-02, -2.3691e-02,  9.1650e-03,\n",
      "          4.6333e-02,  3.3233e-02,  3.8272e-02,  1.1732e-03,  5.1254e-02,\n",
      "         -2.6252e-02, -7.4478e-02,  1.0295e-02, -3.5352e-02,  1.0969e-02,\n",
      "         -2.8025e-02, -5.7561e-02,  3.0316e-02, -4.2666e-02,  4.3129e-02,\n",
      "         -3.1617e-02,  2.2042e-02,  1.2548e-02, -2.1751e-02, -5.6721e-02,\n",
      "          4.3202e-02, -1.5844e-02,  5.8707e-02,  4.2707e-02, -1.0445e-03,\n",
      "          4.6990e-02,  2.4715e-02,  8.2043e-03,  9.5328e-03,  2.6569e-03,\n",
      "         -3.0133e-03,  3.1855e-02, -4.2499e-03,  2.6914e-02,  3.2188e-02,\n",
      "          1.6802e-02, -4.5430e-03,  4.4974e-02,  3.6702e-02, -3.5927e-02,\n",
      "         -3.3919e-02, -7.3588e-03,  6.0502e-02, -2.5179e-02, -8.9775e-02,\n",
      "          3.7532e-02,  5.9521e-02,  7.6852e-03, -7.6885e-03,  4.0091e-02,\n",
      "          4.3061e-02,  2.7651e-02, -3.1829e-03, -7.4622e-02, -1.0497e-02,\n",
      "         -4.1752e-03, -5.7994e-02, -4.3419e-02,  2.8512e-02, -3.9067e-02,\n",
      "         -4.6843e-02,  2.9844e-02,  5.0197e-02, -2.5738e-02,  1.5387e-02,\n",
      "          1.0351e-02,  2.8782e-02, -1.3698e-02,  6.1038e-02, -1.9174e-02,\n",
      "          1.5420e-02,  1.5757e-02, -6.9867e-02, -5.6840e-02,  4.4015e-02,\n",
      "         -3.8161e-02, -5.7430e-02, -6.1036e-02, -1.6965e-02,  6.2268e-04,\n",
      "         -6.9059e-03,  2.7787e-02,  6.0646e-02,  3.2194e-02,  4.4911e-02,\n",
      "         -3.4754e-02, -5.3203e-02,  2.6914e-02, -1.3732e-03, -3.4885e-02,\n",
      "          7.5080e-03,  5.7719e-02,  3.9542e-02,  2.3587e-02, -5.0388e-02,\n",
      "          5.8094e-02, -3.9019e-02,  3.1513e-03,  6.0076e-02, -5.6537e-02,\n",
      "          5.3560e-02,  6.0546e-02,  9.7953e-02,  5.4141e-02, -6.4263e-02,\n",
      "          1.6496e-02, -7.7534e-03,  3.2706e-02, -2.7982e-02,  4.8617e-02,\n",
      "          4.4221e-03, -3.0432e-02,  4.2298e-02, -5.8477e-02, -8.0483e-02,\n",
      "          2.8907e-02,  1.0254e-02,  2.6948e-02,  2.8207e-02,  3.5465e-03,\n",
      "         -3.1387e-02, -4.7151e-02, -1.9608e-02,  5.7776e-02,  4.9565e-02,\n",
      "          7.3574e-03, -1.1060e-02,  2.3820e-02,  1.5949e-03,  1.8684e-02,\n",
      "          4.3342e-02,  4.9227e-02, -3.0676e-02, -1.5458e-03, -2.3540e-02,\n",
      "         -3.3041e-02, -1.4817e-02, -6.1946e-02, -5.4345e-02, -1.9758e-02,\n",
      "          5.1481e-02, -4.6538e-02,  1.7536e-02, -2.9167e-03,  4.6277e-03,\n",
      "         -2.4943e-02, -5.2975e-02,  3.6915e-02,  3.6195e-02, -8.3958e-03,\n",
      "          7.9177e-02,  4.5748e-02, -2.1994e-02,  3.2657e-02,  5.3045e-03,\n",
      "          4.3720e-02,  1.4843e-02, -7.8852e-02,  6.6261e-02,  1.3716e-02,\n",
      "          3.3600e-02, -1.5053e-02,  4.2410e-02,  1.5554e-02,  4.4690e-02,\n",
      "          1.6406e-02,  2.5876e-02,  3.8528e-03,  1.9143e-02,  2.6410e-02,\n",
      "          1.4230e-02, -5.5522e-02,  1.5600e-02,  2.1580e-02, -2.9821e-02,\n",
      "         -3.2974e-02,  3.5254e-03,  3.5041e-02,  1.0891e-02, -2.4589e-02,\n",
      "          5.3615e-02, -4.7787e-02,  7.4492e-02,  3.7332e-02,  2.3990e-02,\n",
      "          2.7012e-03, -3.0551e-03,  4.0579e-02,  6.5815e-02, -3.9522e-02,\n",
      "         -5.6885e-02,  7.1746e-02,  3.9367e-03,  3.3425e-02,  2.7463e-02,\n",
      "          5.6962e-02,  3.9524e-02,  5.6574e-02,  4.3428e-03,  9.4642e-02,\n",
      "         -1.6020e-02,  5.7154e-02, -2.7126e-02, -2.2566e-02, -5.4540e-05,\n",
      "         -3.0204e-02, -2.1830e-02,  1.7348e-02,  3.4275e-02, -2.6211e-02]],\n",
      "       device='cuda:0', grad_fn=<SliceBackward0>), tensor([ 0.2740, -0.0039], device='cuda:0', grad_fn=<SliceBackward0>)]\n"
     ]
    }
   ],
   "source": [
    "\n",
    "print(gtl.get_param_values(model, 3)) # ----using gtl library to list the first few values of the model parameters\n",
    "\n",
    "# Another handy function to print the few values of each parameter name to monitor changes in values"
   ]
  },
  {
   "cell_type": "markdown",
   "id": "a5d40f9d",
   "metadata": {},
   "source": [
    "## Scouts and guidance matrices"
   ]
  },
  {
   "cell_type": "markdown",
   "id": "6a29dc9f",
   "metadata": {},
   "source": [
    "### Creating scout indexes using ranges "
   ]
  },
  {
   "cell_type": "code",
   "execution_count": 28,
   "id": "8cc87aee",
   "metadata": {
    "ExecuteTime": {
     "end_time": "2024-03-10T12:53:40.387052366Z",
     "start_time": "2024-03-10T12:53:40.381491624Z"
    }
   },
   "outputs": [
    {
     "name": "stdout",
     "output_type": "stream",
     "text": [
      "A: [[1, 3, 12], [7, 8, 9, 10], [3, 4, 5, 6, 7, 8, 22, 28]]\n",
      "B: [[1, 3, 12], [7, 8, 9, 10], [3, 4, 5, 6, 7, 8, 22, 28]]\n",
      "C: [[1, 3, 12], [7, 8, 9, 10], [3, 4, 5, 6, 7, 8, 22, 28]]\n"
     ]
    }
   ],
   "source": [
    "# The above approach can be confusing due to the need to enter i+1. For that reason, \n",
    "# GTL library allows one more possibility  \n",
    "# enter the exact start and end... \n",
    "                \n",
    "# -----------------------------using gtl library-----------------------------------------\n",
    "#Let us say we have the following list of indexes to form three scouts:\n",
    "\n",
    "scout_indexes_A = [[1,3,12],                          # scout_1\n",
    "                   [7,8,9,10],                        # scout_2\n",
    "                   [3,4,5,6,7,8,22,28]]               # scout_3\n",
    "                   \n",
    "# One can notice that some of the indexes are consecutive e.g., 7 to 10 and 3 to 8. \n",
    "# Entering manually long sequences of consecutive numbers can be impractical.\n",
    "# It is more practical to enter just the beginning and the end of a list.\n",
    "# Python function list() and range() can be helpful to simplify entering the list \n",
    "# for scout_2: \n",
    "#     list(range(7, 11)\n",
    "# However, this does not allow simplifying scout_3, which combines a consecutive sequence \n",
    "# with two non-consecutive numbers (a sequence 3 to 8 followed by 22 and 28).\n",
    "\n",
    "# To facilitate specifying indexes for scouts consisting of a mixture of consecutive\n",
    "# and non-consecutive number sequences, gtl library offers two possibilities.\n",
    "\n",
    "# 1) Specify the beginning and the end of a consecutive sequence list using sub-lists of length one:\n",
    "\n",
    "scout_indexes_B = [[1,3,12],                   # scout_1\n",
    "                   [[7],[10]],                 # scout_2\n",
    "                   [[3],[8],22,28]]            # scout_3\n",
    "\n",
    "# After that call gtl.expand_scout_indexes() to expand the list\n",
    "\n",
    "scout_indexes_B = gtl.expand_scout_indexes(scout_indexes_B)\n",
    "\n",
    "# This will produce the idential result and entering the values manually.\n",
    "\n",
    "print(\"A:\", scout_indexes_A)\n",
    "print(\"B:\", scout_indexes_B)\n",
    "\n",
    "\n",
    "# 2) If number 1 does not provide sufficient clarity of feels non-pythonic, it is possible to specify\n",
    "#    the beginning and the end of a consecutive sequence list using a helper function gtl.c():\n",
    "\n",
    "scout_indexes_C = [[1,3,12],                       # scout_1\n",
    "                   [gtl.c(7), gtl.c(10)],          # scout_2\n",
    "                   [gtl.c(3), gtl.c(8), 22,28]]    # scout_3\n",
    "\n",
    "# which will produce idential results as the above approache\n",
    "\n",
    "scout_indexes_C = gtl.expand_scout_indexes(scout_indexes_C)\n",
    "print(\"C:\", scout_indexes_C)\n"
   ]
  },
  {
   "cell_type": "markdown",
   "id": "7fd68fae",
   "metadata": {},
   "source": [
    "### Inspecting the guidance matrix"
   ]
  },
  {
   "cell_type": "code",
   "execution_count": 29,
   "id": "f60e2c66",
   "metadata": {
    "ExecuteTime": {
     "end_time": "2024-03-10T12:53:45.835224436Z",
     "start_time": "2024-03-10T12:53:45.803445165Z"
    }
   },
   "outputs": [],
   "source": [
    "# Load a guidance matrix\n",
    "guidance_matrix = gtl.load_guidance_matrix()        # ----------using gtl library----------"
   ]
  },
  {
   "cell_type": "code",
   "execution_count": 30,
   "id": "f7eb5a55",
   "metadata": {
    "ExecuteTime": {
     "end_time": "2024-03-10T12:53:45.878730289Z",
     "start_time": "2024-03-10T12:53:45.818490789Z"
    }
   },
   "outputs": [
    {
     "name": "stdout",
     "output_type": "stream",
     "text": [
      "{'linear1.weight': tensor([[0.5193, 0.5242],\n",
      "        [0.5041, 0.5481],\n",
      "        [0.5051, 0.5867],\n",
      "        ...,\n",
      "        [0.6625, 0.5087],\n",
      "        [0.5097, 0.5149],\n",
      "        [0.5027, 0.5519]], device='cuda:0'), 'linear1.bias': tensor([0.5038, 0.5041], device='cuda:0'), 'linear2.weight': tensor([[0.5054, 0.5224],\n",
      "        [0.5035, 0.5052],\n",
      "        [0.5691, 0.5053],\n",
      "        [0.5089, 0.5000],\n",
      "        [0.6661, 0.5141],\n",
      "        [0.6141, 0.8758],\n",
      "        [0.5027, 0.7033],\n",
      "        [0.6060, 0.5725],\n",
      "        [0.5202, 0.6014],\n",
      "        [0.5057, 0.5000],\n",
      "        [0.5620, 0.5736],\n",
      "        [0.5045, 0.5270],\n",
      "        [0.5359, 0.5897],\n",
      "        [0.5611, 0.5445],\n",
      "        [0.5026, 0.5754],\n",
      "        [0.5001, 0.5049],\n",
      "        [0.5295, 0.5287],\n",
      "        [0.5924, 0.5496],\n",
      "        [0.5068, 0.5277],\n",
      "        [0.5038, 0.5372],\n",
      "        [0.7865, 0.5390],\n",
      "        [0.5010, 0.5024],\n",
      "        [0.6493, 0.5395],\n",
      "        [0.7074, 0.7236],\n",
      "        [0.5384, 0.5435],\n",
      "        [0.5300, 0.5008],\n",
      "        [0.5841, 0.5794],\n",
      "        [0.5073, 0.5026],\n",
      "        [0.6611, 0.5315],\n",
      "        [0.5078, 0.5268],\n",
      "        [0.5653, 0.6790],\n",
      "        [0.5161, 0.5514],\n",
      "        [0.6039, 0.5110],\n",
      "        [0.5547, 0.5196],\n",
      "        [0.5942, 0.5081],\n",
      "        [0.5047, 0.6091],\n",
      "        [0.5003, 0.5968],\n",
      "        [0.6511, 0.5177],\n",
      "        [0.5000, 0.5196],\n",
      "        [0.5300, 0.5064],\n",
      "        [0.6020, 0.5006],\n",
      "        [0.5057, 0.5143],\n",
      "        [0.5034, 0.6086],\n",
      "        [0.5005, 0.5393],\n",
      "        [0.5126, 0.5185],\n",
      "        [0.5111, 0.5175],\n",
      "        [0.5001, 0.5031],\n",
      "        [0.5004, 0.5040],\n",
      "        [0.5046, 0.5755],\n",
      "        [0.5343, 0.5805],\n",
      "        [0.5837, 0.5290],\n",
      "        [0.5573, 0.5080],\n",
      "        [0.5349, 0.5573],\n",
      "        [0.5763, 0.6196],\n",
      "        [0.5159, 0.5570],\n",
      "        [0.5045, 0.5681],\n",
      "        [0.5056, 0.5012],\n",
      "        [0.5223, 0.5004],\n",
      "        [0.6335, 0.5415],\n",
      "        [0.5599, 0.5006],\n",
      "        [0.5621, 0.5246],\n",
      "        [0.6779, 0.5055],\n",
      "        [0.5386, 0.5182],\n",
      "        [0.5946, 0.5008],\n",
      "        [0.6010, 0.5136],\n",
      "        [0.5561, 0.5451],\n",
      "        [0.7100, 0.6543],\n",
      "        [0.5618, 0.5448],\n",
      "        [0.5998, 0.5155],\n",
      "        [0.5345, 0.6830],\n",
      "        [0.5120, 0.6130],\n",
      "        [0.5495, 0.5152],\n",
      "        [0.7576, 0.5080],\n",
      "        [0.6173, 0.5018],\n",
      "        [0.5051, 0.5227],\n",
      "        [0.7561, 0.6080],\n",
      "        [0.5787, 0.5006],\n",
      "        [0.5001, 0.5408],\n",
      "        [0.7673, 0.5017],\n",
      "        [0.5066, 0.5071],\n",
      "        [0.5004, 0.5137],\n",
      "        [0.6534, 0.5031],\n",
      "        [0.6679, 0.7496],\n",
      "        [0.6337, 0.5020],\n",
      "        [0.5050, 0.5582],\n",
      "        [0.5384, 0.6363],\n",
      "        [0.6612, 0.6449],\n",
      "        [0.5024, 0.6164],\n",
      "        [0.5232, 0.6205],\n",
      "        [0.5000, 0.5394],\n",
      "        [0.6306, 0.5004],\n",
      "        [0.5526, 0.6006],\n",
      "        [0.5390, 0.5572],\n",
      "        [0.5013, 0.6067],\n",
      "        [0.7873, 0.5302],\n",
      "        [0.5117, 0.5062],\n",
      "        [0.6527, 0.5130],\n",
      "        [0.5298, 0.5021],\n",
      "        [0.6612, 0.5524],\n",
      "        [0.5046, 0.5041],\n",
      "        [0.5719, 0.7135],\n",
      "        [0.5010, 0.5005],\n",
      "        [0.5102, 0.5021],\n",
      "        [0.5894, 0.5499],\n",
      "        [0.6446, 0.5269],\n",
      "        [0.5074, 0.5858],\n",
      "        [0.5042, 0.6040],\n",
      "        [0.5000, 0.5049],\n",
      "        [0.5433, 0.6715],\n",
      "        [0.5319, 0.5005],\n",
      "        [0.7082, 0.5046],\n",
      "        [0.5118, 0.6628],\n",
      "        [0.5448, 0.6338],\n",
      "        [0.5025, 0.5930],\n",
      "        [0.5002, 0.6535],\n",
      "        [0.5063, 0.5012],\n",
      "        [0.5705, 0.5132],\n",
      "        [0.5069, 0.5000],\n",
      "        [0.5941, 0.5041],\n",
      "        [0.5002, 0.6922],\n",
      "        [0.5123, 0.6084],\n",
      "        [0.5066, 0.5942],\n",
      "        [0.5045, 0.5677],\n",
      "        [0.5001, 0.5192],\n",
      "        [0.5149, 0.5010],\n",
      "        [0.5103, 0.5428],\n",
      "        [0.6502, 0.7365],\n",
      "        [0.5066, 0.5007],\n",
      "        [0.5013, 0.5040],\n",
      "        [0.5002, 0.8325],\n",
      "        [0.5090, 0.5439],\n",
      "        [0.5024, 0.5329],\n",
      "        [0.5380, 0.5012],\n",
      "        [0.5343, 0.5145],\n",
      "        [0.5027, 0.5184],\n",
      "        [0.6542, 0.5536],\n",
      "        [0.6383, 0.5007],\n",
      "        [0.5051, 0.7359],\n",
      "        [0.5346, 0.5551],\n",
      "        [0.5114, 0.5243],\n",
      "        [0.5227, 0.7398],\n",
      "        [0.5126, 0.6794],\n",
      "        [0.6747, 0.6216],\n",
      "        [0.5237, 0.5011],\n",
      "        [0.6132, 0.5198],\n",
      "        [0.5000, 0.5011],\n",
      "        [0.5061, 0.5852],\n",
      "        [0.5341, 0.5005],\n",
      "        [0.6459, 0.5149],\n",
      "        [0.5817, 0.6791],\n",
      "        [0.5103, 0.5024],\n",
      "        [0.6578, 0.5039],\n",
      "        [0.6073, 0.5174],\n",
      "        [0.5591, 0.5248],\n",
      "        [0.5168, 0.5087],\n",
      "        [0.6801, 0.5629],\n",
      "        [0.5846, 0.5132],\n",
      "        [0.5693, 0.5170],\n",
      "        [0.5026, 0.5032],\n",
      "        [0.5295, 0.5080],\n",
      "        [0.5003, 0.5000],\n",
      "        [0.6784, 0.6774],\n",
      "        [0.5097, 0.5733],\n",
      "        [0.6087, 0.6554],\n",
      "        [0.5246, 0.5574],\n",
      "        [0.5364, 0.5028],\n",
      "        [0.5017, 0.5035],\n",
      "        [0.5003, 0.5252],\n",
      "        [0.7807, 0.5003],\n",
      "        [0.6304, 0.5004],\n",
      "        [0.7052, 0.5279],\n",
      "        [0.8096, 0.6889],\n",
      "        [0.5047, 0.6372],\n",
      "        [0.6689, 0.5340],\n",
      "        [0.7133, 0.5132],\n",
      "        [0.6284, 0.8145],\n",
      "        [0.5639, 0.5003],\n",
      "        [0.5512, 0.5554],\n",
      "        [0.5869, 0.5874],\n",
      "        [0.6080, 0.6974],\n",
      "        [0.5179, 0.5542],\n",
      "        [0.6936, 0.5051],\n",
      "        [0.5956, 0.5047],\n",
      "        [0.5076, 0.5021],\n",
      "        [0.5007, 0.5001],\n",
      "        [0.6892, 0.5000],\n",
      "        [0.6456, 0.5065],\n",
      "        [0.5104, 0.5351],\n",
      "        [0.5159, 0.5065],\n",
      "        [0.5304, 0.5255],\n",
      "        [0.5004, 0.6888],\n",
      "        [0.5123, 0.5021],\n",
      "        [0.5086, 0.5271],\n",
      "        [0.6127, 0.5028],\n",
      "        [0.5633, 0.5148],\n",
      "        [0.5004, 0.5012],\n",
      "        [0.5169, 0.5304],\n",
      "        [0.5171, 0.5655],\n",
      "        [0.5170, 0.5366],\n",
      "        [0.7883, 0.6617],\n",
      "        [0.5864, 0.6850],\n",
      "        [0.7173, 0.5570],\n",
      "        [0.5038, 0.5809],\n",
      "        [0.5018, 0.7768],\n",
      "        [0.5499, 0.5609],\n",
      "        [0.5715, 0.5306],\n",
      "        [0.6063, 0.7547],\n",
      "        [0.5001, 0.7694],\n",
      "        [0.5444, 0.5214],\n",
      "        [0.5649, 0.8836],\n",
      "        [0.5900, 0.5249],\n",
      "        [0.6015, 0.5832],\n",
      "        [0.5209, 0.5014],\n",
      "        [0.5237, 0.5204],\n",
      "        [0.5787, 0.7681],\n",
      "        [0.6557, 0.5176],\n",
      "        [0.5434, 0.5009],\n",
      "        [0.5830, 0.5792],\n",
      "        [0.5236, 0.5120],\n",
      "        [0.5783, 0.5631],\n",
      "        [0.5009, 0.5112],\n",
      "        [0.5009, 0.7320],\n",
      "        [0.7115, 0.5816],\n",
      "        [0.5002, 0.5743],\n",
      "        [0.5032, 0.5589],\n",
      "        [0.6231, 0.5092],\n",
      "        [0.5728, 0.6112],\n",
      "        [0.6627, 0.5609],\n",
      "        [0.5680, 0.5088],\n",
      "        [0.5060, 0.5028],\n",
      "        [0.5150, 0.5033],\n",
      "        [0.5095, 0.5365],\n",
      "        [0.7338, 0.7446],\n",
      "        [0.5723, 0.5011],\n",
      "        [0.5056, 0.5001],\n",
      "        [0.6412, 0.5015],\n",
      "        [0.5183, 0.5200],\n",
      "        [0.7592, 0.7131],\n",
      "        [0.5906, 0.5311],\n",
      "        [0.5155, 0.5092],\n",
      "        [0.5988, 0.5291],\n",
      "        [0.5072, 0.7695],\n",
      "        [0.5133, 0.5334],\n",
      "        [0.5867, 0.7188],\n",
      "        [0.7631, 0.5170],\n",
      "        [0.5147, 0.5435],\n",
      "        [0.5105, 0.5011],\n",
      "        [0.6197, 0.5031],\n",
      "        [0.5235, 0.5361],\n",
      "        [0.5391, 0.5762]], device='cuda:0'), 'linear2.bias': tensor([0.5540, 0.5163], device='cuda:0'), 'linear3.weight': tensor([[0.5011, 0.5054],\n",
      "        [0.6301, 0.6111]], device='cuda:0'), 'linear3.bias': tensor([1.0000, 0.5000], device='cuda:0')}\n"
     ]
    }
   ],
   "source": [
    "# Use get_guide_values() to print some of the values in guidance matrix\n",
    "print(gtl.get_guidance_values(guidance_matrix))     # ----------using gtl library"
   ]
  },
  {
   "cell_type": "code",
   "execution_count": 31,
   "id": "63389603",
   "metadata": {
    "ExecuteTime": {
     "end_time": "2024-03-10T12:53:45.917751367Z",
     "start_time": "2024-03-10T12:53:45.867709230Z"
    }
   },
   "outputs": [
    {
     "data": {
      "text/plain": "<Figure size 640x480 with 1 Axes>",
      "image/png": "[encoded data removed]"
     },
     "metadata": {},
     "output_type": "display_data"
    }
   ],
   "source": [
    "# A GTL function to plot the distribution of values in the guidance matrix\n",
    "gtl.plot_guidance_distribution(guidance_matrix, name=\"linear1.weight\")    # ----------using gtl library\n"
   ]
  },
  {
   "cell_type": "code",
   "execution_count": 32,
   "id": "4127c78f",
   "metadata": {
    "scrolled": false,
    "ExecuteTime": {
     "end_time": "2024-03-10T12:53:46.035831215Z",
     "start_time": "2024-03-10T12:53:45.917708967Z"
    }
   },
   "outputs": [
    {
     "data": {
      "text/plain": "<Figure size 640x480 with 1 Axes>",
      "image/png": "[encoded data removed]"
     },
     "metadata": {},
     "output_type": "display_data"
    }
   ],
   "source": [
    "gtl.plot_guidance_distribution(guidance_matrix, name=\"linear1.bias\")    # ----------using gtl library"
   ]
  },
  {
   "cell_type": "markdown",
   "id": "9133ca53",
   "metadata": {},
   "source": [
    "### Adjusting guidance matrix"
   ]
  },
  {
   "cell_type": "code",
   "execution_count": 33,
   "id": "7da56671",
   "metadata": {
    "ExecuteTime": {
     "end_time": "2024-03-10T12:53:46.080208165Z",
     "start_time": "2024-03-10T12:53:46.035041358Z"
    }
   },
   "outputs": [
    {
     "data": {
      "text/plain": "{'linear1.weight': tensor([[1.0386, 1.0483],\n         [1.0081, 1.0961],\n         [1.0101, 1.1734],\n         ...,\n         [1.3250, 1.0173],\n         [1.0194, 1.0299],\n         [1.0055, 1.1039]], device='cuda:0'),\n 'linear1.bias': tensor([1.0076, 1.0081, 1.2292, 1.4265, 1.0001, 1.3982, 1.0744, 1.0252, 1.0041,\n         1.0111, 1.0502, 1.1236, 1.1501, 1.0029, 1.2743, 1.4282, 1.0874, 1.1196,\n         1.2204, 1.1893, 1.2031, 1.0284, 1.0271, 1.0005, 1.0649, 1.3786, 1.8288,\n         1.0107, 1.0310, 1.1029, 1.0172, 1.0018, 1.0703, 1.8871, 1.0034, 1.0008,\n         1.4871, 1.0955, 1.1585, 1.1822, 1.0392, 1.0005, 1.2000, 1.1384, 1.3683,\n         1.1888, 1.0015, 1.1394, 1.0101, 1.1181, 1.0754, 1.1518, 1.3993, 1.4607,\n         1.0072, 1.0097, 1.0013, 1.1799, 1.0520, 1.4954, 1.8743, 1.0028, 1.4213,\n         1.0081, 1.2910, 1.7145, 1.2151, 1.1660, 1.1412, 1.0215, 1.0105, 1.1881,\n         1.6650, 1.0558, 1.1607, 1.6588, 1.3953, 1.0632, 1.3255, 1.0061, 1.5073,\n         1.1885, 1.0911, 1.0679, 1.0250, 1.0319, 1.0081, 1.0052, 1.0036, 1.0190,\n         1.0382, 1.0289, 1.2592, 1.0490, 1.0092, 1.0114, 1.2523, 1.0042, 1.0103,\n         1.0626, 1.0157, 1.0283, 1.0966, 1.2514, 1.0002, 1.0001, 1.0277, 1.1876,\n         1.3002, 1.1330, 1.0064, 1.3044, 1.0216, 1.0108, 1.5185, 1.1972, 1.0561,\n         1.0021, 1.0900, 1.0049, 1.2177, 1.0059, 1.1903, 1.3230, 1.1298, 1.0000,\n         1.0204, 1.0194, 1.1551, 1.3763, 1.8122, 1.0837, 1.7665, 1.7136, 1.8891,\n         1.2256, 1.1086, 1.0142, 1.0394, 1.0074, 1.1176, 1.3820, 1.1168, 1.0099,\n         1.1846, 1.0224, 1.0213, 1.1906, 1.3652, 1.0001, 1.2401, 1.6443, 1.0559,\n         1.0007, 1.1332, 1.0177, 1.6253, 1.2595, 1.9033, 1.0944, 1.0907, 1.0598,\n         1.0510, 1.2412, 1.0503, 1.0127, 1.0463, 1.2291, 1.1241, 1.4270, 1.0805,\n         1.0624, 1.3745, 1.0387, 1.0203, 1.4009, 1.0000, 1.4915, 1.0029, 1.0907,\n         1.2179, 1.1104, 1.0241, 1.2291, 1.6691, 1.2398, 1.1455, 1.5354, 1.0226,\n         1.5498, 1.2077, 1.0619, 1.0471, 1.6366, 1.3320, 1.0380, 1.0985, 1.0311,\n         1.2200, 1.1659, 1.0425, 1.0174, 1.0383, 1.0148, 1.0312, 1.4143, 1.0037,\n         1.2299, 1.0679, 1.0000, 1.1469, 1.1041, 1.0113, 1.0269, 1.0973, 1.4238,\n         1.0820, 1.1854, 1.0035, 1.2002, 1.0118, 1.0023, 1.1491, 1.2181, 1.0033,\n         1.1368, 1.0534, 1.6336, 1.1799, 1.1573, 1.4919, 1.0311, 1.1820, 1.0342,\n         1.3985, 1.5182, 1.0159, 1.0054, 1.2420, 1.2811, 1.3520, 1.0007, 1.8008,\n         1.2135, 1.4425, 1.2059, 1.0525, 1.0309, 1.0017, 1.3221, 1.7984, 1.8248,\n         1.2855, 1.3992, 1.2268, 1.0201, 1.0353, 1.2311, 1.0025, 1.1643, 1.4081,\n         1.0022, 1.1958, 1.0062, 1.0159, 1.4822, 1.0167, 1.1002, 1.0355, 1.1387,\n         1.0191, 1.1879, 1.0020, 1.0030, 1.0193, 1.0013, 1.1920, 1.5713, 1.2801,\n         1.0487, 1.3570, 1.2986, 1.1076, 1.1200, 1.0148, 1.2592, 1.0682, 1.0220,\n         1.2624, 1.4088, 1.3888, 1.0213, 1.3518, 1.0543, 1.5294, 1.0936, 1.5284,\n         1.9318, 1.0181, 1.0400, 1.0747, 1.2325, 1.0237, 1.0525, 1.0132, 1.0196,\n         1.6349, 1.4697, 1.1341, 1.2518, 1.3193, 1.0734, 1.1171, 1.0063, 1.0249,\n         1.0220, 1.0000, 1.2160, 1.0002, 1.5286, 1.2849, 1.0088, 1.0623, 1.5904,\n         1.0530, 1.6786, 1.0014, 1.0385, 1.3722, 1.2741, 1.5557, 1.0081, 1.0900,\n         1.0640, 1.0001, 1.4539, 1.1229, 1.0521, 1.0078, 1.3250, 1.3378, 1.4668,\n         1.0825, 1.0372, 1.7405, 1.2866, 1.2251, 1.8986, 1.0298, 1.3723, 1.0653,\n         1.0103, 1.0050, 1.0592, 1.1191, 1.0309, 1.0094, 1.1611, 1.0468, 1.0979,\n         1.1431, 1.0555, 1.0205, 1.0719, 1.0600, 1.1140, 1.9391, 1.0357, 1.6330,\n         1.0131, 1.2097, 1.3333, 1.3290, 1.0007, 1.1059, 1.0098, 1.2235, 1.4391,\n         1.3574, 1.1067, 1.0122, 1.0015, 1.0474, 1.1177, 1.0147, 1.0514, 1.0538,\n         1.1620, 1.0587, 1.1135, 1.0470, 1.0011, 1.0312, 1.1596, 1.0477, 1.0858,\n         1.0004, 1.1101, 1.1010, 1.0027, 1.0001, 1.3827, 1.0756, 1.0055, 1.1193,\n         1.0187, 1.4073, 1.0077, 1.0778, 1.5731, 1.0224, 1.1851, 1.3322, 1.0613,\n         1.5587, 1.0015, 1.0319, 1.0558, 1.1381, 1.1863, 1.1491, 1.2265, 1.0062,\n         1.1639, 1.0000, 1.2484, 1.1125, 1.0188, 1.1035, 1.0001, 1.1523, 1.0138,\n         1.0641, 1.0659, 1.0148, 1.0721, 1.0799, 1.5743, 1.2713, 1.0061, 1.2006,\n         1.0005, 1.3277, 1.0017, 1.0428, 1.1940, 1.3255, 1.0207, 1.3338, 1.0166,\n         1.1422, 1.5631, 1.3347, 1.0110, 1.0526, 1.1190, 1.0252, 1.0943, 1.0015,\n         1.0089, 1.0002, 1.3422, 1.0140, 1.0903, 1.2372, 1.4828, 1.0257, 1.0082,\n         1.0013, 1.1361, 1.4369, 1.0022, 1.0537, 1.6100, 1.0023, 1.1495, 1.0219,\n         1.7583, 1.2045, 1.0100, 1.0189, 1.6517, 1.0586, 1.0000, 1.5263, 1.5202,\n         1.0700, 1.0088, 1.0013, 1.3731, 1.1239, 1.5043, 1.2426, 1.2941, 1.0384,\n         1.0696, 1.0227, 1.0779, 1.0691, 1.0051, 1.1044, 1.1082, 1.0030, 1.1149,\n         1.3514, 1.0967, 2.0000, 1.0207, 1.1240, 1.0615, 1.1501, 1.2493, 1.5618,\n         1.2837, 1.0126, 1.4800, 1.0055, 1.0779, 1.0093, 1.5602, 1.0028, 1.0193,\n         1.0067, 1.2456, 1.0331, 1.1135, 1.2028, 1.1958, 1.0142, 1.0612, 1.6057,\n         1.0446, 1.0003, 1.1209, 1.0614, 1.2733, 1.2387, 1.0459, 1.5176, 1.3940,\n         1.0522, 1.0002, 1.0430, 1.4089, 1.0006, 1.5596, 1.0639, 1.0790, 1.5019,\n         1.6343, 1.0611, 1.0395, 1.1299, 1.0203, 1.3948, 1.0283, 1.0339, 1.0013,\n         1.4394, 1.0170, 1.0055, 1.0817, 1.0386, 1.0057, 1.3791, 1.0044, 1.0851,\n         1.0524, 1.4021, 1.3902, 1.1119, 1.0036, 1.9550, 1.0887, 1.3142, 1.0498,\n         1.1586, 1.5062, 1.0826, 1.1671, 1.1190, 1.2866, 1.0795, 1.6266, 1.1682,\n         1.0958, 1.0715, 1.1790, 1.0766, 1.2283, 1.0003, 1.1234, 1.0882, 1.0048,\n         1.0240, 1.0051, 1.0077, 1.4955, 1.0228, 1.0383, 1.0017, 1.8935, 1.0011,\n         1.4517, 1.0207, 1.0759, 1.0849, 1.0040, 1.0405, 1.0482, 1.2424, 1.3174,\n         1.1738, 1.0302, 1.1874, 1.2602, 1.2554, 1.9259, 1.0007, 1.5596, 1.2533,\n         1.5351, 1.5930, 1.1112, 1.0008, 1.3404, 1.7153, 1.0287, 1.3224, 1.1007,\n         1.0995, 1.0198, 1.0131, 1.6083, 1.0595, 1.0334, 1.5050, 1.0439, 1.0015,\n         1.3266, 1.1576, 1.0024, 1.0333, 1.1681, 1.1747, 1.0034, 1.0017, 1.3806,\n         1.0618, 1.1035, 1.1090, 1.1459, 1.2451, 1.0248, 1.1057, 1.0112, 1.1304,\n         1.0936, 1.0160, 1.0741, 1.1067, 1.0149, 1.3646, 1.2591, 1.6025, 1.0077,\n         1.0914, 1.0042, 1.4587, 1.6055, 1.6953, 1.0021, 1.2683, 1.0084, 1.1794,\n         1.1795, 1.1117, 1.2302, 1.5384, 1.1117, 1.0681, 1.0928, 1.0645, 1.9240,\n         1.5231, 1.0361, 1.4605, 1.0083, 1.1278, 1.0000, 1.0613, 1.7393, 1.0003,\n         1.0880, 1.0121, 1.3539, 1.1097, 1.1218, 1.1393, 1.0182, 1.0462, 1.0267,\n         1.4686, 1.1129, 1.2771, 1.1866, 1.0831, 1.0593, 1.2610, 1.1448, 1.0509,\n         1.0260, 1.0116, 1.3799, 1.0205, 1.2024, 1.4200, 1.4441, 1.0732, 1.0777,\n         1.0877, 1.5009, 1.1109, 1.3175, 1.0033, 1.1637, 1.4942, 1.0002, 1.3584,\n         1.0054, 1.0047, 1.0061, 1.0010, 1.0488, 1.0350, 1.3028, 1.0003, 1.1136,\n         1.4060, 1.3603, 1.0366, 1.0303, 1.1838, 1.0000, 1.0371, 1.8357, 1.0001,\n         1.0014, 1.0363, 1.0043, 1.0402, 1.1636, 1.5395, 1.0526, 1.0614, 1.4280,\n         1.0074, 1.0757, 1.1988, 1.3021, 1.0363, 1.5089, 1.1930, 1.0279, 1.0226,\n         1.0133, 1.0065, 1.5938, 1.2390, 1.0041, 1.8491, 1.5569, 1.0186, 1.0111,\n         1.0075, 1.0009, 1.0013, 1.0572, 1.1990, 1.7744, 1.1541, 1.1146, 1.2882,\n         1.6824, 1.4786, 1.0003, 1.0378, 1.0028, 1.0088, 1.3712, 1.0014, 1.0616,\n         1.0141, 1.1586, 1.4198, 1.2533, 1.0206, 1.0899, 1.1013, 1.0010, 1.0000,\n         1.1197, 1.0710, 1.0001, 1.0345, 1.5064, 1.2282, 1.5000, 1.3080, 1.0659,\n         1.1454, 1.1839, 1.0001, 1.5198, 1.2375, 1.5798, 1.0051, 1.3009, 1.1638,\n         1.5126, 1.0249, 1.0470, 1.0356, 1.0942, 1.0683, 1.1703, 1.0411, 1.7199,\n         1.1825, 1.1254, 1.0033, 1.4758, 1.4661, 1.1591, 1.2654, 1.4385, 1.4331,\n         1.8622, 1.5338, 1.1548, 1.0252, 1.0983, 1.0860, 1.0006, 1.1328, 1.2702,\n         1.0536, 1.4290, 1.3989, 1.8750, 1.4365, 1.0820, 1.6158, 1.0558, 1.5032,\n         1.0984, 1.3986, 1.1669, 1.4625, 1.1570, 1.1085, 1.0058, 1.1344, 1.0691,\n         1.4789, 1.8485, 1.0760, 1.1532, 1.0632, 1.4532, 1.0503, 1.5264, 1.4310,\n         1.4657, 1.0279, 1.0053, 1.1433, 1.2237, 1.7012, 1.1813, 1.2997, 1.3121,\n         1.0275, 1.1058, 1.1653, 1.0000, 1.1061, 1.0069, 1.1345, 1.0003, 1.0070,\n         1.5394, 1.0308, 1.1598, 1.0415, 1.1624, 1.0252, 1.0000, 1.0005, 1.0017,\n         1.3173, 1.0011, 1.0929, 1.1891, 1.2067, 1.1390, 1.0443, 1.0001, 1.8924,\n         1.1369, 1.0182, 1.0698, 1.3467, 1.3407, 1.0166, 1.0273, 1.0762, 1.2375,\n         1.2893, 1.0306, 1.0610, 1.0001, 1.0114, 1.4672, 1.1533, 1.0206, 1.3034,\n         1.0407, 1.0252, 1.5166, 1.0154, 1.1165, 1.1616, 1.0597, 1.0239, 1.0104,\n         1.4604, 1.0128, 1.5120, 1.1035, 1.0454, 1.0682, 1.0362, 1.0330, 1.0001,\n         1.0045, 1.5316, 1.5702, 1.0007, 1.0258, 1.0052, 1.0754, 1.1379, 1.0228,\n         1.0980, 1.0086, 1.0277, 1.0691, 1.0052, 1.1631, 1.0000, 1.0026, 1.2976,\n         1.0028, 1.2519, 1.2697, 1.0331, 1.0928, 1.0603, 1.0143, 1.0849, 1.2230,\n         1.2944, 1.5692, 1.0109, 1.1100, 1.0669, 1.8058, 1.0076, 1.5362, 1.0806,\n         1.0475, 1.4156, 1.0467, 1.0227, 1.0542, 1.0354, 1.0483, 1.1969, 1.0817,\n         1.0209, 1.6915, 1.1744, 1.1179, 1.0875, 1.1048, 1.9279, 1.0052, 1.4936,\n         1.0259], device='cuda:0'),\n 'linear2.weight': tensor([[1.0108, 1.0448, 1.0128,  ..., 1.0059, 1.0026, 1.0141],\n         [1.0070, 1.0104, 1.5734,  ..., 1.0229, 1.0197, 1.0613],\n         [1.1383, 1.0106, 1.5736,  ..., 1.3061, 1.1339, 1.3491],\n         ...,\n         [1.2393, 1.0062, 1.4825,  ..., 1.0828, 1.0681, 1.4245],\n         [1.0470, 1.0722, 1.1852,  ..., 1.3419, 1.2526, 1.0469],\n         [1.0782, 1.1524, 1.1019,  ..., 1.0018, 1.0139, 1.1888]],\n        device='cuda:0'),\n 'linear2.bias': tensor([1.1079, 1.0327, 1.0965, 1.0646, 1.0008, 1.7298, 1.0796, 1.0425, 1.1328,\n         1.1904, 1.3617, 1.0007, 1.3319, 1.0130, 1.0637, 1.3384, 1.1831, 1.2287,\n         1.2662, 1.5522, 1.2568, 1.0186, 1.0042, 1.5309, 1.0973, 1.0046, 1.1595,\n         1.7706, 1.0361, 1.0548, 1.0272, 1.1599, 1.0002, 1.0637, 1.0092, 1.3104,\n         1.7240, 1.1832, 1.2783, 1.0289, 1.1180, 1.5811, 1.1256, 1.1949, 1.3110,\n         1.0678, 1.0101, 1.2227, 1.1174, 1.2899, 1.0669, 1.0190, 1.6585, 1.1193,\n         1.3341, 1.4541, 1.2274, 1.0003, 1.0002, 1.0046, 1.0410, 1.1295, 1.4036,\n         1.0331, 1.1064, 1.0023, 1.0628, 1.0274, 1.2266, 1.0082, 1.4941, 1.0016,\n         1.0354, 1.1000, 1.2047, 1.0818, 1.4772, 1.0480, 1.0024, 1.0864, 1.3999,\n         1.2602, 1.1920, 1.3464, 1.4158, 1.0024, 1.1589, 1.0005, 1.0064, 1.0745,\n         1.0001, 1.5247, 1.4557, 1.1653, 1.6614, 1.0858, 1.0158, 1.2272, 1.1968,\n         1.2356, 1.0251, 1.0554, 1.2093, 1.0990, 1.7932, 1.0001, 1.5081, 1.1628,\n         1.0354, 1.0874, 1.3470, 1.8129, 1.1212, 1.0765, 1.0431, 1.1103, 1.0050,\n         1.0929, 1.7219, 1.0213, 1.0868, 1.0066, 1.0341, 1.6348, 1.0164, 1.0097,\n         1.1892, 1.0586, 1.0424, 1.0034, 1.9278, 1.0340, 1.2300, 1.3390, 1.0700,\n         1.9963, 1.0747, 1.3171, 1.1258, 1.0059, 1.0163, 1.5302, 2.0000, 1.1971,\n         1.1100, 1.9947, 1.4469, 1.5329, 1.0273, 1.0363, 1.0127, 1.0548, 1.3160,\n         1.0596, 1.1494, 1.0190, 1.1194, 1.0459, 1.1950, 1.6010, 1.1884, 1.2136,\n         1.1816, 1.1256, 1.4774, 1.1425, 1.8342, 1.1329, 1.0369, 1.0324, 1.0890,\n         1.2256, 1.1114, 1.0229, 1.6959, 1.7297, 1.0749, 1.4789, 1.4145, 1.1227,\n         1.1074, 1.0827, 1.0379, 1.0274, 1.3612, 1.0294, 1.0006, 1.2194, 1.0068,\n         1.0067, 1.0880, 1.2549, 1.0814, 1.7927, 1.0422, 1.0029, 1.3005, 1.0741,\n         1.3723, 1.6294, 1.1119, 1.2078, 1.2349, 1.0067, 1.0011, 1.4873, 1.6730,\n         1.0931, 1.0699, 1.0212, 1.0008, 1.0352, 1.3838, 1.6533, 1.2352, 1.0257,\n         1.2770, 1.0031, 1.0125, 1.0057, 1.2643, 1.4272, 1.1516, 1.0946, 1.5265,\n         1.0357, 1.0014, 1.1704, 1.0155, 1.5603, 1.0621, 1.1270, 1.0000, 1.2083,\n         1.0588, 1.1871, 1.1466, 1.2037, 1.1070, 1.7330, 1.3980, 1.2638, 1.1627,\n         1.3002, 1.1081, 1.4088, 1.0568, 1.2479, 1.0276, 1.0547],\n        device='cuda:0'),\n 'linear3.weight': tensor([[1.0022, 1.0109, 1.1499, 1.3385, 1.0009, 1.2025, 1.1998, 1.2575, 1.1410,\n          1.2564, 1.2085, 1.1435, 1.0136, 1.0837, 1.0108, 1.0269, 1.0039, 1.3824,\n          1.4180, 1.0001, 1.0361, 1.1652, 1.1750, 1.0387, 1.1040, 1.0017, 1.0044,\n          1.5347, 1.0702, 1.0753, 1.0190, 1.0180, 1.0640, 1.2016, 1.5257, 1.0753,\n          1.1203, 1.0005, 1.1160, 1.0016, 1.0276, 1.0528, 1.0393, 1.2755, 1.0189,\n          1.0586, 1.2896, 1.1792, 1.2231, 1.1150, 1.3575, 1.6360, 1.0012, 1.0249,\n          1.0033, 1.1935, 1.1961, 1.0694, 1.0045, 1.0026, 1.1459, 1.0389, 1.2619,\n          1.0274, 1.0002, 1.0791, 1.1516, 1.0004, 1.0114, 1.0031, 1.0400, 1.0004,\n          1.0404, 1.0199, 1.0817, 1.1914, 1.0088, 1.0416, 1.1281, 1.5461, 1.2017,\n          1.0485, 1.0150, 1.3813, 2.0000, 1.0324, 1.0145, 1.0392, 1.0432, 1.0046,\n          1.0003, 1.0141, 1.2539, 1.0462, 1.0001, 1.3275, 1.5980, 1.0685, 1.1539,\n          1.0010, 1.0137, 1.0075, 1.1231, 1.0865, 1.1484, 1.4550, 1.3332, 1.0055,\n          1.1000, 1.0018, 1.3206, 1.4341, 1.0461, 1.5188, 1.0404, 1.0638, 1.1016,\n          1.0152, 1.0702, 1.4185, 1.0545, 1.0850, 1.0217, 1.0042, 1.0926, 1.0567,\n          1.0019, 1.3632, 1.3701, 1.0012, 1.6069, 1.2517, 1.4456, 1.0896, 1.0670,\n          1.3087, 1.2705, 1.0329, 1.2870, 1.2846, 1.0827, 1.1051, 1.1374, 1.0745,\n          1.0088, 1.2392, 1.1490, 1.3608, 1.2049, 1.1915, 1.0192, 1.0137, 1.0063,\n          1.1039, 1.6568, 1.1728, 1.0448, 1.0757, 1.0064, 1.0868, 1.2477, 1.0004,\n          1.2312, 1.0908, 1.0284, 1.1574, 1.1707, 1.1193, 1.0075, 1.1947, 1.0204,\n          1.2870, 1.0011, 1.0002, 1.2379, 1.2985, 1.2771, 1.0677, 1.1263, 1.0145,\n          1.1678, 1.2596, 1.0107, 1.0005, 1.3396, 1.0732, 1.0993, 1.0153, 1.0568,\n          1.0478, 1.0376, 1.0308, 1.0665, 1.0717, 1.0086, 1.0144, 1.1902, 1.4139,\n          1.2352, 1.1131, 1.2366, 1.0171, 1.3030, 1.0806, 1.2067, 1.0045, 1.2373,\n          1.0462, 1.0086, 1.1798, 1.0078, 1.0001, 1.1091, 1.5385, 1.1131, 1.1862,\n          1.2423, 1.2889, 1.4770, 1.0172, 1.1077, 1.2440, 1.0395, 1.0744, 1.0075,\n          1.0559, 1.0019, 1.1646, 1.3047, 1.1500, 1.0077, 1.2473, 1.5391, 1.0847,\n          1.0575, 1.0274, 1.0305, 1.0065, 1.1616, 1.0066, 1.0002, 1.0094, 1.0316,\n          1.3083, 1.0004, 1.2735, 1.4357, 1.0656, 1.3610, 1.1212],\n         [1.2601, 1.2222, 1.2600, 1.1051, 1.4291, 1.2805, 1.0113, 1.3659, 1.0117,\n          1.0652, 1.1885, 1.0762, 1.0003, 1.5282, 1.0877, 1.2123, 1.5787, 1.2318,\n          1.1785, 1.0089, 1.2814, 1.0255, 1.0106, 1.1004, 1.1527, 1.3099, 1.2059,\n          1.0178, 1.0002, 1.4572, 1.0079, 1.0421, 1.0000, 1.2446, 1.1112, 1.0692,\n          1.0191, 1.0286, 1.0137, 1.0285, 1.1589, 1.0060, 1.0046, 1.0231, 1.1888,\n          1.0132, 1.5403, 1.0625, 1.0008, 1.0082, 1.1922, 1.4291, 1.0210, 1.0411,\n          1.3367, 1.0014, 1.0198, 1.0286, 1.0019, 1.0195, 1.1081, 1.0536, 1.3597,\n          1.0854, 1.0153, 1.1134, 1.0005, 1.0106, 1.0683, 1.5218, 1.1059, 1.0179,\n          1.0045, 1.1063, 1.0539, 1.1916, 1.1744, 1.0001, 1.2551, 1.1568, 1.0004,\n          1.2188, 1.2278, 1.0001, 1.3510, 1.0331, 1.2049, 1.0086, 1.0000, 1.2489,\n          1.0314, 1.0795, 1.1523, 1.3849, 1.0897, 1.1224, 1.1800, 1.0106, 1.0034,\n          1.0726, 1.3660, 1.1774, 1.0327, 1.1660, 1.0470, 1.0000, 1.4013, 1.0486,\n          1.6667, 1.0003, 1.0324, 1.0201, 1.1666, 1.1022, 1.1280, 1.0727, 1.2132,\n          1.0001, 1.0584, 1.0206, 1.0642, 1.0621, 1.3489, 1.4191, 1.0005, 1.0233,\n          1.0685, 1.2354, 1.0001, 1.1555, 1.0202, 1.5623, 1.0127, 1.0732, 1.5333,\n          1.0430, 1.0072, 1.0597, 1.1175, 1.3284, 1.0115, 1.6717, 1.1236, 1.0527,\n          1.0674, 1.0643, 1.0704, 1.1183, 1.1889, 1.0028, 1.1236, 1.0164, 1.0002,\n          1.0006, 1.0922, 1.0274, 1.0042, 1.0227, 1.0191, 1.0041, 1.0000, 1.0509,\n          1.0409, 1.0326, 1.4802, 1.2093, 1.0204, 1.0553, 1.0020, 1.0108, 1.0053,\n          1.3877, 1.0229, 1.0003, 1.0000, 1.1826, 1.0170, 1.6213, 1.0006, 1.0006,\n          1.3229, 1.0395, 1.0879, 1.1537, 1.0271, 1.2364, 1.0672, 1.0197, 1.1823,\n          1.0083, 1.1827, 1.2949, 1.0060, 1.0069, 1.3125, 1.2740, 1.0105, 1.4659,\n          1.0312, 1.0002, 1.0084, 1.0219, 1.0134, 1.0017, 1.1680, 1.0023, 1.0312,\n          1.0773, 1.0109, 1.0413, 1.0639, 1.4439, 1.0060, 1.1391, 1.0180, 1.0627,\n          1.0425, 1.0122, 1.0110, 1.2191, 1.0654, 1.0226, 1.1225, 1.0612, 1.0585,\n          1.1313, 1.0062, 1.0857, 1.0494, 1.0022, 1.0009, 1.2223, 1.0090, 1.0239,\n          1.1731, 1.2541, 1.0422, 1.0151, 1.0585, 1.4605, 1.0294, 1.2290, 1.1321,\n          1.3211, 1.1021, 1.1078, 1.0432, 1.0903, 1.3974, 1.0000]],\n        device='cuda:0'),\n 'linear3.bias': tensor([2., 1.], device='cuda:0')}"
     },
     "execution_count": 33,
     "metadata": {},
     "output_type": "execute_result"
    }
   ],
   "source": [
    "gtl.adjust_guidance_matrix(guidance_matrix, gtl.Focus.ZERO_ENFORCED_AND_NORMALIZED, gtl.Temp.WARM)\n",
    "gtl.scale_guidance_matrix(guidance_matrix, 2)   # ----------using gtl library"
   ]
  },
  {
   "cell_type": "code",
   "execution_count": 34,
   "id": "670999b1",
   "metadata": {
    "ExecuteTime": {
     "end_time": "2024-03-10T12:53:46.119944913Z",
     "start_time": "2024-03-10T12:53:46.059661057Z"
    }
   },
   "outputs": [
    {
     "data": {
      "text/plain": "<Figure size 640x480 with 1 Axes>",
      "image/png": "[encoded data removed]"
     },
     "metadata": {},
     "output_type": "display_data"
    }
   ],
   "source": [
    "# plot the distribution of the matrix after the adjusting\n",
    "gtl.plot_guidance_distribution(guidance_matrix, name=\"linear1.weight\")    # ----------using gtl library"
   ]
  },
  {
   "cell_type": "code",
   "execution_count": 35,
   "id": "923f5ecd",
   "metadata": {
    "ExecuteTime": {
     "end_time": "2024-03-10T12:53:46.163437249Z",
     "start_time": "2024-03-10T12:53:46.120822875Z"
    }
   },
   "outputs": [
    {
     "data": {
      "text/plain": "{'linear1.weight': tensor([[0., 0.],\n         [0., 0.],\n         [0., 0.],\n         ...,\n         [0., 0.],\n         [0., 0.],\n         [0., 0.]], device='cuda:0'),\n 'linear1.bias': tensor([0., 0., 0., 0., 0., 0., 0., 0., 0., 0., 0., 0., 0., 0., 0., 0., 0., 0.,\n         0., 0., 0., 0., 0., 0., 0., 0., 0., 0., 0., 0., 0., 0., 0., 0., 0., 0.,\n         0., 0., 0., 0., 0., 0., 0., 0., 0., 0., 0., 0., 0., 0., 0., 0., 0., 0.,\n         0., 0., 0., 0., 0., 0., 0., 0., 0., 0., 0., 0., 0., 0., 0., 0., 0., 0.,\n         0., 0., 0., 0., 0., 0., 0., 0., 0., 0., 0., 0., 0., 0., 0., 0., 0., 0.,\n         0., 0., 0., 0., 0., 0., 0., 0., 0., 0., 0., 0., 0., 0., 0., 0., 0., 0.,\n         0., 0., 0., 0., 0., 0., 0., 0., 0., 0., 0., 0., 0., 0., 0., 0., 0., 0.,\n         0., 0., 0., 0., 0., 0., 0., 0., 0., 0., 0., 0., 0., 0., 0., 0., 0., 0.,\n         0., 0., 0., 0., 0., 0., 0., 0., 0., 0., 0., 0., 0., 0., 1., 0., 0., 0.,\n         0., 0., 0., 0., 0., 0., 0., 0., 0., 0., 0., 0., 0., 0., 0., 0., 0., 0.,\n         0., 0., 0., 0., 0., 0., 0., 0., 0., 0., 0., 0., 0., 0., 0., 0., 0., 0.,\n         0., 0., 0., 0., 0., 0., 0., 0., 0., 0., 0., 0., 0., 0., 0., 0., 0., 0.,\n         0., 0., 0., 0., 0., 0., 0., 0., 0., 0., 0., 0., 0., 0., 0., 0., 0., 0.,\n         0., 0., 0., 0., 0., 0., 0., 0., 0., 0., 0., 0., 0., 0., 0., 0., 0., 0.,\n         0., 0., 0., 0., 0., 0., 0., 0., 0., 0., 0., 0., 0., 0., 0., 0., 0., 0.,\n         0., 0., 0., 0., 0., 0., 0., 0., 0., 0., 0., 0., 0., 0., 0., 0., 0., 0.,\n         0., 0., 0., 0., 0., 0., 0., 0., 0., 1., 0., 0., 0., 0., 0., 0., 0., 0.,\n         0., 0., 0., 0., 0., 0., 0., 0., 0., 0., 0., 0., 0., 0., 0., 0., 0., 0.,\n         0., 0., 0., 0., 0., 0., 0., 0., 0., 0., 0., 0., 0., 0., 0., 0., 0., 0.,\n         0., 0., 0., 0., 0., 1., 0., 0., 0., 0., 0., 0., 0., 0., 0., 0., 0., 0.,\n         0., 0., 0., 0., 0., 0., 1., 0., 0., 0., 0., 0., 0., 0., 0., 0., 0., 0.,\n         0., 0., 0., 0., 0., 0., 0., 0., 0., 0., 0., 0., 0., 0., 0., 0., 0., 0.,\n         0., 0., 0., 0., 0., 0., 0., 0., 0., 0., 0., 0., 0., 0., 0., 0., 0., 0.,\n         0., 0., 0., 0., 0., 0., 0., 0., 0., 0., 0., 0., 0., 0., 0., 0., 0., 0.,\n         0., 0., 0., 0., 0., 0., 0., 0., 0., 0., 0., 0., 0., 0., 0., 0., 0., 0.,\n         0., 0., 0., 0., 0., 0., 0., 0., 0., 0., 0., 0., 0., 0., 0., 0., 0., 0.,\n         0., 0., 0., 0., 0., 0., 0., 0., 0., 0., 0., 0., 0., 0., 0., 0., 0., 0.,\n         0., 0., 0., 0., 0., 0., 0., 0., 0., 0., 0., 0., 0., 0., 0., 0., 0., 0.,\n         0., 0., 1., 0., 0., 0., 0., 0., 0., 0., 0., 0., 0., 0., 0., 0., 0., 0.,\n         0., 0., 0., 0., 0., 0., 0., 0., 0., 0., 0., 0., 0., 0., 0., 0., 0., 0.,\n         0., 0., 0., 0., 0., 0., 0., 0., 0., 0., 0., 0., 0., 0., 0., 0., 0., 0.,\n         0., 0., 0., 0., 0., 0., 0., 0., 0., 0., 0., 0., 0., 0., 1., 0., 0., 0.,\n         0., 0., 0., 0., 0., 0., 0., 0., 0., 0., 0., 0., 0., 0., 0., 0., 0., 0.,\n         0., 0., 0., 0., 0., 0., 0., 1., 0., 0., 0., 0., 0., 0., 0., 0., 0., 0.,\n         0., 0., 0., 0., 0., 1., 0., 0., 0., 0., 0., 0., 0., 0., 0., 0., 0., 0.,\n         0., 0., 0., 0., 0., 0., 0., 0., 0., 0., 0., 0., 0., 0., 0., 0., 0., 0.,\n         0., 0., 0., 0., 0., 0., 0., 0., 0., 0., 0., 0., 0., 0., 0., 0., 0., 0.,\n         0., 0., 0., 0., 0., 0., 0., 0., 0., 0., 0., 0., 0., 0., 0., 0., 0., 1.,\n         0., 0., 0., 0., 0., 0., 0., 0., 0., 0., 0., 0., 0., 0., 0., 0., 0., 0.,\n         0., 0., 0., 0., 0., 0., 0., 0., 0., 0., 0., 0., 0., 0., 0., 0., 0., 0.,\n         0., 0., 0., 0., 0., 0., 0., 0., 0., 0., 0., 0., 0., 0., 0., 0., 0., 0.,\n         0., 0., 0., 0., 0., 0., 0., 0., 0., 0., 0., 0., 0., 0., 0., 0., 0., 0.,\n         0., 0., 0., 0., 0., 0., 0., 0., 0., 0., 0., 0., 0., 0., 0., 0., 0., 0.,\n         0., 0., 0., 0., 0., 0., 0., 0., 0., 0., 0., 0., 0., 0., 0., 0., 0., 0.,\n         0., 0., 0., 0., 0., 0., 0., 0., 0., 0., 0., 0., 0., 0., 0., 0., 0., 0.,\n         0., 0., 0., 0., 0., 0., 0., 0., 0., 0., 0., 0., 0., 0., 0., 0., 0., 0.,\n         0., 0., 0., 0., 0., 0., 0., 0., 0., 0., 0., 0., 0., 0., 0., 0., 0., 0.,\n         0., 0., 0., 0., 0., 0., 0., 0., 0., 0., 0., 0., 0., 0., 0., 0., 0., 0.,\n         0., 0., 0., 0., 0., 0., 0., 0., 0., 0., 0., 0., 0., 0., 0., 0., 0., 0.,\n         0., 0., 0., 0., 0., 0., 0., 0., 0., 0., 0., 0., 0., 0., 0., 0., 0., 0.,\n         0., 0., 0., 0., 0., 0., 0., 0., 1., 0., 0., 0., 0., 0., 0., 0., 0., 0.,\n         0., 0., 0., 0., 0., 0., 0., 0., 0., 0., 0., 0., 0., 0., 0., 0., 0., 0.,\n         0., 0., 0., 0., 0., 0., 0., 0., 0., 0., 0., 0., 0., 0., 0., 0., 0., 0.,\n         0., 0., 0., 0., 0., 0., 0., 0., 0., 0., 0., 0., 0., 0., 0., 0., 0., 0.,\n         0., 0., 0., 0., 0., 0., 0., 0., 0., 0., 0., 0., 0., 0., 0., 0., 0., 0.,\n         0., 0., 0., 0., 0., 0., 1., 0., 0., 0.], device='cuda:0'),\n 'linear2.weight': tensor([[0., 0., 0.,  ..., 0., 0., 0.],\n         [0., 0., 0.,  ..., 0., 0., 0.],\n         [0., 0., 0.,  ..., 0., 0., 0.],\n         ...,\n         [0., 0., 0.,  ..., 0., 0., 0.],\n         [0., 0., 0.,  ..., 0., 0., 0.],\n         [0., 0., 0.,  ..., 0., 0., 0.]], device='cuda:0'),\n 'linear2.bias': tensor([0., 0., 0., 0., 0., 0., 0., 0., 0., 0., 0., 0., 0., 0., 0., 0., 0., 0.,\n         0., 0., 0., 0., 0., 0., 0., 0., 0., 0., 0., 0., 0., 0., 0., 0., 0., 0.,\n         0., 0., 0., 0., 0., 0., 0., 0., 0., 0., 0., 0., 0., 0., 0., 0., 0., 0.,\n         0., 0., 0., 0., 0., 0., 0., 0., 0., 0., 0., 0., 0., 0., 0., 0., 0., 0.,\n         0., 0., 0., 0., 0., 0., 0., 0., 0., 0., 0., 0., 0., 0., 0., 0., 0., 0.,\n         0., 0., 0., 0., 0., 0., 0., 0., 0., 0., 0., 0., 0., 0., 0., 0., 0., 0.,\n         0., 0., 0., 0., 0., 0., 0., 0., 0., 0., 0., 0., 0., 0., 0., 0., 0., 0.,\n         0., 0., 0., 0., 0., 0., 0., 0., 0., 1., 0., 0., 0., 0., 0., 0., 1., 0.,\n         0., 1., 0., 0., 0., 0., 0., 0., 0., 0., 0., 0., 0., 0., 0., 0., 0., 0.,\n         0., 0., 0., 0., 0., 0., 0., 0., 0., 0., 0., 0., 0., 0., 0., 0., 0., 0.,\n         0., 0., 0., 0., 0., 0., 0., 0., 0., 0., 0., 0., 0., 0., 0., 0., 0., 0.,\n         0., 0., 0., 0., 0., 0., 0., 0., 0., 0., 0., 0., 0., 0., 0., 0., 0., 0.,\n         0., 0., 0., 0., 0., 0., 0., 0., 0., 0., 0., 0., 0., 0., 0., 0., 0., 0.,\n         0., 0., 0., 0., 0., 0., 0., 0., 0., 0., 0., 0., 0., 0., 0., 0.],\n        device='cuda:0'),\n 'linear3.weight': tensor([[0., 0., 0., 0., 0., 0., 0., 0., 0., 0., 0., 0., 0., 0., 0., 0., 0., 0.,\n          0., 0., 0., 0., 0., 0., 0., 0., 0., 0., 0., 0., 0., 0., 0., 0., 0., 0.,\n          0., 0., 0., 0., 0., 0., 0., 0., 0., 0., 0., 0., 0., 0., 0., 1., 0., 0.,\n          0., 0., 0., 0., 0., 0., 0., 0., 0., 0., 0., 0., 0., 0., 0., 0., 0., 0.,\n          0., 0., 0., 0., 0., 0., 0., 0., 0., 0., 0., 0., 1., 0., 0., 0., 0., 0.,\n          0., 0., 0., 0., 0., 0., 0., 0., 0., 0., 0., 0., 0., 0., 0., 0., 0., 0.,\n          0., 0., 0., 0., 0., 0., 0., 0., 0., 0., 0., 0., 0., 0., 0., 0., 0., 0.,\n          0., 0., 0., 0., 0., 0., 0., 0., 0., 0., 0., 0., 0., 0., 0., 0., 0., 0.,\n          0., 0., 0., 0., 0., 0., 0., 0., 0., 0., 1., 0., 0., 0., 0., 0., 0., 0.,\n          0., 0., 0., 0., 0., 0., 0., 0., 0., 0., 0., 0., 0., 0., 0., 0., 0., 0.,\n          0., 0., 0., 0., 0., 0., 0., 0., 0., 0., 0., 0., 0., 0., 0., 0., 0., 0.,\n          0., 0., 0., 0., 0., 0., 0., 0., 0., 0., 0., 0., 0., 0., 0., 0., 0., 0.,\n          0., 0., 0., 0., 0., 0., 0., 0., 0., 0., 0., 0., 0., 0., 0., 0., 0., 0.,\n          0., 0., 0., 0., 0., 0., 0., 0., 0., 0., 0., 0., 0., 0., 0., 0.],\n         [0., 0., 0., 0., 0., 0., 0., 0., 0., 0., 0., 0., 0., 0., 0., 0., 0., 0.,\n          0., 0., 0., 0., 0., 0., 0., 0., 0., 0., 0., 0., 0., 0., 0., 0., 0., 0.,\n          0., 0., 0., 0., 0., 0., 0., 0., 0., 0., 0., 0., 0., 0., 0., 0., 0., 0.,\n          0., 0., 0., 0., 0., 0., 0., 0., 0., 0., 0., 0., 0., 0., 0., 0., 0., 0.,\n          0., 0., 0., 0., 0., 0., 0., 0., 0., 0., 0., 0., 0., 0., 0., 0., 0., 0.,\n          0., 0., 0., 0., 0., 0., 0., 0., 0., 0., 0., 0., 0., 0., 0., 0., 0., 0.,\n          1., 0., 0., 0., 0., 0., 0., 0., 0., 0., 0., 0., 0., 0., 0., 0., 0., 0.,\n          0., 0., 0., 0., 0., 0., 0., 0., 0., 0., 0., 0., 0., 0., 0., 1., 0., 0.,\n          0., 0., 0., 0., 0., 0., 0., 0., 0., 0., 0., 0., 0., 0., 0., 0., 0., 0.,\n          0., 0., 0., 0., 0., 0., 0., 0., 0., 0., 0., 0., 0., 0., 0., 1., 0., 0.,\n          0., 0., 0., 0., 0., 0., 0., 0., 0., 0., 0., 0., 0., 0., 0., 0., 0., 0.,\n          0., 0., 0., 0., 0., 0., 0., 0., 0., 0., 0., 0., 0., 0., 0., 0., 0., 0.,\n          0., 0., 0., 0., 0., 0., 0., 0., 0., 0., 0., 0., 0., 0., 0., 0., 0., 0.,\n          0., 0., 0., 0., 0., 0., 0., 0., 0., 0., 0., 0., 0., 0., 0., 0.]],\n        device='cuda:0'),\n 'linear3.bias': tensor([1., 0.], device='cuda:0')}"
     },
     "execution_count": 35,
     "metadata": {},
     "output_type": "execute_result"
    }
   ],
   "source": [
    "#Other possible ways to adjust the guidance matrix\n",
    "gtl.adjust_guidance_matrix(guidance_matrix, gtl.Focus.ZERO_ENFORCED_AND_NORMALIZED, gtl.Temp.CHILLY)\n",
    "gtl.adjust_guidance_matrix(guidance_matrix, gtl.Focus.ZERO_ENFORCED_AND_NORMALIZED, gtl.Temp.FREEZING)\n",
    "gtl.adjust_guidance_matrix(guidance_matrix, gtl.Focus.ZERO_ENFORCED_AND_NORMALIZED, gtl.Temp.WARM)\n",
    "gtl.adjust_guidance_matrix(guidance_matrix, gtl.Focus.ZERO_ENFORCED_AND_NORMALIZED, gtl.Temp.EVAPORATING)\n",
    "gtl.adjust_guidance_matrix(guidance_matrix, gtl.Focus.ZERO_ENFORCED_AND_NORMALIZED, gtl.Temp.ICY)"
   ]
  },
  {
   "cell_type": "code",
   "execution_count": 36,
   "id": "021854cb",
   "metadata": {
    "ExecuteTime": {
     "end_time": "2024-03-10T12:53:46.164150305Z",
     "start_time": "2024-03-10T12:53:46.162498803Z"
    }
   },
   "outputs": [],
   "source": [
    "del guidance_matrix"
   ]
  }
 ],
 "metadata": {
  "kernelspec": {
   "name": "python3",
   "language": "python",
   "display_name": "Python 3 (ipykernel)"
  },
  "language_info": {
   "codemirror_mode": {
    "name": "ipython",
    "version": 3
   },
   "file_extension": ".py",
   "mimetype": "text/x-python",
   "name": "python",
   "nbconvert_exporter": "python",
   "pygments_lexer": "ipython3",
   "version": "3.9.7"
  }
 },
 "nbformat": 4,
 "nbformat_minor": 5
}
