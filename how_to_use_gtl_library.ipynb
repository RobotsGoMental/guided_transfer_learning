{
 "cells": [
  {
   "cell_type": "code",
   "execution_count": 1,
   "id": "0e8d6f22-9e1e-47f2-bee4-e3c23ecbd0a5",
   "metadata": {},
   "outputs": [],
   "source": [
    "import sys\n",
    "sys.path.append('./src')"
   ]
  },
  {
   "cell_type": "code",
   "execution_count": 2,
   "id": "c340cd0f",
   "metadata": {
    "ExecuteTime": {
     "end_time": "2024-03-16T15:31:55.632624Z",
     "start_time": "2024-03-16T15:31:54.795473Z"
    }
   },
   "outputs": [],
   "source": [
    "import torch\n",
    "import matplotlib.pyplot as plt\n",
    "import src.guided_transfer_learning as gtl"
   ]
  },
  {
   "cell_type": "code",
   "execution_count": 3,
   "id": "b6a50266",
   "metadata": {
    "ExecuteTime": {
     "end_time": "2024-03-16T15:31:55.634979Z",
     "start_time": "2024-03-16T15:31:55.633367Z"
    }
   },
   "outputs": [],
   "source": [
    "# The library guided_transfer_learning (or GTL library), is created for elegant \n",
    "# implementation of guided transfer learning in pytorch. \n",
    "# The present example application illustrates how to train scouts, compute a guiding matrix\n",
    "# and then apply the guiding matrix during training.\n",
    "\n",
    "# In addition, several other functionalities of the library are demonstrated."
   ]
  },
  {
   "cell_type": "markdown",
   "id": "f99e2427",
   "metadata": {},
   "source": [
    "## We first define a simple model "
   ]
  },
  {
   "cell_type": "code",
   "execution_count": 4,
   "id": "8b7a115b",
   "metadata": {
    "ExecuteTime": {
     "end_time": "2024-03-16T15:31:55.660656Z",
     "start_time": "2024-03-16T15:31:55.635454Z"
    }
   },
   "outputs": [],
   "source": [
    "# --------------------------------------------------------------------------------\n",
    "# --------------------- We first define a simple model ---------------------------\n",
    "\n",
    "\n",
    "class TinyModel(torch.nn.Module):\n",
    "    def __init__(self):\n",
    "        super(TinyModel, self).__init__()\n",
    "        self.linear1 = torch.nn.Linear(2, 1000)\n",
    "        self.activation = torch.nn.ReLU()\n",
    "        self.linear2 = torch.nn.Linear(1000, 250)\n",
    "        self.linear3 = torch.nn.Linear(250, 2)\n",
    "\n",
    "    def forward(self, x):\n",
    "        x = self.linear1(x)\n",
    "        x = self.activation(x)\n",
    "        x = self.linear2(x)\n",
    "        x = self.activation(x)\n",
    "        x = self.linear3(x)\n",
    "        x = self.activation(x)\n",
    "        return x\n",
    "\n",
    "\n",
    "device = torch.device(\"cuda:0\" if torch.cuda.is_available() else \"cpu\")\n",
    "\n",
    "\n",
    "def train_model(model, x, y, epochs, guidance_matrix=None, lr=0.05, verbose=True, early = 0.0):\n",
    "    loss_function = torch.nn.L1Loss()\n",
    "    optimizer = torch.optim.SGD(model.parameters(), lr)\n",
    "\n",
    "    skip = 5000 if epochs > 10000 else 500 if epochs > 1000 else 50 if epochs > 100 else 5 if epochs > 10 else 1\n",
    "    \n",
    "    loss_vals = []\n",
    "    for e in range(epochs):\n",
    "        result = model(x)\n",
    "        loss = loss_function(result, y)  # torch.tensor([1.00, 2.00], dtype=torch.float)\n",
    "        loss_vals.append(loss.detach().cpu().numpy())\n",
    "            \n",
    "        if verbose and ((e+1)%skip  == 0 or e == 0 or e == epochs-1):\n",
    "            print(\"Epoch:\", e+1, \"Loss:\", loss.detach().cpu().numpy()) \n",
    "        \n",
    "        model.zero_grad()\n",
    "        loss.backward()\n",
    "        \n",
    "        # guidance matrix is applied for training if passed as a parameter\n",
    "        if guidance_matrix is not None:\n",
    "            gtl.apply_guidance(model, guidance_matrix)        # ----using gtl library to apply guidance matrix------------\n",
    "\n",
    "        optimizer.step()\n",
    "        \n",
    "    return loss_vals"
   ]
  },
  {
   "cell_type": "code",
   "execution_count": 5,
   "id": "dec17e62",
   "metadata": {
    "ExecuteTime": {
     "end_time": "2024-03-16T15:31:55.664218Z",
     "start_time": "2024-03-16T15:31:55.661514Z"
    }
   },
   "outputs": [],
   "source": [
    "# --------------------------------------------------------------------------------\n",
    "# --------------------- Some additional functions that we will need --------------\n",
    "\n",
    "\n",
    "# Testing model performance\n",
    "def test_model(model, test_X, test_Y):\n",
    "    print(\"Perfect output:\\n\", test_Y.detach().cpu().numpy())\n",
    "    result = model(test_X)\n",
    "    print(\"Actual output:\\n\", result.detach().cpu().numpy())\n",
    "    loss_f = torch.nn.L1Loss()\n",
    "    loss = loss_f(result, test_Y)\n",
    "    print()\n",
    "    print(\"Loss:\", loss.detach().cpu().numpy())\n",
    "   \n",
    "\n",
    "#Plotting loss\n",
    "def plot_loss(values = [], names = None):\n",
    "    for ind, value in enumerate(values):\n",
    "        if names != None:\n",
    "            name = names[ind]\n",
    "        else:\n",
    "            name = \"?\"\n",
    "        plt.plot(range(1, len(value)+1), value, label=name)\n",
    "    plt.xlabel(\"Epoch\")\n",
    "    plt.ylabel(\"Loss\")\n",
    "    plt.title(\"Training Loss\")\n",
    "    plt.legend(loc='upper right')\n",
    "    plt.show()"
   ]
  },
  {
   "cell_type": "markdown",
   "id": "c1edb046",
   "metadata": {},
   "source": [
    "## Toy data for traning the model"
   ]
  },
  {
   "cell_type": "code",
   "execution_count": 6,
   "id": "372101bf",
   "metadata": {
    "ExecuteTime": {
     "end_time": "2024-03-16T15:31:55.748702Z",
     "start_time": "2024-03-16T15:31:55.664743Z"
    }
   },
   "outputs": [],
   "source": [
    "# -------------------------------------------------------------------------------------\n",
    "# ---------------- Create some data for training AND and OR logical functions ---------\n",
    "\n",
    "# This is an easy problem: logical  OR and AND functions, \n",
    "# One neuron outputs the OR function; the other neuron outputs the AND function\n",
    "# (for numerical reasons the value of 0.1 is used to indicate logical 0)\n",
    "base_train_X = torch.tensor([[0.1, 0.1], [0.1, 1], [1, 0.1], [1, 1]]).to(device) \n",
    "base_train_Y = torch.tensor([[0.1, 0.1], [1, 0.1], [1, 0.1], [1, 1]]).to(device)   # [OR, AND]\n",
    "\n",
    "# We do not have separate test data for this problem.\n",
    "base_test_X = base_train_X\n",
    "base_test_Y = base_train_Y"
   ]
  },
  {
   "cell_type": "code",
   "execution_count": 7,
   "id": "9af4b1eb",
   "metadata": {
    "ExecuteTime": {
     "end_time": "2024-03-16T15:31:55.751613Z",
     "start_time": "2024-03-16T15:31:55.749460Z"
    }
   },
   "outputs": [],
   "source": [
    "# -------------------------------------------------------------------------------------\n",
    "# ---------------- Create some data for training scouts -------------------------------\n",
    "\n",
    "# These are data for XOR functions from which we select scouts\n",
    "base_scout_X = torch.tensor([[0.1, 0.1], [0.1, 1], [1, 0.1], [1, 1]]).to(device)\n",
    "base_scout_Y = torch.tensor([[0.1, 0.1], [1, 1],   [1, 1],   [0.1, 0.1]]).to(device)"
   ]
  },
  {
   "cell_type": "code",
   "execution_count": 8,
   "id": "1b242e71",
   "metadata": {
    "ExecuteTime": {
     "end_time": "2024-03-16T15:31:55.754287Z",
     "start_time": "2024-03-16T15:31:55.752143Z"
    }
   },
   "outputs": [],
   "source": [
    "# -------------------------------------------------------------------------------------\n",
    "# ---------------- Data for fine tuning to learn XOR problem --------------------------\n",
    "\n",
    "# The same XOR logical function as above for the scouts\n",
    "base_train_X2 = torch.tensor([[0.1, 0.1], [0.1, 1], [1, 0.1], [1, 1]]).to(device)\n",
    "base_train_Y2 = torch.tensor([[0.1, 0.1], [1, 1],   [1, 1],   [0.1, 0.1]]).to(device)\n",
    "\n",
    "# The test data are again the same as train data.\n",
    "base_test_X2 = base_train_X2\n",
    "base_test_Y2 = base_train_Y2"
   ]
  },
  {
   "cell_type": "markdown",
   "id": "ed4d99d6",
   "metadata": {},
   "source": [
    "# Training 1: Train the base model"
   ]
  },
  {
   "cell_type": "code",
   "execution_count": 9,
   "id": "8866ba76",
   "metadata": {
    "ExecuteTime": {
     "end_time": "2024-03-16T15:31:55.762836Z",
     "start_time": "2024-03-16T15:31:55.754823Z"
    }
   },
   "outputs": [],
   "source": [
    "# ----------------------------------------------------------------------------------\n",
    "# ---------------- We set up a model -----------------------------------------------\n",
    "   \n",
    "torch.manual_seed(3841574609)    #a seed is necessary because not all networks converge \n",
    "model = TinyModel().to(device)"
   ]
  },
  {
   "cell_type": "code",
   "execution_count": 10,
   "id": "9950349e",
   "metadata": {
    "ExecuteTime": {
     "end_time": "2024-03-16T15:31:56.236703Z",
     "start_time": "2024-03-16T15:31:55.763477Z"
    },
    "scrolled": true
   },
   "outputs": [
    {
     "name": "stdout",
     "output_type": "stream",
     "text": [
      "Epoch: 1 Loss: 0.50205797\n",
      "Epoch: 5 Loss: 0.3322976\n",
      "Epoch: 10 Loss: 0.18261632\n",
      "Epoch: 15 Loss: 0.22714306\n",
      "Epoch: 20 Loss: 0.19118656\n",
      "Epoch: 25 Loss: 0.19696507\n",
      "Epoch: 30 Loss: 0.33079904\n",
      "Epoch: 35 Loss: 0.26258627\n",
      "Epoch: 40 Loss: 0.11834093\n",
      "Epoch: 45 Loss: 0.0604195\n",
      "Epoch: 50 Loss: 0.2660234\n",
      "Epoch: 55 Loss: 0.2762773\n",
      "Epoch: 60 Loss: 0.24102509\n",
      "Epoch: 65 Loss: 0.18774408\n",
      "Epoch: 70 Loss: 0.07400001\n",
      "Epoch: 75 Loss: 0.11018105\n",
      "Epoch: 80 Loss: 0.18668832\n",
      "Epoch: 85 Loss: 0.07309155\n",
      "Epoch: 90 Loss: 0.13348544\n",
      "Epoch: 95 Loss: 0.12357451\n",
      "Epoch: 100 Loss: 0.1701155\n"
     ]
    },
    {
     "data": {
      "text/plain": [
       "[array(0.50205797, dtype=float32),\n",
       " array(0.39924976, dtype=float32),\n",
       " array(0.2232023, dtype=float32),\n",
       " array(0.23824817, dtype=float32),\n",
       " array(0.3322976, dtype=float32),\n",
       " array(0.30043858, dtype=float32),\n",
       " array(0.20511562, dtype=float32),\n",
       " array(0.19732663, dtype=float32),\n",
       " array(0.18996456, dtype=float32),\n",
       " array(0.18261632, dtype=float32),\n",
       " array(0.17640834, dtype=float32),\n",
       " array(0.17006081, dtype=float32),\n",
       " array(0.16280657, dtype=float32),\n",
       " array(0.17667964, dtype=float32),\n",
       " array(0.22714306, dtype=float32),\n",
       " array(0.1968081, dtype=float32),\n",
       " array(0.14513889, dtype=float32),\n",
       " array(0.16353953, dtype=float32),\n",
       " array(0.1756356, dtype=float32),\n",
       " array(0.19118656, dtype=float32),\n",
       " array(0.24107869, dtype=float32),\n",
       " array(0.30579197, dtype=float32),\n",
       " array(0.11962442, dtype=float32),\n",
       " array(0.21850449, dtype=float32),\n",
       " array(0.19696507, dtype=float32),\n",
       " array(0.2673356, dtype=float32),\n",
       " array(0.19467361, dtype=float32),\n",
       " array(0.11351976, dtype=float32),\n",
       " array(0.25636095, dtype=float32),\n",
       " array(0.33079904, dtype=float32),\n",
       " array(0.14512113, dtype=float32),\n",
       " array(0.3492663, dtype=float32),\n",
       " array(0.2280649, dtype=float32),\n",
       " array(0.17038113, dtype=float32),\n",
       " array(0.26258627, dtype=float32),\n",
       " array(0.11337503, dtype=float32),\n",
       " array(0.09843794, dtype=float32),\n",
       " array(0.0874534, dtype=float32),\n",
       " array(0.07553221, dtype=float32),\n",
       " array(0.11834093, dtype=float32),\n",
       " array(0.2487483, dtype=float32),\n",
       " array(0.11011739, dtype=float32),\n",
       " array(0.1936234, dtype=float32),\n",
       " array(0.17721441, dtype=float32),\n",
       " array(0.0604195, dtype=float32),\n",
       " array(0.47061998, dtype=float32),\n",
       " array(0.11915091, dtype=float32),\n",
       " array(0.13343102, dtype=float32),\n",
       " array(0.19337222, dtype=float32),\n",
       " array(0.2660234, dtype=float32),\n",
       " array(0.13166395, dtype=float32),\n",
       " array(0.17317545, dtype=float32),\n",
       " array(0.09264579, dtype=float32),\n",
       " array(0.23896548, dtype=float32),\n",
       " array(0.2762773, dtype=float32),\n",
       " array(0.13566287, dtype=float32),\n",
       " array(0.1942182, dtype=float32),\n",
       " array(0.17529085, dtype=float32),\n",
       " array(0.08229733, dtype=float32),\n",
       " array(0.24102509, dtype=float32),\n",
       " array(0.13898881, dtype=float32),\n",
       " array(0.2288576, dtype=float32),\n",
       " array(0.08086841, dtype=float32),\n",
       " array(0.26389828, dtype=float32),\n",
       " array(0.18774408, dtype=float32),\n",
       " array(0.11695425, dtype=float32),\n",
       " array(0.15748122, dtype=float32),\n",
       " array(0.14216268, dtype=float32),\n",
       " array(0.12017088, dtype=float32),\n",
       " array(0.07400001, dtype=float32),\n",
       " array(0.05370453, dtype=float32),\n",
       " array(0.20534414, dtype=float32),\n",
       " array(0.04435073, dtype=float32),\n",
       " array(0.23563024, dtype=float32),\n",
       " array(0.11018105, dtype=float32),\n",
       " array(0.18029523, dtype=float32),\n",
       " array(0.15407497, dtype=float32),\n",
       " array(0.1556184, dtype=float32),\n",
       " array(0.1456294, dtype=float32),\n",
       " array(0.18668832, dtype=float32),\n",
       " array(0.08261377, dtype=float32),\n",
       " array(0.10577567, dtype=float32),\n",
       " array(0.16094917, dtype=float32),\n",
       " array(0.12248866, dtype=float32),\n",
       " array(0.07309155, dtype=float32),\n",
       " array(0.19011965, dtype=float32),\n",
       " array(0.0771898, dtype=float32),\n",
       " array(0.16617902, dtype=float32),\n",
       " array(0.26216963, dtype=float32),\n",
       " array(0.13348544, dtype=float32),\n",
       " array(0.15645498, dtype=float32),\n",
       " array(0.23964107, dtype=float32),\n",
       " array(0.10266589, dtype=float32),\n",
       " array(0.15157543, dtype=float32),\n",
       " array(0.12357451, dtype=float32),\n",
       " array(0.14742877, dtype=float32),\n",
       " array(0.18547353, dtype=float32),\n",
       " array(0.06698629, dtype=float32),\n",
       " array(0.11506386, dtype=float32),\n",
       " array(0.1701155, dtype=float32)]"
      ]
     },
     "execution_count": 10,
     "metadata": {},
     "output_type": "execute_result"
    }
   ],
   "source": [
    "# -------------------------------------------------------------------------------------\n",
    "# ---------------- Train the base model -----------------------------------------------\n",
    "\n",
    "train_model(model=model, x=base_train_X, y=base_train_Y, epochs=100)\n",
    "\n",
    "# The model converges"
   ]
  },
  {
   "cell_type": "code",
   "execution_count": 11,
   "id": "82d6c546",
   "metadata": {
    "ExecuteTime": {
     "end_time": "2024-03-16T15:31:56.239781Z",
     "start_time": "2024-03-16T15:31:56.237334Z"
    }
   },
   "outputs": [
    {
     "name": "stdout",
     "output_type": "stream",
     "text": [
      "Perfect output:\n",
      " [[0.1 0.1]\n",
      " [1.  0.1]\n",
      " [1.  0.1]\n",
      " [1.  1. ]]\n",
      "Actual output:\n",
      " [[0.17718232 0.1006499 ]\n",
      " [0.99807966 0.26107973]\n",
      " [1.0875719  0.12974524]\n",
      " [1.095412   1.1558325 ]]\n",
      "\n",
      "Loss: 0.076174244\n"
     ]
    }
   ],
   "source": [
    "# -------------------------------------------------------------------------------------\n",
    "# ----------------- Test the base model -----------------------------------------------\n",
    "\n",
    "test_model(model, base_test_X, base_test_Y)"
   ]
  },
  {
   "cell_type": "code",
   "execution_count": 12,
   "id": "d3b66075",
   "metadata": {
    "ExecuteTime": {
     "end_time": "2024-03-16T15:31:56.245037Z",
     "start_time": "2024-03-16T15:31:56.241309Z"
    }
   },
   "outputs": [
    {
     "data": {
      "text/plain": [
       "PosixPath('/home/dev/code/rgm/guided_transfer_learning_library/models/gtl_base_model.pt')"
      ]
     },
     "execution_count": 12,
     "metadata": {},
     "output_type": "execute_result"
    }
   ],
   "source": [
    "# ---------------------------------------------------------------------------------------\n",
    "# ------------------------ Save the model -----------------------------------------------\n",
    "\n",
    "# Use GTL library to save the base model, as we will need it later\n",
    "gtl.save_base(model) # -----------------------------using gtl library to save the model to default path and name"
   ]
  },
  {
   "cell_type": "code",
   "execution_count": 13,
   "id": "d782a2a9",
   "metadata": {
    "ExecuteTime": {
     "end_time": "2024-03-16T15:31:56.247049Z",
     "start_time": "2024-03-16T15:31:56.245495Z"
    }
   },
   "outputs": [],
   "source": [
    "# -----------------------------------------------------------------------------------------\n",
    "# ------------------------ Delete the model from memory -----------------------------------\n",
    "\n",
    "del model\n",
    "torch.cuda.empty_cache()"
   ]
  },
  {
   "cell_type": "markdown",
   "id": "c43ea287",
   "metadata": {},
   "source": [
    "\n",
    "# Training 2: Train scouts and calculate the guidance matrix"
   ]
  },
  {
   "cell_type": "markdown",
   "id": "e7ed283e",
   "metadata": {},
   "source": [
    "## Prepare data for traning scouts"
   ]
  },
  {
   "cell_type": "code",
   "execution_count": 14,
   "id": "48572838",
   "metadata": {
    "ExecuteTime": {
     "end_time": "2024-03-16T15:31:56.248983Z",
     "start_time": "2024-03-16T15:31:56.247507Z"
    }
   },
   "outputs": [],
   "source": [
    "# ------------------------------------------------------------------------------------------------\n",
    "# ------------------------ Specify data points to use in each scout ------------------------------\n",
    "\n",
    "# The data are breaking the large problem into smaller problems. \n",
    "# Two scouts are created, each with two data points.  \n",
    "\n",
    "scout_indexes = [[1, 3], [2, 3]]\n"
   ]
  },
  {
   "cell_type": "code",
   "execution_count": 15,
   "id": "8a86c892",
   "metadata": {
    "ExecuteTime": {
     "end_time": "2024-03-16T15:31:56.254866Z",
     "start_time": "2024-03-16T15:31:56.249503Z"
    }
   },
   "outputs": [
    {
     "name": "stdout",
     "output_type": "stream",
     "text": [
      "There are 2 scouts\n"
     ]
    }
   ],
   "source": [
    "\n",
    "# -------------------------------------------------------------------------------------------\n",
    "# ------------------------ Create scout data from indexes -----------------------------------\n",
    "\n",
    "# we use a GTL function create_scout_data_from_ranged_indexes() to create scouts of \n",
    "# the list of the data points in scout_indexes\n",
    "scout_data_X = gtl.create_scout_data_from_ranged_indexes(scout_indexes, base_scout_X) # --using gtl library to create scout data\n",
    "scout_data_Y = gtl.create_scout_data_from_ranged_indexes(scout_indexes, base_scout_Y) # --\n",
    "print(\"There are\", len(scout_data_X), \"scouts\")\n"
   ]
  },
  {
   "cell_type": "markdown",
   "id": "1cf3f619",
   "metadata": {},
   "source": [
    "## Train scouts"
   ]
  },
  {
   "cell_type": "code",
   "execution_count": 16,
   "id": "7f056bb3",
   "metadata": {
    "ExecuteTime": {
     "end_time": "2024-03-16T15:31:57.272607Z",
     "start_time": "2024-03-16T15:31:56.255369Z"
    },
    "scrolled": true
   },
   "outputs": [
    {
     "name": "stdout",
     "output_type": "stream",
     "text": [
      "scout number: 0\n",
      "Epoch: 1 Loss: 0.6980213\n",
      "Epoch: 50 Loss: 0.60421103\n",
      "Epoch: 100 Loss: 0.525643\n",
      "Epoch: 150 Loss: 0.4652728\n",
      "Epoch: 200 Loss: 0.41515625\n",
      "Epoch: 250 Loss: 0.36741376\n",
      "Epoch: 300 Loss: 0.31967387\n",
      "Epoch: 350 Loss: 0.27298242\n",
      "Epoch: 400 Loss: 0.22871283\n",
      "Epoch: 450 Loss: 0.18909386\n",
      "Epoch: 500 Loss: 0.14601512\n",
      "Epoch: 550 Loss: 0.11660219\n",
      "Epoch: 600 Loss: 0.09007153\n",
      "Epoch: 650 Loss: 0.056441784\n",
      "Epoch: 700 Loss: 0.023471486\n",
      "Epoch: 750 Loss: 0.0031943507\n",
      "Epoch: 800 Loss: 0.002697168\n",
      "Epoch: 850 Loss: 0.0036745667\n",
      "Epoch: 900 Loss: 0.004180869\n",
      "Epoch: 950 Loss: 0.0047445893\n",
      "Epoch: 1000 Loss: 0.00533903\n",
      "scout number: 1\n",
      "Epoch: 1 Loss: 0.7522677\n",
      "Epoch: 50 Loss: 0.59769493\n",
      "Epoch: 100 Loss: 0.5105427\n",
      "Epoch: 150 Loss: 0.44487524\n",
      "Epoch: 200 Loss: 0.39581272\n",
      "Epoch: 250 Loss: 0.34975266\n",
      "Epoch: 300 Loss: 0.3049694\n",
      "Epoch: 350 Loss: 0.2602768\n",
      "Epoch: 400 Loss: 0.2190466\n",
      "Epoch: 450 Loss: 0.1767973\n",
      "Epoch: 500 Loss: 0.13780987\n",
      "Epoch: 550 Loss: 0.111475214\n",
      "Epoch: 600 Loss: 0.08271788\n",
      "Epoch: 650 Loss: 0.050087668\n",
      "Epoch: 700 Loss: 0.015473789\n",
      "Epoch: 750 Loss: 0.0056993663\n",
      "Epoch: 800 Loss: 0.0062825177\n",
      "Epoch: 850 Loss: 0.0024212897\n",
      "Epoch: 900 Loss: 0.0008962564\n",
      "Epoch: 950 Loss: 0.00042160973\n",
      "Epoch: 1000 Loss: 0.0005451031\n",
      "A total of 2 scouts trained\n"
     ]
    }
   ],
   "source": [
    "# ----------------------------------------------------------------------------------------------------------------\n",
    "# ----------------- Train scouts in a loop and accumulate data to obtain a guiding matrix ------------------------\n",
    "\n",
    "# Now create a model for scouts and load parameters from the base model.\n",
    "# These parameters are needed to continue learning from the based model. \n",
    "# Each scout is a fine-tuned version of the base model. \n",
    "\n",
    "s_model = TinyModel().to(device)\n",
    "my_scouts = gtl.create_scouts(s_model)       # --------using gtl library to create my_scouts object to collect scout data\n",
    "\n",
    "for s in range(len(scout_data_X)):\n",
    "    print(\"scout number:\", s)\n",
    "    gtl.load_base(s_model)                  # ------------using gtl library to newly load base model for each scout\n",
    "    train_model(model=s_model, x=scout_data_X[s], y=scout_data_Y[s], epochs=1000, lr=0.001)\n",
    "    \n",
    "    my_scouts.add_scout(s_model)            # ------------using gtl library to add scout data to the object\n",
    "    \n",
    "    \n",
    "print(\"A total of\", len(my_scouts), \"scouts trained\")"
   ]
  },
  {
   "cell_type": "markdown",
   "id": "e274a479",
   "metadata": {},
   "source": [
    "## Compute quidance matrix"
   ]
  },
  {
   "cell_type": "code",
   "execution_count": 17,
   "id": "e69cd557",
   "metadata": {
    "ExecuteTime": {
     "end_time": "2024-03-16T15:31:57.276791Z",
     "start_time": "2024-03-16T15:31:57.273300Z"
    }
   },
   "outputs": [],
   "source": [
    "# ----------------------------------------------------------------------\n",
    "# ----------------- Compute guidance matrix ----------------------------\n",
    "\n",
    "guidance_matrix = my_scouts.create_raw_guidance(device) # ----------using gtl library to compute the guidance \n",
    "                                                                    # \\matrix from accumulated scout information\n",
    "\n",
    "                                                                    # \\'device' determines whether to create the \n",
    "                                                                    # \\guidance matrix on CPU or GPU."
   ]
  },
  {
   "cell_type": "code",
   "execution_count": 18,
   "id": "a2aa0bba",
   "metadata": {
    "ExecuteTime": {
     "end_time": "2024-03-16T15:31:57.280644Z",
     "start_time": "2024-03-16T15:31:57.277292Z"
    }
   },
   "outputs": [
    {
     "data": {
      "text/plain": [
       "PosixPath('/home/dev/code/rgm/guided_transfer_learning_library/models/guidance_matrix.pt')"
      ]
     },
     "execution_count": 18,
     "metadata": {},
     "output_type": "execute_result"
    }
   ],
   "source": [
    "# --------------------------------------------------------------\n",
    "# ------------------- Save guidance matrix ---------------------\n",
    "\n",
    "gtl.save_guidance_matrix(guidance_matrix)               # ----------using gtl library to save the guidance \n",
    "                                                                    # \\matrix to default path and name"
   ]
  },
  {
   "cell_type": "code",
   "execution_count": 19,
   "id": "235120fc",
   "metadata": {
    "ExecuteTime": {
     "end_time": "2024-03-16T15:31:57.282606Z",
     "start_time": "2024-03-16T15:31:57.281114Z"
    }
   },
   "outputs": [],
   "source": [
    "# ------------------------------------------------------------------------------------------\n",
    "# ------------------------ Delete everything from memory -----------------------------------\n",
    "\n",
    "# Release memory for scouts as we do not need them any more; guidance matrix can also be loaded anew\n",
    "del my_scouts\n",
    "del guidance_matrix"
   ]
  },
  {
   "cell_type": "markdown",
   "id": "ce8daa75",
   "metadata": {},
   "source": [
    "# Training 3: Performing fine-tuning"
   ]
  },
  {
   "cell_type": "markdown",
   "id": "f02c5766",
   "metadata": {},
   "source": [
    "## Fine-tuning without guidance matrix"
   ]
  },
  {
   "cell_type": "code",
   "execution_count": 20,
   "id": "7fac45b9",
   "metadata": {
    "ExecuteTime": {
     "end_time": "2024-03-16T15:31:57.457785Z",
     "start_time": "2024-03-16T15:31:57.283120Z"
    }
   },
   "outputs": [
    {
     "name": "stdout",
     "output_type": "stream",
     "text": [
      "Epoch: 1 Loss: 0.478468\n",
      "Epoch: 50 Loss: 0.3343591\n",
      "Epoch: 100 Loss: 0.19812973\n",
      "Epoch: 150 Loss: 0.11190221\n",
      "Epoch: 200 Loss: 0.025638245\n",
      "Epoch: 250 Loss: 0.018414315\n",
      "Epoch: 299 Loss: 0.046941705\n"
     ]
    }
   ],
   "source": [
    "# -------------------------------------------------------------------------------------------------------\n",
    "# ------------------------ Load the model and train it on XOR problem -----------------------------------\n",
    "\n",
    "a_model = TinyModel().to(device)\n",
    "gtl.load_base(a_model)             # ----------using gtl library to load the base model\n",
    "loss_vals_a = train_model(model=a_model, x=base_train_X2, y=base_train_Y2, epochs=299, guidance_matrix=None, lr = 0.01) "
   ]
  },
  {
   "cell_type": "code",
   "execution_count": 21,
   "id": "b27ca51a",
   "metadata": {
    "ExecuteTime": {
     "end_time": "2024-03-16T15:31:57.460755Z",
     "start_time": "2024-03-16T15:31:57.458355Z"
    }
   },
   "outputs": [
    {
     "name": "stdout",
     "output_type": "stream",
     "text": [
      "Perfect output:\n",
      " [[0.1 0.1]\n",
      " [1.  1. ]\n",
      " [1.  1. ]\n",
      " [0.1 0.1]]\n",
      "Actual output:\n",
      " [[0.13439779 0.13083646]\n",
      " [1.0386972  1.0303556 ]\n",
      " [1.0077745  1.0221456 ]\n",
      " [0.1152316  0.11473165]]\n",
      "\n",
      "Loss: 0.024271302\n"
     ]
    }
   ],
   "source": [
    "# --------------------------------------------------------------------------------------------------------------------\n",
    "# ----------------- Test the performance on the test data (the same as train data) -----------------------------------\n",
    "\n",
    "test_model(a_model, base_test_X2, base_test_Y2)"
   ]
  },
  {
   "cell_type": "code",
   "execution_count": 22,
   "id": "1fbf01d7",
   "metadata": {
    "ExecuteTime": {
     "end_time": "2024-03-16T15:31:57.560885Z",
     "start_time": "2024-03-16T15:31:57.461301Z"
    }
   },
   "outputs": [
    {
     "data": {
      "image/png": "[encoded data removed]",
      "text/plain": [
       "<Figure size 640x480 with 1 Axes>"
      ]
     },
     "metadata": {},
     "output_type": "display_data"
    }
   ],
   "source": [
    "# ----------------------------------------------------------------------------\n",
    "# ----------------- Plot the loss function -----------------------------------\n",
    "\n",
    "plot_loss(values = [loss_vals_a], names = [\"No guidance\"])"
   ]
  },
  {
   "cell_type": "markdown",
   "id": "28434642",
   "metadata": {},
   "source": [
    "## Fine-tuning using the guidance matrix"
   ]
  },
  {
   "cell_type": "code",
   "execution_count": 23,
   "id": "4b50c1ce",
   "metadata": {
    "ExecuteTime": {
     "end_time": "2024-03-16T15:31:57.638532Z",
     "start_time": "2024-03-16T15:31:57.561508Z"
    }
   },
   "outputs": [
    {
     "data": {
      "text/plain": [
       "{'linear1.weight': tensor([[0., 0.],\n",
       "         [0., 0.],\n",
       "         [0., 0.],\n",
       "         ...,\n",
       "         [0., 0.],\n",
       "         [0., 0.],\n",
       "         [0., 0.]]),\n",
       " 'linear1.bias': tensor([0., 0., 0., 0., 0., 0., 0., 0., 0., 0., 0., 0., 0., 0., 0., 0., 0., 0., 0., 0., 0., 0., 0., 0.,\n",
       "         0., 0., 0., 0., 0., 0., 0., 0., 0., 0., 0., 0., 0., 0., 0., 0., 0., 0., 0., 0., 0., 0., 0., 0.,\n",
       "         0., 0., 0., 0., 0., 0., 0., 0., 0., 0., 0., 0., 0., 0., 0., 0., 0., 0., 0., 0., 0., 0., 0., 0.,\n",
       "         0., 0., 0., 0., 0., 0., 0., 0., 0., 0., 0., 0., 0., 0., 0., 0., 0., 0., 0., 0., 0., 0., 0., 0.,\n",
       "         0., 0., 0., 0., 0., 0., 0., 0., 0., 0., 0., 0., 0., 0., 0., 0., 0., 0., 0., 0., 0., 0., 0., 0.,\n",
       "         0., 0., 0., 0., 0., 0., 0., 0., 0., 0., 0., 0., 0., 0., 0., 0., 0., 0., 0., 0., 0., 0., 0., 0.,\n",
       "         0., 0., 0., 0., 0., 0., 0., 0., 0., 0., 0., 0., 0., 0., 0., 0., 0., 0., 0., 0., 0., 0., 0., 0.,\n",
       "         0., 0., 0., 0., 0., 0., 0., 0., 0., 0., 0., 0., 0., 0., 0., 0., 0., 0., 0., 0., 0., 0., 0., 0.,\n",
       "         0., 0., 0., 0., 0., 0., 0., 0., 0., 0., 0., 0., 0., 0., 0., 0., 0., 0., 0., 0., 0., 0., 0., 0.,\n",
       "         0., 0., 0., 0., 0., 0., 0., 0., 0., 0., 0., 0., 0., 0., 0., 0., 0., 0., 0., 0., 0., 0., 0., 0.,\n",
       "         0., 0., 0., 0., 0., 0., 0., 0., 0., 0., 0., 0., 0., 0., 0., 0., 0., 0., 0., 0., 0., 0., 0., 0.,\n",
       "         0., 0., 0., 0., 0., 0., 0., 0., 0., 0., 0., 0., 0., 0., 0., 0., 0., 0., 0., 0., 0., 0., 0., 0.,\n",
       "         0., 0., 0., 0., 0., 0., 0., 0., 0., 0., 0., 0., 0., 0., 0., 0., 0., 0., 0., 0., 0., 0., 0., 0.,\n",
       "         0., 0., 0., 0., 0., 0., 0., 0., 0., 0., 0., 0., 0., 0., 0., 0., 0., 0., 0., 0., 0., 0., 0., 0.,\n",
       "         0., 0., 0., 0., 0., 0., 0., 0., 0., 0., 0., 0., 0., 0., 0., 0., 0., 0., 0., 0., 0., 0., 0., 0.,\n",
       "         0., 0., 0., 0., 0., 0., 0., 0., 0., 0., 0., 0., 0., 0., 0., 0., 0., 0., 0., 0., 0., 0., 0., 0.,\n",
       "         0., 0., 0., 0., 0., 0., 0., 0., 0., 0., 0., 0., 0., 0., 0., 0., 0., 0., 0., 0., 0., 0., 0., 0.,\n",
       "         0., 0., 0., 0., 0., 0., 0., 0., 0., 0., 0., 0., 0., 0., 0., 0., 0., 0., 0., 0., 0., 0., 0., 0.,\n",
       "         0., 0., 0., 0., 0., 0., 0., 0., 0., 0., 0., 0., 0., 0., 0., 0., 0., 0., 0., 0., 0., 0., 0., 0.,\n",
       "         0., 0., 0., 0., 0., 0., 0., 0., 0., 0., 0., 0., 0., 0., 0., 0., 0., 0., 0., 0., 0., 0., 0., 0.,\n",
       "         0., 0., 0., 0., 0., 0., 0., 0., 0., 0., 0., 0., 0., 0., 0., 0., 0., 0., 0., 0., 0., 0., 0., 0.,\n",
       "         0., 0., 0., 0., 0., 0., 0., 0., 0., 0., 0., 0., 0., 0., 0., 0., 0., 0., 0., 0., 0., 0., 0., 0.,\n",
       "         0., 0., 0., 0., 0., 0., 0., 0., 0., 0., 0., 0., 0., 0., 0., 0., 0., 0., 0., 0., 0., 0., 0., 0.,\n",
       "         0., 0., 0., 0., 0., 0., 0., 0., 0., 0., 0., 0., 0., 0., 0., 0., 0., 0., 0., 0., 0., 0., 0., 0.,\n",
       "         0., 0., 0., 0., 0., 0., 0., 0., 0., 0., 0., 0., 0., 0., 0., 0., 0., 0., 0., 0., 0., 0., 0., 0.,\n",
       "         0., 0., 0., 0., 0., 0., 0., 0., 0., 0., 0., 0., 0., 0., 0., 0., 0., 0., 0., 0., 0., 0., 0., 0.,\n",
       "         0., 0., 0., 0., 0., 0., 0., 0., 0., 0., 0., 0., 0., 0., 0., 0., 0., 0., 0., 0., 0., 0., 0., 0.,\n",
       "         0., 0., 0., 0., 0., 0., 0., 0., 0., 0., 0., 0., 0., 0., 0., 0., 0., 0., 0., 0., 0., 0., 0., 0.,\n",
       "         0., 0., 0., 0., 0., 0., 0., 0., 0., 0., 0., 0., 0., 0., 0., 0., 0., 0., 0., 0., 0., 0., 0., 0.,\n",
       "         0., 0., 0., 0., 0., 0., 0., 0., 0., 0., 0., 0., 0., 0., 0., 0., 0., 0., 0., 0., 0., 0., 0., 0.,\n",
       "         0., 0., 0., 0., 0., 0., 0., 0., 0., 0., 0., 0., 0., 0., 0., 0., 0., 0., 0., 0., 0., 0., 0., 0.,\n",
       "         0., 0., 0., 0., 0., 0., 0., 0., 0., 0., 0., 0., 0., 0., 0., 0., 0., 0., 0., 0., 0., 0., 0., 0.,\n",
       "         0., 0., 0., 0., 0., 0., 0., 0., 0., 0., 0., 0., 0., 0., 0., 0., 0., 0., 0., 0., 0., 0., 0., 0.,\n",
       "         0., 0., 0., 0., 0., 0., 0., 0., 0., 0., 0., 0., 0., 0., 0., 0., 0., 0., 0., 0., 0., 0., 0., 0.,\n",
       "         0., 0., 0., 0., 0., 0., 0., 0., 0., 0., 0., 0., 0., 0., 0., 0., 0., 0., 0., 0., 0., 0., 0., 0.,\n",
       "         0., 0., 0., 0., 0., 0., 0., 0., 0., 0., 0., 0., 0., 0., 0., 0., 0., 0., 0., 0., 0., 0., 0., 0.,\n",
       "         0., 0., 0., 0., 0., 0., 0., 0., 0., 0., 0., 0., 0., 0., 0., 0., 0., 0., 0., 0., 0., 0., 0., 0.,\n",
       "         0., 0., 0., 0., 0., 0., 0., 0., 0., 0., 0., 0., 0., 0., 0., 0., 0., 0., 0., 0., 0., 0., 0., 0.,\n",
       "         0., 0., 0., 0., 0., 0., 0., 0., 0., 0., 0., 0., 0., 0., 0., 0., 0., 0., 0., 0., 0., 0., 0., 0.,\n",
       "         0., 0., 0., 0., 0., 0., 0., 0., 0., 0., 0., 0., 0., 0., 0., 0., 0., 0., 0., 0., 0., 0., 0., 0.,\n",
       "         0., 0., 0., 0., 0., 0., 0., 0., 0., 0., 0., 0., 0., 0., 0., 0., 0., 0., 0., 0., 0., 0., 0., 0.,\n",
       "         0., 0., 0., 0., 0., 0., 0., 0., 0., 0., 0., 0., 0., 0., 0., 0.]),\n",
       " 'linear2.weight': tensor([[0., 0., 0.,  ..., 0., 0., 0.],\n",
       "         [0., 0., 0.,  ..., 0., 0., 0.],\n",
       "         [0., 0., 0.,  ..., 0., 0., 0.],\n",
       "         ...,\n",
       "         [0., 0., 0.,  ..., 0., 0., 0.],\n",
       "         [0., 0., 0.,  ..., 0., 0., 0.],\n",
       "         [0., 0., 0.,  ..., 0., 0., 0.]]),\n",
       " 'linear2.bias': tensor([0., 0., 0., 0., 0., 0., 0., 0., 0., 0., 0., 0., 0., 0., 0., 0., 0., 0., 0., 0., 0., 0., 0., 0.,\n",
       "         0., 0., 0., 0., 0., 0., 0., 0., 0., 0., 0., 0., 0., 0., 0., 0., 0., 0., 0., 0., 0., 0., 0., 0.,\n",
       "         0., 0., 0., 0., 0., 0., 0., 0., 0., 0., 0., 0., 0., 0., 0., 0., 0., 0., 0., 0., 0., 0., 0., 0.,\n",
       "         0., 0., 0., 0., 0., 0., 0., 0., 0., 0., 0., 0., 0., 0., 0., 0., 0., 0., 0., 0., 0., 0., 0., 0.,\n",
       "         0., 0., 0., 0., 0., 0., 0., 0., 0., 0., 0., 0., 0., 0., 0., 0., 0., 0., 0., 0., 0., 0., 0., 0.,\n",
       "         0., 0., 0., 0., 0., 0., 0., 0., 0., 0., 0., 0., 0., 0., 0., 0., 0., 0., 0., 0., 0., 0., 0., 0.,\n",
       "         0., 0., 0., 0., 0., 0., 0., 0., 0., 0., 0., 0., 0., 0., 0., 0., 0., 0., 0., 0., 0., 0., 0., 0.,\n",
       "         0., 0., 0., 0., 0., 0., 0., 0., 0., 0., 0., 0., 0., 0., 0., 0., 0., 0., 0., 0., 0., 0., 0., 0.,\n",
       "         0., 0., 0., 0., 0., 0., 0., 0., 0., 0., 0., 0., 0., 0., 0., 0., 0., 0., 0., 0., 0., 0., 0., 0.,\n",
       "         0., 0., 0., 0., 0., 0., 0., 0., 0., 0., 0., 0., 0., 0., 0., 0., 0., 0., 0., 0., 0., 0., 0., 0.,\n",
       "         0., 0., 0., 0., 0., 0., 0., 0., 0., 0.]),\n",
       " 'linear3.weight': tensor([[0., 0., 0., 0., 0., 0., 0., 0., 0., 0., 0., 0., 0., 0., 0., 0., 0., 0., 0., 0., 0., 0., 0., 0.,\n",
       "          0., 0., 0., 0., 0., 0., 0., 0., 0., 0., 0., 0., 0., 0., 0., 0., 0., 0., 0., 0., 0., 0., 0., 0.,\n",
       "          0., 0., 0., 0., 0., 0., 0., 0., 0., 0., 0., 0., 0., 0., 0., 0., 0., 0., 0., 0., 0., 0., 0., 0.,\n",
       "          0., 0., 0., 0., 0., 0., 0., 0., 0., 0., 0., 0., 0., 0., 0., 0., 0., 0., 0., 0., 0., 0., 0., 0.,\n",
       "          0., 0., 0., 0., 0., 0., 0., 0., 0., 0., 0., 0., 0., 0., 0., 0., 0., 0., 0., 0., 0., 0., 0., 0.,\n",
       "          0., 0., 0., 0., 0., 0., 0., 0., 0., 0., 0., 0., 0., 0., 0., 0., 0., 0., 0., 0., 0., 0., 0., 0.,\n",
       "          0., 0., 0., 0., 0., 0., 0., 0., 0., 0., 0., 0., 0., 0., 0., 0., 0., 0., 0., 0., 0., 0., 0., 0.,\n",
       "          0., 0., 0., 0., 0., 0., 0., 0., 0., 0., 0., 0., 0., 0., 0., 0., 0., 0., 0., 0., 0., 0., 0., 0.,\n",
       "          0., 0., 0., 0., 0., 0., 0., 0., 0., 0., 0., 0., 0., 0., 0., 0., 0., 0., 0., 0., 0., 0., 0., 0.,\n",
       "          0., 0., 0., 0., 0., 0., 0., 0., 0., 0., 0., 0., 0., 0., 0., 0., 0., 0., 0., 0., 0., 0., 0., 0.,\n",
       "          0., 0., 0., 0., 0., 0., 0., 0., 0., 0.],\n",
       "         [0., 0., 0., 0., 0., 0., 0., 0., 0., 0., 0., 0., 0., 0., 0., 0., 0., 0., 0., 0., 0., 0., 0., 0.,\n",
       "          0., 0., 0., 0., 0., 0., 0., 0., 0., 0., 0., 0., 0., 0., 0., 0., 0., 0., 0., 0., 0., 0., 0., 0.,\n",
       "          0., 0., 0., 0., 0., 0., 0., 0., 0., 0., 0., 0., 0., 0., 0., 0., 0., 0., 0., 0., 0., 0., 0., 0.,\n",
       "          0., 0., 0., 0., 0., 0., 0., 0., 0., 0., 0., 0., 0., 0., 0., 0., 0., 0., 0., 0., 0., 0., 0., 0.,\n",
       "          0., 0., 0., 0., 0., 0., 0., 0., 0., 0., 0., 0., 0., 0., 0., 0., 0., 0., 0., 0., 0., 0., 0., 0.,\n",
       "          0., 0., 0., 0., 0., 0., 0., 0., 0., 0., 0., 0., 0., 0., 0., 0., 0., 0., 0., 0., 0., 0., 0., 0.,\n",
       "          0., 0., 0., 0., 0., 0., 0., 0., 0., 0., 0., 0., 0., 0., 0., 0., 0., 0., 0., 0., 0., 0., 0., 0.,\n",
       "          0., 0., 0., 0., 0., 0., 0., 0., 0., 0., 0., 0., 0., 0., 0., 0., 0., 0., 0., 0., 0., 0., 0., 0.,\n",
       "          0., 0., 0., 0., 0., 0., 0., 0., 0., 0., 0., 0., 0., 0., 0., 0., 0., 0., 0., 0., 0., 0., 0., 0.,\n",
       "          0., 0., 0., 0., 0., 0., 0., 0., 0., 0., 0., 0., 0., 0., 0., 0., 0., 0., 0., 0., 0., 0., 0., 0.,\n",
       "          0., 0., 0., 0., 0., 0., 0., 0., 0., 0.]]),\n",
       " 'linear3.bias': tensor([0., 0.])}"
      ]
     },
     "execution_count": 23,
     "metadata": {},
     "output_type": "execute_result"
    }
   ],
   "source": [
    "# -------------------------------------------------------------------------------------------------------\n",
    "# --------------- Load the guidance matrix and adjust it ------------------------------------------------\n",
    "\n",
    "guidance_matrix = gtl.load_guidance_matrix()     # -using gtl library----------\n",
    "gtl.adjust_guidance_matrix(guidance_matrix, 'zero_enforced_and_normalized', 'warm')\n",
    "gtl.scale_guidance_matrix(guidance_matrix, 2)    # -using gtl library----------"
   ]
  },
  {
   "cell_type": "code",
   "execution_count": 24,
   "id": "aff84044",
   "metadata": {
    "ExecuteTime": {
     "end_time": "2024-03-16T15:31:57.789077Z",
     "start_time": "2024-03-16T15:31:57.639355Z"
    }
   },
   "outputs": [
    {
     "name": "stdout",
     "output_type": "stream",
     "text": [
      "Epoch: 1 Loss: 0.478468\n",
      "Epoch: 50 Loss: 0.478468\n",
      "Epoch: 100 Loss: 0.478468\n",
      "Epoch: 150 Loss: 0.478468\n",
      "Epoch: 200 Loss: 0.478468\n",
      "Epoch: 250 Loss: 0.478468\n",
      "Epoch: 299 Loss: 0.478468\n"
     ]
    }
   ],
   "source": [
    "# -------------------------------------------------------------------------------------------------------\n",
    "# --------------- Load the model and train it on XOR problem using guidance matrix ----------------------\n",
    "\n",
    "g_model = TinyModel().to(device)\n",
    "gtl.load_base(g_model)                          # -----------using gtl library to load the base model\n",
    "\n",
    "loss_vals_g = train_model(model=g_model, x=base_train_X2, y=base_train_Y2, epochs=299, guidance_matrix=guidance_matrix, lr = 0.01)"
   ]
  },
  {
   "cell_type": "code",
   "execution_count": 25,
   "id": "cb6096ee",
   "metadata": {
    "ExecuteTime": {
     "end_time": "2024-03-16T15:31:57.791931Z",
     "start_time": "2024-03-16T15:31:57.789673Z"
    }
   },
   "outputs": [
    {
     "name": "stdout",
     "output_type": "stream",
     "text": [
      "Perfect output:\n",
      " [[0.1 0.1]\n",
      " [1.  1. ]\n",
      " [1.  1. ]\n",
      " [0.1 0.1]]\n",
      "Actual output:\n",
      " [[0.17718232 0.1006499 ]\n",
      " [0.99807966 0.26107973]\n",
      " [1.0875719  0.12974524]\n",
      " [1.095412   1.1558325 ]]\n",
      "\n",
      "Loss: 0.478468\n"
     ]
    }
   ],
   "source": [
    "# --------------------------------------------------------------------------------------------------------------------\n",
    "# ----------------- Test the performance on the test data (the same as train data) -----------------------------------\n",
    "\n",
    "test_model(g_model, base_test_X2, base_test_Y2)"
   ]
  },
  {
   "cell_type": "code",
   "execution_count": 26,
   "id": "64dea237",
   "metadata": {
    "ExecuteTime": {
     "end_time": "2024-03-16T15:31:57.862401Z",
     "start_time": "2024-03-16T15:31:57.792402Z"
    }
   },
   "outputs": [
    {
     "data": {
      "image/png": "[encoded data removed]",
      "text/plain": [
       "<Figure size 640x480 with 1 Axes>"
      ]
     },
     "metadata": {},
     "output_type": "display_data"
    }
   ],
   "source": [
    "# --------------------------------------------------------------------------------\n",
    "# ----------------- Compare the loss functions -----------------------------------\n",
    "\n",
    "plot_loss(values = [loss_vals_g, loss_vals_a], names = [ \"Guidance\", \"No guidance\"])\n",
    "\n",
    "\n",
    "# Note that for this problem, in which no generalization from train to test data is required,\n",
    "# a guiding matrix does not show an advantage (or shows negligible advantage). This is because\n",
    "# the function of a guiding matrix is primarily to act as a regularization technique that \n",
    "# prevents overfit with small training data sets, which is applicable to tasks that \n",
    "# require a model to generalize from train to test data.\n",
    "\n",
    "# The purpose of this simplification in the present demo is to facilitate user's learning on\n",
    "# how to apply the GTL library. "
   ]
  },
  {
   "cell_type": "markdown",
   "id": "f320d561",
   "metadata": {},
   "source": [
    "# Additional functions of the GTL library"
   ]
  },
  {
   "cell_type": "markdown",
   "id": "b45b513b",
   "metadata": {},
   "source": [
    "## Exploring the conents of models"
   ]
  },
  {
   "cell_type": "code",
   "execution_count": 27,
   "id": "76399b17",
   "metadata": {
    "ExecuteTime": {
     "end_time": "2024-03-16T15:31:57.867480Z",
     "start_time": "2024-03-16T15:31:57.862965Z"
    }
   },
   "outputs": [
    {
     "name": "stdout",
     "output_type": "stream",
     "text": [
      "[('linear1.weight', torch.Size([1000, 2])), ('linear1.bias', torch.Size([1000])), ('linear2.weight', torch.Size([250, 1000])), ('linear2.bias', torch.Size([250])), ('linear3.weight', torch.Size([2, 250])), ('linear3.bias', torch.Size([2]))]\n"
     ]
    }
   ],
   "source": [
    "model = TinyModel().to(device)\n",
    "gtl.load_base(model)             # ----------using gtl library to load a model \n",
    " \n",
    "print(gtl.list_params(model))  # ----using gtl library to list the names of parameters and dimensionality"
   ]
  },
  {
   "cell_type": "code",
   "execution_count": 28,
   "id": "c7afc5a0",
   "metadata": {
    "ExecuteTime": {
     "end_time": "2024-03-16T15:31:57.882055Z",
     "start_time": "2024-03-16T15:31:57.867986Z"
    },
    "scrolled": true
   },
   "outputs": [
    {
     "name": "stdout",
     "output_type": "stream",
     "text": [
      "[tensor([[-0.1971,  0.0543],\n",
      "        [ 0.2954,  0.2111],\n",
      "        [ 0.2115, -0.2913]], grad_fn=<SliceBackward0>), tensor([ 0.5242, -0.3127, -0.0046], grad_fn=<SliceBackward0>), tensor([[ 0.0163,  0.0197, -0.0261,  ...,  0.0257, -0.0181, -0.0146],\n",
      "        [-0.0255,  0.0121, -0.0291,  ..., -0.0134,  0.0065,  0.0271],\n",
      "        [-0.0155,  0.0015, -0.0250,  ..., -0.0301,  0.0022, -0.0278]],\n",
      "       grad_fn=<SliceBackward0>), tensor([ 0.0131,  0.0193, -0.0008], grad_fn=<SliceBackward0>), tensor([[ 2.4020e-02,  2.4801e-03, -3.4409e-02,  1.7149e-02, -1.5907e-02,\n",
      "         -5.4030e-02, -4.4583e-02, -2.6649e-02,  1.3501e-02,  2.0000e-02,\n",
      "          3.9227e-03, -5.0046e-02,  1.7641e-02, -7.2423e-02,  1.8138e-02,\n",
      "          2.7781e-02, -3.1702e-02, -6.2054e-02,  7.0387e-02,  2.0699e-02,\n",
      "          3.4396e-02,  4.0050e-02,  4.3848e-02,  1.5216e-02, -1.2527e-02,\n",
      "          1.0113e-04, -2.2860e-02, -5.1308e-02,  4.2531e-02, -1.5785e-02,\n",
      "          2.6516e-02,  3.1728e-02, -4.5397e-02, -5.4064e-02,  4.7307e-02,\n",
      "         -9.9467e-03, -1.2054e-02, -3.5743e-02,  1.4598e-03,  2.4835e-02,\n",
      "          5.5227e-02, -2.7035e-02,  1.8997e-03, -2.9777e-02,  1.1592e-02,\n",
      "         -3.0053e-02,  5.8170e-02,  2.5599e-02, -5.9962e-02,  5.5586e-02,\n",
      "         -4.7414e-02,  9.5862e-02, -2.5732e-02, -2.4188e-02,  2.4290e-02,\n",
      "         -1.8400e-02,  5.1333e-02,  2.1017e-02,  1.6006e-02, -2.6632e-02,\n",
      "          3.3093e-02, -5.1398e-02, -4.2947e-02,  3.0960e-02, -4.1451e-02,\n",
      "         -1.0698e-02, -2.9480e-02,  3.1326e-02,  3.7528e-02,  3.7043e-02,\n",
      "          3.9547e-02,  2.2602e-02,  4.4395e-02, -3.7526e-02,  3.9079e-02,\n",
      "          1.8992e-02, -3.8363e-02, -2.5267e-02, -4.8844e-03, -5.5264e-02,\n",
      "          1.3857e-02, -4.4903e-02,  4.0084e-02, -5.6002e-02,  1.0039e-01,\n",
      "         -2.1486e-02,  3.7068e-02, -2.2690e-02, -2.5007e-02,  6.2351e-02,\n",
      "          3.7308e-02, -1.0978e-02, -4.4861e-02,  1.3460e-02, -2.9031e-02,\n",
      "         -4.1467e-02,  5.0766e-02,  1.8960e-03,  5.0112e-03, -4.8956e-02,\n",
      "         -2.3171e-02,  3.4835e-02, -3.4862e-02,  4.9041e-02,  5.8357e-03,\n",
      "         -7.6841e-02,  5.0232e-02,  9.2230e-03, -6.9425e-03, -3.3647e-02,\n",
      "         -2.4122e-02,  4.1037e-02,  6.7411e-02,  5.1249e-02,  6.0583e-02,\n",
      "         -4.6837e-02, -1.8102e-02,  3.8002e-02,  1.2715e-02,  4.1168e-02,\n",
      "          2.1062e-02, -4.2148e-03, -2.3969e-02,  3.2184e-02, -2.8507e-02,\n",
      "          1.1807e-02,  2.8579e-02,  5.4374e-02, -5.4867e-02, -3.8912e-02,\n",
      "         -7.3760e-02,  1.5094e-02, -5.0602e-02,  4.1663e-03, -5.4656e-02,\n",
      "         -2.1560e-02, -3.2332e-02, -3.5346e-02,  3.7060e-02,  2.5149e-02,\n",
      "          3.9560e-03, -1.1402e-02, -1.3809e-02,  9.0852e-03,  5.5381e-02,\n",
      "         -5.7636e-02, -6.5908e-02, -5.4627e-02,  6.8735e-02,  5.1465e-02,\n",
      "         -5.3002e-02, -1.5006e-03, -3.0839e-02, -1.1420e-02,  6.5735e-02,\n",
      "          2.5450e-02, -4.3021e-02, -1.0646e-02,  4.9044e-02, -5.9825e-02,\n",
      "         -1.5123e-02, -4.5091e-02, -1.6953e-02,  3.4544e-02, -3.2171e-02,\n",
      "          4.0133e-02, -2.1183e-02,  3.0358e-02, -3.8904e-02,  3.4423e-02,\n",
      "          7.2908e-03, -7.7611e-02,  1.8053e-02,  2.7302e-02,  6.2353e-02,\n",
      "         -5.2593e-02, -1.8368e-02,  1.5936e-02,  1.4340e-02, -6.0572e-02,\n",
      "          6.4599e-04, -3.6186e-02,  1.3692e-02,  4.6479e-02,  2.3830e-02,\n",
      "         -3.1038e-02, -3.0032e-02,  3.1759e-02,  5.4021e-02,  1.3247e-02,\n",
      "          9.7079e-03,  4.9335e-02,  2.9584e-02,  7.0214e-03,  2.0034e-02,\n",
      "          2.1651e-02, -6.9124e-02,  9.9507e-02,  1.4897e-02,  1.5195e-03,\n",
      "          4.8056e-02,  3.6679e-02, -5.9758e-02, -5.4487e-03, -5.6748e-02,\n",
      "         -5.2976e-02,  3.2775e-02, -3.7725e-02, -7.0516e-02,  4.2834e-02,\n",
      "          5.3244e-02,  3.8400e-02, -3.3524e-02, -4.7717e-02, -6.1770e-02,\n",
      "          4.0526e-02, -2.4555e-02, -4.9304e-02,  4.8263e-02, -8.3735e-03,\n",
      "          3.3371e-02,  1.4251e-02, -1.7932e-02,  3.6858e-02,  1.1777e-02,\n",
      "          9.1733e-03,  2.3245e-02, -3.1006e-02,  5.0198e-04,  9.2086e-03,\n",
      "         -5.7306e-02, -1.5794e-02, -5.6434e-02,  1.4095e-02,  2.7593e-02,\n",
      "          3.5878e-02, -4.9097e-02,  3.3234e-02, -1.8314e-02, -1.1177e-02,\n",
      "         -2.5725e-02,  1.3075e-02, -8.8607e-03, -4.4766e-02,  5.2726e-02,\n",
      "          2.9027e-02, -5.4751e-02,  2.3371e-02,  4.0655e-02,  8.9468e-03],\n",
      "        [-7.0831e-02, -4.7109e-02, -4.6575e-02, -1.7014e-02, -5.8864e-02,\n",
      "         -2.0647e-02, -4.7489e-02,  5.3367e-02,  3.0863e-03,  4.4073e-02,\n",
      "          6.7266e-03, -4.8438e-04, -5.0953e-02,  7.5583e-02,  1.2706e-02,\n",
      "          1.8968e-02,  6.1834e-02,  4.2575e-02, -6.1796e-02,  4.3804e-02,\n",
      "          3.6751e-02,  3.5548e-02, -5.4148e-02,  3.6562e-03, -4.1449e-02,\n",
      "         -3.4231e-02,  5.7724e-02, -1.4425e-02, -3.6217e-02,  6.3066e-02,\n",
      "          8.9141e-03,  1.3369e-03,  3.2615e-02,  4.7063e-02, -1.8462e-02,\n",
      "          5.5850e-02,  3.0064e-02,  4.4357e-02, -2.3691e-02,  9.1650e-03,\n",
      "          4.6333e-02,  3.3233e-02,  3.8272e-02,  1.1732e-03,  5.1254e-02,\n",
      "         -2.6252e-02, -7.4478e-02,  1.0295e-02, -3.5352e-02,  1.0969e-02,\n",
      "         -2.8025e-02, -5.7561e-02,  3.0316e-02, -4.2666e-02,  4.3129e-02,\n",
      "         -3.1617e-02,  2.2042e-02,  1.2548e-02, -2.1751e-02, -5.6721e-02,\n",
      "          4.3202e-02, -1.5844e-02,  5.8707e-02,  4.2707e-02, -1.0445e-03,\n",
      "          4.6990e-02,  2.4715e-02,  8.2043e-03,  9.5328e-03,  2.6569e-03,\n",
      "         -3.0133e-03,  3.1855e-02, -4.2499e-03,  2.6914e-02,  3.2188e-02,\n",
      "          1.6802e-02, -4.5430e-03,  4.4974e-02,  3.6702e-02, -3.5927e-02,\n",
      "         -3.3919e-02, -7.3588e-03,  6.0502e-02, -2.5179e-02, -8.9775e-02,\n",
      "          3.7532e-02,  5.9521e-02,  7.6852e-03, -7.6885e-03,  4.0091e-02,\n",
      "          4.3061e-02,  2.7651e-02, -3.1829e-03, -7.4622e-02, -1.0497e-02,\n",
      "         -4.1752e-03, -5.7994e-02, -4.3419e-02,  2.8512e-02, -3.9067e-02,\n",
      "         -4.6843e-02,  2.9844e-02,  5.0196e-02, -2.5738e-02,  1.5387e-02,\n",
      "          1.0351e-02,  2.8782e-02, -1.3698e-02,  6.1038e-02, -1.9174e-02,\n",
      "          1.5420e-02,  1.5757e-02, -6.9867e-02, -5.6840e-02,  4.4015e-02,\n",
      "         -3.8161e-02, -5.7430e-02, -6.1036e-02, -1.6965e-02,  6.2268e-04,\n",
      "         -6.9059e-03,  2.7787e-02,  6.0646e-02,  3.2194e-02,  4.4911e-02,\n",
      "         -3.4754e-02, -5.3203e-02,  2.6914e-02, -1.3732e-03, -3.4885e-02,\n",
      "          7.5080e-03,  5.7719e-02,  3.9542e-02,  2.3587e-02, -5.0388e-02,\n",
      "          5.8094e-02, -3.9019e-02,  3.1513e-03,  6.0076e-02, -5.6537e-02,\n",
      "          5.3560e-02,  6.0546e-02,  9.7953e-02,  5.4141e-02, -6.4263e-02,\n",
      "          1.6496e-02, -7.7534e-03,  3.2706e-02, -2.7982e-02,  4.8617e-02,\n",
      "          4.4221e-03, -3.0432e-02,  4.2298e-02, -5.8477e-02, -8.0483e-02,\n",
      "          2.8907e-02,  1.0254e-02,  2.6948e-02,  2.8207e-02,  3.5465e-03,\n",
      "         -3.1387e-02, -4.7151e-02, -1.9608e-02,  5.7776e-02,  4.9565e-02,\n",
      "          7.3574e-03, -1.1060e-02,  2.3820e-02,  1.5949e-03,  1.8684e-02,\n",
      "          4.3342e-02,  4.9227e-02, -3.0676e-02, -1.5458e-03, -2.3540e-02,\n",
      "         -3.3041e-02, -1.4817e-02, -6.1946e-02, -5.4345e-02, -1.9758e-02,\n",
      "          5.1481e-02, -4.6538e-02,  1.7536e-02, -2.9167e-03,  4.6277e-03,\n",
      "         -2.4943e-02, -5.2975e-02,  3.6915e-02,  3.6195e-02, -8.3958e-03,\n",
      "          7.9177e-02,  4.5748e-02, -2.1994e-02,  3.2657e-02,  5.3045e-03,\n",
      "          4.3720e-02,  1.4843e-02, -7.8852e-02,  6.6261e-02,  1.3716e-02,\n",
      "          3.3600e-02, -1.5053e-02,  4.2410e-02,  1.5554e-02,  4.4690e-02,\n",
      "          1.6406e-02,  2.5876e-02,  3.8528e-03,  1.9143e-02,  2.6410e-02,\n",
      "          1.4230e-02, -5.5522e-02,  1.5600e-02,  2.1580e-02, -2.9821e-02,\n",
      "         -3.2974e-02,  3.5254e-03,  3.5041e-02,  1.0891e-02, -2.4589e-02,\n",
      "          5.3615e-02, -4.7787e-02,  7.4492e-02,  3.7332e-02,  2.3990e-02,\n",
      "          2.7012e-03, -3.0551e-03,  4.0579e-02,  6.5815e-02, -3.9522e-02,\n",
      "         -5.6885e-02,  7.1746e-02,  3.9367e-03,  3.3425e-02,  2.7463e-02,\n",
      "          5.6962e-02,  3.9524e-02,  5.6574e-02,  4.3428e-03,  9.4642e-02,\n",
      "         -1.6020e-02,  5.7154e-02, -2.7126e-02, -2.2566e-02, -5.4540e-05,\n",
      "         -3.0204e-02, -2.1830e-02,  1.7348e-02,  3.4275e-02, -2.6211e-02]],\n",
      "       grad_fn=<SliceBackward0>), tensor([ 0.2740, -0.0039], grad_fn=<SliceBackward0>)]\n"
     ]
    }
   ],
   "source": [
    "\n",
    "print(gtl.get_param_values(model, 3)) # ----using gtl library to list the first few values of the model parameters\n",
    "\n",
    "# Another handy function to print the few values of each parameter name to monitor changes in values"
   ]
  },
  {
   "cell_type": "markdown",
   "id": "a5d40f9d",
   "metadata": {},
   "source": [
    "## Scouts and guidance matrices"
   ]
  },
  {
   "cell_type": "markdown",
   "id": "6a29dc9f",
   "metadata": {},
   "source": [
    "### Creating scout indexes using ranges "
   ]
  },
  {
   "cell_type": "code",
   "execution_count": 29,
   "id": "8cc87aee",
   "metadata": {
    "ExecuteTime": {
     "end_time": "2024-03-16T15:31:57.885387Z",
     "start_time": "2024-03-16T15:31:57.882550Z"
    }
   },
   "outputs": [
    {
     "name": "stdout",
     "output_type": "stream",
     "text": [
      "A: [[1, 3, 12], [7, 8, 9, 10], [3, 4, 5, 6, 7, 8, 22, 28]]\n",
      "B: [[1, 3, 12], [7, 8, 9, 10], [3, 4, 5, 6, 7, 8, 22, 28]]\n",
      "C: [[1, 3, 12], [7, 8, 9, 10], [3, 4, 5, 6, 7, 8, 22, 28]]\n"
     ]
    }
   ],
   "source": [
    "# The above approach can be confusing due to the need to enter i+1. For that reason, \n",
    "# GTL library allows one more possibility  \n",
    "# enter the exact start and end... \n",
    "                \n",
    "# -----------------------------using gtl library-----------------------------------------\n",
    "#Let us say we have the following list of indexes to form three scouts:\n",
    "\n",
    "scout_indexes_A = [[1,3,12],                          # scout_1\n",
    "                   [7,8,9,10],                        # scout_2\n",
    "                   [3,4,5,6,7,8,22,28]]               # scout_3\n",
    "                   \n",
    "# One can notice that some of the indexes are consecutive e.g., 7 to 10 and 3 to 8. \n",
    "# Entering manually long sequences of consecutive numbers can be impractical.\n",
    "# It is more practical to enter just the beginning and the end of a list.\n",
    "# Python function list() and range() can be helpful to simplify entering the list \n",
    "# for scout_2: \n",
    "#     list(range(7, 11)\n",
    "# However, this does not allow simplifying scout_3, which combines a consecutive sequence \n",
    "# with two non-consecutive numbers (a sequence 3 to 8 followed by 22 and 28).\n",
    "\n",
    "# To facilitate specifying indexes for scouts consisting of a mixture of consecutive\n",
    "# and non-consecutive number sequences, gtl library offers two possibilities.\n",
    "\n",
    "# 1) Specify the beginning and the end of a consecutive sequence list using sub-lists of length one:\n",
    "\n",
    "scout_indexes_B = [[1,3,12],                   # scout_1\n",
    "                   [[7],[10]],                 # scout_2\n",
    "                   [[3],[8],22,28]]            # scout_3\n",
    "\n",
    "# After that call gtl.expand_scout_indexes() to expand the list\n",
    "\n",
    "scout_indexes_B = gtl.expand_scout_indexes(scout_indexes_B)\n",
    "\n",
    "# This will produce the idential result and entering the values manually.\n",
    "\n",
    "print(\"A:\", scout_indexes_A)\n",
    "print(\"B:\", scout_indexes_B)\n",
    "\n",
    "\n",
    "# 2) If number 1 does not provide sufficient clarity of feels non-pythonic, it is possible to specify\n",
    "#    the beginning and the end of a consecutive sequence list using a helper function gtl.c():\n",
    "\n",
    "scout_indexes_C = [[1,3,12],                       # scout_1\n",
    "                   [gtl.c(7), gtl.c(10)],          # scout_2\n",
    "                   [gtl.c(3), gtl.c(8), 22,28]]    # scout_3\n",
    "\n",
    "# which will produce idential results as the above approache\n",
    "\n",
    "scout_indexes_C = gtl.expand_scout_indexes(scout_indexes_C)\n",
    "print(\"C:\", scout_indexes_C)\n"
   ]
  },
  {
   "cell_type": "markdown",
   "id": "7fd68fae",
   "metadata": {},
   "source": [
    "### Inspecting the guidance matrix"
   ]
  },
  {
   "cell_type": "code",
   "execution_count": 30,
   "id": "f60e2c66",
   "metadata": {
    "ExecuteTime": {
     "end_time": "2024-03-16T15:31:57.888685Z",
     "start_time": "2024-03-16T15:31:57.885870Z"
    }
   },
   "outputs": [],
   "source": [
    "# Load a guidance matrix\n",
    "guidance_matrix = gtl.load_guidance_matrix()        # ----------using gtl library----------"
   ]
  },
  {
   "cell_type": "code",
   "execution_count": 31,
   "id": "f7eb5a55",
   "metadata": {
    "ExecuteTime": {
     "end_time": "2024-03-16T15:31:57.904393Z",
     "start_time": "2024-03-16T15:31:57.889149Z"
    }
   },
   "outputs": [
    {
     "name": "stdout",
     "output_type": "stream",
     "text": [
      "{'linear1.weight': tensor([[0., 0.],\n",
      "        [0., 0.],\n",
      "        [0., 0.],\n",
      "        ...,\n",
      "        [0., 0.],\n",
      "        [0., 0.],\n",
      "        [0., 0.]]), 'linear1.bias': tensor([0., 0.]), 'linear2.weight': tensor([[0., 0.],\n",
      "        [0., 0.],\n",
      "        [0., 0.],\n",
      "        [0., 0.],\n",
      "        [0., 0.],\n",
      "        [0., 0.],\n",
      "        [0., 0.],\n",
      "        [0., 0.],\n",
      "        [0., 0.],\n",
      "        [0., 0.],\n",
      "        [0., 0.],\n",
      "        [0., 0.],\n",
      "        [0., 0.],\n",
      "        [0., 0.],\n",
      "        [0., 0.],\n",
      "        [0., 0.],\n",
      "        [0., 0.],\n",
      "        [0., 0.],\n",
      "        [0., 0.],\n",
      "        [0., 0.],\n",
      "        [0., 0.],\n",
      "        [0., 0.],\n",
      "        [0., 0.],\n",
      "        [0., 0.],\n",
      "        [0., 0.],\n",
      "        [0., 0.],\n",
      "        [0., 0.],\n",
      "        [0., 0.],\n",
      "        [0., 0.],\n",
      "        [0., 0.],\n",
      "        [0., 0.],\n",
      "        [0., 0.],\n",
      "        [0., 0.],\n",
      "        [0., 0.],\n",
      "        [0., 0.],\n",
      "        [0., 0.],\n",
      "        [0., 0.],\n",
      "        [0., 0.],\n",
      "        [0., 0.],\n",
      "        [0., 0.],\n",
      "        [0., 0.],\n",
      "        [0., 0.],\n",
      "        [0., 0.],\n",
      "        [0., 0.],\n",
      "        [0., 0.],\n",
      "        [0., 0.],\n",
      "        [0., 0.],\n",
      "        [0., 0.],\n",
      "        [0., 0.],\n",
      "        [0., 0.],\n",
      "        [0., 0.],\n",
      "        [0., 0.],\n",
      "        [0., 0.],\n",
      "        [0., 0.],\n",
      "        [0., 0.],\n",
      "        [0., 0.],\n",
      "        [0., 0.],\n",
      "        [0., 0.],\n",
      "        [0., 0.],\n",
      "        [0., 0.],\n",
      "        [0., 0.],\n",
      "        [0., 0.],\n",
      "        [0., 0.],\n",
      "        [0., 0.],\n",
      "        [0., 0.],\n",
      "        [0., 0.],\n",
      "        [0., 0.],\n",
      "        [0., 0.],\n",
      "        [0., 0.],\n",
      "        [0., 0.],\n",
      "        [0., 0.],\n",
      "        [0., 0.],\n",
      "        [0., 0.],\n",
      "        [0., 0.],\n",
      "        [0., 0.],\n",
      "        [0., 0.],\n",
      "        [0., 0.],\n",
      "        [0., 0.],\n",
      "        [0., 0.],\n",
      "        [0., 0.],\n",
      "        [0., 0.],\n",
      "        [0., 0.],\n",
      "        [0., 0.],\n",
      "        [0., 0.],\n",
      "        [0., 0.],\n",
      "        [0., 0.],\n",
      "        [0., 0.],\n",
      "        [0., 0.],\n",
      "        [0., 0.],\n",
      "        [0., 0.],\n",
      "        [0., 0.],\n",
      "        [0., 0.],\n",
      "        [0., 0.],\n",
      "        [0., 0.],\n",
      "        [0., 0.],\n",
      "        [0., 0.],\n",
      "        [0., 0.],\n",
      "        [0., 0.],\n",
      "        [0., 0.],\n",
      "        [0., 0.],\n",
      "        [0., 0.],\n",
      "        [0., 0.],\n",
      "        [0., 0.],\n",
      "        [0., 0.],\n",
      "        [0., 0.],\n",
      "        [0., 0.],\n",
      "        [0., 0.],\n",
      "        [0., 0.],\n",
      "        [0., 0.],\n",
      "        [0., 0.],\n",
      "        [0., 0.],\n",
      "        [0., 0.],\n",
      "        [0., 0.],\n",
      "        [0., 0.],\n",
      "        [0., 0.],\n",
      "        [0., 0.],\n",
      "        [0., 0.],\n",
      "        [0., 0.],\n",
      "        [0., 0.],\n",
      "        [0., 0.],\n",
      "        [0., 0.],\n",
      "        [0., 0.],\n",
      "        [0., 0.],\n",
      "        [0., 0.],\n",
      "        [0., 0.],\n",
      "        [0., 0.],\n",
      "        [0., 0.],\n",
      "        [0., 0.],\n",
      "        [0., 0.],\n",
      "        [0., 0.],\n",
      "        [0., 0.],\n",
      "        [0., 0.],\n",
      "        [0., 0.],\n",
      "        [0., 0.],\n",
      "        [0., 0.],\n",
      "        [0., 0.],\n",
      "        [0., 0.],\n",
      "        [0., 0.],\n",
      "        [0., 0.],\n",
      "        [0., 0.],\n",
      "        [0., 0.],\n",
      "        [0., 0.],\n",
      "        [0., 0.],\n",
      "        [0., 0.],\n",
      "        [0., 0.],\n",
      "        [0., 0.],\n",
      "        [0., 0.],\n",
      "        [0., 0.],\n",
      "        [0., 0.],\n",
      "        [0., 0.],\n",
      "        [0., 0.],\n",
      "        [0., 0.],\n",
      "        [0., 0.],\n",
      "        [0., 0.],\n",
      "        [0., 0.],\n",
      "        [0., 0.],\n",
      "        [0., 0.],\n",
      "        [0., 0.],\n",
      "        [0., 0.],\n",
      "        [0., 0.],\n",
      "        [0., 0.],\n",
      "        [0., 0.],\n",
      "        [0., 0.],\n",
      "        [0., 0.],\n",
      "        [0., 0.],\n",
      "        [0., 0.],\n",
      "        [0., 0.],\n",
      "        [0., 0.],\n",
      "        [0., 0.],\n",
      "        [0., 0.],\n",
      "        [0., 0.],\n",
      "        [0., 0.],\n",
      "        [0., 0.],\n",
      "        [0., 0.],\n",
      "        [0., 0.],\n",
      "        [0., 0.],\n",
      "        [0., 0.],\n",
      "        [0., 0.],\n",
      "        [0., 0.],\n",
      "        [0., 0.],\n",
      "        [0., 0.],\n",
      "        [0., 0.],\n",
      "        [0., 0.],\n",
      "        [0., 0.],\n",
      "        [0., 0.],\n",
      "        [0., 0.],\n",
      "        [0., 0.],\n",
      "        [0., 0.],\n",
      "        [0., 0.],\n",
      "        [0., 0.],\n",
      "        [0., 0.],\n",
      "        [0., 0.],\n",
      "        [0., 0.],\n",
      "        [0., 0.],\n",
      "        [0., 0.],\n",
      "        [0., 0.],\n",
      "        [0., 0.],\n",
      "        [0., 0.],\n",
      "        [0., 0.],\n",
      "        [0., 0.],\n",
      "        [0., 0.],\n",
      "        [0., 0.],\n",
      "        [0., 0.],\n",
      "        [0., 0.],\n",
      "        [0., 0.],\n",
      "        [0., 0.],\n",
      "        [0., 0.],\n",
      "        [0., 0.],\n",
      "        [0., 0.],\n",
      "        [0., 0.],\n",
      "        [0., 0.],\n",
      "        [0., 0.],\n",
      "        [0., 0.],\n",
      "        [0., 0.],\n",
      "        [0., 0.],\n",
      "        [0., 0.],\n",
      "        [0., 0.],\n",
      "        [0., 0.],\n",
      "        [0., 0.],\n",
      "        [0., 0.],\n",
      "        [0., 0.],\n",
      "        [0., 0.],\n",
      "        [0., 0.],\n",
      "        [0., 0.],\n",
      "        [0., 0.],\n",
      "        [0., 0.],\n",
      "        [0., 0.],\n",
      "        [0., 0.],\n",
      "        [0., 0.],\n",
      "        [0., 0.],\n",
      "        [0., 0.],\n",
      "        [0., 0.],\n",
      "        [0., 0.],\n",
      "        [0., 0.],\n",
      "        [0., 0.],\n",
      "        [0., 0.],\n",
      "        [0., 0.],\n",
      "        [0., 0.],\n",
      "        [0., 0.],\n",
      "        [0., 0.],\n",
      "        [0., 0.],\n",
      "        [0., 0.],\n",
      "        [0., 0.],\n",
      "        [0., 0.],\n",
      "        [0., 0.],\n",
      "        [0., 0.],\n",
      "        [0., 0.],\n",
      "        [0., 0.],\n",
      "        [0., 0.],\n",
      "        [0., 0.]]), 'linear2.bias': tensor([0., 0.]), 'linear3.weight': tensor([[0., 0.],\n",
      "        [0., 0.]]), 'linear3.bias': tensor([0., 0.])}\n"
     ]
    }
   ],
   "source": [
    "# Use get_guide_values() to print some of the values in guidance matrix\n",
    "print(gtl.get_guidance_values(guidance_matrix))     # ----------using gtl library"
   ]
  },
  {
   "cell_type": "code",
   "execution_count": 32,
   "id": "63389603",
   "metadata": {
    "ExecuteTime": {
     "end_time": "2024-03-16T15:31:57.975787Z",
     "start_time": "2024-03-16T15:31:57.904940Z"
    }
   },
   "outputs": [
    {
     "data": {
      "image/png": "[encoded data removed]",
      "text/plain": [
       "<Figure size 640x480 with 1 Axes>"
      ]
     },
     "metadata": {},
     "output_type": "display_data"
    }
   ],
   "source": [
    "# A GTL function to plot the distribution of values in the guidance matrix\n",
    "gtl.plot_guidance_distribution(guidance_matrix, name=\"linear1.weight\")    # ----------using gtl library\n"
   ]
  },
  {
   "cell_type": "code",
   "execution_count": 33,
   "id": "4127c78f",
   "metadata": {
    "ExecuteTime": {
     "end_time": "2024-03-16T15:31:58.047521Z",
     "start_time": "2024-03-16T15:31:57.977410Z"
    }
   },
   "outputs": [
    {
     "data": {
      "image/png": "[encoded data removed]",
      "text/plain": [
       "<Figure size 640x480 with 1 Axes>"
      ]
     },
     "metadata": {},
     "output_type": "display_data"
    }
   ],
   "source": [
    "gtl.plot_guidance_distribution(guidance_matrix, name=\"linear1.bias\")    # ----------using gtl library"
   ]
  },
  {
   "cell_type": "markdown",
   "id": "9133ca53",
   "metadata": {},
   "source": [
    "### Adjusting guidance matrix"
   ]
  },
  {
   "cell_type": "code",
   "execution_count": 34,
   "id": "7da56671",
   "metadata": {
    "ExecuteTime": {
     "end_time": "2024-03-16T15:31:58.076362Z",
     "start_time": "2024-03-16T15:31:58.048103Z"
    }
   },
   "outputs": [
    {
     "data": {
      "text/plain": [
       "{'linear1.weight': tensor([[0., 0.],\n",
       "         [0., 0.],\n",
       "         [0., 0.],\n",
       "         ...,\n",
       "         [0., 0.],\n",
       "         [0., 0.],\n",
       "         [0., 0.]]),\n",
       " 'linear1.bias': tensor([0., 0., 0., 0., 0., 0., 0., 0., 0., 0., 0., 0., 0., 0., 0., 0., 0., 0., 0., 0., 0., 0., 0., 0.,\n",
       "         0., 0., 0., 0., 0., 0., 0., 0., 0., 0., 0., 0., 0., 0., 0., 0., 0., 0., 0., 0., 0., 0., 0., 0.,\n",
       "         0., 0., 0., 0., 0., 0., 0., 0., 0., 0., 0., 0., 0., 0., 0., 0., 0., 0., 0., 0., 0., 0., 0., 0.,\n",
       "         0., 0., 0., 0., 0., 0., 0., 0., 0., 0., 0., 0., 0., 0., 0., 0., 0., 0., 0., 0., 0., 0., 0., 0.,\n",
       "         0., 0., 0., 0., 0., 0., 0., 0., 0., 0., 0., 0., 0., 0., 0., 0., 0., 0., 0., 0., 0., 0., 0., 0.,\n",
       "         0., 0., 0., 0., 0., 0., 0., 0., 0., 0., 0., 0., 0., 0., 0., 0., 0., 0., 0., 0., 0., 0., 0., 0.,\n",
       "         0., 0., 0., 0., 0., 0., 0., 0., 0., 0., 0., 0., 0., 0., 0., 0., 0., 0., 0., 0., 0., 0., 0., 0.,\n",
       "         0., 0., 0., 0., 0., 0., 0., 0., 0., 0., 0., 0., 0., 0., 0., 0., 0., 0., 0., 0., 0., 0., 0., 0.,\n",
       "         0., 0., 0., 0., 0., 0., 0., 0., 0., 0., 0., 0., 0., 0., 0., 0., 0., 0., 0., 0., 0., 0., 0., 0.,\n",
       "         0., 0., 0., 0., 0., 0., 0., 0., 0., 0., 0., 0., 0., 0., 0., 0., 0., 0., 0., 0., 0., 0., 0., 0.,\n",
       "         0., 0., 0., 0., 0., 0., 0., 0., 0., 0., 0., 0., 0., 0., 0., 0., 0., 0., 0., 0., 0., 0., 0., 0.,\n",
       "         0., 0., 0., 0., 0., 0., 0., 0., 0., 0., 0., 0., 0., 0., 0., 0., 0., 0., 0., 0., 0., 0., 0., 0.,\n",
       "         0., 0., 0., 0., 0., 0., 0., 0., 0., 0., 0., 0., 0., 0., 0., 0., 0., 0., 0., 0., 0., 0., 0., 0.,\n",
       "         0., 0., 0., 0., 0., 0., 0., 0., 0., 0., 0., 0., 0., 0., 0., 0., 0., 0., 0., 0., 0., 0., 0., 0.,\n",
       "         0., 0., 0., 0., 0., 0., 0., 0., 0., 0., 0., 0., 0., 0., 0., 0., 0., 0., 0., 0., 0., 0., 0., 0.,\n",
       "         0., 0., 0., 0., 0., 0., 0., 0., 0., 0., 0., 0., 0., 0., 0., 0., 0., 0., 0., 0., 0., 0., 0., 0.,\n",
       "         0., 0., 0., 0., 0., 0., 0., 0., 0., 0., 0., 0., 0., 0., 0., 0., 0., 0., 0., 0., 0., 0., 0., 0.,\n",
       "         0., 0., 0., 0., 0., 0., 0., 0., 0., 0., 0., 0., 0., 0., 0., 0., 0., 0., 0., 0., 0., 0., 0., 0.,\n",
       "         0., 0., 0., 0., 0., 0., 0., 0., 0., 0., 0., 0., 0., 0., 0., 0., 0., 0., 0., 0., 0., 0., 0., 0.,\n",
       "         0., 0., 0., 0., 0., 0., 0., 0., 0., 0., 0., 0., 0., 0., 0., 0., 0., 0., 0., 0., 0., 0., 0., 0.,\n",
       "         0., 0., 0., 0., 0., 0., 0., 0., 0., 0., 0., 0., 0., 0., 0., 0., 0., 0., 0., 0., 0., 0., 0., 0.,\n",
       "         0., 0., 0., 0., 0., 0., 0., 0., 0., 0., 0., 0., 0., 0., 0., 0., 0., 0., 0., 0., 0., 0., 0., 0.,\n",
       "         0., 0., 0., 0., 0., 0., 0., 0., 0., 0., 0., 0., 0., 0., 0., 0., 0., 0., 0., 0., 0., 0., 0., 0.,\n",
       "         0., 0., 0., 0., 0., 0., 0., 0., 0., 0., 0., 0., 0., 0., 0., 0., 0., 0., 0., 0., 0., 0., 0., 0.,\n",
       "         0., 0., 0., 0., 0., 0., 0., 0., 0., 0., 0., 0., 0., 0., 0., 0., 0., 0., 0., 0., 0., 0., 0., 0.,\n",
       "         0., 0., 0., 0., 0., 0., 0., 0., 0., 0., 0., 0., 0., 0., 0., 0., 0., 0., 0., 0., 0., 0., 0., 0.,\n",
       "         0., 0., 0., 0., 0., 0., 0., 0., 0., 0., 0., 0., 0., 0., 0., 0., 0., 0., 0., 0., 0., 0., 0., 0.,\n",
       "         0., 0., 0., 0., 0., 0., 0., 0., 0., 0., 0., 0., 0., 0., 0., 0., 0., 0., 0., 0., 0., 0., 0., 0.,\n",
       "         0., 0., 0., 0., 0., 0., 0., 0., 0., 0., 0., 0., 0., 0., 0., 0., 0., 0., 0., 0., 0., 0., 0., 0.,\n",
       "         0., 0., 0., 0., 0., 0., 0., 0., 0., 0., 0., 0., 0., 0., 0., 0., 0., 0., 0., 0., 0., 0., 0., 0.,\n",
       "         0., 0., 0., 0., 0., 0., 0., 0., 0., 0., 0., 0., 0., 0., 0., 0., 0., 0., 0., 0., 0., 0., 0., 0.,\n",
       "         0., 0., 0., 0., 0., 0., 0., 0., 0., 0., 0., 0., 0., 0., 0., 0., 0., 0., 0., 0., 0., 0., 0., 0.,\n",
       "         0., 0., 0., 0., 0., 0., 0., 0., 0., 0., 0., 0., 0., 0., 0., 0., 0., 0., 0., 0., 0., 0., 0., 0.,\n",
       "         0., 0., 0., 0., 0., 0., 0., 0., 0., 0., 0., 0., 0., 0., 0., 0., 0., 0., 0., 0., 0., 0., 0., 0.,\n",
       "         0., 0., 0., 0., 0., 0., 0., 0., 0., 0., 0., 0., 0., 0., 0., 0., 0., 0., 0., 0., 0., 0., 0., 0.,\n",
       "         0., 0., 0., 0., 0., 0., 0., 0., 0., 0., 0., 0., 0., 0., 0., 0., 0., 0., 0., 0., 0., 0., 0., 0.,\n",
       "         0., 0., 0., 0., 0., 0., 0., 0., 0., 0., 0., 0., 0., 0., 0., 0., 0., 0., 0., 0., 0., 0., 0., 0.,\n",
       "         0., 0., 0., 0., 0., 0., 0., 0., 0., 0., 0., 0., 0., 0., 0., 0., 0., 0., 0., 0., 0., 0., 0., 0.,\n",
       "         0., 0., 0., 0., 0., 0., 0., 0., 0., 0., 0., 0., 0., 0., 0., 0., 0., 0., 0., 0., 0., 0., 0., 0.,\n",
       "         0., 0., 0., 0., 0., 0., 0., 0., 0., 0., 0., 0., 0., 0., 0., 0., 0., 0., 0., 0., 0., 0., 0., 0.,\n",
       "         0., 0., 0., 0., 0., 0., 0., 0., 0., 0., 0., 0., 0., 0., 0., 0., 0., 0., 0., 0., 0., 0., 0., 0.,\n",
       "         0., 0., 0., 0., 0., 0., 0., 0., 0., 0., 0., 0., 0., 0., 0., 0.]),\n",
       " 'linear2.weight': tensor([[0., 0., 0.,  ..., 0., 0., 0.],\n",
       "         [0., 0., 0.,  ..., 0., 0., 0.],\n",
       "         [0., 0., 0.,  ..., 0., 0., 0.],\n",
       "         ...,\n",
       "         [0., 0., 0.,  ..., 0., 0., 0.],\n",
       "         [0., 0., 0.,  ..., 0., 0., 0.],\n",
       "         [0., 0., 0.,  ..., 0., 0., 0.]]),\n",
       " 'linear2.bias': tensor([0., 0., 0., 0., 0., 0., 0., 0., 0., 0., 0., 0., 0., 0., 0., 0., 0., 0., 0., 0., 0., 0., 0., 0.,\n",
       "         0., 0., 0., 0., 0., 0., 0., 0., 0., 0., 0., 0., 0., 0., 0., 0., 0., 0., 0., 0., 0., 0., 0., 0.,\n",
       "         0., 0., 0., 0., 0., 0., 0., 0., 0., 0., 0., 0., 0., 0., 0., 0., 0., 0., 0., 0., 0., 0., 0., 0.,\n",
       "         0., 0., 0., 0., 0., 0., 0., 0., 0., 0., 0., 0., 0., 0., 0., 0., 0., 0., 0., 0., 0., 0., 0., 0.,\n",
       "         0., 0., 0., 0., 0., 0., 0., 0., 0., 0., 0., 0., 0., 0., 0., 0., 0., 0., 0., 0., 0., 0., 0., 0.,\n",
       "         0., 0., 0., 0., 0., 0., 0., 0., 0., 0., 0., 0., 0., 0., 0., 0., 0., 0., 0., 0., 0., 0., 0., 0.,\n",
       "         0., 0., 0., 0., 0., 0., 0., 0., 0., 0., 0., 0., 0., 0., 0., 0., 0., 0., 0., 0., 0., 0., 0., 0.,\n",
       "         0., 0., 0., 0., 0., 0., 0., 0., 0., 0., 0., 0., 0., 0., 0., 0., 0., 0., 0., 0., 0., 0., 0., 0.,\n",
       "         0., 0., 0., 0., 0., 0., 0., 0., 0., 0., 0., 0., 0., 0., 0., 0., 0., 0., 0., 0., 0., 0., 0., 0.,\n",
       "         0., 0., 0., 0., 0., 0., 0., 0., 0., 0., 0., 0., 0., 0., 0., 0., 0., 0., 0., 0., 0., 0., 0., 0.,\n",
       "         0., 0., 0., 0., 0., 0., 0., 0., 0., 0.]),\n",
       " 'linear3.weight': tensor([[0., 0., 0., 0., 0., 0., 0., 0., 0., 0., 0., 0., 0., 0., 0., 0., 0., 0., 0., 0., 0., 0., 0., 0.,\n",
       "          0., 0., 0., 0., 0., 0., 0., 0., 0., 0., 0., 0., 0., 0., 0., 0., 0., 0., 0., 0., 0., 0., 0., 0.,\n",
       "          0., 0., 0., 0., 0., 0., 0., 0., 0., 0., 0., 0., 0., 0., 0., 0., 0., 0., 0., 0., 0., 0., 0., 0.,\n",
       "          0., 0., 0., 0., 0., 0., 0., 0., 0., 0., 0., 0., 0., 0., 0., 0., 0., 0., 0., 0., 0., 0., 0., 0.,\n",
       "          0., 0., 0., 0., 0., 0., 0., 0., 0., 0., 0., 0., 0., 0., 0., 0., 0., 0., 0., 0., 0., 0., 0., 0.,\n",
       "          0., 0., 0., 0., 0., 0., 0., 0., 0., 0., 0., 0., 0., 0., 0., 0., 0., 0., 0., 0., 0., 0., 0., 0.,\n",
       "          0., 0., 0., 0., 0., 0., 0., 0., 0., 0., 0., 0., 0., 0., 0., 0., 0., 0., 0., 0., 0., 0., 0., 0.,\n",
       "          0., 0., 0., 0., 0., 0., 0., 0., 0., 0., 0., 0., 0., 0., 0., 0., 0., 0., 0., 0., 0., 0., 0., 0.,\n",
       "          0., 0., 0., 0., 0., 0., 0., 0., 0., 0., 0., 0., 0., 0., 0., 0., 0., 0., 0., 0., 0., 0., 0., 0.,\n",
       "          0., 0., 0., 0., 0., 0., 0., 0., 0., 0., 0., 0., 0., 0., 0., 0., 0., 0., 0., 0., 0., 0., 0., 0.,\n",
       "          0., 0., 0., 0., 0., 0., 0., 0., 0., 0.],\n",
       "         [0., 0., 0., 0., 0., 0., 0., 0., 0., 0., 0., 0., 0., 0., 0., 0., 0., 0., 0., 0., 0., 0., 0., 0.,\n",
       "          0., 0., 0., 0., 0., 0., 0., 0., 0., 0., 0., 0., 0., 0., 0., 0., 0., 0., 0., 0., 0., 0., 0., 0.,\n",
       "          0., 0., 0., 0., 0., 0., 0., 0., 0., 0., 0., 0., 0., 0., 0., 0., 0., 0., 0., 0., 0., 0., 0., 0.,\n",
       "          0., 0., 0., 0., 0., 0., 0., 0., 0., 0., 0., 0., 0., 0., 0., 0., 0., 0., 0., 0., 0., 0., 0., 0.,\n",
       "          0., 0., 0., 0., 0., 0., 0., 0., 0., 0., 0., 0., 0., 0., 0., 0., 0., 0., 0., 0., 0., 0., 0., 0.,\n",
       "          0., 0., 0., 0., 0., 0., 0., 0., 0., 0., 0., 0., 0., 0., 0., 0., 0., 0., 0., 0., 0., 0., 0., 0.,\n",
       "          0., 0., 0., 0., 0., 0., 0., 0., 0., 0., 0., 0., 0., 0., 0., 0., 0., 0., 0., 0., 0., 0., 0., 0.,\n",
       "          0., 0., 0., 0., 0., 0., 0., 0., 0., 0., 0., 0., 0., 0., 0., 0., 0., 0., 0., 0., 0., 0., 0., 0.,\n",
       "          0., 0., 0., 0., 0., 0., 0., 0., 0., 0., 0., 0., 0., 0., 0., 0., 0., 0., 0., 0., 0., 0., 0., 0.,\n",
       "          0., 0., 0., 0., 0., 0., 0., 0., 0., 0., 0., 0., 0., 0., 0., 0., 0., 0., 0., 0., 0., 0., 0., 0.,\n",
       "          0., 0., 0., 0., 0., 0., 0., 0., 0., 0.]]),\n",
       " 'linear3.bias': tensor([0., 0.])}"
      ]
     },
     "execution_count": 34,
     "metadata": {},
     "output_type": "execute_result"
    }
   ],
   "source": [
    "gtl.adjust_guidance_matrix(guidance_matrix, 'zero_enforced_and_normalized', 'warm')\n",
    "gtl.scale_guidance_matrix(guidance_matrix, 2)   # ----------using gtl library"
   ]
  },
  {
   "cell_type": "code",
   "execution_count": 35,
   "id": "670999b1",
   "metadata": {
    "ExecuteTime": {
     "end_time": "2024-03-16T15:31:58.149417Z",
     "start_time": "2024-03-16T15:31:58.076948Z"
    }
   },
   "outputs": [
    {
     "data": {
      "image/png": "[encoded data removed]",
      "text/plain": [
       "<Figure size 640x480 with 1 Axes>"
      ]
     },
     "metadata": {},
     "output_type": "display_data"
    }
   ],
   "source": [
    "# plot the distribution of the matrix after the adjusting\n",
    "gtl.plot_guidance_distribution(guidance_matrix, name=\"linear1.weight\")    # ----------using gtl library"
   ]
  },
  {
   "cell_type": "code",
   "execution_count": 36,
   "id": "923f5ecd",
   "metadata": {
    "ExecuteTime": {
     "end_time": "2024-03-16T15:31:58.173908Z",
     "start_time": "2024-03-16T15:31:58.149953Z"
    }
   },
   "outputs": [
    {
     "data": {
      "text/plain": [
       "{'linear1.weight': tensor([[0.2500, 0.2500],\n",
       "         [0.2500, 0.2500],\n",
       "         [0.2500, 0.2500],\n",
       "         ...,\n",
       "         [0.2500, 0.2500],\n",
       "         [0.2500, 0.2500],\n",
       "         [0.2500, 0.2500]]),\n",
       " 'linear1.bias': tensor([0.2500, 0.2500, 0.2500, 0.2500, 0.2500, 0.2500, 0.2500, 0.2500, 0.2500,\n",
       "         0.2500, 0.2500, 0.2500, 0.2500, 0.2500, 0.2500, 0.2500, 0.2500, 0.2500,\n",
       "         0.2500, 0.2500, 0.2500, 0.2500, 0.2500, 0.2500, 0.2500, 0.2500, 0.2500,\n",
       "         0.2500, 0.2500, 0.2500, 0.2500, 0.2500, 0.2500, 0.2500, 0.2500, 0.2500,\n",
       "         0.2500, 0.2500, 0.2500, 0.2500, 0.2500, 0.2500, 0.2500, 0.2500, 0.2500,\n",
       "         0.2500, 0.2500, 0.2500, 0.2500, 0.2500, 0.2500, 0.2500, 0.2500, 0.2500,\n",
       "         0.2500, 0.2500, 0.2500, 0.2500, 0.2500, 0.2500, 0.2500, 0.2500, 0.2500,\n",
       "         0.2500, 0.2500, 0.2500, 0.2500, 0.2500, 0.2500, 0.2500, 0.2500, 0.2500,\n",
       "         0.2500, 0.2500, 0.2500, 0.2500, 0.2500, 0.2500, 0.2500, 0.2500, 0.2500,\n",
       "         0.2500, 0.2500, 0.2500, 0.2500, 0.2500, 0.2500, 0.2500, 0.2500, 0.2500,\n",
       "         0.2500, 0.2500, 0.2500, 0.2500, 0.2500, 0.2500, 0.2500, 0.2500, 0.2500,\n",
       "         0.2500, 0.2500, 0.2500, 0.2500, 0.2500, 0.2500, 0.2500, 0.2500, 0.2500,\n",
       "         0.2500, 0.2500, 0.2500, 0.2500, 0.2500, 0.2500, 0.2500, 0.2500, 0.2500,\n",
       "         0.2500, 0.2500, 0.2500, 0.2500, 0.2500, 0.2500, 0.2500, 0.2500, 0.2500,\n",
       "         0.2500, 0.2500, 0.2500, 0.2500, 0.2500, 0.2500, 0.2500, 0.2500, 0.2500,\n",
       "         0.2500, 0.2500, 0.2500, 0.2500, 0.2500, 0.2500, 0.2500, 0.2500, 0.2500,\n",
       "         0.2500, 0.2500, 0.2500, 0.2500, 0.2500, 0.2500, 0.2500, 0.2500, 0.2500,\n",
       "         0.2500, 0.2500, 0.2500, 0.2500, 0.2500, 0.2500, 0.2500, 0.2500, 0.2500,\n",
       "         0.2500, 0.2500, 0.2500, 0.2500, 0.2500, 0.2500, 0.2500, 0.2500, 0.2500,\n",
       "         0.2500, 0.2500, 0.2500, 0.2500, 0.2500, 0.2500, 0.2500, 0.2500, 0.2500,\n",
       "         0.2500, 0.2500, 0.2500, 0.2500, 0.2500, 0.2500, 0.2500, 0.2500, 0.2500,\n",
       "         0.2500, 0.2500, 0.2500, 0.2500, 0.2500, 0.2500, 0.2500, 0.2500, 0.2500,\n",
       "         0.2500, 0.2500, 0.2500, 0.2500, 0.2500, 0.2500, 0.2500, 0.2500, 0.2500,\n",
       "         0.2500, 0.2500, 0.2500, 0.2500, 0.2500, 0.2500, 0.2500, 0.2500, 0.2500,\n",
       "         0.2500, 0.2500, 0.2500, 0.2500, 0.2500, 0.2500, 0.2500, 0.2500, 0.2500,\n",
       "         0.2500, 0.2500, 0.2500, 0.2500, 0.2500, 0.2500, 0.2500, 0.2500, 0.2500,\n",
       "         0.2500, 0.2500, 0.2500, 0.2500, 0.2500, 0.2500, 0.2500, 0.2500, 0.2500,\n",
       "         0.2500, 0.2500, 0.2500, 0.2500, 0.2500, 0.2500, 0.2500, 0.2500, 0.2500,\n",
       "         0.2500, 0.2500, 0.2500, 0.2500, 0.2500, 0.2500, 0.2500, 0.2500, 0.2500,\n",
       "         0.2500, 0.2500, 0.2500, 0.2500, 0.2500, 0.2500, 0.2500, 0.2500, 0.2500,\n",
       "         0.2500, 0.2500, 0.2500, 0.2500, 0.2500, 0.2500, 0.2500, 0.2500, 0.2500,\n",
       "         0.2500, 0.2500, 0.2500, 0.2500, 0.2500, 0.2500, 0.2500, 0.2500, 0.2500,\n",
       "         0.2500, 0.2500, 0.2500, 0.2500, 0.2500, 0.2500, 0.2500, 0.2500, 0.2500,\n",
       "         0.2500, 0.2500, 0.2500, 0.2500, 0.2500, 0.2500, 0.2500, 0.2500, 0.2500,\n",
       "         0.2500, 0.2500, 0.2500, 0.2500, 0.2500, 0.2500, 0.2500, 0.2500, 0.2500,\n",
       "         0.2500, 0.2500, 0.2500, 0.2500, 0.2500, 0.2500, 0.2500, 0.2500, 0.2500,\n",
       "         0.2500, 0.2500, 0.2500, 0.2500, 0.2500, 0.2500, 0.2500, 0.2500, 0.2500,\n",
       "         0.2500, 0.2500, 0.2500, 0.2500, 0.2500, 0.2500, 0.2500, 0.2500, 0.2500,\n",
       "         0.2500, 0.2500, 0.2500, 0.2500, 0.2500, 0.2500, 0.2500, 0.2500, 0.2500,\n",
       "         0.2500, 0.2500, 0.2500, 0.2500, 0.2500, 0.2500, 0.2500, 0.2500, 0.2500,\n",
       "         0.2500, 0.2500, 0.2500, 0.2500, 0.2500, 0.2500, 0.2500, 0.2500, 0.2500,\n",
       "         0.2500, 0.2500, 0.2500, 0.2500, 0.2500, 0.2500, 0.2500, 0.2500, 0.2500,\n",
       "         0.2500, 0.2500, 0.2500, 0.2500, 0.2500, 0.2500, 0.2500, 0.2500, 0.2500,\n",
       "         0.2500, 0.2500, 0.2500, 0.2500, 0.2500, 0.2500, 0.2500, 0.2500, 0.2500,\n",
       "         0.2500, 0.2500, 0.2500, 0.2500, 0.2500, 0.2500, 0.2500, 0.2500, 0.2500,\n",
       "         0.2500, 0.2500, 0.2500, 0.2500, 0.2500, 0.2500, 0.2500, 0.2500, 0.2500,\n",
       "         0.2500, 0.2500, 0.2500, 0.2500, 0.2500, 0.2500, 0.2500, 0.2500, 0.2500,\n",
       "         0.2500, 0.2500, 0.2500, 0.2500, 0.2500, 0.2500, 0.2500, 0.2500, 0.2500,\n",
       "         0.2500, 0.2500, 0.2500, 0.2500, 0.2500, 0.2500, 0.2500, 0.2500, 0.2500,\n",
       "         0.2500, 0.2500, 0.2500, 0.2500, 0.2500, 0.2500, 0.2500, 0.2500, 0.2500,\n",
       "         0.2500, 0.2500, 0.2500, 0.2500, 0.2500, 0.2500, 0.2500, 0.2500, 0.2500,\n",
       "         0.2500, 0.2500, 0.2500, 0.2500, 0.2500, 0.2500, 0.2500, 0.2500, 0.2500,\n",
       "         0.2500, 0.2500, 0.2500, 0.2500, 0.2500, 0.2500, 0.2500, 0.2500, 0.2500,\n",
       "         0.2500, 0.2500, 0.2500, 0.2500, 0.2500, 0.2500, 0.2500, 0.2500, 0.2500,\n",
       "         0.2500, 0.2500, 0.2500, 0.2500, 0.2500, 0.2500, 0.2500, 0.2500, 0.2500,\n",
       "         0.2500, 0.2500, 0.2500, 0.2500, 0.2500, 0.2500, 0.2500, 0.2500, 0.2500,\n",
       "         0.2500, 0.2500, 0.2500, 0.2500, 0.2500, 0.2500, 0.2500, 0.2500, 0.2500,\n",
       "         0.2500, 0.2500, 0.2500, 0.2500, 0.2500, 0.2500, 0.2500, 0.2500, 0.2500,\n",
       "         0.2500, 0.2500, 0.2500, 0.2500, 0.2500, 0.2500, 0.2500, 0.2500, 0.2500,\n",
       "         0.2500, 0.2500, 0.2500, 0.2500, 0.2500, 0.2500, 0.2500, 0.2500, 0.2500,\n",
       "         0.2500, 0.2500, 0.2500, 0.2500, 0.2500, 0.2500, 0.2500, 0.2500, 0.2500,\n",
       "         0.2500, 0.2500, 0.2500, 0.2500, 0.2500, 0.2500, 0.2500, 0.2500, 0.2500,\n",
       "         0.2500, 0.2500, 0.2500, 0.2500, 0.2500, 0.2500, 0.2500, 0.2500, 0.2500,\n",
       "         0.2500, 0.2500, 0.2500, 0.2500, 0.2500, 0.2500, 0.2500, 0.2500, 0.2500,\n",
       "         0.2500, 0.2500, 0.2500, 0.2500, 0.2500, 0.2500, 0.2500, 0.2500, 0.2500,\n",
       "         0.2500, 0.2500, 0.2500, 0.2500, 0.2500, 0.2500, 0.2500, 0.2500, 0.2500,\n",
       "         0.2500, 0.2500, 0.2500, 0.2500, 0.2500, 0.2500, 0.2500, 0.2500, 0.2500,\n",
       "         0.2500, 0.2500, 0.2500, 0.2500, 0.2500, 0.2500, 0.2500, 0.2500, 0.2500,\n",
       "         0.2500, 0.2500, 0.2500, 0.2500, 0.2500, 0.2500, 0.2500, 0.2500, 0.2500,\n",
       "         0.2500, 0.2500, 0.2500, 0.2500, 0.2500, 0.2500, 0.2500, 0.2500, 0.2500,\n",
       "         0.2500, 0.2500, 0.2500, 0.2500, 0.2500, 0.2500, 0.2500, 0.2500, 0.2500,\n",
       "         0.2500, 0.2500, 0.2500, 0.2500, 0.2500, 0.2500, 0.2500, 0.2500, 0.2500,\n",
       "         0.2500, 0.2500, 0.2500, 0.2500, 0.2500, 0.2500, 0.2500, 0.2500, 0.2500,\n",
       "         0.2500, 0.2500, 0.2500, 0.2500, 0.2500, 0.2500, 0.2500, 0.2500, 0.2500,\n",
       "         0.2500, 0.2500, 0.2500, 0.2500, 0.2500, 0.2500, 0.2500, 0.2500, 0.2500,\n",
       "         0.2500, 0.2500, 0.2500, 0.2500, 0.2500, 0.2500, 0.2500, 0.2500, 0.2500,\n",
       "         0.2500, 0.2500, 0.2500, 0.2500, 0.2500, 0.2500, 0.2500, 0.2500, 0.2500,\n",
       "         0.2500, 0.2500, 0.2500, 0.2500, 0.2500, 0.2500, 0.2500, 0.2500, 0.2500,\n",
       "         0.2500, 0.2500, 0.2500, 0.2500, 0.2500, 0.2500, 0.2500, 0.2500, 0.2500,\n",
       "         0.2500, 0.2500, 0.2500, 0.2500, 0.2500, 0.2500, 0.2500, 0.2500, 0.2500,\n",
       "         0.2500, 0.2500, 0.2500, 0.2500, 0.2500, 0.2500, 0.2500, 0.2500, 0.2500,\n",
       "         0.2500, 0.2500, 0.2500, 0.2500, 0.2500, 0.2500, 0.2500, 0.2500, 0.2500,\n",
       "         0.2500, 0.2500, 0.2500, 0.2500, 0.2500, 0.2500, 0.2500, 0.2500, 0.2500,\n",
       "         0.2500, 0.2500, 0.2500, 0.2500, 0.2500, 0.2500, 0.2500, 0.2500, 0.2500,\n",
       "         0.2500, 0.2500, 0.2500, 0.2500, 0.2500, 0.2500, 0.2500, 0.2500, 0.2500,\n",
       "         0.2500, 0.2500, 0.2500, 0.2500, 0.2500, 0.2500, 0.2500, 0.2500, 0.2500,\n",
       "         0.2500, 0.2500, 0.2500, 0.2500, 0.2500, 0.2500, 0.2500, 0.2500, 0.2500,\n",
       "         0.2500, 0.2500, 0.2500, 0.2500, 0.2500, 0.2500, 0.2500, 0.2500, 0.2500,\n",
       "         0.2500, 0.2500, 0.2500, 0.2500, 0.2500, 0.2500, 0.2500, 0.2500, 0.2500,\n",
       "         0.2500, 0.2500, 0.2500, 0.2500, 0.2500, 0.2500, 0.2500, 0.2500, 0.2500,\n",
       "         0.2500, 0.2500, 0.2500, 0.2500, 0.2500, 0.2500, 0.2500, 0.2500, 0.2500,\n",
       "         0.2500, 0.2500, 0.2500, 0.2500, 0.2500, 0.2500, 0.2500, 0.2500, 0.2500,\n",
       "         0.2500, 0.2500, 0.2500, 0.2500, 0.2500, 0.2500, 0.2500, 0.2500, 0.2500,\n",
       "         0.2500, 0.2500, 0.2500, 0.2500, 0.2500, 0.2500, 0.2500, 0.2500, 0.2500,\n",
       "         0.2500, 0.2500, 0.2500, 0.2500, 0.2500, 0.2500, 0.2500, 0.2500, 0.2500,\n",
       "         0.2500, 0.2500, 0.2500, 0.2500, 0.2500, 0.2500, 0.2500, 0.2500, 0.2500,\n",
       "         0.2500, 0.2500, 0.2500, 0.2500, 0.2500, 0.2500, 0.2500, 0.2500, 0.2500,\n",
       "         0.2500, 0.2500, 0.2500, 0.2500, 0.2500, 0.2500, 0.2500, 0.2500, 0.2500,\n",
       "         0.2500, 0.2500, 0.2500, 0.2500, 0.2500, 0.2500, 0.2500, 0.2500, 0.2500,\n",
       "         0.2500, 0.2500, 0.2500, 0.2500, 0.2500, 0.2500, 0.2500, 0.2500, 0.2500,\n",
       "         0.2500, 0.2500, 0.2500, 0.2500, 0.2500, 0.2500, 0.2500, 0.2500, 0.2500,\n",
       "         0.2500, 0.2500, 0.2500, 0.2500, 0.2500, 0.2500, 0.2500, 0.2500, 0.2500,\n",
       "         0.2500, 0.2500, 0.2500, 0.2500, 0.2500, 0.2500, 0.2500, 0.2500, 0.2500,\n",
       "         0.2500, 0.2500, 0.2500, 0.2500, 0.2500, 0.2500, 0.2500, 0.2500, 0.2500,\n",
       "         0.2500, 0.2500, 0.2500, 0.2500, 0.2500, 0.2500, 0.2500, 0.2500, 0.2500,\n",
       "         0.2500, 0.2500, 0.2500, 0.2500, 0.2500, 0.2500, 0.2500, 0.2500, 0.2500,\n",
       "         0.2500, 0.2500, 0.2500, 0.2500, 0.2500, 0.2500, 0.2500, 0.2500, 0.2500,\n",
       "         0.2500, 0.2500, 0.2500, 0.2500, 0.2500, 0.2500, 0.2500, 0.2500, 0.2500,\n",
       "         0.2500, 0.2500, 0.2500, 0.2500, 0.2500, 0.2500, 0.2500, 0.2500, 0.2500,\n",
       "         0.2500, 0.2500, 0.2500, 0.2500, 0.2500, 0.2500, 0.2500, 0.2500, 0.2500,\n",
       "         0.2500, 0.2500, 0.2500, 0.2500, 0.2500, 0.2500, 0.2500, 0.2500, 0.2500,\n",
       "         0.2500]),\n",
       " 'linear2.weight': tensor([[0.2500, 0.2500, 0.2500,  ..., 0.2500, 0.2500, 0.2500],\n",
       "         [0.2500, 0.2500, 0.2500,  ..., 0.2500, 0.2500, 0.2500],\n",
       "         [0.2500, 0.2500, 0.2500,  ..., 0.2500, 0.2500, 0.2500],\n",
       "         ...,\n",
       "         [0.2500, 0.2500, 0.2500,  ..., 0.2500, 0.2500, 0.2500],\n",
       "         [0.2500, 0.2500, 0.2500,  ..., 0.2500, 0.2500, 0.2500],\n",
       "         [0.2500, 0.2500, 0.2500,  ..., 0.2500, 0.2500, 0.2500]]),\n",
       " 'linear2.bias': tensor([0.2500, 0.2500, 0.2500, 0.2500, 0.2500, 0.2500, 0.2500, 0.2500, 0.2500,\n",
       "         0.2500, 0.2500, 0.2500, 0.2500, 0.2500, 0.2500, 0.2500, 0.2500, 0.2500,\n",
       "         0.2500, 0.2500, 0.2500, 0.2500, 0.2500, 0.2500, 0.2500, 0.2500, 0.2500,\n",
       "         0.2500, 0.2500, 0.2500, 0.2500, 0.2500, 0.2500, 0.2500, 0.2500, 0.2500,\n",
       "         0.2500, 0.2500, 0.2500, 0.2500, 0.2500, 0.2500, 0.2500, 0.2500, 0.2500,\n",
       "         0.2500, 0.2500, 0.2500, 0.2500, 0.2500, 0.2500, 0.2500, 0.2500, 0.2500,\n",
       "         0.2500, 0.2500, 0.2500, 0.2500, 0.2500, 0.2500, 0.2500, 0.2500, 0.2500,\n",
       "         0.2500, 0.2500, 0.2500, 0.2500, 0.2500, 0.2500, 0.2500, 0.2500, 0.2500,\n",
       "         0.2500, 0.2500, 0.2500, 0.2500, 0.2500, 0.2500, 0.2500, 0.2500, 0.2500,\n",
       "         0.2500, 0.2500, 0.2500, 0.2500, 0.2500, 0.2500, 0.2500, 0.2500, 0.2500,\n",
       "         0.2500, 0.2500, 0.2500, 0.2500, 0.2500, 0.2500, 0.2500, 0.2500, 0.2500,\n",
       "         0.2500, 0.2500, 0.2500, 0.2500, 0.2500, 0.2500, 0.2500, 0.2500, 0.2500,\n",
       "         0.2500, 0.2500, 0.2500, 0.2500, 0.2500, 0.2500, 0.2500, 0.2500, 0.2500,\n",
       "         0.2500, 0.2500, 0.2500, 0.2500, 0.2500, 0.2500, 0.2500, 0.2500, 0.2500,\n",
       "         0.2500, 0.2500, 0.2500, 0.2500, 0.2500, 0.2500, 0.2500, 0.2500, 0.2500,\n",
       "         0.2500, 0.2500, 0.2500, 0.2500, 0.2500, 0.2500, 0.2500, 0.2500, 0.2500,\n",
       "         0.2500, 0.2500, 0.2500, 0.2500, 0.2500, 0.2500, 0.2500, 0.2500, 0.2500,\n",
       "         0.2500, 0.2500, 0.2500, 0.2500, 0.2500, 0.2500, 0.2500, 0.2500, 0.2500,\n",
       "         0.2500, 0.2500, 0.2500, 0.2500, 0.2500, 0.2500, 0.2500, 0.2500, 0.2500,\n",
       "         0.2500, 0.2500, 0.2500, 0.2500, 0.2500, 0.2500, 0.2500, 0.2500, 0.2500,\n",
       "         0.2500, 0.2500, 0.2500, 0.2500, 0.2500, 0.2500, 0.2500, 0.2500, 0.2500,\n",
       "         0.2500, 0.2500, 0.2500, 0.2500, 0.2500, 0.2500, 0.2500, 0.2500, 0.2500,\n",
       "         0.2500, 0.2500, 0.2500, 0.2500, 0.2500, 0.2500, 0.2500, 0.2500, 0.2500,\n",
       "         0.2500, 0.2500, 0.2500, 0.2500, 0.2500, 0.2500, 0.2500, 0.2500, 0.2500,\n",
       "         0.2500, 0.2500, 0.2500, 0.2500, 0.2500, 0.2500, 0.2500, 0.2500, 0.2500,\n",
       "         0.2500, 0.2500, 0.2500, 0.2500, 0.2500, 0.2500, 0.2500, 0.2500, 0.2500,\n",
       "         0.2500, 0.2500, 0.2500, 0.2500, 0.2500, 0.2500, 0.2500, 0.2500, 0.2500,\n",
       "         0.2500, 0.2500, 0.2500, 0.2500, 0.2500, 0.2500, 0.2500]),\n",
       " 'linear3.weight': tensor([[0.2500, 0.2500, 0.2500, 0.2500, 0.2500, 0.2500, 0.2500, 0.2500, 0.2500,\n",
       "          0.2500, 0.2500, 0.2500, 0.2500, 0.2500, 0.2500, 0.2500, 0.2500, 0.2500,\n",
       "          0.2500, 0.2500, 0.2500, 0.2500, 0.2500, 0.2500, 0.2500, 0.2500, 0.2500,\n",
       "          0.2500, 0.2500, 0.2500, 0.2500, 0.2500, 0.2500, 0.2500, 0.2500, 0.2500,\n",
       "          0.2500, 0.2500, 0.2500, 0.2500, 0.2500, 0.2500, 0.2500, 0.2500, 0.2500,\n",
       "          0.2500, 0.2500, 0.2500, 0.2500, 0.2500, 0.2500, 0.2500, 0.2500, 0.2500,\n",
       "          0.2500, 0.2500, 0.2500, 0.2500, 0.2500, 0.2500, 0.2500, 0.2500, 0.2500,\n",
       "          0.2500, 0.2500, 0.2500, 0.2500, 0.2500, 0.2500, 0.2500, 0.2500, 0.2500,\n",
       "          0.2500, 0.2500, 0.2500, 0.2500, 0.2500, 0.2500, 0.2500, 0.2500, 0.2500,\n",
       "          0.2500, 0.2500, 0.2500, 0.2500, 0.2500, 0.2500, 0.2500, 0.2500, 0.2500,\n",
       "          0.2500, 0.2500, 0.2500, 0.2500, 0.2500, 0.2500, 0.2500, 0.2500, 0.2500,\n",
       "          0.2500, 0.2500, 0.2500, 0.2500, 0.2500, 0.2500, 0.2500, 0.2500, 0.2500,\n",
       "          0.2500, 0.2500, 0.2500, 0.2500, 0.2500, 0.2500, 0.2500, 0.2500, 0.2500,\n",
       "          0.2500, 0.2500, 0.2500, 0.2500, 0.2500, 0.2500, 0.2500, 0.2500, 0.2500,\n",
       "          0.2500, 0.2500, 0.2500, 0.2500, 0.2500, 0.2500, 0.2500, 0.2500, 0.2500,\n",
       "          0.2500, 0.2500, 0.2500, 0.2500, 0.2500, 0.2500, 0.2500, 0.2500, 0.2500,\n",
       "          0.2500, 0.2500, 0.2500, 0.2500, 0.2500, 0.2500, 0.2500, 0.2500, 0.2500,\n",
       "          0.2500, 0.2500, 0.2500, 0.2500, 0.2500, 0.2500, 0.2500, 0.2500, 0.2500,\n",
       "          0.2500, 0.2500, 0.2500, 0.2500, 0.2500, 0.2500, 0.2500, 0.2500, 0.2500,\n",
       "          0.2500, 0.2500, 0.2500, 0.2500, 0.2500, 0.2500, 0.2500, 0.2500, 0.2500,\n",
       "          0.2500, 0.2500, 0.2500, 0.2500, 0.2500, 0.2500, 0.2500, 0.2500, 0.2500,\n",
       "          0.2500, 0.2500, 0.2500, 0.2500, 0.2500, 0.2500, 0.2500, 0.2500, 0.2500,\n",
       "          0.2500, 0.2500, 0.2500, 0.2500, 0.2500, 0.2500, 0.2500, 0.2500, 0.2500,\n",
       "          0.2500, 0.2500, 0.2500, 0.2500, 0.2500, 0.2500, 0.2500, 0.2500, 0.2500,\n",
       "          0.2500, 0.2500, 0.2500, 0.2500, 0.2500, 0.2500, 0.2500, 0.2500, 0.2500,\n",
       "          0.2500, 0.2500, 0.2500, 0.2500, 0.2500, 0.2500, 0.2500, 0.2500, 0.2500,\n",
       "          0.2500, 0.2500, 0.2500, 0.2500, 0.2500, 0.2500, 0.2500, 0.2500, 0.2500,\n",
       "          0.2500, 0.2500, 0.2500, 0.2500, 0.2500, 0.2500, 0.2500],\n",
       "         [0.2500, 0.2500, 0.2500, 0.2500, 0.2500, 0.2500, 0.2500, 0.2500, 0.2500,\n",
       "          0.2500, 0.2500, 0.2500, 0.2500, 0.2500, 0.2500, 0.2500, 0.2500, 0.2500,\n",
       "          0.2500, 0.2500, 0.2500, 0.2500, 0.2500, 0.2500, 0.2500, 0.2500, 0.2500,\n",
       "          0.2500, 0.2500, 0.2500, 0.2500, 0.2500, 0.2500, 0.2500, 0.2500, 0.2500,\n",
       "          0.2500, 0.2500, 0.2500, 0.2500, 0.2500, 0.2500, 0.2500, 0.2500, 0.2500,\n",
       "          0.2500, 0.2500, 0.2500, 0.2500, 0.2500, 0.2500, 0.2500, 0.2500, 0.2500,\n",
       "          0.2500, 0.2500, 0.2500, 0.2500, 0.2500, 0.2500, 0.2500, 0.2500, 0.2500,\n",
       "          0.2500, 0.2500, 0.2500, 0.2500, 0.2500, 0.2500, 0.2500, 0.2500, 0.2500,\n",
       "          0.2500, 0.2500, 0.2500, 0.2500, 0.2500, 0.2500, 0.2500, 0.2500, 0.2500,\n",
       "          0.2500, 0.2500, 0.2500, 0.2500, 0.2500, 0.2500, 0.2500, 0.2500, 0.2500,\n",
       "          0.2500, 0.2500, 0.2500, 0.2500, 0.2500, 0.2500, 0.2500, 0.2500, 0.2500,\n",
       "          0.2500, 0.2500, 0.2500, 0.2500, 0.2500, 0.2500, 0.2500, 0.2500, 0.2500,\n",
       "          0.2500, 0.2500, 0.2500, 0.2500, 0.2500, 0.2500, 0.2500, 0.2500, 0.2500,\n",
       "          0.2500, 0.2500, 0.2500, 0.2500, 0.2500, 0.2500, 0.2500, 0.2500, 0.2500,\n",
       "          0.2500, 0.2500, 0.2500, 0.2500, 0.2500, 0.2500, 0.2500, 0.2500, 0.2500,\n",
       "          0.2500, 0.2500, 0.2500, 0.2500, 0.2500, 0.2500, 0.2500, 0.2500, 0.2500,\n",
       "          0.2500, 0.2500, 0.2500, 0.2500, 0.2500, 0.2500, 0.2500, 0.2500, 0.2500,\n",
       "          0.2500, 0.2500, 0.2500, 0.2500, 0.2500, 0.2500, 0.2500, 0.2500, 0.2500,\n",
       "          0.2500, 0.2500, 0.2500, 0.2500, 0.2500, 0.2500, 0.2500, 0.2500, 0.2500,\n",
       "          0.2500, 0.2500, 0.2500, 0.2500, 0.2500, 0.2500, 0.2500, 0.2500, 0.2500,\n",
       "          0.2500, 0.2500, 0.2500, 0.2500, 0.2500, 0.2500, 0.2500, 0.2500, 0.2500,\n",
       "          0.2500, 0.2500, 0.2500, 0.2500, 0.2500, 0.2500, 0.2500, 0.2500, 0.2500,\n",
       "          0.2500, 0.2500, 0.2500, 0.2500, 0.2500, 0.2500, 0.2500, 0.2500, 0.2500,\n",
       "          0.2500, 0.2500, 0.2500, 0.2500, 0.2500, 0.2500, 0.2500, 0.2500, 0.2500,\n",
       "          0.2500, 0.2500, 0.2500, 0.2500, 0.2500, 0.2500, 0.2500, 0.2500, 0.2500,\n",
       "          0.2500, 0.2500, 0.2500, 0.2500, 0.2500, 0.2500, 0.2500, 0.2500, 0.2500,\n",
       "          0.2500, 0.2500, 0.2500, 0.2500, 0.2500, 0.2500, 0.2500, 0.2500, 0.2500,\n",
       "          0.2500, 0.2500, 0.2500, 0.2500, 0.2500, 0.2500, 0.2500]]),\n",
       " 'linear3.bias': tensor([0.2500, 0.2500])}"
      ]
     },
     "execution_count": 36,
     "metadata": {},
     "output_type": "execute_result"
    }
   ],
   "source": [
    "#Other possible ways to adjust the guidance matrix\n",
    "gtl.adjust_guidance_matrix(guidance_matrix, 'zero_enforced_and_normalized', 'chilly')\n",
    "gtl.adjust_guidance_matrix(guidance_matrix, 'zero_enforced_and_normalized', 'freezing')\n",
    "gtl.adjust_guidance_matrix(guidance_matrix, 'zero_enforced_and_normalized', 'warm')\n",
    "gtl.adjust_guidance_matrix(guidance_matrix, 'zero_enforced_and_normalized', 'evaporating')\n",
    "gtl.adjust_guidance_matrix(guidance_matrix, 'zero_enforced_and_normalized', 'icy')"
   ]
  },
  {
   "cell_type": "code",
   "execution_count": 37,
   "id": "021854cb",
   "metadata": {
    "ExecuteTime": {
     "end_time": "2024-03-16T15:31:58.175828Z",
     "start_time": "2024-03-16T15:31:58.174410Z"
    }
   },
   "outputs": [],
   "source": [
    "del guidance_matrix"
   ]
  }
 ],
 "metadata": {
  "kernelspec": {
   "display_name": "Python 3 (ipykernel)",
   "language": "python",
   "name": "python3"
  },
  "language_info": {
   "codemirror_mode": {
    "name": "ipython",
    "version": 3
   },
   "file_extension": ".py",
   "mimetype": "text/x-python",
   "name": "python",
   "nbconvert_exporter": "python",
   "pygments_lexer": "ipython3",
   "version": "3.12.1"
  }
 },
 "nbformat": 4,
 "nbformat_minor": 5
}
