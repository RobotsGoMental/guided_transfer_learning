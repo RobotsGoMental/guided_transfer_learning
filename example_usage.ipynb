{
 "cells": [
  {
   "cell_type": "code",
   "execution_count": 2,
   "id": "c340cd0f",
   "metadata": {},
   "outputs": [],
   "source": [
    "import torch\n",
    "import gtl"
   ]
  },
  {
   "cell_type": "code",
   "execution_count": null,
   "id": "08d46714",
   "metadata": {},
   "outputs": [],
   "source": [
    "\"\"\"\n",
    "To do za biblioteku:\n",
    "\n",
    "- vratiti natrag kratka imena temperature i tipa. \n",
    "- vratiti natrag saveBaseModel. Ovako je zbunjujuce i misleading sa save_state_model. Ne zna se pod kojim je imenom snimljeno.\n",
    "- import guided_transfer_learning as gtl\n",
    "- pip install gtl\n",
    "- guidance, guiding, guide: sve pretvori u guidance\n",
    "- the name of the function plot_guidance should be: plot_guidance_distribution()\n",
    "- ajust_guidance_matrix treba imati default values\n",
    "- kod getGuideValue ici dublje po dimenzijama: sada isprinta prvih n samo za prvu dimenziju. Treba za sve dimenzije.\n",
    "\n",
    "\"\"\""
   ]
  },
  {
   "cell_type": "markdown",
   "id": "f99e2427",
   "metadata": {},
   "source": [
    "# We first define a simple model "
   ]
  },
  {
   "cell_type": "code",
   "execution_count": 371,
   "id": "8b7a115b",
   "metadata": {},
   "outputs": [],
   "source": [
    "\n",
    "# --------------------------------------------------------------------------------\n",
    "# --------------------- We first define a simple model ---------------------------\n",
    "\n",
    "\n",
    "\n",
    "class TinyModel(torch.nn.Module):\n",
    "    def __init__(self):\n",
    "        super(TinyModel, self).__init__()\n",
    "        self.linear1 = torch.nn.Linear(2, 100)\n",
    "        self.activation = torch.nn.ReLU()\n",
    "        self.linear2 = torch.nn.Linear(100, 25)\n",
    "        self.linear3 = torch.nn.Linear(25, 2)\n",
    "\n",
    "    def forward(self, x):\n",
    "        x = self.linear1(x)\n",
    "        x = self.activation(x)\n",
    "        x = self.linear2(x)\n",
    "        x = self.activation(x)\n",
    "        x = self.linear3(x)\n",
    "        x = self.activation(x)\n",
    "        return x\n",
    "\n",
    "\n",
    "device = torch.device(\"cuda:0\" if torch.cuda.is_available() else \"cpu\")\n",
    "\n",
    "\n",
    "def train_model(model, x, y, epochs, guidance_matrix=None):\n",
    "    loss_function = torch.nn.L1Loss()\n",
    "    optimizer = torch.optim.SGD(model.parameters(), lr=0.05)\n",
    "\n",
    "    skip = 50 if epochs > 100 else 5 if epochs > 10 else 0\n",
    "    \n",
    "    for e in range(epochs):\n",
    "        result = model(x)\n",
    "        loss = loss_function(result, y)  # torch.tensor([1.00, 2.00], dtype=torch.float)\n",
    "        #print(result)\n",
    "        if e%skip  == 0:\n",
    "            print(\"loss\", loss) \n",
    "        model.zero_grad()\n",
    "        loss.backward()\n",
    "        \n",
    "        # -----------------------------using gtl library-----------------------------------\n",
    "        # guiding matrix will be applied for training once we create it\n",
    "        if guidance_matrix is not None:\n",
    "            gtl.apply_guidance(model, guidance_matrix)\n",
    "            \n",
    "        optimizer.step()\n",
    "\n"
   ]
  },
  {
   "cell_type": "code",
   "execution_count": null,
   "id": "c55d6081",
   "metadata": {},
   "outputs": [],
   "source": []
  },
  {
   "cell_type": "markdown",
   "id": "c1edb046",
   "metadata": {},
   "source": [
    "# Toy data for traning the model"
   ]
  },
  {
   "cell_type": "code",
   "execution_count": 4,
   "id": "b2c039dc",
   "metadata": {},
   "outputs": [],
   "source": [
    "# Create some data for training the model\n",
    "\"\"\"\n",
    "There are in total four examples, the first two examples are similar \n",
    "but are different from the other two examples.\n",
    "\n",
    "This is a very hard problem to learn. This may require 1000s of epochs. \n",
    "\"\"\"\n",
    "#this is a hard problem; it is a non-monotonic problem \n",
    "base_train_X_1 = torch.tensor([[.1, .2], [.3, .4], [.2, .3], [.4, .5]]).to(device)\n",
    "base_train_Y_1 = torch.tensor([[1., .2], [3., .4], [.2, 3.], [.4, 5.]]).to(device)\n",
    "\n",
    "\"\"\"base_train_X_2 = torch.tensor([[.1, .2], [.3, .4], [.2, .3], [.4, .5]]).to(device)\n",
    "base_train_Y_2 = torch.tensor([[1., .2], [.3, 4.], [.2, 3.], [4., .5]]).to(device)\n",
    "\n",
    "base_train_X_3 = torch.tensor([[.1, .2], [.3, .4], [.2, .3], [.4, .5]]).to(device)\n",
    "base_train_Y_3 = torch.tensor([[.1, 2.], [3., .4], [2., .3], [.4, 5.]]).to(device)\n",
    "\n",
    "\n",
    "#base_train_X_1 = torch.tensor([[.2, .3], [.4, .5]]).to(device)\n",
    "#base_train_Y_1 = torch.tensor([[.2, 3.], [.4, 5.]]).to(device)\n",
    "\n",
    "\n",
    "base_train_X = torch.tensor([[.1, .2], [.3, .4], [.2, .3], [.4, .5]]).to(device)\n",
    "base_train_Y = torch.tensor([[.1, 2.], [.3, 4.], [2., .3], [4., .5]]).to(device)\"\"\""
   ]
  },
  {
   "cell_type": "code",
   "execution_count": null,
   "id": "a2d63c6d",
   "metadata": {},
   "outputs": [],
   "source": []
  },
  {
   "cell_type": "code",
   "execution_count": null,
   "id": "0ad2698e",
   "metadata": {},
   "outputs": [],
   "source": []
  },
  {
   "cell_type": "code",
   "execution_count": 370,
   "id": "bac14feb",
   "metadata": {},
   "outputs": [],
   "source": []
  },
  {
   "cell_type": "markdown",
   "id": "ed4d99d6",
   "metadata": {},
   "source": [
    "# Train the base model with toy data"
   ]
  },
  {
   "cell_type": "code",
   "execution_count": 372,
   "id": "8866ba76",
   "metadata": {},
   "outputs": [],
   "source": [
    "torch.manual_seed(3841574609)\n",
    "model = TinyModel().to(device)\n"
   ]
  },
  {
   "cell_type": "code",
   "execution_count": 6,
   "id": "76399b17",
   "metadata": {},
   "outputs": [
    {
     "name": "stdout",
     "output_type": "stream",
     "text": [
      "[('linear1.weight', torch.Size([1000, 2])), ('linear1.bias', torch.Size([1000])), ('linear2.weight', torch.Size([2500, 1000])), ('linear2.bias', torch.Size([2500])), ('linear3.weight', torch.Size([2, 2500])), ('linear3.bias', torch.Size([2]))]\n"
     ]
    }
   ],
   "source": [
    "\n",
    "# ----------------------------using gtl library------------------------------------\n",
    "#A handy function from gtl library to list all of the parameters \n",
    "#of the model together with their dimensions\n",
    "param_list = gtl.list_params(model)\n",
    "print(param_list)"
   ]
  },
  {
   "cell_type": "code",
   "execution_count": 662,
   "id": "8a068279",
   "metadata": {},
   "outputs": [],
   "source": []
  },
  {
   "cell_type": "code",
   "execution_count": 364,
   "id": "9950349e",
   "metadata": {
    "scrolled": true
   },
   "outputs": [
    {
     "name": "stdout",
     "output_type": "stream",
     "text": [
      "loss tensor(1.6500, device='cuda:0', grad_fn=<MeanBackward0>)\n",
      "loss tensor(1.6500, device='cuda:0', grad_fn=<MeanBackward0>)\n",
      "loss tensor(1.6500, device='cuda:0', grad_fn=<MeanBackward0>)\n",
      "loss tensor(1.6500, device='cuda:0', grad_fn=<MeanBackward0>)\n",
      "loss tensor(1.6500, device='cuda:0', grad_fn=<MeanBackward0>)\n",
      "loss tensor(1.6500, device='cuda:0', grad_fn=<MeanBackward0>)\n",
      "loss tensor(1.6500, device='cuda:0', grad_fn=<MeanBackward0>)\n",
      "loss tensor(1.6500, device='cuda:0', grad_fn=<MeanBackward0>)\n",
      "loss tensor(1.6500, device='cuda:0', grad_fn=<MeanBackward0>)\n",
      "loss tensor(1.6500, device='cuda:0', grad_fn=<MeanBackward0>)\n",
      "loss tensor(1.6500, device='cuda:0', grad_fn=<MeanBackward0>)\n",
      "loss tensor(1.6500, device='cuda:0', grad_fn=<MeanBackward0>)\n",
      "loss tensor(1.6500, device='cuda:0', grad_fn=<MeanBackward0>)\n",
      "loss tensor(1.6500, device='cuda:0', grad_fn=<MeanBackward0>)\n",
      "loss tensor(1.6500, device='cuda:0', grad_fn=<MeanBackward0>)\n",
      "loss tensor(1.6500, device='cuda:0', grad_fn=<MeanBackward0>)\n",
      "loss tensor(1.6500, device='cuda:0', grad_fn=<MeanBackward0>)\n",
      "loss tensor(1.6500, device='cuda:0', grad_fn=<MeanBackward0>)\n",
      "loss tensor(1.6500, device='cuda:0', grad_fn=<MeanBackward0>)\n",
      "loss tensor(1.6500, device='cuda:0', grad_fn=<MeanBackward0>)\n"
     ]
    }
   ],
   "source": [
    "\n",
    "# Train the base model\n",
    "train_model(model=model, x=base_train_X_1, y=base_train_Y_1, epochs=1000)\n",
    "#After 100 of epochs, the error is still very high"
   ]
  },
  {
   "cell_type": "code",
   "execution_count": 330,
   "id": "c76735be",
   "metadata": {},
   "outputs": [
    {
     "data": {
      "text/plain": [
       "tensor([[0.9598, 0.3714],\n",
       "        [2.9100, 0.4993],\n",
       "        [0.2000, 2.9994],\n",
       "        [0.5688, 4.7437]], device='cuda:0', grad_fn=<ReluBackward0>)"
      ]
     },
     "execution_count": 330,
     "metadata": {},
     "output_type": "execute_result"
    }
   ],
   "source": [
    "#Let us see the outputs that the model generates\n",
    "model(base_train_X_1)"
   ]
  },
  {
   "cell_type": "code",
   "execution_count": 152,
   "id": "c7afc5a0",
   "metadata": {
    "scrolled": true
   },
   "outputs": [
    {
     "name": "stdout",
     "output_type": "stream",
     "text": [
      "[tensor([[ 0.6297,  0.2710],\n",
      "        [-0.0504, -0.0996],\n",
      "        [-0.0432,  0.0780]], device='cuda:0', grad_fn=<SliceBackward0>), tensor([-0.2303, -0.5108, -0.6095], device='cuda:0', grad_fn=<SliceBackward0>), tensor([[ 6.2855e-02,  8.3771e-02, -1.0304e-02,  5.8092e-02,  7.2580e-03,\n",
      "          6.6107e-02, -5.7031e-02, -3.7474e-02, -3.9187e-02, -7.0541e-02,\n",
      "          3.5215e-02, -9.4313e-02,  4.8020e-02, -6.0789e-02,  9.4711e-02,\n",
      "         -4.8222e-02,  3.7835e-02, -2.5618e-02, -4.3687e-02, -3.9461e-02,\n",
      "         -9.4086e-03, -7.4451e-02, -8.4249e-02,  9.1013e-02, -3.4199e-02,\n",
      "         -1.4777e-03,  7.2794e-02, -7.0777e-02,  8.1522e-02,  7.9059e-02,\n",
      "          3.7375e-02,  3.2035e-02,  1.6711e-02,  1.6239e-02, -4.7167e-02,\n",
      "         -8.7775e-02,  1.3281e-02, -9.4906e-02, -3.7172e-02, -8.7751e-02,\n",
      "          6.3231e-02, -4.6827e-02, -3.2754e-02,  1.9331e-02, -7.9628e-02,\n",
      "         -5.1909e-03, -7.9190e-02,  9.3169e-02, -2.7922e-02,  9.7205e-02,\n",
      "          6.7423e-02, -3.5152e-02,  3.4380e-02, -7.7413e-02,  3.7120e-02,\n",
      "          1.8895e-04,  5.4781e-02, -7.5545e-02, -6.2879e-02,  4.0737e-02,\n",
      "         -1.4868e-02, -2.9655e-02,  7.1995e-02, -9.2443e-02, -2.7494e-02,\n",
      "          3.9478e-02, -7.1327e-02, -3.1872e-02, -7.8978e-02,  3.1442e-02,\n",
      "          2.9412e-02,  6.7723e-02,  4.8382e-02,  4.9736e-02, -8.5062e-02,\n",
      "          6.0090e-02,  1.4833e-03, -3.7561e-02, -6.1111e-02, -6.4534e-02,\n",
      "         -5.0581e-02,  6.8953e-02,  9.3741e-02,  1.7976e-02, -4.5881e-02,\n",
      "         -1.4213e-02, -5.5499e-02, -8.5737e-02,  9.9796e-02, -1.3679e-02,\n",
      "          7.1918e-02, -7.7667e-03,  2.9345e-02, -6.9472e-02,  1.0607e-02,\n",
      "          3.9188e-02, -6.2548e-03, -2.6110e-02,  2.2834e-02, -1.4734e-02],\n",
      "        [-9.5258e-02, -6.8920e-03, -5.1923e-02,  9.8158e-02, -1.0234e-01,\n",
      "          7.4940e-02,  7.0057e-02,  7.2048e-02,  7.7932e-02, -9.6754e-03,\n",
      "         -9.3849e-02,  9.9065e-02,  5.4917e-02, -9.8401e-02, -3.0066e-02,\n",
      "          3.5097e-02, -8.4839e-02,  3.2568e-02, -6.7079e-02,  5.4581e-03,\n",
      "         -2.1201e-02, -8.2570e-03,  6.9425e-02,  2.0371e-02, -7.4264e-02,\n",
      "         -9.0466e-02, -6.4072e-02, -3.9540e-02,  6.5113e-02, -8.9177e-02,\n",
      "         -4.0469e-02, -4.4865e-02, -7.7843e-02, -5.1343e-02,  1.9551e-03,\n",
      "          8.2041e-03,  6.1686e-02,  9.4578e-02, -4.4962e-02, -4.7628e-02,\n",
      "          7.4405e-02,  7.4537e-02,  2.9690e-02, -2.8505e-02, -7.5213e-02,\n",
      "          1.7738e-02, -9.2623e-02,  3.4624e-02,  4.2693e-03,  6.6569e-02,\n",
      "          4.0942e-03,  8.0719e-02, -6.5288e-02, -7.8739e-02,  4.9781e-02,\n",
      "         -9.8971e-02,  6.6038e-02, -1.0819e-02, -8.1701e-02,  1.5008e-02,\n",
      "          8.7188e-02, -7.7829e-02, -5.2848e-02,  3.5638e-02,  4.8364e-02,\n",
      "         -9.0385e-02,  6.1515e-02,  3.6596e-02,  4.1252e-02, -3.4233e-02,\n",
      "         -5.3820e-02,  4.6491e-02,  6.0995e-03,  1.2119e-02,  2.8064e-02,\n",
      "         -1.0261e-01,  7.9104e-02,  2.7213e-02, -1.9624e-02,  6.8298e-02,\n",
      "         -8.7186e-02,  2.7467e-02, -8.6421e-02,  3.0129e-02, -9.9674e-02,\n",
      "         -6.4566e-02, -1.0470e-01,  1.8101e-02,  4.0725e-02, -6.6353e-02,\n",
      "         -8.9884e-02,  1.8802e-03, -9.7862e-02,  8.5507e-02,  2.4183e-02,\n",
      "          5.0056e-03,  1.7048e-02,  9.1170e-02, -1.6938e-02,  1.7838e-02],\n",
      "        [ 3.0688e-02,  9.8364e-02, -7.3638e-02, -2.3477e-02,  2.2511e-01,\n",
      "         -3.3977e-02,  5.0458e-02,  5.8366e-02,  8.8775e-03,  5.4705e-02,\n",
      "         -3.1094e-02,  5.6765e-03,  3.6240e-02, -7.4687e-02,  3.5890e-02,\n",
      "         -6.8775e-02,  2.8044e-01, -2.1241e-02, -3.3998e-02,  1.5639e-01,\n",
      "         -5.3255e-02,  7.2446e-03, -4.7736e-02,  2.5497e-01, -3.9174e-02,\n",
      "          5.7546e-02,  3.2130e-02,  6.3635e-02,  3.7625e-02,  4.1465e-02,\n",
      "         -4.1499e-02,  2.6751e-02,  2.0115e-01,  6.8307e-02, -4.9610e-02,\n",
      "          1.2407e-01,  2.9463e-01,  3.0644e-02,  3.9393e-02,  6.6989e-02,\n",
      "          4.0923e-02, -7.6177e-03,  6.5012e-02, -5.7029e-02,  3.8455e-01,\n",
      "         -1.0008e-01, -3.0138e-02, -5.7157e-03,  9.6548e-02, -9.0235e-02,\n",
      "          1.2192e-01,  2.5900e-02,  2.3232e-02,  8.4658e-02,  2.1570e-02,\n",
      "         -8.4720e-02, -5.7723e-02, -4.3851e-02, -1.1449e-02, -1.4968e-02,\n",
      "          1.4450e-01,  7.0536e-02, -7.4732e-02,  2.9538e-01,  2.7876e-01,\n",
      "         -1.7842e-02,  5.0823e-01,  7.2470e-02,  9.7440e-02,  3.0012e-01,\n",
      "          3.1350e-02,  9.9777e-02, -4.3502e-02, -5.0147e-02,  6.8473e-02,\n",
      "          1.5074e-02,  1.0424e-01,  5.9712e-02,  9.9016e-02, -5.4011e-02,\n",
      "         -1.4413e-02, -1.6716e-02, -6.2948e-02,  5.4362e-02, -1.5873e-02,\n",
      "         -6.5051e-02,  5.1808e-02,  1.9262e-01,  8.4241e-02,  4.1634e-03,\n",
      "          8.2123e-02,  9.1373e-02,  5.1474e-03,  9.0666e-02,  2.0780e-01,\n",
      "          1.3260e-01,  4.8054e-02,  7.0892e-02,  1.4031e-02,  1.2748e-02]],\n",
      "       device='cuda:0', grad_fn=<SliceBackward0>), tensor([-0.0735, -0.0055, -0.4221], device='cuda:0', grad_fn=<SliceBackward0>), tensor([[ 0.0688, -0.0765,  0.2870, -0.0142,  0.1552, -0.1321, -0.1395, -0.3621,\n",
      "         -0.1492, -0.1307,  0.1257,  1.7056, -0.1938,  0.1276,  0.2103, -0.1649,\n",
      "         -0.3181, -0.1967,  0.0242, -0.3866, -0.0126, -0.1944, -0.1435, -0.1484,\n",
      "         -0.1252],\n",
      "        [-0.0737,  0.1233, -0.6963, -0.1514, -0.2110, -0.1206,  0.0149,  1.0057,\n",
      "          0.0801,  0.1871,  1.5072, -1.7349,  0.0855, -0.1349, -0.1907, -0.1161,\n",
      "          0.6253,  0.0726, -0.0487,  0.1289, -0.1615, -0.0613,  0.8865, -0.1185,\n",
      "          0.1631]], device='cuda:0', grad_fn=<SliceBackward0>), tensor([0.7472, 0.8601], device='cuda:0', grad_fn=<SliceBackward0>)]\n"
     ]
    }
   ],
   "source": [
    "# ---------------------------using gtl library--------------------------------------------\n",
    "# Another handy function to print the few values of each parameter name to monitor changes\n",
    "print(gtl.get_param_values(model, 3))"
   ]
  },
  {
   "cell_type": "code",
   "execution_count": 365,
   "id": "d782a2a9",
   "metadata": {},
   "outputs": [
    {
     "data": {
      "text/plain": [
       "WindowsPath('C:/Users/Danko/Google Drive/RGM/jednostavno/GTL_library/models/gtl_base_model.pt')"
      ]
     },
     "execution_count": 365,
     "metadata": {},
     "output_type": "execute_result"
    }
   ],
   "source": [
    "# -----------------------------using gtl library----------------------------------------\n",
    "# Use GTL library to save the base model, as we will need it later\n",
    "gtl.save_model_state(model)\n"
   ]
  },
  {
   "cell_type": "code",
   "execution_count": 366,
   "id": "f1c469dd",
   "metadata": {},
   "outputs": [],
   "source": [
    "# We delete the model as we will not use this model any more. Instead, we will\n",
    "# load the parameters from the file.\n",
    "del model"
   ]
  },
  {
   "cell_type": "markdown",
   "id": "c43ea287",
   "metadata": {},
   "source": [
    "# Training scouts and calculating the raw guiding matrix"
   ]
  },
  {
   "cell_type": "markdown",
   "id": "e7ed283e",
   "metadata": {},
   "source": [
    "Prepare data for scouts"
   ]
  },
  {
   "cell_type": "code",
   "execution_count": 367,
   "id": "8a86c892",
   "metadata": {},
   "outputs": [
    {
     "name": "stdout",
     "output_type": "stream",
     "text": [
      "There are  9 scouts\n",
      "[tensor([[0.1000, 0.2000],\n",
      "        [0.2000, 0.3000]], device='cuda:0'), tensor([[0.3000, 0.4000],\n",
      "        [0.4000, 0.5000]], device='cuda:0'), tensor([[0.1000, 0.2000],\n",
      "        [0.3000, 0.4000]], device='cuda:0'), tensor([[0.2000, 0.3000],\n",
      "        [0.4000, 0.5000]], device='cuda:0'), tensor([[0.1000, 0.2000],\n",
      "        [0.4000, 0.5000]], device='cuda:0'), tensor([[0.1000, 0.2000],\n",
      "        [0.1000, 0.2000]], device='cuda:0'), tensor([[0.3000, 0.4000],\n",
      "        [0.3000, 0.4000]], device='cuda:0'), tensor([[0.2000, 0.3000],\n",
      "        [0.2000, 0.3000]], device='cuda:0'), tensor([[0.4000, 0.5000],\n",
      "        [0.4000, 0.5000]], device='cuda:0')]\n",
      "[tensor([[1.0000, 0.2000],\n",
      "        [0.2000, 3.0000]], device='cuda:0'), tensor([[3.0000, 0.4000],\n",
      "        [0.4000, 5.0000]], device='cuda:0'), tensor([[1.0000, 0.2000],\n",
      "        [3.0000, 0.4000]], device='cuda:0'), tensor([[0.2000, 3.0000],\n",
      "        [0.4000, 5.0000]], device='cuda:0'), tensor([[1.0000, 0.2000],\n",
      "        [0.4000, 5.0000]], device='cuda:0'), tensor([[1.0000, 0.2000],\n",
      "        [1.0000, 0.2000]], device='cuda:0'), tensor([[3.0000, 0.4000],\n",
      "        [3.0000, 0.4000]], device='cuda:0'), tensor([[0.2000, 3.0000],\n",
      "        [0.2000, 3.0000]], device='cuda:0'), tensor([[0.4000, 5.0000],\n",
      "        [0.4000, 5.0000]], device='cuda:0')]\n"
     ]
    }
   ],
   "source": [
    "\n",
    "#the data above are broken down into six easy problems; out of four data points in each scout\n",
    "#two chosen for training. Here are all of the pairs listed:\n",
    "\n",
    "scout_indexes = [[0, 1], [0, 2], [0, 3], [1, 2], [1, 3], [2, 3]]\n",
    "\n",
    "\n",
    "# ------------------------------using gtl library----------------------------------\n",
    "# we use a GTL function to create scouts of the list of the data points in scout_indexes\n",
    "scout_data_X = gtl.create_scout_data_from_ranged_indexes(scout_indexes, base_train_X_1)\n",
    "scout_data_Y = gtl.create_scout_data_from_ranged_indexes(scout_indexes, base_train_Y_1)\n",
    "print(\"There are \", len(scout_data_X), \"scouts\")\n",
    "print(scout_data_X)\n",
    "print(scout_data_Y)"
   ]
  },
  {
   "cell_type": "code",
   "execution_count": 377,
   "id": "8cc87aee",
   "metadata": {},
   "outputs": [
    {
     "data": {
      "text/plain": [
       "[[0, 1], [0, 2], [0, 3], [1, 2], [1, 3], [2, 3]]"
      ]
     },
     "execution_count": 377,
     "metadata": {},
     "output_type": "execute_result"
    }
   ],
   "source": [
    "# -----------------------------using gtl library-----------------------------------------\n",
    "# the library for selecting scout data can also be used with ranges of indexes \n",
    "# In the above example we listed all of the indexs of data points, but this can become\n",
    "# tedious with large data sets. With large data sets one is likly to use ranges.\n",
    "# A range of data can be specified in two ways, one is to use python range function. \n",
    "# The following code creates an idential list as the one used above. Note that the\n",
    "# range function requires to enter i+1 for the end of the range.\n",
    "\n",
    "scout_indexes = [list(range(0, 2)), [0, 2], [0, 3], list(range(1, 3)), [1, 3], list(range(2, 4))]\n",
    "\n",
    "# The above approach can be confusing due to the need to enter i+1. For that reason, \n",
    "# GTL library implments the possiblity to \n",
    "# enter the exact start and end... \n",
    "\n",
    "# Spremanje se mozda moze pojednostaviti\n",
    "# A = [[1,2,4],\n",
    "#      [[7],[9]],\n",
    "#      [3,5,6],\n",
    "#      [[5],[20], 23, 24, [28],[30]],\n",
    "#      [40, 45, 46]]\n",
    "scout_indexes"
   ]
  },
  {
   "cell_type": "markdown",
   "id": "1cf3f619",
   "metadata": {},
   "source": [
    "Train scouts"
   ]
  },
  {
   "cell_type": "code",
   "execution_count": 368,
   "id": "7f056bb3",
   "metadata": {
    "scrolled": true
   },
   "outputs": [
    {
     "name": "stdout",
     "output_type": "stream",
     "text": [
      "Training  9 scouts\n",
      "scout number: 0\n",
      "loss tensor(1.1000, device='cuda:0', grad_fn=<MeanBackward0>)\n",
      "loss tensor(1.1000, device='cuda:0', grad_fn=<MeanBackward0>)\n",
      "loss tensor(1.1000, device='cuda:0', grad_fn=<MeanBackward0>)\n",
      "loss tensor(1.1000, device='cuda:0', grad_fn=<MeanBackward0>)\n",
      "loss tensor(1.1000, device='cuda:0', grad_fn=<MeanBackward0>)\n",
      "loss tensor(1.1000, device='cuda:0', grad_fn=<MeanBackward0>)\n",
      "loss tensor(1.1000, device='cuda:0', grad_fn=<MeanBackward0>)\n",
      "loss tensor(1.1000, device='cuda:0', grad_fn=<MeanBackward0>)\n",
      "loss tensor(1.1000, device='cuda:0', grad_fn=<MeanBackward0>)\n",
      "loss tensor(1.1000, device='cuda:0', grad_fn=<MeanBackward0>)\n",
      "loss tensor(1.1000, device='cuda:0', grad_fn=<MeanBackward0>)\n",
      "loss tensor(1.1000, device='cuda:0', grad_fn=<MeanBackward0>)\n",
      "loss tensor(1.1000, device='cuda:0', grad_fn=<MeanBackward0>)\n",
      "loss tensor(1.1000, device='cuda:0', grad_fn=<MeanBackward0>)\n",
      "loss tensor(1.1000, device='cuda:0', grad_fn=<MeanBackward0>)\n",
      "loss tensor(1.1000, device='cuda:0', grad_fn=<MeanBackward0>)\n",
      "loss tensor(1.1000, device='cuda:0', grad_fn=<MeanBackward0>)\n",
      "loss tensor(1.1000, device='cuda:0', grad_fn=<MeanBackward0>)\n",
      "loss tensor(1.1000, device='cuda:0', grad_fn=<MeanBackward0>)\n",
      "loss tensor(1.1000, device='cuda:0', grad_fn=<MeanBackward0>)\n",
      "loss tensor(1.1000, device='cuda:0', grad_fn=<MeanBackward0>)\n",
      "loss tensor(1.1000, device='cuda:0', grad_fn=<MeanBackward0>)\n",
      "loss tensor(1.1000, device='cuda:0', grad_fn=<MeanBackward0>)\n",
      "loss tensor(1.1000, device='cuda:0', grad_fn=<MeanBackward0>)\n",
      "loss tensor(1.1000, device='cuda:0', grad_fn=<MeanBackward0>)\n",
      "loss tensor(1.1000, device='cuda:0', grad_fn=<MeanBackward0>)\n",
      "loss tensor(1.1000, device='cuda:0', grad_fn=<MeanBackward0>)\n",
      "loss tensor(1.1000, device='cuda:0', grad_fn=<MeanBackward0>)\n",
      "loss tensor(1.1000, device='cuda:0', grad_fn=<MeanBackward0>)\n",
      "loss tensor(1.1000, device='cuda:0', grad_fn=<MeanBackward0>)\n",
      "loss tensor(1.1000, device='cuda:0', grad_fn=<MeanBackward0>)\n",
      "loss tensor(1.1000, device='cuda:0', grad_fn=<MeanBackward0>)\n",
      "loss tensor(1.1000, device='cuda:0', grad_fn=<MeanBackward0>)\n",
      "loss tensor(1.1000, device='cuda:0', grad_fn=<MeanBackward0>)\n",
      "loss tensor(1.1000, device='cuda:0', grad_fn=<MeanBackward0>)\n",
      "loss tensor(1.1000, device='cuda:0', grad_fn=<MeanBackward0>)\n",
      "loss tensor(1.1000, device='cuda:0', grad_fn=<MeanBackward0>)\n",
      "loss tensor(1.1000, device='cuda:0', grad_fn=<MeanBackward0>)\n",
      "loss tensor(1.1000, device='cuda:0', grad_fn=<MeanBackward0>)\n",
      "loss tensor(1.1000, device='cuda:0', grad_fn=<MeanBackward0>)\n",
      "loss tensor(1.1000, device='cuda:0', grad_fn=<MeanBackward0>)\n",
      "loss tensor(1.1000, device='cuda:0', grad_fn=<MeanBackward0>)\n",
      "loss tensor(1.1000, device='cuda:0', grad_fn=<MeanBackward0>)\n",
      "loss tensor(1.1000, device='cuda:0', grad_fn=<MeanBackward0>)\n",
      "loss tensor(1.1000, device='cuda:0', grad_fn=<MeanBackward0>)\n",
      "loss tensor(1.1000, device='cuda:0', grad_fn=<MeanBackward0>)\n",
      "loss tensor(1.1000, device='cuda:0', grad_fn=<MeanBackward0>)\n",
      "loss tensor(1.1000, device='cuda:0', grad_fn=<MeanBackward0>)\n",
      "loss tensor(1.1000, device='cuda:0', grad_fn=<MeanBackward0>)\n",
      "loss tensor(1.1000, device='cuda:0', grad_fn=<MeanBackward0>)\n",
      "loss tensor(1.1000, device='cuda:0', grad_fn=<MeanBackward0>)\n",
      "loss tensor(1.1000, device='cuda:0', grad_fn=<MeanBackward0>)\n",
      "loss tensor(1.1000, device='cuda:0', grad_fn=<MeanBackward0>)\n",
      "loss tensor(1.1000, device='cuda:0', grad_fn=<MeanBackward0>)\n",
      "loss tensor(1.1000, device='cuda:0', grad_fn=<MeanBackward0>)\n",
      "loss tensor(1.1000, device='cuda:0', grad_fn=<MeanBackward0>)\n",
      "loss tensor(1.1000, device='cuda:0', grad_fn=<MeanBackward0>)\n",
      "loss tensor(1.1000, device='cuda:0', grad_fn=<MeanBackward0>)\n",
      "loss tensor(1.1000, device='cuda:0', grad_fn=<MeanBackward0>)\n",
      "loss tensor(1.1000, device='cuda:0', grad_fn=<MeanBackward0>)\n",
      "loss tensor(1.1000, device='cuda:0', grad_fn=<MeanBackward0>)\n",
      "loss tensor(1.1000, device='cuda:0', grad_fn=<MeanBackward0>)\n",
      "loss tensor(1.1000, device='cuda:0', grad_fn=<MeanBackward0>)\n",
      "loss tensor(1.1000, device='cuda:0', grad_fn=<MeanBackward0>)\n",
      "loss tensor(1.1000, device='cuda:0', grad_fn=<MeanBackward0>)\n",
      "loss tensor(1.1000, device='cuda:0', grad_fn=<MeanBackward0>)\n",
      "loss tensor(1.1000, device='cuda:0', grad_fn=<MeanBackward0>)\n",
      "loss tensor(1.1000, device='cuda:0', grad_fn=<MeanBackward0>)\n",
      "loss tensor(1.1000, device='cuda:0', grad_fn=<MeanBackward0>)\n",
      "loss tensor(1.1000, device='cuda:0', grad_fn=<MeanBackward0>)\n",
      "loss tensor(1.1000, device='cuda:0', grad_fn=<MeanBackward0>)\n",
      "loss tensor(1.1000, device='cuda:0', grad_fn=<MeanBackward0>)\n",
      "loss tensor(1.1000, device='cuda:0', grad_fn=<MeanBackward0>)\n",
      "loss tensor(1.1000, device='cuda:0', grad_fn=<MeanBackward0>)\n",
      "loss tensor(1.1000, device='cuda:0', grad_fn=<MeanBackward0>)\n",
      "loss tensor(1.1000, device='cuda:0', grad_fn=<MeanBackward0>)\n",
      "loss tensor(1.1000, device='cuda:0', grad_fn=<MeanBackward0>)\n",
      "loss tensor(1.1000, device='cuda:0', grad_fn=<MeanBackward0>)\n",
      "loss tensor(1.1000, device='cuda:0', grad_fn=<MeanBackward0>)\n",
      "loss tensor(1.1000, device='cuda:0', grad_fn=<MeanBackward0>)\n",
      "scout number: 1\n",
      "loss tensor(2.2000, device='cuda:0', grad_fn=<MeanBackward0>)\n",
      "loss tensor(2.2000, device='cuda:0', grad_fn=<MeanBackward0>)\n",
      "loss tensor(2.2000, device='cuda:0', grad_fn=<MeanBackward0>)\n",
      "loss tensor(2.2000, device='cuda:0', grad_fn=<MeanBackward0>)\n",
      "loss tensor(2.2000, device='cuda:0', grad_fn=<MeanBackward0>)\n",
      "loss tensor(2.2000, device='cuda:0', grad_fn=<MeanBackward0>)\n",
      "loss tensor(2.2000, device='cuda:0', grad_fn=<MeanBackward0>)\n",
      "loss tensor(2.2000, device='cuda:0', grad_fn=<MeanBackward0>)\n",
      "loss tensor(2.2000, device='cuda:0', grad_fn=<MeanBackward0>)\n",
      "loss tensor(2.2000, device='cuda:0', grad_fn=<MeanBackward0>)\n",
      "loss tensor(2.2000, device='cuda:0', grad_fn=<MeanBackward0>)\n",
      "loss tensor(2.2000, device='cuda:0', grad_fn=<MeanBackward0>)\n",
      "loss tensor(2.2000, device='cuda:0', grad_fn=<MeanBackward0>)\n",
      "loss tensor(2.2000, device='cuda:0', grad_fn=<MeanBackward0>)\n",
      "loss tensor(2.2000, device='cuda:0', grad_fn=<MeanBackward0>)\n",
      "loss tensor(2.2000, device='cuda:0', grad_fn=<MeanBackward0>)\n",
      "loss tensor(2.2000, device='cuda:0', grad_fn=<MeanBackward0>)\n",
      "loss tensor(2.2000, device='cuda:0', grad_fn=<MeanBackward0>)\n",
      "loss tensor(2.2000, device='cuda:0', grad_fn=<MeanBackward0>)\n",
      "loss tensor(2.2000, device='cuda:0', grad_fn=<MeanBackward0>)\n",
      "loss tensor(2.2000, device='cuda:0', grad_fn=<MeanBackward0>)\n",
      "loss tensor(2.2000, device='cuda:0', grad_fn=<MeanBackward0>)\n",
      "loss tensor(2.2000, device='cuda:0', grad_fn=<MeanBackward0>)\n",
      "loss tensor(2.2000, device='cuda:0', grad_fn=<MeanBackward0>)\n",
      "loss tensor(2.2000, device='cuda:0', grad_fn=<MeanBackward0>)\n",
      "loss tensor(2.2000, device='cuda:0', grad_fn=<MeanBackward0>)\n",
      "loss tensor(2.2000, device='cuda:0', grad_fn=<MeanBackward0>)\n",
      "loss tensor(2.2000, device='cuda:0', grad_fn=<MeanBackward0>)\n",
      "loss tensor(2.2000, device='cuda:0', grad_fn=<MeanBackward0>)\n",
      "loss tensor(2.2000, device='cuda:0', grad_fn=<MeanBackward0>)\n",
      "loss tensor(2.2000, device='cuda:0', grad_fn=<MeanBackward0>)\n",
      "loss tensor(2.2000, device='cuda:0', grad_fn=<MeanBackward0>)\n",
      "loss tensor(2.2000, device='cuda:0', grad_fn=<MeanBackward0>)\n",
      "loss tensor(2.2000, device='cuda:0', grad_fn=<MeanBackward0>)\n",
      "loss tensor(2.2000, device='cuda:0', grad_fn=<MeanBackward0>)\n",
      "loss tensor(2.2000, device='cuda:0', grad_fn=<MeanBackward0>)\n",
      "loss tensor(2.2000, device='cuda:0', grad_fn=<MeanBackward0>)\n",
      "loss tensor(2.2000, device='cuda:0', grad_fn=<MeanBackward0>)\n",
      "loss tensor(2.2000, device='cuda:0', grad_fn=<MeanBackward0>)\n",
      "loss tensor(2.2000, device='cuda:0', grad_fn=<MeanBackward0>)\n",
      "loss tensor(2.2000, device='cuda:0', grad_fn=<MeanBackward0>)\n",
      "loss tensor(2.2000, device='cuda:0', grad_fn=<MeanBackward0>)\n",
      "loss tensor(2.2000, device='cuda:0', grad_fn=<MeanBackward0>)\n",
      "loss tensor(2.2000, device='cuda:0', grad_fn=<MeanBackward0>)\n",
      "loss tensor(2.2000, device='cuda:0', grad_fn=<MeanBackward0>)\n",
      "loss tensor(2.2000, device='cuda:0', grad_fn=<MeanBackward0>)\n",
      "loss tensor(2.2000, device='cuda:0', grad_fn=<MeanBackward0>)\n",
      "loss tensor(2.2000, device='cuda:0', grad_fn=<MeanBackward0>)\n",
      "loss tensor(2.2000, device='cuda:0', grad_fn=<MeanBackward0>)\n",
      "loss tensor(2.2000, device='cuda:0', grad_fn=<MeanBackward0>)\n",
      "loss tensor(2.2000, device='cuda:0', grad_fn=<MeanBackward0>)\n",
      "loss tensor(2.2000, device='cuda:0', grad_fn=<MeanBackward0>)\n"
     ]
    },
    {
     "name": "stdout",
     "output_type": "stream",
     "text": [
      "loss tensor(2.2000, device='cuda:0', grad_fn=<MeanBackward0>)\n",
      "loss tensor(2.2000, device='cuda:0', grad_fn=<MeanBackward0>)\n",
      "loss tensor(2.2000, device='cuda:0', grad_fn=<MeanBackward0>)\n",
      "loss tensor(2.2000, device='cuda:0', grad_fn=<MeanBackward0>)\n",
      "loss tensor(2.2000, device='cuda:0', grad_fn=<MeanBackward0>)\n",
      "loss tensor(2.2000, device='cuda:0', grad_fn=<MeanBackward0>)\n",
      "loss tensor(2.2000, device='cuda:0', grad_fn=<MeanBackward0>)\n",
      "loss tensor(2.2000, device='cuda:0', grad_fn=<MeanBackward0>)\n",
      "loss tensor(2.2000, device='cuda:0', grad_fn=<MeanBackward0>)\n",
      "loss tensor(2.2000, device='cuda:0', grad_fn=<MeanBackward0>)\n",
      "loss tensor(2.2000, device='cuda:0', grad_fn=<MeanBackward0>)\n",
      "loss tensor(2.2000, device='cuda:0', grad_fn=<MeanBackward0>)\n",
      "loss tensor(2.2000, device='cuda:0', grad_fn=<MeanBackward0>)\n",
      "loss tensor(2.2000, device='cuda:0', grad_fn=<MeanBackward0>)\n",
      "loss tensor(2.2000, device='cuda:0', grad_fn=<MeanBackward0>)\n",
      "loss tensor(2.2000, device='cuda:0', grad_fn=<MeanBackward0>)\n",
      "loss tensor(2.2000, device='cuda:0', grad_fn=<MeanBackward0>)\n",
      "loss tensor(2.2000, device='cuda:0', grad_fn=<MeanBackward0>)\n",
      "loss tensor(2.2000, device='cuda:0', grad_fn=<MeanBackward0>)\n",
      "loss tensor(2.2000, device='cuda:0', grad_fn=<MeanBackward0>)\n",
      "loss tensor(2.2000, device='cuda:0', grad_fn=<MeanBackward0>)\n",
      "loss tensor(2.2000, device='cuda:0', grad_fn=<MeanBackward0>)\n",
      "loss tensor(2.2000, device='cuda:0', grad_fn=<MeanBackward0>)\n",
      "loss tensor(2.2000, device='cuda:0', grad_fn=<MeanBackward0>)\n",
      "loss tensor(2.2000, device='cuda:0', grad_fn=<MeanBackward0>)\n",
      "loss tensor(2.2000, device='cuda:0', grad_fn=<MeanBackward0>)\n",
      "loss tensor(2.2000, device='cuda:0', grad_fn=<MeanBackward0>)\n",
      "loss tensor(2.2000, device='cuda:0', grad_fn=<MeanBackward0>)\n",
      "scout number: 2\n",
      "loss tensor(1.1500, device='cuda:0', grad_fn=<MeanBackward0>)\n",
      "loss tensor(1.1500, device='cuda:0', grad_fn=<MeanBackward0>)\n",
      "loss tensor(1.1500, device='cuda:0', grad_fn=<MeanBackward0>)\n",
      "loss tensor(1.1500, device='cuda:0', grad_fn=<MeanBackward0>)\n",
      "loss tensor(1.1500, device='cuda:0', grad_fn=<MeanBackward0>)\n",
      "loss tensor(1.1500, device='cuda:0', grad_fn=<MeanBackward0>)\n",
      "loss tensor(1.1500, device='cuda:0', grad_fn=<MeanBackward0>)\n",
      "loss tensor(1.1500, device='cuda:0', grad_fn=<MeanBackward0>)\n",
      "loss tensor(1.1500, device='cuda:0', grad_fn=<MeanBackward0>)\n",
      "loss tensor(1.1500, device='cuda:0', grad_fn=<MeanBackward0>)\n",
      "loss tensor(1.1500, device='cuda:0', grad_fn=<MeanBackward0>)\n",
      "loss tensor(1.1500, device='cuda:0', grad_fn=<MeanBackward0>)\n",
      "loss tensor(1.1500, device='cuda:0', grad_fn=<MeanBackward0>)\n",
      "loss tensor(1.1500, device='cuda:0', grad_fn=<MeanBackward0>)\n",
      "loss tensor(1.1500, device='cuda:0', grad_fn=<MeanBackward0>)\n",
      "loss tensor(1.1500, device='cuda:0', grad_fn=<MeanBackward0>)\n",
      "loss tensor(1.1500, device='cuda:0', grad_fn=<MeanBackward0>)\n",
      "loss tensor(1.1500, device='cuda:0', grad_fn=<MeanBackward0>)\n",
      "loss tensor(1.1500, device='cuda:0', grad_fn=<MeanBackward0>)\n",
      "loss tensor(1.1500, device='cuda:0', grad_fn=<MeanBackward0>)\n",
      "loss tensor(1.1500, device='cuda:0', grad_fn=<MeanBackward0>)\n",
      "loss tensor(1.1500, device='cuda:0', grad_fn=<MeanBackward0>)\n",
      "loss tensor(1.1500, device='cuda:0', grad_fn=<MeanBackward0>)\n",
      "loss tensor(1.1500, device='cuda:0', grad_fn=<MeanBackward0>)\n",
      "loss tensor(1.1500, device='cuda:0', grad_fn=<MeanBackward0>)\n",
      "loss tensor(1.1500, device='cuda:0', grad_fn=<MeanBackward0>)\n",
      "loss tensor(1.1500, device='cuda:0', grad_fn=<MeanBackward0>)\n",
      "loss tensor(1.1500, device='cuda:0', grad_fn=<MeanBackward0>)\n",
      "loss tensor(1.1500, device='cuda:0', grad_fn=<MeanBackward0>)\n",
      "loss tensor(1.1500, device='cuda:0', grad_fn=<MeanBackward0>)\n",
      "loss tensor(1.1500, device='cuda:0', grad_fn=<MeanBackward0>)\n",
      "loss tensor(1.1500, device='cuda:0', grad_fn=<MeanBackward0>)\n",
      "loss tensor(1.1500, device='cuda:0', grad_fn=<MeanBackward0>)\n",
      "loss tensor(1.1500, device='cuda:0', grad_fn=<MeanBackward0>)\n",
      "loss tensor(1.1500, device='cuda:0', grad_fn=<MeanBackward0>)\n",
      "loss tensor(1.1500, device='cuda:0', grad_fn=<MeanBackward0>)\n",
      "loss tensor(1.1500, device='cuda:0', grad_fn=<MeanBackward0>)\n",
      "loss tensor(1.1500, device='cuda:0', grad_fn=<MeanBackward0>)\n",
      "loss tensor(1.1500, device='cuda:0', grad_fn=<MeanBackward0>)\n",
      "loss tensor(1.1500, device='cuda:0', grad_fn=<MeanBackward0>)\n",
      "loss tensor(1.1500, device='cuda:0', grad_fn=<MeanBackward0>)\n",
      "loss tensor(1.1500, device='cuda:0', grad_fn=<MeanBackward0>)\n",
      "loss tensor(1.1500, device='cuda:0', grad_fn=<MeanBackward0>)\n",
      "loss tensor(1.1500, device='cuda:0', grad_fn=<MeanBackward0>)\n",
      "loss tensor(1.1500, device='cuda:0', grad_fn=<MeanBackward0>)\n",
      "loss tensor(1.1500, device='cuda:0', grad_fn=<MeanBackward0>)\n",
      "loss tensor(1.1500, device='cuda:0', grad_fn=<MeanBackward0>)\n",
      "loss tensor(1.1500, device='cuda:0', grad_fn=<MeanBackward0>)\n",
      "loss tensor(1.1500, device='cuda:0', grad_fn=<MeanBackward0>)\n",
      "loss tensor(1.1500, device='cuda:0', grad_fn=<MeanBackward0>)\n",
      "loss tensor(1.1500, device='cuda:0', grad_fn=<MeanBackward0>)\n",
      "loss tensor(1.1500, device='cuda:0', grad_fn=<MeanBackward0>)\n",
      "loss tensor(1.1500, device='cuda:0', grad_fn=<MeanBackward0>)\n",
      "loss tensor(1.1500, device='cuda:0', grad_fn=<MeanBackward0>)\n",
      "loss tensor(1.1500, device='cuda:0', grad_fn=<MeanBackward0>)\n",
      "loss tensor(1.1500, device='cuda:0', grad_fn=<MeanBackward0>)\n",
      "loss tensor(1.1500, device='cuda:0', grad_fn=<MeanBackward0>)\n",
      "loss tensor(1.1500, device='cuda:0', grad_fn=<MeanBackward0>)\n",
      "loss tensor(1.1500, device='cuda:0', grad_fn=<MeanBackward0>)\n",
      "loss tensor(1.1500, device='cuda:0', grad_fn=<MeanBackward0>)\n",
      "loss tensor(1.1500, device='cuda:0', grad_fn=<MeanBackward0>)\n",
      "loss tensor(1.1500, device='cuda:0', grad_fn=<MeanBackward0>)\n",
      "loss tensor(1.1500, device='cuda:0', grad_fn=<MeanBackward0>)\n",
      "loss tensor(1.1500, device='cuda:0', grad_fn=<MeanBackward0>)\n",
      "loss tensor(1.1500, device='cuda:0', grad_fn=<MeanBackward0>)\n",
      "loss tensor(1.1500, device='cuda:0', grad_fn=<MeanBackward0>)\n",
      "loss tensor(1.1500, device='cuda:0', grad_fn=<MeanBackward0>)\n",
      "loss tensor(1.1500, device='cuda:0', grad_fn=<MeanBackward0>)\n",
      "loss tensor(1.1500, device='cuda:0', grad_fn=<MeanBackward0>)\n",
      "loss tensor(1.1500, device='cuda:0', grad_fn=<MeanBackward0>)\n",
      "loss tensor(1.1500, device='cuda:0', grad_fn=<MeanBackward0>)\n",
      "loss tensor(1.1500, device='cuda:0', grad_fn=<MeanBackward0>)\n",
      "loss tensor(1.1500, device='cuda:0', grad_fn=<MeanBackward0>)\n",
      "loss tensor(1.1500, device='cuda:0', grad_fn=<MeanBackward0>)\n",
      "loss tensor(1.1500, device='cuda:0', grad_fn=<MeanBackward0>)\n",
      "loss tensor(1.1500, device='cuda:0', grad_fn=<MeanBackward0>)\n",
      "loss tensor(1.1500, device='cuda:0', grad_fn=<MeanBackward0>)\n",
      "loss tensor(1.1500, device='cuda:0', grad_fn=<MeanBackward0>)\n",
      "loss tensor(1.1500, device='cuda:0', grad_fn=<MeanBackward0>)\n",
      "loss tensor(1.1500, device='cuda:0', grad_fn=<MeanBackward0>)\n",
      "scout number: 3\n",
      "loss tensor(2.1500, device='cuda:0', grad_fn=<MeanBackward0>)\n",
      "loss tensor(2.1500, device='cuda:0', grad_fn=<MeanBackward0>)\n",
      "loss tensor(2.1500, device='cuda:0', grad_fn=<MeanBackward0>)\n",
      "loss tensor(2.1500, device='cuda:0', grad_fn=<MeanBackward0>)\n",
      "loss tensor(2.1500, device='cuda:0', grad_fn=<MeanBackward0>)\n",
      "loss tensor(2.1500, device='cuda:0', grad_fn=<MeanBackward0>)\n",
      "loss tensor(2.1500, device='cuda:0', grad_fn=<MeanBackward0>)\n",
      "loss tensor(2.1500, device='cuda:0', grad_fn=<MeanBackward0>)\n",
      "loss tensor(2.1500, device='cuda:0', grad_fn=<MeanBackward0>)\n",
      "loss tensor(2.1500, device='cuda:0', grad_fn=<MeanBackward0>)\n",
      "loss tensor(2.1500, device='cuda:0', grad_fn=<MeanBackward0>)\n",
      "loss tensor(2.1500, device='cuda:0', grad_fn=<MeanBackward0>)\n",
      "loss tensor(2.1500, device='cuda:0', grad_fn=<MeanBackward0>)\n",
      "loss tensor(2.1500, device='cuda:0', grad_fn=<MeanBackward0>)\n",
      "loss tensor(2.1500, device='cuda:0', grad_fn=<MeanBackward0>)\n",
      "loss tensor(2.1500, device='cuda:0', grad_fn=<MeanBackward0>)\n",
      "loss tensor(2.1500, device='cuda:0', grad_fn=<MeanBackward0>)\n",
      "loss tensor(2.1500, device='cuda:0', grad_fn=<MeanBackward0>)\n",
      "loss tensor(2.1500, device='cuda:0', grad_fn=<MeanBackward0>)\n",
      "loss tensor(2.1500, device='cuda:0', grad_fn=<MeanBackward0>)\n",
      "loss tensor(2.1500, device='cuda:0', grad_fn=<MeanBackward0>)\n",
      "loss tensor(2.1500, device='cuda:0', grad_fn=<MeanBackward0>)\n",
      "loss tensor(2.1500, device='cuda:0', grad_fn=<MeanBackward0>)\n",
      "loss tensor(2.1500, device='cuda:0', grad_fn=<MeanBackward0>)\n"
     ]
    },
    {
     "name": "stdout",
     "output_type": "stream",
     "text": [
      "loss tensor(2.1500, device='cuda:0', grad_fn=<MeanBackward0>)\n",
      "loss tensor(2.1500, device='cuda:0', grad_fn=<MeanBackward0>)\n",
      "loss tensor(2.1500, device='cuda:0', grad_fn=<MeanBackward0>)\n",
      "loss tensor(2.1500, device='cuda:0', grad_fn=<MeanBackward0>)\n",
      "loss tensor(2.1500, device='cuda:0', grad_fn=<MeanBackward0>)\n",
      "loss tensor(2.1500, device='cuda:0', grad_fn=<MeanBackward0>)\n",
      "loss tensor(2.1500, device='cuda:0', grad_fn=<MeanBackward0>)\n",
      "loss tensor(2.1500, device='cuda:0', grad_fn=<MeanBackward0>)\n",
      "loss tensor(2.1500, device='cuda:0', grad_fn=<MeanBackward0>)\n",
      "loss tensor(2.1500, device='cuda:0', grad_fn=<MeanBackward0>)\n",
      "loss tensor(2.1500, device='cuda:0', grad_fn=<MeanBackward0>)\n",
      "loss tensor(2.1500, device='cuda:0', grad_fn=<MeanBackward0>)\n",
      "loss tensor(2.1500, device='cuda:0', grad_fn=<MeanBackward0>)\n",
      "loss tensor(2.1500, device='cuda:0', grad_fn=<MeanBackward0>)\n",
      "loss tensor(2.1500, device='cuda:0', grad_fn=<MeanBackward0>)\n",
      "loss tensor(2.1500, device='cuda:0', grad_fn=<MeanBackward0>)\n",
      "loss tensor(2.1500, device='cuda:0', grad_fn=<MeanBackward0>)\n",
      "loss tensor(2.1500, device='cuda:0', grad_fn=<MeanBackward0>)\n",
      "loss tensor(2.1500, device='cuda:0', grad_fn=<MeanBackward0>)\n",
      "loss tensor(2.1500, device='cuda:0', grad_fn=<MeanBackward0>)\n",
      "loss tensor(2.1500, device='cuda:0', grad_fn=<MeanBackward0>)\n",
      "loss tensor(2.1500, device='cuda:0', grad_fn=<MeanBackward0>)\n",
      "loss tensor(2.1500, device='cuda:0', grad_fn=<MeanBackward0>)\n",
      "loss tensor(2.1500, device='cuda:0', grad_fn=<MeanBackward0>)\n",
      "loss tensor(2.1500, device='cuda:0', grad_fn=<MeanBackward0>)\n",
      "loss tensor(2.1500, device='cuda:0', grad_fn=<MeanBackward0>)\n",
      "loss tensor(2.1500, device='cuda:0', grad_fn=<MeanBackward0>)\n",
      "loss tensor(2.1500, device='cuda:0', grad_fn=<MeanBackward0>)\n",
      "loss tensor(2.1500, device='cuda:0', grad_fn=<MeanBackward0>)\n",
      "loss tensor(2.1500, device='cuda:0', grad_fn=<MeanBackward0>)\n",
      "loss tensor(2.1500, device='cuda:0', grad_fn=<MeanBackward0>)\n",
      "loss tensor(2.1500, device='cuda:0', grad_fn=<MeanBackward0>)\n",
      "loss tensor(2.1500, device='cuda:0', grad_fn=<MeanBackward0>)\n",
      "loss tensor(2.1500, device='cuda:0', grad_fn=<MeanBackward0>)\n",
      "loss tensor(2.1500, device='cuda:0', grad_fn=<MeanBackward0>)\n",
      "loss tensor(2.1500, device='cuda:0', grad_fn=<MeanBackward0>)\n",
      "loss tensor(2.1500, device='cuda:0', grad_fn=<MeanBackward0>)\n",
      "loss tensor(2.1500, device='cuda:0', grad_fn=<MeanBackward0>)\n",
      "loss tensor(2.1500, device='cuda:0', grad_fn=<MeanBackward0>)\n",
      "loss tensor(2.1500, device='cuda:0', grad_fn=<MeanBackward0>)\n",
      "loss tensor(2.1500, device='cuda:0', grad_fn=<MeanBackward0>)\n",
      "loss tensor(2.1500, device='cuda:0', grad_fn=<MeanBackward0>)\n",
      "loss tensor(2.1500, device='cuda:0', grad_fn=<MeanBackward0>)\n",
      "loss tensor(2.1500, device='cuda:0', grad_fn=<MeanBackward0>)\n",
      "loss tensor(2.1500, device='cuda:0', grad_fn=<MeanBackward0>)\n",
      "loss tensor(2.1500, device='cuda:0', grad_fn=<MeanBackward0>)\n",
      "loss tensor(2.1500, device='cuda:0', grad_fn=<MeanBackward0>)\n",
      "loss tensor(2.1500, device='cuda:0', grad_fn=<MeanBackward0>)\n",
      "loss tensor(2.1500, device='cuda:0', grad_fn=<MeanBackward0>)\n",
      "loss tensor(2.1500, device='cuda:0', grad_fn=<MeanBackward0>)\n",
      "loss tensor(2.1500, device='cuda:0', grad_fn=<MeanBackward0>)\n",
      "loss tensor(2.1500, device='cuda:0', grad_fn=<MeanBackward0>)\n",
      "loss tensor(2.1500, device='cuda:0', grad_fn=<MeanBackward0>)\n",
      "loss tensor(2.1500, device='cuda:0', grad_fn=<MeanBackward0>)\n",
      "loss tensor(2.1500, device='cuda:0', grad_fn=<MeanBackward0>)\n",
      "loss tensor(2.1500, device='cuda:0', grad_fn=<MeanBackward0>)\n",
      "scout number: 4\n",
      "loss tensor(1.6500, device='cuda:0', grad_fn=<MeanBackward0>)\n",
      "loss tensor(1.6500, device='cuda:0', grad_fn=<MeanBackward0>)\n",
      "loss tensor(1.6500, device='cuda:0', grad_fn=<MeanBackward0>)\n",
      "loss tensor(1.6500, device='cuda:0', grad_fn=<MeanBackward0>)\n",
      "loss tensor(1.6500, device='cuda:0', grad_fn=<MeanBackward0>)\n",
      "loss tensor(1.6500, device='cuda:0', grad_fn=<MeanBackward0>)\n",
      "loss tensor(1.6500, device='cuda:0', grad_fn=<MeanBackward0>)\n",
      "loss tensor(1.6500, device='cuda:0', grad_fn=<MeanBackward0>)\n",
      "loss tensor(1.6500, device='cuda:0', grad_fn=<MeanBackward0>)\n",
      "loss tensor(1.6500, device='cuda:0', grad_fn=<MeanBackward0>)\n",
      "loss tensor(1.6500, device='cuda:0', grad_fn=<MeanBackward0>)\n",
      "loss tensor(1.6500, device='cuda:0', grad_fn=<MeanBackward0>)\n",
      "loss tensor(1.6500, device='cuda:0', grad_fn=<MeanBackward0>)\n",
      "loss tensor(1.6500, device='cuda:0', grad_fn=<MeanBackward0>)\n",
      "loss tensor(1.6500, device='cuda:0', grad_fn=<MeanBackward0>)\n",
      "loss tensor(1.6500, device='cuda:0', grad_fn=<MeanBackward0>)\n",
      "loss tensor(1.6500, device='cuda:0', grad_fn=<MeanBackward0>)\n",
      "loss tensor(1.6500, device='cuda:0', grad_fn=<MeanBackward0>)\n",
      "loss tensor(1.6500, device='cuda:0', grad_fn=<MeanBackward0>)\n",
      "loss tensor(1.6500, device='cuda:0', grad_fn=<MeanBackward0>)\n",
      "loss tensor(1.6500, device='cuda:0', grad_fn=<MeanBackward0>)\n",
      "loss tensor(1.6500, device='cuda:0', grad_fn=<MeanBackward0>)\n",
      "loss tensor(1.6500, device='cuda:0', grad_fn=<MeanBackward0>)\n",
      "loss tensor(1.6500, device='cuda:0', grad_fn=<MeanBackward0>)\n",
      "loss tensor(1.6500, device='cuda:0', grad_fn=<MeanBackward0>)\n",
      "loss tensor(1.6500, device='cuda:0', grad_fn=<MeanBackward0>)\n",
      "loss tensor(1.6500, device='cuda:0', grad_fn=<MeanBackward0>)\n",
      "loss tensor(1.6500, device='cuda:0', grad_fn=<MeanBackward0>)\n",
      "loss tensor(1.6500, device='cuda:0', grad_fn=<MeanBackward0>)\n",
      "loss tensor(1.6500, device='cuda:0', grad_fn=<MeanBackward0>)\n",
      "loss tensor(1.6500, device='cuda:0', grad_fn=<MeanBackward0>)\n",
      "loss tensor(1.6500, device='cuda:0', grad_fn=<MeanBackward0>)\n",
      "loss tensor(1.6500, device='cuda:0', grad_fn=<MeanBackward0>)\n",
      "loss tensor(1.6500, device='cuda:0', grad_fn=<MeanBackward0>)\n",
      "loss tensor(1.6500, device='cuda:0', grad_fn=<MeanBackward0>)\n",
      "loss tensor(1.6500, device='cuda:0', grad_fn=<MeanBackward0>)\n",
      "loss tensor(1.6500, device='cuda:0', grad_fn=<MeanBackward0>)\n",
      "loss tensor(1.6500, device='cuda:0', grad_fn=<MeanBackward0>)\n",
      "loss tensor(1.6500, device='cuda:0', grad_fn=<MeanBackward0>)\n",
      "loss tensor(1.6500, device='cuda:0', grad_fn=<MeanBackward0>)\n",
      "loss tensor(1.6500, device='cuda:0', grad_fn=<MeanBackward0>)\n",
      "loss tensor(1.6500, device='cuda:0', grad_fn=<MeanBackward0>)\n",
      "loss tensor(1.6500, device='cuda:0', grad_fn=<MeanBackward0>)\n",
      "loss tensor(1.6500, device='cuda:0', grad_fn=<MeanBackward0>)\n",
      "loss tensor(1.6500, device='cuda:0', grad_fn=<MeanBackward0>)\n",
      "loss tensor(1.6500, device='cuda:0', grad_fn=<MeanBackward0>)\n",
      "loss tensor(1.6500, device='cuda:0', grad_fn=<MeanBackward0>)\n",
      "loss tensor(1.6500, device='cuda:0', grad_fn=<MeanBackward0>)\n",
      "loss tensor(1.6500, device='cuda:0', grad_fn=<MeanBackward0>)\n",
      "loss tensor(1.6500, device='cuda:0', grad_fn=<MeanBackward0>)\n",
      "loss tensor(1.6500, device='cuda:0', grad_fn=<MeanBackward0>)\n",
      "loss tensor(1.6500, device='cuda:0', grad_fn=<MeanBackward0>)\n",
      "loss tensor(1.6500, device='cuda:0', grad_fn=<MeanBackward0>)\n",
      "loss tensor(1.6500, device='cuda:0', grad_fn=<MeanBackward0>)\n",
      "loss tensor(1.6500, device='cuda:0', grad_fn=<MeanBackward0>)\n",
      "loss tensor(1.6500, device='cuda:0', grad_fn=<MeanBackward0>)\n",
      "loss tensor(1.6500, device='cuda:0', grad_fn=<MeanBackward0>)\n",
      "loss tensor(1.6500, device='cuda:0', grad_fn=<MeanBackward0>)\n",
      "loss tensor(1.6500, device='cuda:0', grad_fn=<MeanBackward0>)\n",
      "loss tensor(1.6500, device='cuda:0', grad_fn=<MeanBackward0>)\n",
      "loss tensor(1.6500, device='cuda:0', grad_fn=<MeanBackward0>)\n",
      "loss tensor(1.6500, device='cuda:0', grad_fn=<MeanBackward0>)\n",
      "loss tensor(1.6500, device='cuda:0', grad_fn=<MeanBackward0>)\n",
      "loss tensor(1.6500, device='cuda:0', grad_fn=<MeanBackward0>)\n",
      "loss tensor(1.6500, device='cuda:0', grad_fn=<MeanBackward0>)\n",
      "loss tensor(1.6500, device='cuda:0', grad_fn=<MeanBackward0>)\n",
      "loss tensor(1.6500, device='cuda:0', grad_fn=<MeanBackward0>)\n",
      "loss tensor(1.6500, device='cuda:0', grad_fn=<MeanBackward0>)\n",
      "loss tensor(1.6500, device='cuda:0', grad_fn=<MeanBackward0>)\n",
      "loss tensor(1.6500, device='cuda:0', grad_fn=<MeanBackward0>)\n",
      "loss tensor(1.6500, device='cuda:0', grad_fn=<MeanBackward0>)\n",
      "loss tensor(1.6500, device='cuda:0', grad_fn=<MeanBackward0>)\n",
      "loss tensor(1.6500, device='cuda:0', grad_fn=<MeanBackward0>)\n",
      "loss tensor(1.6500, device='cuda:0', grad_fn=<MeanBackward0>)\n",
      "loss tensor(1.6500, device='cuda:0', grad_fn=<MeanBackward0>)\n",
      "loss tensor(1.6500, device='cuda:0', grad_fn=<MeanBackward0>)\n"
     ]
    },
    {
     "name": "stdout",
     "output_type": "stream",
     "text": [
      "loss tensor(1.6500, device='cuda:0', grad_fn=<MeanBackward0>)\n",
      "loss tensor(1.6500, device='cuda:0', grad_fn=<MeanBackward0>)\n",
      "loss tensor(1.6500, device='cuda:0', grad_fn=<MeanBackward0>)\n",
      "loss tensor(1.6500, device='cuda:0', grad_fn=<MeanBackward0>)\n",
      "scout number: 5\n",
      "loss tensor(0.6000, device='cuda:0', grad_fn=<MeanBackward0>)\n",
      "loss tensor(0.6000, device='cuda:0', grad_fn=<MeanBackward0>)\n",
      "loss tensor(0.6000, device='cuda:0', grad_fn=<MeanBackward0>)\n",
      "loss tensor(0.6000, device='cuda:0', grad_fn=<MeanBackward0>)\n",
      "loss tensor(0.6000, device='cuda:0', grad_fn=<MeanBackward0>)\n",
      "loss tensor(0.6000, device='cuda:0', grad_fn=<MeanBackward0>)\n",
      "loss tensor(0.6000, device='cuda:0', grad_fn=<MeanBackward0>)\n",
      "loss tensor(0.6000, device='cuda:0', grad_fn=<MeanBackward0>)\n",
      "loss tensor(0.6000, device='cuda:0', grad_fn=<MeanBackward0>)\n",
      "loss tensor(0.6000, device='cuda:0', grad_fn=<MeanBackward0>)\n",
      "loss tensor(0.6000, device='cuda:0', grad_fn=<MeanBackward0>)\n",
      "loss tensor(0.6000, device='cuda:0', grad_fn=<MeanBackward0>)\n",
      "loss tensor(0.6000, device='cuda:0', grad_fn=<MeanBackward0>)\n",
      "loss tensor(0.6000, device='cuda:0', grad_fn=<MeanBackward0>)\n",
      "loss tensor(0.6000, device='cuda:0', grad_fn=<MeanBackward0>)\n",
      "loss tensor(0.6000, device='cuda:0', grad_fn=<MeanBackward0>)\n",
      "loss tensor(0.6000, device='cuda:0', grad_fn=<MeanBackward0>)\n",
      "loss tensor(0.6000, device='cuda:0', grad_fn=<MeanBackward0>)\n",
      "loss tensor(0.6000, device='cuda:0', grad_fn=<MeanBackward0>)\n",
      "loss tensor(0.6000, device='cuda:0', grad_fn=<MeanBackward0>)\n",
      "loss tensor(0.6000, device='cuda:0', grad_fn=<MeanBackward0>)\n",
      "loss tensor(0.6000, device='cuda:0', grad_fn=<MeanBackward0>)\n",
      "loss tensor(0.6000, device='cuda:0', grad_fn=<MeanBackward0>)\n",
      "loss tensor(0.6000, device='cuda:0', grad_fn=<MeanBackward0>)\n",
      "loss tensor(0.6000, device='cuda:0', grad_fn=<MeanBackward0>)\n",
      "loss tensor(0.6000, device='cuda:0', grad_fn=<MeanBackward0>)\n",
      "loss tensor(0.6000, device='cuda:0', grad_fn=<MeanBackward0>)\n",
      "loss tensor(0.6000, device='cuda:0', grad_fn=<MeanBackward0>)\n",
      "loss tensor(0.6000, device='cuda:0', grad_fn=<MeanBackward0>)\n",
      "loss tensor(0.6000, device='cuda:0', grad_fn=<MeanBackward0>)\n",
      "loss tensor(0.6000, device='cuda:0', grad_fn=<MeanBackward0>)\n",
      "loss tensor(0.6000, device='cuda:0', grad_fn=<MeanBackward0>)\n",
      "loss tensor(0.6000, device='cuda:0', grad_fn=<MeanBackward0>)\n",
      "loss tensor(0.6000, device='cuda:0', grad_fn=<MeanBackward0>)\n",
      "loss tensor(0.6000, device='cuda:0', grad_fn=<MeanBackward0>)\n",
      "loss tensor(0.6000, device='cuda:0', grad_fn=<MeanBackward0>)\n",
      "loss tensor(0.6000, device='cuda:0', grad_fn=<MeanBackward0>)\n",
      "loss tensor(0.6000, device='cuda:0', grad_fn=<MeanBackward0>)\n",
      "loss tensor(0.6000, device='cuda:0', grad_fn=<MeanBackward0>)\n",
      "loss tensor(0.6000, device='cuda:0', grad_fn=<MeanBackward0>)\n",
      "loss tensor(0.6000, device='cuda:0', grad_fn=<MeanBackward0>)\n",
      "loss tensor(0.6000, device='cuda:0', grad_fn=<MeanBackward0>)\n",
      "loss tensor(0.6000, device='cuda:0', grad_fn=<MeanBackward0>)\n",
      "loss tensor(0.6000, device='cuda:0', grad_fn=<MeanBackward0>)\n",
      "loss tensor(0.6000, device='cuda:0', grad_fn=<MeanBackward0>)\n",
      "loss tensor(0.6000, device='cuda:0', grad_fn=<MeanBackward0>)\n",
      "loss tensor(0.6000, device='cuda:0', grad_fn=<MeanBackward0>)\n",
      "loss tensor(0.6000, device='cuda:0', grad_fn=<MeanBackward0>)\n",
      "loss tensor(0.6000, device='cuda:0', grad_fn=<MeanBackward0>)\n",
      "loss tensor(0.6000, device='cuda:0', grad_fn=<MeanBackward0>)\n",
      "loss tensor(0.6000, device='cuda:0', grad_fn=<MeanBackward0>)\n",
      "loss tensor(0.6000, device='cuda:0', grad_fn=<MeanBackward0>)\n",
      "loss tensor(0.6000, device='cuda:0', grad_fn=<MeanBackward0>)\n",
      "loss tensor(0.6000, device='cuda:0', grad_fn=<MeanBackward0>)\n",
      "loss tensor(0.6000, device='cuda:0', grad_fn=<MeanBackward0>)\n",
      "loss tensor(0.6000, device='cuda:0', grad_fn=<MeanBackward0>)\n",
      "loss tensor(0.6000, device='cuda:0', grad_fn=<MeanBackward0>)\n",
      "loss tensor(0.6000, device='cuda:0', grad_fn=<MeanBackward0>)\n",
      "loss tensor(0.6000, device='cuda:0', grad_fn=<MeanBackward0>)\n",
      "loss tensor(0.6000, device='cuda:0', grad_fn=<MeanBackward0>)\n",
      "loss tensor(0.6000, device='cuda:0', grad_fn=<MeanBackward0>)\n",
      "loss tensor(0.6000, device='cuda:0', grad_fn=<MeanBackward0>)\n",
      "loss tensor(0.6000, device='cuda:0', grad_fn=<MeanBackward0>)\n",
      "loss tensor(0.6000, device='cuda:0', grad_fn=<MeanBackward0>)\n",
      "loss tensor(0.6000, device='cuda:0', grad_fn=<MeanBackward0>)\n",
      "loss tensor(0.6000, device='cuda:0', grad_fn=<MeanBackward0>)\n",
      "loss tensor(0.6000, device='cuda:0', grad_fn=<MeanBackward0>)\n",
      "loss tensor(0.6000, device='cuda:0', grad_fn=<MeanBackward0>)\n",
      "loss tensor(0.6000, device='cuda:0', grad_fn=<MeanBackward0>)\n",
      "loss tensor(0.6000, device='cuda:0', grad_fn=<MeanBackward0>)\n",
      "loss tensor(0.6000, device='cuda:0', grad_fn=<MeanBackward0>)\n",
      "loss tensor(0.6000, device='cuda:0', grad_fn=<MeanBackward0>)\n",
      "loss tensor(0.6000, device='cuda:0', grad_fn=<MeanBackward0>)\n",
      "loss tensor(0.6000, device='cuda:0', grad_fn=<MeanBackward0>)\n",
      "loss tensor(0.6000, device='cuda:0', grad_fn=<MeanBackward0>)\n",
      "loss tensor(0.6000, device='cuda:0', grad_fn=<MeanBackward0>)\n",
      "loss tensor(0.6000, device='cuda:0', grad_fn=<MeanBackward0>)\n",
      "loss tensor(0.6000, device='cuda:0', grad_fn=<MeanBackward0>)\n",
      "loss tensor(0.6000, device='cuda:0', grad_fn=<MeanBackward0>)\n",
      "loss tensor(0.6000, device='cuda:0', grad_fn=<MeanBackward0>)\n",
      "scout number: 6\n",
      "loss tensor(1.7000, device='cuda:0', grad_fn=<MeanBackward0>)\n",
      "loss tensor(1.7000, device='cuda:0', grad_fn=<MeanBackward0>)\n",
      "loss tensor(1.7000, device='cuda:0', grad_fn=<MeanBackward0>)\n",
      "loss tensor(1.7000, device='cuda:0', grad_fn=<MeanBackward0>)\n",
      "loss tensor(1.7000, device='cuda:0', grad_fn=<MeanBackward0>)\n",
      "loss tensor(1.7000, device='cuda:0', grad_fn=<MeanBackward0>)\n",
      "loss tensor(1.7000, device='cuda:0', grad_fn=<MeanBackward0>)\n",
      "loss tensor(1.7000, device='cuda:0', grad_fn=<MeanBackward0>)\n",
      "loss tensor(1.7000, device='cuda:0', grad_fn=<MeanBackward0>)\n",
      "loss tensor(1.7000, device='cuda:0', grad_fn=<MeanBackward0>)\n",
      "loss tensor(1.7000, device='cuda:0', grad_fn=<MeanBackward0>)\n",
      "loss tensor(1.7000, device='cuda:0', grad_fn=<MeanBackward0>)\n",
      "loss tensor(1.7000, device='cuda:0', grad_fn=<MeanBackward0>)\n",
      "loss tensor(1.7000, device='cuda:0', grad_fn=<MeanBackward0>)\n",
      "loss tensor(1.7000, device='cuda:0', grad_fn=<MeanBackward0>)\n",
      "loss tensor(1.7000, device='cuda:0', grad_fn=<MeanBackward0>)\n",
      "loss tensor(1.7000, device='cuda:0', grad_fn=<MeanBackward0>)\n",
      "loss tensor(1.7000, device='cuda:0', grad_fn=<MeanBackward0>)\n",
      "loss tensor(1.7000, device='cuda:0', grad_fn=<MeanBackward0>)\n",
      "loss tensor(1.7000, device='cuda:0', grad_fn=<MeanBackward0>)\n",
      "loss tensor(1.7000, device='cuda:0', grad_fn=<MeanBackward0>)\n",
      "loss tensor(1.7000, device='cuda:0', grad_fn=<MeanBackward0>)\n",
      "loss tensor(1.7000, device='cuda:0', grad_fn=<MeanBackward0>)\n",
      "loss tensor(1.7000, device='cuda:0', grad_fn=<MeanBackward0>)\n",
      "loss tensor(1.7000, device='cuda:0', grad_fn=<MeanBackward0>)\n",
      "loss tensor(1.7000, device='cuda:0', grad_fn=<MeanBackward0>)\n",
      "loss tensor(1.7000, device='cuda:0', grad_fn=<MeanBackward0>)\n",
      "loss tensor(1.7000, device='cuda:0', grad_fn=<MeanBackward0>)\n",
      "loss tensor(1.7000, device='cuda:0', grad_fn=<MeanBackward0>)\n",
      "loss tensor(1.7000, device='cuda:0', grad_fn=<MeanBackward0>)\n",
      "loss tensor(1.7000, device='cuda:0', grad_fn=<MeanBackward0>)\n",
      "loss tensor(1.7000, device='cuda:0', grad_fn=<MeanBackward0>)\n",
      "loss tensor(1.7000, device='cuda:0', grad_fn=<MeanBackward0>)\n",
      "loss tensor(1.7000, device='cuda:0', grad_fn=<MeanBackward0>)\n",
      "loss tensor(1.7000, device='cuda:0', grad_fn=<MeanBackward0>)\n",
      "loss tensor(1.7000, device='cuda:0', grad_fn=<MeanBackward0>)\n",
      "loss tensor(1.7000, device='cuda:0', grad_fn=<MeanBackward0>)\n",
      "loss tensor(1.7000, device='cuda:0', grad_fn=<MeanBackward0>)\n",
      "loss tensor(1.7000, device='cuda:0', grad_fn=<MeanBackward0>)\n",
      "loss tensor(1.7000, device='cuda:0', grad_fn=<MeanBackward0>)\n",
      "loss tensor(1.7000, device='cuda:0', grad_fn=<MeanBackward0>)\n",
      "loss tensor(1.7000, device='cuda:0', grad_fn=<MeanBackward0>)\n",
      "loss tensor(1.7000, device='cuda:0', grad_fn=<MeanBackward0>)\n",
      "loss tensor(1.7000, device='cuda:0', grad_fn=<MeanBackward0>)\n",
      "loss tensor(1.7000, device='cuda:0', grad_fn=<MeanBackward0>)\n",
      "loss tensor(1.7000, device='cuda:0', grad_fn=<MeanBackward0>)\n",
      "loss tensor(1.7000, device='cuda:0', grad_fn=<MeanBackward0>)\n",
      "loss tensor(1.7000, device='cuda:0', grad_fn=<MeanBackward0>)\n"
     ]
    },
    {
     "name": "stdout",
     "output_type": "stream",
     "text": [
      "loss tensor(1.7000, device='cuda:0', grad_fn=<MeanBackward0>)\n",
      "loss tensor(1.7000, device='cuda:0', grad_fn=<MeanBackward0>)\n",
      "loss tensor(1.7000, device='cuda:0', grad_fn=<MeanBackward0>)\n",
      "loss tensor(1.7000, device='cuda:0', grad_fn=<MeanBackward0>)\n",
      "loss tensor(1.7000, device='cuda:0', grad_fn=<MeanBackward0>)\n",
      "loss tensor(1.7000, device='cuda:0', grad_fn=<MeanBackward0>)\n",
      "loss tensor(1.7000, device='cuda:0', grad_fn=<MeanBackward0>)\n",
      "loss tensor(1.7000, device='cuda:0', grad_fn=<MeanBackward0>)\n",
      "loss tensor(1.7000, device='cuda:0', grad_fn=<MeanBackward0>)\n",
      "loss tensor(1.7000, device='cuda:0', grad_fn=<MeanBackward0>)\n",
      "loss tensor(1.7000, device='cuda:0', grad_fn=<MeanBackward0>)\n",
      "loss tensor(1.7000, device='cuda:0', grad_fn=<MeanBackward0>)\n",
      "loss tensor(1.7000, device='cuda:0', grad_fn=<MeanBackward0>)\n",
      "loss tensor(1.7000, device='cuda:0', grad_fn=<MeanBackward0>)\n",
      "loss tensor(1.7000, device='cuda:0', grad_fn=<MeanBackward0>)\n",
      "loss tensor(1.7000, device='cuda:0', grad_fn=<MeanBackward0>)\n",
      "loss tensor(1.7000, device='cuda:0', grad_fn=<MeanBackward0>)\n",
      "loss tensor(1.7000, device='cuda:0', grad_fn=<MeanBackward0>)\n",
      "loss tensor(1.7000, device='cuda:0', grad_fn=<MeanBackward0>)\n",
      "loss tensor(1.7000, device='cuda:0', grad_fn=<MeanBackward0>)\n",
      "loss tensor(1.7000, device='cuda:0', grad_fn=<MeanBackward0>)\n",
      "loss tensor(1.7000, device='cuda:0', grad_fn=<MeanBackward0>)\n",
      "loss tensor(1.7000, device='cuda:0', grad_fn=<MeanBackward0>)\n",
      "loss tensor(1.7000, device='cuda:0', grad_fn=<MeanBackward0>)\n",
      "loss tensor(1.7000, device='cuda:0', grad_fn=<MeanBackward0>)\n",
      "loss tensor(1.7000, device='cuda:0', grad_fn=<MeanBackward0>)\n",
      "loss tensor(1.7000, device='cuda:0', grad_fn=<MeanBackward0>)\n",
      "loss tensor(1.7000, device='cuda:0', grad_fn=<MeanBackward0>)\n",
      "loss tensor(1.7000, device='cuda:0', grad_fn=<MeanBackward0>)\n",
      "loss tensor(1.7000, device='cuda:0', grad_fn=<MeanBackward0>)\n",
      "loss tensor(1.7000, device='cuda:0', grad_fn=<MeanBackward0>)\n",
      "loss tensor(1.7000, device='cuda:0', grad_fn=<MeanBackward0>)\n",
      "scout number: 7\n",
      "loss tensor(1.6000, device='cuda:0', grad_fn=<MeanBackward0>)\n",
      "loss tensor(1.6000, device='cuda:0', grad_fn=<MeanBackward0>)\n",
      "loss tensor(1.6000, device='cuda:0', grad_fn=<MeanBackward0>)\n",
      "loss tensor(1.6000, device='cuda:0', grad_fn=<MeanBackward0>)\n",
      "loss tensor(1.6000, device='cuda:0', grad_fn=<MeanBackward0>)\n",
      "loss tensor(1.6000, device='cuda:0', grad_fn=<MeanBackward0>)\n",
      "loss tensor(1.6000, device='cuda:0', grad_fn=<MeanBackward0>)\n",
      "loss tensor(1.6000, device='cuda:0', grad_fn=<MeanBackward0>)\n",
      "loss tensor(1.6000, device='cuda:0', grad_fn=<MeanBackward0>)\n",
      "loss tensor(1.6000, device='cuda:0', grad_fn=<MeanBackward0>)\n",
      "loss tensor(1.6000, device='cuda:0', grad_fn=<MeanBackward0>)\n",
      "loss tensor(1.6000, device='cuda:0', grad_fn=<MeanBackward0>)\n",
      "loss tensor(1.6000, device='cuda:0', grad_fn=<MeanBackward0>)\n",
      "loss tensor(1.6000, device='cuda:0', grad_fn=<MeanBackward0>)\n",
      "loss tensor(1.6000, device='cuda:0', grad_fn=<MeanBackward0>)\n",
      "loss tensor(1.6000, device='cuda:0', grad_fn=<MeanBackward0>)\n",
      "loss tensor(1.6000, device='cuda:0', grad_fn=<MeanBackward0>)\n",
      "loss tensor(1.6000, device='cuda:0', grad_fn=<MeanBackward0>)\n",
      "loss tensor(1.6000, device='cuda:0', grad_fn=<MeanBackward0>)\n",
      "loss tensor(1.6000, device='cuda:0', grad_fn=<MeanBackward0>)\n",
      "loss tensor(1.6000, device='cuda:0', grad_fn=<MeanBackward0>)\n",
      "loss tensor(1.6000, device='cuda:0', grad_fn=<MeanBackward0>)\n",
      "loss tensor(1.6000, device='cuda:0', grad_fn=<MeanBackward0>)\n",
      "loss tensor(1.6000, device='cuda:0', grad_fn=<MeanBackward0>)\n",
      "loss tensor(1.6000, device='cuda:0', grad_fn=<MeanBackward0>)\n",
      "loss tensor(1.6000, device='cuda:0', grad_fn=<MeanBackward0>)\n",
      "loss tensor(1.6000, device='cuda:0', grad_fn=<MeanBackward0>)\n",
      "loss tensor(1.6000, device='cuda:0', grad_fn=<MeanBackward0>)\n",
      "loss tensor(1.6000, device='cuda:0', grad_fn=<MeanBackward0>)\n",
      "loss tensor(1.6000, device='cuda:0', grad_fn=<MeanBackward0>)\n",
      "loss tensor(1.6000, device='cuda:0', grad_fn=<MeanBackward0>)\n",
      "loss tensor(1.6000, device='cuda:0', grad_fn=<MeanBackward0>)\n",
      "loss tensor(1.6000, device='cuda:0', grad_fn=<MeanBackward0>)\n",
      "loss tensor(1.6000, device='cuda:0', grad_fn=<MeanBackward0>)\n",
      "loss tensor(1.6000, device='cuda:0', grad_fn=<MeanBackward0>)\n",
      "loss tensor(1.6000, device='cuda:0', grad_fn=<MeanBackward0>)\n",
      "loss tensor(1.6000, device='cuda:0', grad_fn=<MeanBackward0>)\n",
      "loss tensor(1.6000, device='cuda:0', grad_fn=<MeanBackward0>)\n",
      "loss tensor(1.6000, device='cuda:0', grad_fn=<MeanBackward0>)\n",
      "loss tensor(1.6000, device='cuda:0', grad_fn=<MeanBackward0>)\n",
      "loss tensor(1.6000, device='cuda:0', grad_fn=<MeanBackward0>)\n",
      "loss tensor(1.6000, device='cuda:0', grad_fn=<MeanBackward0>)\n",
      "loss tensor(1.6000, device='cuda:0', grad_fn=<MeanBackward0>)\n",
      "loss tensor(1.6000, device='cuda:0', grad_fn=<MeanBackward0>)\n",
      "loss tensor(1.6000, device='cuda:0', grad_fn=<MeanBackward0>)\n",
      "loss tensor(1.6000, device='cuda:0', grad_fn=<MeanBackward0>)\n",
      "loss tensor(1.6000, device='cuda:0', grad_fn=<MeanBackward0>)\n",
      "loss tensor(1.6000, device='cuda:0', grad_fn=<MeanBackward0>)\n",
      "loss tensor(1.6000, device='cuda:0', grad_fn=<MeanBackward0>)\n",
      "loss tensor(1.6000, device='cuda:0', grad_fn=<MeanBackward0>)\n",
      "loss tensor(1.6000, device='cuda:0', grad_fn=<MeanBackward0>)\n",
      "loss tensor(1.6000, device='cuda:0', grad_fn=<MeanBackward0>)\n",
      "loss tensor(1.6000, device='cuda:0', grad_fn=<MeanBackward0>)\n",
      "loss tensor(1.6000, device='cuda:0', grad_fn=<MeanBackward0>)\n",
      "loss tensor(1.6000, device='cuda:0', grad_fn=<MeanBackward0>)\n",
      "loss tensor(1.6000, device='cuda:0', grad_fn=<MeanBackward0>)\n",
      "loss tensor(1.6000, device='cuda:0', grad_fn=<MeanBackward0>)\n",
      "loss tensor(1.6000, device='cuda:0', grad_fn=<MeanBackward0>)\n",
      "loss tensor(1.6000, device='cuda:0', grad_fn=<MeanBackward0>)\n",
      "loss tensor(1.6000, device='cuda:0', grad_fn=<MeanBackward0>)\n",
      "loss tensor(1.6000, device='cuda:0', grad_fn=<MeanBackward0>)\n",
      "loss tensor(1.6000, device='cuda:0', grad_fn=<MeanBackward0>)\n",
      "loss tensor(1.6000, device='cuda:0', grad_fn=<MeanBackward0>)\n",
      "loss tensor(1.6000, device='cuda:0', grad_fn=<MeanBackward0>)\n",
      "loss tensor(1.6000, device='cuda:0', grad_fn=<MeanBackward0>)\n",
      "loss tensor(1.6000, device='cuda:0', grad_fn=<MeanBackward0>)\n",
      "loss tensor(1.6000, device='cuda:0', grad_fn=<MeanBackward0>)\n",
      "loss tensor(1.6000, device='cuda:0', grad_fn=<MeanBackward0>)\n",
      "loss tensor(1.6000, device='cuda:0', grad_fn=<MeanBackward0>)\n",
      "loss tensor(1.6000, device='cuda:0', grad_fn=<MeanBackward0>)\n",
      "loss tensor(1.6000, device='cuda:0', grad_fn=<MeanBackward0>)\n",
      "loss tensor(1.6000, device='cuda:0', grad_fn=<MeanBackward0>)\n",
      "loss tensor(1.6000, device='cuda:0', grad_fn=<MeanBackward0>)\n",
      "loss tensor(1.6000, device='cuda:0', grad_fn=<MeanBackward0>)\n",
      "loss tensor(1.6000, device='cuda:0', grad_fn=<MeanBackward0>)\n",
      "loss tensor(1.6000, device='cuda:0', grad_fn=<MeanBackward0>)\n",
      "loss tensor(1.6000, device='cuda:0', grad_fn=<MeanBackward0>)\n",
      "loss tensor(1.6000, device='cuda:0', grad_fn=<MeanBackward0>)\n",
      "loss tensor(1.6000, device='cuda:0', grad_fn=<MeanBackward0>)\n",
      "loss tensor(1.6000, device='cuda:0', grad_fn=<MeanBackward0>)\n",
      "scout number: 8\n",
      "loss tensor(2.7000, device='cuda:0', grad_fn=<MeanBackward0>)\n",
      "loss tensor(2.7000, device='cuda:0', grad_fn=<MeanBackward0>)\n",
      "loss tensor(2.7000, device='cuda:0', grad_fn=<MeanBackward0>)\n",
      "loss tensor(2.7000, device='cuda:0', grad_fn=<MeanBackward0>)\n",
      "loss tensor(2.7000, device='cuda:0', grad_fn=<MeanBackward0>)\n",
      "loss tensor(2.7000, device='cuda:0', grad_fn=<MeanBackward0>)\n",
      "loss tensor(2.7000, device='cuda:0', grad_fn=<MeanBackward0>)\n",
      "loss tensor(2.7000, device='cuda:0', grad_fn=<MeanBackward0>)\n",
      "loss tensor(2.7000, device='cuda:0', grad_fn=<MeanBackward0>)\n",
      "loss tensor(2.7000, device='cuda:0', grad_fn=<MeanBackward0>)\n",
      "loss tensor(2.7000, device='cuda:0', grad_fn=<MeanBackward0>)\n",
      "loss tensor(2.7000, device='cuda:0', grad_fn=<MeanBackward0>)\n",
      "loss tensor(2.7000, device='cuda:0', grad_fn=<MeanBackward0>)\n",
      "loss tensor(2.7000, device='cuda:0', grad_fn=<MeanBackward0>)\n",
      "loss tensor(2.7000, device='cuda:0', grad_fn=<MeanBackward0>)\n",
      "loss tensor(2.7000, device='cuda:0', grad_fn=<MeanBackward0>)\n",
      "loss tensor(2.7000, device='cuda:0', grad_fn=<MeanBackward0>)\n",
      "loss tensor(2.7000, device='cuda:0', grad_fn=<MeanBackward0>)\n",
      "loss tensor(2.7000, device='cuda:0', grad_fn=<MeanBackward0>)\n",
      "loss tensor(2.7000, device='cuda:0', grad_fn=<MeanBackward0>)\n"
     ]
    },
    {
     "name": "stdout",
     "output_type": "stream",
     "text": [
      "loss tensor(2.7000, device='cuda:0', grad_fn=<MeanBackward0>)\n",
      "loss tensor(2.7000, device='cuda:0', grad_fn=<MeanBackward0>)\n",
      "loss tensor(2.7000, device='cuda:0', grad_fn=<MeanBackward0>)\n",
      "loss tensor(2.7000, device='cuda:0', grad_fn=<MeanBackward0>)\n",
      "loss tensor(2.7000, device='cuda:0', grad_fn=<MeanBackward0>)\n",
      "loss tensor(2.7000, device='cuda:0', grad_fn=<MeanBackward0>)\n",
      "loss tensor(2.7000, device='cuda:0', grad_fn=<MeanBackward0>)\n",
      "loss tensor(2.7000, device='cuda:0', grad_fn=<MeanBackward0>)\n",
      "loss tensor(2.7000, device='cuda:0', grad_fn=<MeanBackward0>)\n",
      "loss tensor(2.7000, device='cuda:0', grad_fn=<MeanBackward0>)\n",
      "loss tensor(2.7000, device='cuda:0', grad_fn=<MeanBackward0>)\n",
      "loss tensor(2.7000, device='cuda:0', grad_fn=<MeanBackward0>)\n",
      "loss tensor(2.7000, device='cuda:0', grad_fn=<MeanBackward0>)\n",
      "loss tensor(2.7000, device='cuda:0', grad_fn=<MeanBackward0>)\n",
      "loss tensor(2.7000, device='cuda:0', grad_fn=<MeanBackward0>)\n",
      "loss tensor(2.7000, device='cuda:0', grad_fn=<MeanBackward0>)\n",
      "loss tensor(2.7000, device='cuda:0', grad_fn=<MeanBackward0>)\n",
      "loss tensor(2.7000, device='cuda:0', grad_fn=<MeanBackward0>)\n",
      "loss tensor(2.7000, device='cuda:0', grad_fn=<MeanBackward0>)\n",
      "loss tensor(2.7000, device='cuda:0', grad_fn=<MeanBackward0>)\n",
      "loss tensor(2.7000, device='cuda:0', grad_fn=<MeanBackward0>)\n",
      "loss tensor(2.7000, device='cuda:0', grad_fn=<MeanBackward0>)\n",
      "loss tensor(2.7000, device='cuda:0', grad_fn=<MeanBackward0>)\n",
      "loss tensor(2.7000, device='cuda:0', grad_fn=<MeanBackward0>)\n",
      "loss tensor(2.7000, device='cuda:0', grad_fn=<MeanBackward0>)\n",
      "loss tensor(2.7000, device='cuda:0', grad_fn=<MeanBackward0>)\n",
      "loss tensor(2.7000, device='cuda:0', grad_fn=<MeanBackward0>)\n",
      "loss tensor(2.7000, device='cuda:0', grad_fn=<MeanBackward0>)\n",
      "loss tensor(2.7000, device='cuda:0', grad_fn=<MeanBackward0>)\n",
      "loss tensor(2.7000, device='cuda:0', grad_fn=<MeanBackward0>)\n",
      "loss tensor(2.7000, device='cuda:0', grad_fn=<MeanBackward0>)\n",
      "loss tensor(2.7000, device='cuda:0', grad_fn=<MeanBackward0>)\n",
      "loss tensor(2.7000, device='cuda:0', grad_fn=<MeanBackward0>)\n",
      "loss tensor(2.7000, device='cuda:0', grad_fn=<MeanBackward0>)\n",
      "loss tensor(2.7000, device='cuda:0', grad_fn=<MeanBackward0>)\n",
      "loss tensor(2.7000, device='cuda:0', grad_fn=<MeanBackward0>)\n",
      "loss tensor(2.7000, device='cuda:0', grad_fn=<MeanBackward0>)\n",
      "loss tensor(2.7000, device='cuda:0', grad_fn=<MeanBackward0>)\n",
      "loss tensor(2.7000, device='cuda:0', grad_fn=<MeanBackward0>)\n",
      "loss tensor(2.7000, device='cuda:0', grad_fn=<MeanBackward0>)\n",
      "loss tensor(2.7000, device='cuda:0', grad_fn=<MeanBackward0>)\n",
      "loss tensor(2.7000, device='cuda:0', grad_fn=<MeanBackward0>)\n",
      "loss tensor(2.7000, device='cuda:0', grad_fn=<MeanBackward0>)\n",
      "loss tensor(2.7000, device='cuda:0', grad_fn=<MeanBackward0>)\n",
      "loss tensor(2.7000, device='cuda:0', grad_fn=<MeanBackward0>)\n",
      "loss tensor(2.7000, device='cuda:0', grad_fn=<MeanBackward0>)\n",
      "loss tensor(2.7000, device='cuda:0', grad_fn=<MeanBackward0>)\n",
      "loss tensor(2.7000, device='cuda:0', grad_fn=<MeanBackward0>)\n",
      "loss tensor(2.7000, device='cuda:0', grad_fn=<MeanBackward0>)\n",
      "loss tensor(2.7000, device='cuda:0', grad_fn=<MeanBackward0>)\n",
      "loss tensor(2.7000, device='cuda:0', grad_fn=<MeanBackward0>)\n",
      "loss tensor(2.7000, device='cuda:0', grad_fn=<MeanBackward0>)\n",
      "loss tensor(2.7000, device='cuda:0', grad_fn=<MeanBackward0>)\n",
      "loss tensor(2.7000, device='cuda:0', grad_fn=<MeanBackward0>)\n",
      "loss tensor(2.7000, device='cuda:0', grad_fn=<MeanBackward0>)\n",
      "loss tensor(2.7000, device='cuda:0', grad_fn=<MeanBackward0>)\n",
      "loss tensor(2.7000, device='cuda:0', grad_fn=<MeanBackward0>)\n",
      "loss tensor(2.7000, device='cuda:0', grad_fn=<MeanBackward0>)\n",
      "loss tensor(2.7000, device='cuda:0', grad_fn=<MeanBackward0>)\n",
      "loss tensor(2.7000, device='cuda:0', grad_fn=<MeanBackward0>)\n",
      "A total of 9 scouts trained\n"
     ]
    }
   ],
   "source": [
    "# Now create a model for scouts and load parameters from the base model.\n",
    "# These parameters are needed to continue learning from the based model. \n",
    "# Each scout is a fine-tuned version of the base model. \n",
    "\n",
    "s_model = TinyModel().to(device)\n",
    "\n",
    "gtl.load_base(s_model)                       # ----------using gtl library\n",
    "\n",
    "number_of_scouts = len(scout_data_X)\n",
    "\n",
    "print(\"Training \", number_of_scouts, \"scouts\")\n",
    "\n",
    "my_scouts = gtl.create_scouts(s_model)      # ----------using gtl library\n",
    "for s in range(number_of_scouts):\n",
    "    print(\"scout number:\", s)\n",
    "    gtl.load_base(s_model)                  # ---------------------------------gtl---------------------------------------------\n",
    "    train_model(model=s_model, x=scout_data_X[s], y=scout_data_Y[s], epochs=4000)\n",
    "    my_scouts.add_scout(s_model)            # ---------------------------------gtl---------------------------------------------\n",
    "print(\"A total of\", len(my_scouts), \"scouts trained\")"
   ]
  },
  {
   "cell_type": "code",
   "execution_count": 336,
   "id": "e69cd557",
   "metadata": {},
   "outputs": [],
   "source": [
    "guidance_matrix = my_scouts.create_raw_guidance(device) # ----------gtl"
   ]
  },
  {
   "cell_type": "code",
   "execution_count": 337,
   "id": "a2aa0bba",
   "metadata": {},
   "outputs": [
    {
     "data": {
      "text/plain": [
       "WindowsPath('C:/Users/Danko/Google Drive/RGM/jednostavno/GTL_library/models/guidance_matrix.pt')"
      ]
     },
     "execution_count": 337,
     "metadata": {},
     "output_type": "execute_result"
    }
   ],
   "source": [
    "#saving the raw guidance matrix\n",
    "gtl.save_guidance_matrix(guidance_matrix)               # ----------gtl"
   ]
  },
  {
   "cell_type": "code",
   "execution_count": 369,
   "id": "235120fc",
   "metadata": {},
   "outputs": [],
   "source": [
    "# Release memeory for scouts as we do not need them any more\n",
    "del my_scouts"
   ]
  },
  {
   "cell_type": "markdown",
   "id": "7fd68fae",
   "metadata": {},
   "source": [
    "# Adjusting and inspecting the guidance matrix"
   ]
  },
  {
   "cell_type": "code",
   "execution_count": null,
   "id": "86a6d396",
   "metadata": {},
   "outputs": [],
   "source": [
    "\n"
   ]
  },
  {
   "cell_type": "code",
   "execution_count": 671,
   "id": "f7eb5a55",
   "metadata": {},
   "outputs": [
    {
     "name": "stdout",
     "output_type": "stream",
     "text": [
      "[('linear1.weight', tensor([[8.2375e-04, 1.5852e-03],\n",
      "        [4.3842e-06, 7.8542e-06]], device='cuda:0')), ('linear1.bias', tensor([1.2678e-02, 6.5847e-05], device='cuda:0')), ('linear2.weight', tensor([[4.6878e-04, 6.2886e-04, 7.9081e-04, 1.5405e-06, 0.0000e+00, 0.0000e+00,\n",
      "         0.0000e+00, 5.9647e-04, 0.0000e+00, 0.0000e+00, 0.0000e+00, 0.0000e+00,\n",
      "         8.2313e-03, 5.1925e-04, 3.0816e-05, 0.0000e+00, 1.7805e-03, 0.0000e+00,\n",
      "         0.0000e+00, 0.0000e+00, 6.8376e-03, 7.2917e-04, 0.0000e+00, 0.0000e+00,\n",
      "         0.0000e+00, 0.0000e+00, 0.0000e+00, 7.3181e-03, 3.4979e-04, 7.4110e-04,\n",
      "         3.7043e-05, 2.4110e-09, 3.6671e-02, 0.0000e+00, 0.0000e+00, 0.0000e+00,\n",
      "         4.0717e-04, 2.0028e-03, 2.9049e-03, 1.6644e-02, 9.8192e-04, 0.0000e+00,\n",
      "         0.0000e+00, 0.0000e+00, 2.9099e-03, 1.1473e-03, 0.0000e+00, 0.0000e+00,\n",
      "         6.5207e-05, 2.1139e-02],\n",
      "        [8.5614e-04, 1.2591e-03, 1.4795e-03, 1.2943e-05, 0.0000e+00, 0.0000e+00,\n",
      "         0.0000e+00, 1.2526e-04, 0.0000e+00, 0.0000e+00, 0.0000e+00, 0.0000e+00,\n",
      "         1.8435e-02, 1.9731e-03, 1.5705e-04, 0.0000e+00, 3.9491e-03, 0.0000e+00,\n",
      "         0.0000e+00, 0.0000e+00, 1.7213e-02, 2.0263e-03, 0.0000e+00, 0.0000e+00,\n",
      "         0.0000e+00, 0.0000e+00, 0.0000e+00, 6.0764e-02, 8.1040e-04, 1.2309e-03,\n",
      "         5.0121e-05, 4.9023e-08, 8.3483e-02, 0.0000e+00, 0.0000e+00, 0.0000e+00,\n",
      "         2.0957e-03, 3.9623e-04, 7.6411e-03, 3.6119e-02, 1.7722e-03, 0.0000e+00,\n",
      "         0.0000e+00, 0.0000e+00, 6.4275e-04, 3.1460e-03, 0.0000e+00, 0.0000e+00,\n",
      "         3.3436e-04, 5.1701e-02]], device='cuda:0')), ('linear2.bias', tensor([0.0340, 0.2247], device='cuda:0')), ('linear3.weight', tensor([[5.2011e-02, 1.6134e-01, 4.2815e-11, 4.1037e-02, 0.0000e+00],\n",
      "        [1.0476e-01, 3.0866e-01, 4.2953e-11, 7.5417e-02, 0.0000e+00]],\n",
      "       device='cuda:0')), ('linear3.bias', tensor([0.0191, 0.1516], device='cuda:0'))]\n"
     ]
    }
   ],
   "source": [
    "# Use get_guide_values() to print some of the values in guidance matrix\n",
    "print(gtl.get_guide_values(guidance_matrix))     # ----------gtl"
   ]
  },
  {
   "cell_type": "code",
   "execution_count": 339,
   "id": "63389603",
   "metadata": {},
   "outputs": [
    {
     "data": {
      "image/png": "[encoded data removed]",
      "text/plain": [
       "<Figure size 640x480 with 1 Axes>"
      ]
     },
     "metadata": {},
     "output_type": "display_data"
    }
   ],
   "source": [
    "# A GTL function to plot the distribution of values in the guidance matrix\n",
    "gtl.plot_guidance(guidance_matrix, name=\"linear1.weight\")    # ----------gtl\n"
   ]
  },
  {
   "cell_type": "code",
   "execution_count": 161,
   "id": "4127c78f",
   "metadata": {},
   "outputs": [
    {
     "data": {
      "image/png": "[encoded data removed]",
      "text/plain": [
       "<Figure size 640x480 with 1 Axes>"
      ]
     },
     "metadata": {},
     "output_type": "display_data"
    }
   ],
   "source": [
    "gtl.plot_guidance(guidance_matrix, name=\"linear1.bias\")    # ----------gtl"
   ]
  },
  {
   "cell_type": "code",
   "execution_count": 679,
   "id": "bf466ea9",
   "metadata": {},
   "outputs": [
    {
     "data": {
      "text/plain": [
       "{'linear1.weight': tensor([[0.1183, 0.0437],\n",
       "         [0.6321, 0.0540],\n",
       "         [0.1029, 0.4382],\n",
       "         [0.1027, 0.2947],\n",
       "         [0.1544, 0.3681],\n",
       "         [0.6624, 0.2211],\n",
       "         [0.0000, 0.0884],\n",
       "         [0.8226, 0.0984],\n",
       "         [1.0000, 0.4814],\n",
       "         [0.1166, 0.2151],\n",
       "         [0.0480, 0.3728],\n",
       "         [0.0052, 0.2545],\n",
       "         [0.4877, 0.4494],\n",
       "         [0.2904, 0.1328],\n",
       "         [0.4577, 0.0117]], device='cuda:0'),\n",
       " 'linear1.bias': tensor([0.0407, 0.0382, 0.2380, 0.3591, 0.0071, 1.0000, 0.0224, 0.5839, 0.1036,\n",
       "         0.0000, 0.2891, 0.9194, 0.6891, 0.1510, 0.0479], device='cuda:0'),\n",
       " 'linear2.weight': tensor([[8.4499e-02, 1.4692e-02, 1.4254e-02, 1.7595e-04, 9.2143e-03, 9.2006e-02,\n",
       "          6.5578e-01, 3.8086e-01, 5.5215e-02, 2.4023e-02, 8.5731e-01, 5.1052e-02,\n",
       "          3.7236e-02, 2.7930e-01, 2.1391e-02],\n",
       "         [3.4721e-02, 3.0424e-01, 1.4148e-01, 6.1451e-03, 2.3934e-01, 3.8022e-01,\n",
       "          2.8218e-03, 1.6453e-01, 1.6485e-02, 0.0000e+00, 1.6070e-01, 4.9562e-01,\n",
       "          5.6871e-02, 2.1620e-01, 5.8643e-01],\n",
       "         [1.1515e-01, 1.1715e-01, 6.6957e-03, 4.9290e-05, 1.2734e-02, 1.3815e-01,\n",
       "          3.3319e-01, 1.7610e-02, 6.5501e-01, 1.1365e-01, 3.8872e-01, 1.3065e-02,\n",
       "          2.6503e-02, 1.0000e+00, 1.1237e-02],\n",
       "         [9.6016e-01, 4.1910e-03, 7.2672e-03, 4.4205e-01, 1.2980e-01, 3.9238e-02,\n",
       "          7.0064e-01, 5.5535e-01, 2.5486e-02, 7.4649e-01, 4.2488e-01, 1.7061e-01,\n",
       "          3.8625e-02, 3.7085e-01, 7.9709e-02],\n",
       "         [7.3697e-02, 7.0805e-01, 4.2564e-02, 3.9107e-03, 1.0290e-02, 9.4570e-01,\n",
       "          1.6283e-01, 1.9452e-01, 5.0034e-01, 4.8604e-01, 9.1301e-02, 1.2834e-01,\n",
       "          3.6684e-01, 3.0870e-01, 5.3490e-04]], device='cuda:0'),\n",
       " 'linear2.bias': tensor([0.0000, 0.7865, 0.1141, 1.0000, 0.2224], device='cuda:0'),\n",
       " 'linear3.weight': tensor([[0.0000, 0.1116, 0.0205, 0.5447, 0.1711],\n",
       "         [1.0000, 0.1833, 0.6974, 0.0392, 0.6352]], device='cuda:0'),\n",
       " 'linear3.bias': tensor([0., 1.], device='cuda:0')}"
      ]
     },
     "execution_count": 679,
     "metadata": {},
     "output_type": "execute_result"
    }
   ],
   "source": [
    "# ----------gtl\n",
    "gtl.adjust_guidance_matrix(guiding_matrix, guide_type=gtl.GuideType.ZERO_ENFORCED_AND_NORMALIZED, temperature=gtl.Temperature.ROOM)"
   ]
  },
  {
   "cell_type": "code",
   "execution_count": 688,
   "id": "81d4e177",
   "metadata": {},
   "outputs": [
    {
     "data": {
      "image/png": "[encoded data removed]",
      "text/plain": [
       "<Figure size 640x480 with 1 Axes>"
      ]
     },
     "metadata": {},
     "output_type": "display_data"
    }
   ],
   "source": [
    "gtl.plot_guidance(guidance_matrix, name=\"linear1.bias\")    # ----------gtl"
   ]
  },
  {
   "cell_type": "code",
   "execution_count": 681,
   "id": "c8379dfa",
   "metadata": {},
   "outputs": [
    {
     "data": {
      "text/plain": [
       "WindowsPath('C:/Users/Danko/Google Drive/RGM/jednostavno/GTL_library/models/guidance_matrix.pt')"
      ]
     },
     "execution_count": 681,
     "metadata": {},
     "output_type": "execute_result"
    }
   ],
   "source": [
    "gtl.save_guidance_matrix(guidance_matrix)    # ----------gtl"
   ]
  },
  {
   "cell_type": "code",
   "execution_count": null,
   "id": "923f5ecd",
   "metadata": {},
   "outputs": [],
   "source": [
    "\n",
    "gtl.adjust_guidance_matrix(guiding_matrix, guide_type=gtl.GuideType.ZERO_ENFORCED_AND_NORMALIZED, temperature=gtl.Temperature.CHILLY)\n",
    "gtl.adjust_guidance_matrix(guiding_matrix, guide_type=gtl.GuideType.ZERO_ENFORCED_AND_NORMALIZED, temperature=gtl.Temperature.FREEZING)\n",
    "gtl.adjust_guidance_matrix(guiding_matrix, guide_type=gtl.GuideType.ZERO_ENFORCED_AND_NORMALIZED, temperature=gtl.Temperature.WARM)\n",
    "gtl.adjust_guidance_matrix(guiding_matrix, guide_type=gtl.GuideType.ZERO_ENFORCED_AND_NORMALIZED, temperature=gtl.Temperature.EVAPORATING)\n",
    "gtl.adjust_guidance_matrix(guiding_matrix, guide_type=gtl.GuideType.ZERO_ENFORCED_AND_NORMALIZED, temperature=gtl.Temperature.ICY)"
   ]
  },
  {
   "cell_type": "markdown",
   "id": "ce8daa75",
   "metadata": {},
   "source": [
    "# Finally performing guided transfer learning"
   ]
  },
  {
   "cell_type": "code",
   "execution_count": 320,
   "id": "a16d0a49",
   "metadata": {},
   "outputs": [],
   "source": [
    "#these are easy problems\n",
    "base_train_X = torch.tensor([[.1, .2], [.2, .3], [.3, .4], [.4, .5]]).to(device)\n",
    "base_train_Y = torch.tensor([[.1, 1.], [.1, 1.], [.1, 1.], [.1, 1.]]).to(device)"
   ]
  },
  {
   "cell_type": "code",
   "execution_count": 416,
   "id": "277f7d06",
   "metadata": {},
   "outputs": [],
   "source": [
    "#these are easy problems\n",
    "g_train_Xa = torch.tensor([[.1, .2], [.4, .5]]).to(device)\n",
    "g_train_Ya = torch.tensor([[.1, 2.], [.4, 5.]]).to(device)"
   ]
  },
  {
   "cell_type": "code",
   "execution_count": null,
   "id": "6d960845",
   "metadata": {},
   "outputs": [],
   "source": [
    "\"\"\"#also and easy problem but the opposite\n",
    "base_train_Xb = torch.tensor([[.1, .2], [.2, .3], [.3, .4], [.4, .5]]).to(device)\n",
    "base_train_Yb = torch.tensor([[1., .1], [1., .1], [1., .1], [1., .1]]).to(device)\"\"\""
   ]
  },
  {
   "cell_type": "code",
   "execution_count": null,
   "id": "ea7c0983",
   "metadata": {},
   "outputs": [],
   "source": [
    "base_train_X_1 = torch.tensor([[.1, .2], [.3, .4], [.2, .3], [.4, .5]]).to(device)\n",
    "base_train_Y_1 = torch.tensor([[1., .2], [3., .4], [.2, 3.], [.4, 5.]]).to(device)"
   ]
  },
  {
   "cell_type": "markdown",
   "id": "f02c5766",
   "metadata": {},
   "source": [
    "Without guidance"
   ]
  },
  {
   "cell_type": "code",
   "execution_count": 346,
   "id": "7fac45b9",
   "metadata": {},
   "outputs": [
    {
     "name": "stdout",
     "output_type": "stream",
     "text": [
      "\n"
     ]
    }
   ],
   "source": [
    "torch.manual_seed(3841574609)\n",
    "a_model = TinyModel().to(device)\n",
    "#gtl.load_base(g_model)             # ----------gtl\n",
    "print()"
   ]
  },
  {
   "cell_type": "code",
   "execution_count": 347,
   "id": "7427e4b6",
   "metadata": {
    "scrolled": true
   },
   "outputs": [
    {
     "name": "stdout",
     "output_type": "stream",
     "text": [
      "loss tensor(1.6205, device='cuda:0', grad_fn=<MeanBackward0>)\n",
      "loss tensor(1.5239, device='cuda:0', grad_fn=<MeanBackward0>)\n",
      "loss tensor(1.5235, device='cuda:0', grad_fn=<MeanBackward0>)\n",
      "loss tensor(1.5230, device='cuda:0', grad_fn=<MeanBackward0>)\n",
      "loss tensor(1.5224, device='cuda:0', grad_fn=<MeanBackward0>)\n",
      "loss tensor(1.5216, device='cuda:0', grad_fn=<MeanBackward0>)\n",
      "loss tensor(1.5208, device='cuda:0', grad_fn=<MeanBackward0>)\n",
      "loss tensor(1.5199, device='cuda:0', grad_fn=<MeanBackward0>)\n",
      "loss tensor(1.5188, device='cuda:0', grad_fn=<MeanBackward0>)\n",
      "loss tensor(1.5176, device='cuda:0', grad_fn=<MeanBackward0>)\n",
      "loss tensor(1.5162, device='cuda:0', grad_fn=<MeanBackward0>)\n",
      "loss tensor(1.5145, device='cuda:0', grad_fn=<MeanBackward0>)\n",
      "loss tensor(1.5124, device='cuda:0', grad_fn=<MeanBackward0>)\n",
      "loss tensor(1.5100, device='cuda:0', grad_fn=<MeanBackward0>)\n",
      "loss tensor(1.5070, device='cuda:0', grad_fn=<MeanBackward0>)\n",
      "loss tensor(1.5034, device='cuda:0', grad_fn=<MeanBackward0>)\n",
      "loss tensor(1.4990, device='cuda:0', grad_fn=<MeanBackward0>)\n",
      "loss tensor(1.4936, device='cuda:0', grad_fn=<MeanBackward0>)\n",
      "loss tensor(1.4868, device='cuda:0', grad_fn=<MeanBackward0>)\n",
      "loss tensor(1.4784, device='cuda:0', grad_fn=<MeanBackward0>)\n",
      "loss tensor(1.4678, device='cuda:0', grad_fn=<MeanBackward0>)\n",
      "loss tensor(1.4541, device='cuda:0', grad_fn=<MeanBackward0>)\n",
      "loss tensor(1.4353, device='cuda:0', grad_fn=<MeanBackward0>)\n",
      "loss tensor(1.2199, device='cuda:0', grad_fn=<MeanBackward0>)\n",
      "loss tensor(1.1616, device='cuda:0', grad_fn=<MeanBackward0>)\n",
      "loss tensor(1.0756, device='cuda:0', grad_fn=<MeanBackward0>)\n",
      "loss tensor(0.9943, device='cuda:0', grad_fn=<MeanBackward0>)\n",
      "loss tensor(0.8664, device='cuda:0', grad_fn=<MeanBackward0>)\n",
      "loss tensor(0.8030, device='cuda:0', grad_fn=<MeanBackward0>)\n",
      "loss tensor(0.7200, device='cuda:0', grad_fn=<MeanBackward0>)\n",
      "loss tensor(0.6401, device='cuda:0', grad_fn=<MeanBackward0>)\n",
      "loss tensor(0.6205, device='cuda:0', grad_fn=<MeanBackward0>)\n",
      "loss tensor(0.5051, device='cuda:0', grad_fn=<MeanBackward0>)\n",
      "loss tensor(0.3344, device='cuda:0', grad_fn=<MeanBackward0>)\n",
      "loss tensor(0.3036, device='cuda:0', grad_fn=<MeanBackward0>)\n",
      "loss tensor(0.1109, device='cuda:0', grad_fn=<MeanBackward0>)\n",
      "loss tensor(0.1988, device='cuda:0', grad_fn=<MeanBackward0>)\n",
      "loss tensor(0.1175, device='cuda:0', grad_fn=<MeanBackward0>)\n",
      "loss tensor(0.3778, device='cuda:0', grad_fn=<MeanBackward0>)\n",
      "loss tensor(0.2953, device='cuda:0', grad_fn=<MeanBackward0>)\n",
      "loss tensor(0.1684, device='cuda:0', grad_fn=<MeanBackward0>)\n",
      "loss tensor(0.1200, device='cuda:0', grad_fn=<MeanBackward0>)\n",
      "loss tensor(0.1916, device='cuda:0', grad_fn=<MeanBackward0>)\n",
      "loss tensor(0.0977, device='cuda:0', grad_fn=<MeanBackward0>)\n",
      "loss tensor(0.1288, device='cuda:0', grad_fn=<MeanBackward0>)\n",
      "loss tensor(0.0816, device='cuda:0', grad_fn=<MeanBackward0>)\n",
      "loss tensor(0.0957, device='cuda:0', grad_fn=<MeanBackward0>)\n",
      "loss tensor(0.1889, device='cuda:0', grad_fn=<MeanBackward0>)\n",
      "loss tensor(0.1363, device='cuda:0', grad_fn=<MeanBackward0>)\n",
      "loss tensor(0.0764, device='cuda:0', grad_fn=<MeanBackward0>)\n",
      "loss tensor(0.1040, device='cuda:0', grad_fn=<MeanBackward0>)\n",
      "loss tensor(0.2156, device='cuda:0', grad_fn=<MeanBackward0>)\n",
      "loss tensor(0.1009, device='cuda:0', grad_fn=<MeanBackward0>)\n",
      "loss tensor(0.1047, device='cuda:0', grad_fn=<MeanBackward0>)\n",
      "loss tensor(0.1222, device='cuda:0', grad_fn=<MeanBackward0>)\n",
      "loss tensor(0.0650, device='cuda:0', grad_fn=<MeanBackward0>)\n",
      "loss tensor(0.1188, device='cuda:0', grad_fn=<MeanBackward0>)\n",
      "loss tensor(0.0613, device='cuda:0', grad_fn=<MeanBackward0>)\n",
      "loss tensor(0.1005, device='cuda:0', grad_fn=<MeanBackward0>)\n",
      "loss tensor(0.1377, device='cuda:0', grad_fn=<MeanBackward0>)\n",
      "loss tensor(0.0751, device='cuda:0', grad_fn=<MeanBackward0>)\n",
      "loss tensor(0.0878, device='cuda:0', grad_fn=<MeanBackward0>)\n",
      "loss tensor(0.0878, device='cuda:0', grad_fn=<MeanBackward0>)\n",
      "loss tensor(0.1150, device='cuda:0', grad_fn=<MeanBackward0>)\n",
      "loss tensor(0.0918, device='cuda:0', grad_fn=<MeanBackward0>)\n",
      "loss tensor(0.0742, device='cuda:0', grad_fn=<MeanBackward0>)\n",
      "loss tensor(0.1058, device='cuda:0', grad_fn=<MeanBackward0>)\n",
      "loss tensor(0.0711, device='cuda:0', grad_fn=<MeanBackward0>)\n",
      "loss tensor(0.0886, device='cuda:0', grad_fn=<MeanBackward0>)\n",
      "loss tensor(0.1305, device='cuda:0', grad_fn=<MeanBackward0>)\n",
      "loss tensor(0.1234, device='cuda:0', grad_fn=<MeanBackward0>)\n",
      "loss tensor(0.0840, device='cuda:0', grad_fn=<MeanBackward0>)\n",
      "loss tensor(0.1319, device='cuda:0', grad_fn=<MeanBackward0>)\n",
      "loss tensor(0.1428, device='cuda:0', grad_fn=<MeanBackward0>)\n",
      "loss tensor(0.0744, device='cuda:0', grad_fn=<MeanBackward0>)\n",
      "loss tensor(0.1297, device='cuda:0', grad_fn=<MeanBackward0>)\n",
      "loss tensor(0.0614, device='cuda:0', grad_fn=<MeanBackward0>)\n",
      "loss tensor(0.1353, device='cuda:0', grad_fn=<MeanBackward0>)\n",
      "loss tensor(0.0643, device='cuda:0', grad_fn=<MeanBackward0>)\n",
      "loss tensor(0.0642, device='cuda:0', grad_fn=<MeanBackward0>)\n",
      "loss tensor(0.1514, device='cuda:0', grad_fn=<MeanBackward0>)\n",
      "loss tensor(0.0946, device='cuda:0', grad_fn=<MeanBackward0>)\n",
      "loss tensor(0.0500, device='cuda:0', grad_fn=<MeanBackward0>)\n",
      "loss tensor(0.1237, device='cuda:0', grad_fn=<MeanBackward0>)\n",
      "loss tensor(0.0759, device='cuda:0', grad_fn=<MeanBackward0>)\n",
      "loss tensor(0.0681, device='cuda:0', grad_fn=<MeanBackward0>)\n",
      "loss tensor(0.0528, device='cuda:0', grad_fn=<MeanBackward0>)\n",
      "loss tensor(0.0659, device='cuda:0', grad_fn=<MeanBackward0>)\n",
      "loss tensor(0.0990, device='cuda:0', grad_fn=<MeanBackward0>)\n",
      "loss tensor(0.1111, device='cuda:0', grad_fn=<MeanBackward0>)\n",
      "loss tensor(0.0626, device='cuda:0', grad_fn=<MeanBackward0>)\n",
      "loss tensor(0.0903, device='cuda:0', grad_fn=<MeanBackward0>)\n",
      "loss tensor(0.0684, device='cuda:0', grad_fn=<MeanBackward0>)\n",
      "loss tensor(0.0581, device='cuda:0', grad_fn=<MeanBackward0>)\n",
      "loss tensor(0.1095, device='cuda:0', grad_fn=<MeanBackward0>)\n",
      "loss tensor(0.1173, device='cuda:0', grad_fn=<MeanBackward0>)\n",
      "loss tensor(0.0743, device='cuda:0', grad_fn=<MeanBackward0>)\n",
      "loss tensor(0.0680, device='cuda:0', grad_fn=<MeanBackward0>)\n",
      "loss tensor(0.0789, device='cuda:0', grad_fn=<MeanBackward0>)\n",
      "loss tensor(0.0824, device='cuda:0', grad_fn=<MeanBackward0>)\n"
     ]
    },
    {
     "data": {
      "text/plain": [
       "tensor([[0.0951, 1.9877],\n",
       "        [2.9622, 0.2893],\n",
       "        [1.9812, 0.2743],\n",
       "        [0.3753, 4.8312]], device='cuda:0', grad_fn=<ReluBackward0>)"
      ]
     },
     "execution_count": 347,
     "metadata": {},
     "output_type": "execute_result"
    }
   ],
   "source": [
    "train_model(model=a_model, x=base_train_X_3, y=base_train_Y_3, epochs=5000, guidance_matrix=None) \n",
    "g_model(base_train_X_3)"
   ]
  },
  {
   "cell_type": "code",
   "execution_count": null,
   "id": "0f3850ec",
   "metadata": {
    "scrolled": true
   },
   "outputs": [],
   "source": []
  },
  {
   "cell_type": "markdown",
   "id": "28434642",
   "metadata": {},
   "source": [
    "With guidance"
   ]
  },
  {
   "cell_type": "code",
   "execution_count": 348,
   "id": "4b50c1ce",
   "metadata": {},
   "outputs": [
    {
     "name": "stdout",
     "output_type": "stream",
     "text": [
      "\n"
     ]
    }
   ],
   "source": [
    "torch.manual_seed(3841574609)\n",
    "g_model = TinyModel().to(device)\n",
    "#gtl.load_base(g_model)                          # -gtl----------\n",
    "\n",
    "guidance_matrix = gtl.load_guidance_matrix()     # -gtl----------\n",
    "gtl.adjust_guidance_matrix(guidance_matrix, guide_type=gtl.GuideType.ZERO_ENFORCED_AND_NORMALIZED, temperature=gtl.Temperature.WARM)\n",
    "\n",
    "#hundred_x(guidance_matrix)\n",
    "print()"
   ]
  },
  {
   "cell_type": "code",
   "execution_count": 349,
   "id": "29ab6e3d",
   "metadata": {
    "scrolled": true
   },
   "outputs": [
    {
     "name": "stdout",
     "output_type": "stream",
     "text": [
      "loss tensor(1.6205, device='cuda:0', grad_fn=<MeanBackward0>)\n",
      "loss tensor(1.5240, device='cuda:0', grad_fn=<MeanBackward0>)\n",
      "loss tensor(1.5237, device='cuda:0', grad_fn=<MeanBackward0>)\n",
      "loss tensor(1.5234, device='cuda:0', grad_fn=<MeanBackward0>)\n",
      "loss tensor(1.5230, device='cuda:0', grad_fn=<MeanBackward0>)\n",
      "loss tensor(1.5227, device='cuda:0', grad_fn=<MeanBackward0>)\n",
      "loss tensor(1.5223, device='cuda:0', grad_fn=<MeanBackward0>)\n",
      "loss tensor(1.5218, device='cuda:0', grad_fn=<MeanBackward0>)\n",
      "loss tensor(1.5213, device='cuda:0', grad_fn=<MeanBackward0>)\n",
      "loss tensor(1.5208, device='cuda:0', grad_fn=<MeanBackward0>)\n",
      "loss tensor(1.5203, device='cuda:0', grad_fn=<MeanBackward0>)\n",
      "loss tensor(1.5198, device='cuda:0', grad_fn=<MeanBackward0>)\n",
      "loss tensor(1.5192, device='cuda:0', grad_fn=<MeanBackward0>)\n",
      "loss tensor(1.5186, device='cuda:0', grad_fn=<MeanBackward0>)\n",
      "loss tensor(1.5179, device='cuda:0', grad_fn=<MeanBackward0>)\n",
      "loss tensor(1.5172, device='cuda:0', grad_fn=<MeanBackward0>)\n",
      "loss tensor(1.5163, device='cuda:0', grad_fn=<MeanBackward0>)\n",
      "loss tensor(1.5155, device='cuda:0', grad_fn=<MeanBackward0>)\n",
      "loss tensor(1.5145, device='cuda:0', grad_fn=<MeanBackward0>)\n",
      "loss tensor(1.5134, device='cuda:0', grad_fn=<MeanBackward0>)\n",
      "loss tensor(1.5122, device='cuda:0', grad_fn=<MeanBackward0>)\n",
      "loss tensor(1.5109, device='cuda:0', grad_fn=<MeanBackward0>)\n",
      "loss tensor(1.5095, device='cuda:0', grad_fn=<MeanBackward0>)\n",
      "loss tensor(1.5079, device='cuda:0', grad_fn=<MeanBackward0>)\n",
      "loss tensor(1.5062, device='cuda:0', grad_fn=<MeanBackward0>)\n",
      "loss tensor(1.5042, device='cuda:0', grad_fn=<MeanBackward0>)\n",
      "loss tensor(1.5020, device='cuda:0', grad_fn=<MeanBackward0>)\n",
      "loss tensor(1.4996, device='cuda:0', grad_fn=<MeanBackward0>)\n",
      "loss tensor(1.4969, device='cuda:0', grad_fn=<MeanBackward0>)\n",
      "loss tensor(1.4939, device='cuda:0', grad_fn=<MeanBackward0>)\n",
      "loss tensor(1.4905, device='cuda:0', grad_fn=<MeanBackward0>)\n",
      "loss tensor(1.4867, device='cuda:0', grad_fn=<MeanBackward0>)\n",
      "loss tensor(1.4824, device='cuda:0', grad_fn=<MeanBackward0>)\n",
      "loss tensor(1.4775, device='cuda:0', grad_fn=<MeanBackward0>)\n",
      "loss tensor(1.4713, device='cuda:0', grad_fn=<MeanBackward0>)\n",
      "loss tensor(1.4647, device='cuda:0', grad_fn=<MeanBackward0>)\n",
      "loss tensor(1.4569, device='cuda:0', grad_fn=<MeanBackward0>)\n",
      "loss tensor(1.4481, device='cuda:0', grad_fn=<MeanBackward0>)\n",
      "loss tensor(1.4379, device='cuda:0', grad_fn=<MeanBackward0>)\n",
      "loss tensor(1.4257, device='cuda:0', grad_fn=<MeanBackward0>)\n",
      "loss tensor(1.4118, device='cuda:0', grad_fn=<MeanBackward0>)\n",
      "loss tensor(1.3951, device='cuda:0', grad_fn=<MeanBackward0>)\n",
      "loss tensor(1.3753, device='cuda:0', grad_fn=<MeanBackward0>)\n",
      "loss tensor(1.3526, device='cuda:0', grad_fn=<MeanBackward0>)\n",
      "loss tensor(1.3250, device='cuda:0', grad_fn=<MeanBackward0>)\n",
      "loss tensor(1.1033, device='cuda:0', grad_fn=<MeanBackward0>)\n",
      "loss tensor(1.0346, device='cuda:0', grad_fn=<MeanBackward0>)\n",
      "loss tensor(1.0280, device='cuda:0', grad_fn=<MeanBackward0>)\n",
      "loss tensor(0.9765, device='cuda:0', grad_fn=<MeanBackward0>)\n",
      "loss tensor(0.8796, device='cuda:0', grad_fn=<MeanBackward0>)\n",
      "loss tensor(0.7513, device='cuda:0', grad_fn=<MeanBackward0>)\n",
      "loss tensor(0.6510, device='cuda:0', grad_fn=<MeanBackward0>)\n",
      "loss tensor(0.6253, device='cuda:0', grad_fn=<MeanBackward0>)\n",
      "loss tensor(0.4684, device='cuda:0', grad_fn=<MeanBackward0>)\n",
      "loss tensor(0.3818, device='cuda:0', grad_fn=<MeanBackward0>)\n",
      "loss tensor(0.2878, device='cuda:0', grad_fn=<MeanBackward0>)\n",
      "loss tensor(0.4412, device='cuda:0', grad_fn=<MeanBackward0>)\n",
      "loss tensor(0.3578, device='cuda:0', grad_fn=<MeanBackward0>)\n",
      "loss tensor(0.1664, device='cuda:0', grad_fn=<MeanBackward0>)\n",
      "loss tensor(0.3002, device='cuda:0', grad_fn=<MeanBackward0>)\n",
      "loss tensor(0.1150, device='cuda:0', grad_fn=<MeanBackward0>)\n",
      "loss tensor(0.1456, device='cuda:0', grad_fn=<MeanBackward0>)\n",
      "loss tensor(0.1276, device='cuda:0', grad_fn=<MeanBackward0>)\n",
      "loss tensor(0.2738, device='cuda:0', grad_fn=<MeanBackward0>)\n",
      "loss tensor(0.3092, device='cuda:0', grad_fn=<MeanBackward0>)\n",
      "loss tensor(0.1401, device='cuda:0', grad_fn=<MeanBackward0>)\n",
      "loss tensor(0.1001, device='cuda:0', grad_fn=<MeanBackward0>)\n",
      "loss tensor(0.3392, device='cuda:0', grad_fn=<MeanBackward0>)\n",
      "loss tensor(0.2028, device='cuda:0', grad_fn=<MeanBackward0>)\n",
      "loss tensor(0.2268, device='cuda:0', grad_fn=<MeanBackward0>)\n",
      "loss tensor(0.1276, device='cuda:0', grad_fn=<MeanBackward0>)\n",
      "loss tensor(0.2278, device='cuda:0', grad_fn=<MeanBackward0>)\n",
      "loss tensor(0.0755, device='cuda:0', grad_fn=<MeanBackward0>)\n",
      "loss tensor(0.1845, device='cuda:0', grad_fn=<MeanBackward0>)\n",
      "loss tensor(0.2727, device='cuda:0', grad_fn=<MeanBackward0>)\n",
      "loss tensor(0.1926, device='cuda:0', grad_fn=<MeanBackward0>)\n",
      "loss tensor(0.2905, device='cuda:0', grad_fn=<MeanBackward0>)\n",
      "loss tensor(0.2339, device='cuda:0', grad_fn=<MeanBackward0>)\n",
      "loss tensor(0.1324, device='cuda:0', grad_fn=<MeanBackward0>)\n",
      "loss tensor(0.1363, device='cuda:0', grad_fn=<MeanBackward0>)\n",
      "loss tensor(0.1197, device='cuda:0', grad_fn=<MeanBackward0>)\n",
      "loss tensor(0.1215, device='cuda:0', grad_fn=<MeanBackward0>)\n",
      "loss tensor(0.0763, device='cuda:0', grad_fn=<MeanBackward0>)\n",
      "loss tensor(0.1761, device='cuda:0', grad_fn=<MeanBackward0>)\n",
      "loss tensor(0.0864, device='cuda:0', grad_fn=<MeanBackward0>)\n",
      "loss tensor(0.0778, device='cuda:0', grad_fn=<MeanBackward0>)\n",
      "loss tensor(0.1665, device='cuda:0', grad_fn=<MeanBackward0>)\n",
      "loss tensor(0.0728, device='cuda:0', grad_fn=<MeanBackward0>)\n",
      "loss tensor(0.1113, device='cuda:0', grad_fn=<MeanBackward0>)\n",
      "loss tensor(0.1084, device='cuda:0', grad_fn=<MeanBackward0>)\n",
      "loss tensor(0.2066, device='cuda:0', grad_fn=<MeanBackward0>)\n",
      "loss tensor(0.0435, device='cuda:0', grad_fn=<MeanBackward0>)\n",
      "loss tensor(0.1240, device='cuda:0', grad_fn=<MeanBackward0>)\n",
      "loss tensor(0.0788, device='cuda:0', grad_fn=<MeanBackward0>)\n",
      "loss tensor(0.1839, device='cuda:0', grad_fn=<MeanBackward0>)\n",
      "loss tensor(0.1667, device='cuda:0', grad_fn=<MeanBackward0>)\n",
      "loss tensor(0.2014, device='cuda:0', grad_fn=<MeanBackward0>)\n",
      "loss tensor(0.0836, device='cuda:0', grad_fn=<MeanBackward0>)\n",
      "loss tensor(0.1379, device='cuda:0', grad_fn=<MeanBackward0>)\n",
      "loss tensor(0.2015, device='cuda:0', grad_fn=<MeanBackward0>)\n"
     ]
    },
    {
     "data": {
      "text/plain": [
       "tensor([[0.0000, 2.0247],\n",
       "        [2.8908, 0.3414],\n",
       "        [1.8993, 0.3303],\n",
       "        [0.3337, 4.8993]], device='cuda:0', grad_fn=<ReluBackward0>)"
      ]
     },
     "execution_count": 349,
     "metadata": {},
     "output_type": "execute_result"
    }
   ],
   "source": [
    "# Transfer learning by applying with guidance matrix\n",
    "train_model(model=g_model, x=base_train_X_3, y=base_train_Y_3, epochs=5000, guidance_matrix=guidance_matrix)\n",
    "g_model(base_train_X_3)"
   ]
  },
  {
   "cell_type": "code",
   "execution_count": null,
   "id": "49d2c1ab",
   "metadata": {
    "scrolled": true
   },
   "outputs": [],
   "source": []
  },
  {
   "cell_type": "code",
   "execution_count": 414,
   "id": "b27ca51a",
   "metadata": {},
   "outputs": [
    {
     "data": {
      "text/plain": [
       "tensor([[0.0000, 3.7537],\n",
       "        [0.0000, 4.3579],\n",
       "        [0.0000, 4.0169],\n",
       "        [0.0093, 4.6958]], device='cuda:0', grad_fn=<ReluBackward0>)"
      ]
     },
     "execution_count": 414,
     "metadata": {},
     "output_type": "execute_result"
    }
   ],
   "source": [
    "result = g_model(base_train_X)\n",
    "result"
   ]
  },
  {
   "cell_type": "code",
   "execution_count": null,
   "id": "cb6096ee",
   "metadata": {},
   "outputs": [],
   "source": []
  },
  {
   "cell_type": "code",
   "execution_count": null,
   "id": "7a2e5c05",
   "metadata": {},
   "outputs": [],
   "source": []
  },
  {
   "cell_type": "code",
   "execution_count": null,
   "id": "3b8031f3",
   "metadata": {},
   "outputs": [],
   "source": []
  },
  {
   "cell_type": "code",
   "execution_count": null,
   "id": "5f4b0d0d",
   "metadata": {},
   "outputs": [],
   "source": []
  },
  {
   "cell_type": "code",
   "execution_count": null,
   "id": "18394389",
   "metadata": {},
   "outputs": [],
   "source": [
    "train_model(model=g_model, x=base_train_Xa, y=base_train_Ya, epochs=100, guidance_matrix=guidance_matrix)"
   ]
  },
  {
   "cell_type": "code",
   "execution_count": 95,
   "id": "07931819",
   "metadata": {},
   "outputs": [],
   "source": [
    "def hundred_x(guidance_matrix):\n",
    "    for param_name in guidance_matrix:\n",
    "        guidance_matrix[param_name]*= 10"
   ]
  },
  {
   "cell_type": "code",
   "execution_count": null,
   "id": "3036ff89",
   "metadata": {},
   "outputs": [],
   "source": [
    "print(guidance_matrix)"
   ]
  },
  {
   "cell_type": "code",
   "execution_count": 695,
   "id": "538bef86",
   "metadata": {
    "scrolled": true
   },
   "outputs": [
    {
     "data": {
      "image/png": "[encoded data removed]",
      "text/plain": [
       "<Figure size 640x480 with 1 Axes>"
      ]
     },
     "metadata": {},
     "output_type": "display_data"
    },
    {
     "data": {
      "image/png": "[encoded data removed]",
      "text/plain": [
       "<Figure size 640x480 with 1 Axes>"
      ]
     },
     "metadata": {},
     "output_type": "display_data"
    },
    {
     "data": {
      "image/png": "[encoded data removed]",
      "text/plain": [
       "<Figure size 640x480 with 1 Axes>"
      ]
     },
     "metadata": {},
     "output_type": "display_data"
    },
    {
     "data": {
      "image/png": "[encoded data removed]",
      "text/plain": [
       "<Figure size 640x480 with 1 Axes>"
      ]
     },
     "metadata": {},
     "output_type": "display_data"
    },
    {
     "data": {
      "image/png": "[encoded data removed]",
      "text/plain": [
       "<Figure size 640x480 with 1 Axes>"
      ]
     },
     "metadata": {},
     "output_type": "display_data"
    },
    {
     "data": {
      "image/png": "[encoded data removed]",
      "text/plain": [
       "<Figure size 640x480 with 1 Axes>"
      ]
     },
     "metadata": {},
     "output_type": "display_data"
    }
   ],
   "source": [
    "gtl.plot_guidance(guidance_matrix)"
   ]
  },
  {
   "cell_type": "code",
   "execution_count": null,
   "id": "d64a5711",
   "metadata": {},
   "outputs": [],
   "source": []
  },
  {
   "cell_type": "code",
   "execution_count": null,
   "id": "ac063326",
   "metadata": {},
   "outputs": [],
   "source": []
  },
  {
   "cell_type": "code",
   "execution_count": null,
   "id": "c7b5181b",
   "metadata": {},
   "outputs": [],
   "source": []
  },
  {
   "cell_type": "code",
   "execution_count": null,
   "id": "673b6ed3",
   "metadata": {},
   "outputs": [],
   "source": []
  },
  {
   "cell_type": "code",
   "execution_count": null,
   "id": "845f1486",
   "metadata": {},
   "outputs": [],
   "source": []
  },
  {
   "cell_type": "code",
   "execution_count": null,
   "id": "99b14405",
   "metadata": {},
   "outputs": [],
   "source": []
  },
  {
   "cell_type": "code",
   "execution_count": null,
   "id": "8deccbc7",
   "metadata": {},
   "outputs": [],
   "source": []
  }
 ],
 "metadata": {
  "kernelspec": {
   "display_name": "pytorch",
   "language": "python",
   "name": "pytorch"
  },
  "language_info": {
   "codemirror_mode": {
    "name": "ipython",
    "version": 3
   },
   "file_extension": ".py",
   "mimetype": "text/x-python",
   "name": "python",
   "nbconvert_exporter": "python",
   "pygments_lexer": "ipython3",
   "version": "3.9.7"
  }
 },
 "nbformat": 4,
 "nbformat_minor": 5
}
